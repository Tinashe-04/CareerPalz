{
 "cells": [
  {
   "cell_type": "code",
   "execution_count": 15,
   "id": "f98b30ca-9288-4390-aa8e-6f110613c1ff",
   "metadata": {},
   "outputs": [],
   "source": [
    "import pandas as pd\n",
    "import matplotlib.pyplot as plt\n",
    "import seaborn as sns\n",
    "import plotly.express as px\n",
    "import plotly.graph_objects as go\n",
    "from datetime import datetime"
   ]
  },
  {
   "cell_type": "code",
   "execution_count": 4,
   "id": "6992d80a-9450-4c0e-af7f-059bfe95a4fa",
   "metadata": {},
   "outputs": [
    {
     "data": {
      "text/html": [
       "<div>\n",
       "<style scoped>\n",
       "    .dataframe tbody tr th:only-of-type {\n",
       "        vertical-align: middle;\n",
       "    }\n",
       "\n",
       "    .dataframe tbody tr th {\n",
       "        vertical-align: top;\n",
       "    }\n",
       "\n",
       "    .dataframe thead th {\n",
       "        text-align: right;\n",
       "    }\n",
       "</style>\n",
       "<table border=\"1\" class=\"dataframe\">\n",
       "  <thead>\n",
       "    <tr style=\"text-align: right;\">\n",
       "      <th></th>\n",
       "      <th>First Name</th>\n",
       "      <th>Last Name</th>\n",
       "      <th>URL</th>\n",
       "      <th>Email Address</th>\n",
       "      <th>Company</th>\n",
       "      <th>Position</th>\n",
       "      <th>Connected On</th>\n",
       "    </tr>\n",
       "  </thead>\n",
       "  <tbody>\n",
       "    <tr>\n",
       "      <th>0</th>\n",
       "      <td>Matteo</td>\n",
       "      <td>Sollecito</td>\n",
       "      <td>https://www.linkedin.com/in/matteo-sollecito</td>\n",
       "      <td>NaN</td>\n",
       "      <td>Great Britain Baseball</td>\n",
       "      <td>Baseball Player</td>\n",
       "      <td>06 May 2024</td>\n",
       "    </tr>\n",
       "    <tr>\n",
       "      <th>1</th>\n",
       "      <td>Jonah</td>\n",
       "      <td>Pacis</td>\n",
       "      <td>https://www.linkedin.com/in/jonahpacis</td>\n",
       "      <td>NaN</td>\n",
       "      <td>Swarthmore College</td>\n",
       "      <td>Systems Toxicology &amp; Neuroethology Research As...</td>\n",
       "      <td>06 May 2024</td>\n",
       "    </tr>\n",
       "    <tr>\n",
       "      <th>2</th>\n",
       "      <td>Kendall</td>\n",
       "      <td>Davis</td>\n",
       "      <td>https://www.linkedin.com/in/kendallrdavis</td>\n",
       "      <td>NaN</td>\n",
       "      <td>AT&amp;T</td>\n",
       "      <td>Lead Manager: Media Reporting &amp; Analytics (Mar...</td>\n",
       "      <td>30 Apr 2024</td>\n",
       "    </tr>\n",
       "    <tr>\n",
       "      <th>3</th>\n",
       "      <td>Tadiwa</td>\n",
       "      <td>Takawira</td>\n",
       "      <td>https://www.linkedin.com/in/tadiwanashetakawira</td>\n",
       "      <td>NaN</td>\n",
       "      <td>NaN</td>\n",
       "      <td>NaN</td>\n",
       "      <td>27 Apr 2024</td>\n",
       "    </tr>\n",
       "    <tr>\n",
       "      <th>4</th>\n",
       "      <td>Regina</td>\n",
       "      <td>Lloyd</td>\n",
       "      <td>https://www.linkedin.com/in/regina-lloyd-298a30b</td>\n",
       "      <td>NaN</td>\n",
       "      <td>Hopeloft</td>\n",
       "      <td>Bookkeeper and Payroll Specialist</td>\n",
       "      <td>23 Apr 2024</td>\n",
       "    </tr>\n",
       "  </tbody>\n",
       "</table>\n",
       "</div>"
      ],
      "text/plain": [
       "  First Name  Last Name                                               URL  \\\n",
       "0     Matteo  Sollecito      https://www.linkedin.com/in/matteo-sollecito   \n",
       "1      Jonah      Pacis            https://www.linkedin.com/in/jonahpacis   \n",
       "2    Kendall      Davis         https://www.linkedin.com/in/kendallrdavis   \n",
       "3     Tadiwa   Takawira   https://www.linkedin.com/in/tadiwanashetakawira   \n",
       "4     Regina      Lloyd  https://www.linkedin.com/in/regina-lloyd-298a30b   \n",
       "\n",
       "  Email Address                 Company  \\\n",
       "0           NaN  Great Britain Baseball   \n",
       "1           NaN      Swarthmore College   \n",
       "2           NaN                    AT&T   \n",
       "3           NaN                     NaN   \n",
       "4           NaN                Hopeloft   \n",
       "\n",
       "                                            Position Connected On  \n",
       "0                                    Baseball Player  06 May 2024  \n",
       "1  Systems Toxicology & Neuroethology Research As...  06 May 2024  \n",
       "2  Lead Manager: Media Reporting & Analytics (Mar...  30 Apr 2024  \n",
       "3                                                NaN  27 Apr 2024  \n",
       "4                  Bookkeeper and Payroll Specialist  23 Apr 2024  "
      ]
     },
     "execution_count": 4,
     "metadata": {},
     "output_type": "execute_result"
    }
   ],
   "source": [
    "# read in the data with the headers beginning at line 2\n",
    "\n",
    "dataframe = pd.read_csv('/Users/tinashem/LinkedIn Account Data/Basic_LinkedInDataExport_05-09-2024/Connections.csv', header=2)\n",
    "dataframe.head()"
   ]
  },
  {
   "cell_type": "code",
   "execution_count": 5,
   "id": "fd6630ab-bda2-4222-8465-7c754b7ee4cf",
   "metadata": {},
   "outputs": [
    {
     "name": "stdout",
     "output_type": "stream",
     "text": [
      "<class 'pandas.core.frame.DataFrame'>\n",
      "RangeIndex: 529 entries, 0 to 528\n",
      "Data columns (total 7 columns):\n",
      " #   Column         Non-Null Count  Dtype \n",
      "---  ------         --------------  ----- \n",
      " 0   First Name     525 non-null    object\n",
      " 1   Last Name      525 non-null    object\n",
      " 2   URL            525 non-null    object\n",
      " 3   Email Address  6 non-null      object\n",
      " 4   Company        498 non-null    object\n",
      " 5   Position       499 non-null    object\n",
      " 6   Connected On   529 non-null    object\n",
      "dtypes: object(7)\n",
      "memory usage: 29.1+ KB\n"
     ]
    }
   ],
   "source": [
    "dataframe.info()"
   ]
  },
  {
   "cell_type": "code",
   "execution_count": 6,
   "id": "5ebcb13d-a221-4fb7-af6f-d92592b43b5c",
   "metadata": {},
   "outputs": [
    {
     "data": {
      "text/html": [
       "<div>\n",
       "<style scoped>\n",
       "    .dataframe tbody tr th:only-of-type {\n",
       "        vertical-align: middle;\n",
       "    }\n",
       "\n",
       "    .dataframe tbody tr th {\n",
       "        vertical-align: top;\n",
       "    }\n",
       "\n",
       "    .dataframe thead th {\n",
       "        text-align: right;\n",
       "    }\n",
       "</style>\n",
       "<table border=\"1\" class=\"dataframe\">\n",
       "  <thead>\n",
       "    <tr style=\"text-align: right;\">\n",
       "      <th></th>\n",
       "      <th>First Name</th>\n",
       "      <th>Last Name</th>\n",
       "      <th>URL</th>\n",
       "      <th>Email Address</th>\n",
       "      <th>Company</th>\n",
       "      <th>Position</th>\n",
       "      <th>Connected On</th>\n",
       "    </tr>\n",
       "  </thead>\n",
       "  <tbody>\n",
       "    <tr>\n",
       "      <th>191</th>\n",
       "      <td>NaN</td>\n",
       "      <td>NaN</td>\n",
       "      <td>NaN</td>\n",
       "      <td>NaN</td>\n",
       "      <td>NaN</td>\n",
       "      <td>NaN</td>\n",
       "      <td>27 Jun 2023</td>\n",
       "    </tr>\n",
       "    <tr>\n",
       "      <th>406</th>\n",
       "      <td>NaN</td>\n",
       "      <td>NaN</td>\n",
       "      <td>NaN</td>\n",
       "      <td>NaN</td>\n",
       "      <td>NaN</td>\n",
       "      <td>NaN</td>\n",
       "      <td>01 Apr 2022</td>\n",
       "    </tr>\n",
       "    <tr>\n",
       "      <th>445</th>\n",
       "      <td>NaN</td>\n",
       "      <td>NaN</td>\n",
       "      <td>NaN</td>\n",
       "      <td>NaN</td>\n",
       "      <td>NaN</td>\n",
       "      <td>NaN</td>\n",
       "      <td>19 Oct 2020</td>\n",
       "    </tr>\n",
       "    <tr>\n",
       "      <th>494</th>\n",
       "      <td>NaN</td>\n",
       "      <td>NaN</td>\n",
       "      <td>NaN</td>\n",
       "      <td>NaN</td>\n",
       "      <td>NaN</td>\n",
       "      <td>NaN</td>\n",
       "      <td>04 Jul 2020</td>\n",
       "    </tr>\n",
       "  </tbody>\n",
       "</table>\n",
       "</div>"
      ],
      "text/plain": [
       "    First Name Last Name  URL Email Address Company Position Connected On\n",
       "191        NaN       NaN  NaN           NaN     NaN      NaN  27 Jun 2023\n",
       "406        NaN       NaN  NaN           NaN     NaN      NaN  01 Apr 2022\n",
       "445        NaN       NaN  NaN           NaN     NaN      NaN  19 Oct 2020\n",
       "494        NaN       NaN  NaN           NaN     NaN      NaN  04 Jul 2020"
      ]
     },
     "execution_count": 6,
     "metadata": {},
     "output_type": "execute_result"
    }
   ],
   "source": [
    "dataframe[dataframe['First Name'].isnull()].head()"
   ]
  },
  {
   "cell_type": "code",
   "execution_count": 9,
   "id": "ac2c363c-51cf-4f8f-9629-b571441d20c2",
   "metadata": {},
   "outputs": [
    {
     "name": "stdout",
     "output_type": "stream",
     "text": [
      "<class 'pandas.core.frame.DataFrame'>\n",
      "Index: 525 entries, 0 to 528\n",
      "Data columns (total 7 columns):\n",
      " #   Column         Non-Null Count  Dtype \n",
      "---  ------         --------------  ----- \n",
      " 0   First Name     525 non-null    object\n",
      " 1   Last Name      525 non-null    object\n",
      " 2   URL            525 non-null    object\n",
      " 3   Email Address  6 non-null      object\n",
      " 4   Company        498 non-null    object\n",
      " 5   Position       499 non-null    object\n",
      " 6   Connected On   525 non-null    object\n",
      "dtypes: object(7)\n",
      "memory usage: 32.8+ KB\n"
     ]
    }
   ],
   "source": [
    "dataframe.drop([191,406,445,494], axis=0, inplace=True)\n",
    "dataframe.info()"
   ]
  },
  {
   "cell_type": "code",
   "execution_count": 10,
   "id": "474af6f8-5996-4769-b18a-212d90b0bfe0",
   "metadata": {},
   "outputs": [
    {
     "data": {
      "text/plain": [
       "Index([  0,   1,   2,   3,   4,   5,   6,   7,   8,   9,\n",
       "       ...\n",
       "       519, 520, 521, 522, 523, 524, 525, 526, 527, 528],\n",
       "      dtype='int64', length=525)"
      ]
     },
     "execution_count": 10,
     "metadata": {},
     "output_type": "execute_result"
    }
   ],
   "source": [
    "dataframe.index"
   ]
  },
  {
   "cell_type": "code",
   "execution_count": 11,
   "id": "f9a51b02-215d-41ae-b621-e0ece8def073",
   "metadata": {},
   "outputs": [
    {
     "data": {
      "text/plain": [
       "Index([  0,   1,   2,   3,   4,   5,   6,   7,   8,   9,\n",
       "       ...\n",
       "       519, 520, 521, 522, 523, 524, 525, 526, 527, 528],\n",
       "      dtype='int64', length=525)"
      ]
     },
     "execution_count": 11,
     "metadata": {},
     "output_type": "execute_result"
    }
   ],
   "source": [
    "dataframe.reset_index\n",
    "dataframe.index"
   ]
  },
  {
   "cell_type": "code",
   "execution_count": 12,
   "id": "750afcb7-e947-4b41-b3e1-a466451b299c",
   "metadata": {},
   "outputs": [],
   "source": [
    "dataframe.reset_index(inplace=True)"
   ]
  },
  {
   "cell_type": "code",
   "execution_count": 14,
   "id": "67c283d8-43a7-49d0-9911-dd1d61f93c53",
   "metadata": {},
   "outputs": [
    {
     "data": {
      "text/plain": [
       "RangeIndex(start=0, stop=525, step=1)"
      ]
     },
     "execution_count": 14,
     "metadata": {},
     "output_type": "execute_result"
    }
   ],
   "source": [
    "dataframe.index"
   ]
  },
  {
   "cell_type": "code",
   "execution_count": 18,
   "id": "0390d08a-3807-43b2-ae9b-655f9539ed9b",
   "metadata": {},
   "outputs": [
    {
     "data": {
      "text/plain": [
       "str"
      ]
     },
     "execution_count": 18,
     "metadata": {},
     "output_type": "execute_result"
    }
   ],
   "source": [
    "type(dataframe['Connected On'].values[0])"
   ]
  },
  {
   "cell_type": "code",
   "execution_count": 19,
   "id": "41d5914d-dd99-4a95-aa61-022c9f044a83",
   "metadata": {},
   "outputs": [
    {
     "data": {
      "text/plain": [
       "'06 May 2024'"
      ]
     },
     "execution_count": 19,
     "metadata": {},
     "output_type": "execute_result"
    }
   ],
   "source": [
    "dataframe['Connected On'].values[0]"
   ]
  },
  {
   "cell_type": "markdown",
   "id": "4043f24d-4bac-4ea8-a826-b505fb15b4a7",
   "metadata": {},
   "source": [
    "### TODO: Convert 'Connected On' column to datetime format"
   ]
  }
 ],
 "metadata": {
  "kernelspec": {
   "display_name": "Python 3 (ipykernel)",
   "language": "python",
   "name": "python3"
  },
  "language_info": {
   "codemirror_mode": {
    "name": "ipython",
    "version": 3
   },
   "file_extension": ".py",
   "mimetype": "text/x-python",
   "name": "python",
   "nbconvert_exporter": "python",
   "pygments_lexer": "ipython3",
   "version": "3.12.2"
  }
 },
 "nbformat": 4,
 "nbformat_minor": 5
}
