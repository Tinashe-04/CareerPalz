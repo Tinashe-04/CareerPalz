{
 "cells": [
  {
   "cell_type": "code",
   "execution_count": 1,
   "metadata": {},
   "outputs": [],
   "source": [
    "import tabula\n",
    "import pandas as pd"
   ]
  },
  {
   "cell_type": "code",
   "execution_count": 2,
   "metadata": {},
   "outputs": [
    {
     "name": "stderr",
     "output_type": "stream",
     "text": [
      "Error importing jpype dependencies. Fallback to subprocess.\n",
      "No module named 'jpype'\n"
     ]
    },
    {
     "data": {
      "text/plain": [
       "11"
      ]
     },
     "execution_count": 2,
     "metadata": {},
     "output_type": "execute_result"
    }
   ],
   "source": [
    "my_file = '/Users/tinashem/2022_Top500_F-1_Schools.pdf'\n",
    "\n",
    "my_table = tabula.read_pdf(my_file, lattice=True, pages='all', pandas_options={'header': None})\n",
    "\n",
    "len(my_table)"
   ]
  },
  {
   "cell_type": "code",
   "execution_count": 3,
   "metadata": {},
   "outputs": [
    {
     "data": {
      "text/plain": [
       "pandas.core.frame.DataFrame"
      ]
     },
     "execution_count": 3,
     "metadata": {},
     "output_type": "execute_result"
    }
   ],
   "source": [
    "type(my_table[0])"
   ]
  },
  {
   "cell_type": "code",
   "execution_count": 4,
   "metadata": {},
   "outputs": [
    {
     "name": "stdout",
     "output_type": "stream",
     "text": [
      "                                              0                1\n",
      "0                                   School Name  Total SEVIS IDs\n",
      "1                           New York University           21,453\n",
      "2                       Northeastern University           21,385\n",
      "3   Columbia University in the City of New York           20,347\n",
      "4             University of Southern California           18,437\n",
      "5                      Arizona State University           15,855\n",
      "6                        University of Illinois           15,231\n",
      "7                             Boston University           14,150\n",
      "8                             Purdue University           12,389\n",
      "9            University of California San Diego           12,250\n",
      "10         University of California at Berkeley           11,489\n",
      "11                       University of Michigan           11,329\n",
      "12                     University of Washington           11,200\n",
      "13            The Pennsylvania State University           10,481\n",
      "14            The University of Texas at Dallas           10,155\n",
      "15        University of California, Los Angeles           10,091\n",
      "16                   Carnegie Mellon University            9,848\n",
      "17                   University of Pennsylvania            9,357\n",
      "18              University of Wisconsin-Madison            9,053\n",
      "19             UNIVERSITY OF CALIFORNIA, IRVINE            8,964\n",
      "20              University of California, Davis            8,830\n",
      "21                           Cornell University            8,800\n",
      "22         The University of Texas at Arlington            8,792\n",
      "23                    University of North Texas            8,713\n",
      "24              Georgia Institute of Technology            8,133\n",
      "25      State University of New York at Buffalo            7,895\n",
      "26                           Harvard University            7,757\n",
      "27                    The Ohio State University            7,668\n",
      "28                University of the Cumberlands            7,563\n",
      "29                         Texas A&M University            7,355\n",
      "30                    The University of Chicago            7,273\n",
      "31                  University of South Florida            7,220\n",
      "32                          New York University            6,763\n",
      "33                      University of Minnesota            6,744\n",
      "34                        University of Florida            6,696\n",
      "35               Duke University, & Health Sys.            6,593\n",
      "36                       University of Maryland            6,169\n",
      "37                           Indiana University            6,151\n",
      "38                University of Texas at Austin            6,130\n",
      "39           Washington University in St. Louis            6,006\n",
      "40                      Northwestern University            5,993\n",
      "41                          Syracuse University            5,918\n",
      "                                                  0      1\n",
      "0                               Stanford University  5,887\n",
      "1                          University of Cincinnati  5,614\n",
      "2                 University of Illinois at Chicago  5,521\n",
      "3                   North Carolina State University  5,458\n",
      "4          Johns Hopkins University-Homewood Campus  5,448\n",
      "5                           University of Rochester  5,430\n",
      "6                      University of Houston-System  5,386\n",
      "7                   Stevens Institute of Technology  5,316\n",
      "8                         Michigan State University  5,301\n",
      "9             Massachusetts Institute of Technology  5,279\n",
      "10                                   The New School  5,241\n",
      "11                        San Jose State University  5,194\n",
      "12      State University of New York at Stony Brook  5,092\n",
      "13          University of California, Santa Barbara  5,004\n",
      "14              University of Massachusetts Amherst  4,906\n",
      "15                                  Yale University  4,710\n",
      "16                            University of Arizona  4,628\n",
      "17                 The George Washington University  4,367\n",
      "18                 Florida International University  4,094\n",
      "19                          George Mason University  4,087\n",
      "20                        Campbellsville University  4,055\n",
      "21                         University of Pittsburgh  4,033\n",
      "22                            Texas Tech University  3,937\n",
      "23                         Georgia State University  3,920\n",
      "24                               University of Utah  3,906\n",
      "25               Savannah College of Art and Design  3,857\n",
      "26                       Cleveland State University  3,833\n",
      "27                 Illinois Institute of Technology  3,792\n",
      "28                                 Trine University  3,721\n",
      "29    Harrisburg University of Science & Technology  3,672\n",
      "30                              University of Miami  3,618\n",
      "31               New Jersey Institute of Technology  3,602\n",
      "32  Iowa State University of Science and Technology  3,573\n",
      "33                   UNIVERSITY OF CENTRAL MISSOURI  3,510\n",
      "34                             Westcliff University  3,498\n",
      "35                   University of Colorado Boulder  3,468\n",
      "36                        University of Connecticut  3,352\n",
      "37              University of California, Riverside  3,328\n",
      "38                          University of New Haven  3,327\n",
      "39                                 Emory University  3,308\n",
      "40      Rutgers, the State University of New Jersey  3,281\n",
      "41                           University of Virginia  3,274\n",
      "42                                Drexel University  3,259\n",
      "43                         Wichita State University  3,248\n",
      "44                            School of Visual Arts  3,238\n",
      "45                Rochester Institute of Technology  3,145\n",
      "46                          Oregon State University  3,090\n",
      "                                                    0      1\n",
      "0   Virginia Polytechnic Institute and State Unive...  3,075\n",
      "1         Rutgers, the State University of New Jersey  3,013\n",
      "2                               Georgetown University  3,006\n",
      "3                                     PACE UNIVERSITY  2,969\n",
      "4                                     Rice University  2,926\n",
      "5                     Case Western Reserve University  2,924\n",
      "6                       University of Central Florida  2,904\n",
      "7                                    Brown University  2,874\n",
      "8                    Houston Community College System  2,838\n",
      "9                                   AUBURN UNIVERSITY  2,757\n",
      "10        University of North Carolina at Chapel Hill  2,748\n",
      "11          University of North Carolina at Charlotte  2,723\n",
      "12         State University of New York at Binghamton  2,682\n",
      "13                               Princeton University  2,639\n",
      "14           University of Maryland, Baltimore County  2,636\n",
      "15                             University of Delaware  2,623\n",
      "16                          The University of Georgia  2,560\n",
      "17                           Florida State University  2,537\n",
      "18                                    Pratt Institute  2,513\n",
      "19                 University of Missouri-Kansas City  2,496\n",
      "20                           Berklee College of Music  2,476\n",
      "21       Temple University--A Commonwealth University  2,437\n",
      "22                          Academy of Art University  2,430\n",
      "23                    University of Notre Dame du Lac  2,322\n",
      "24                 Hult International Business School  2,317\n",
      "25                          The Vanderbilt University  2,317\n",
      "26                               Santa Monica College  2,315\n",
      "27                               University of Dayton  2,292\n",
      "28                     University of Nebraska-Lincoln  2,254\n",
      "29                   Brigham Young University - Idaho  2,196\n",
      "30                                Brandeis University  2,177\n",
      "31                          The University of Memphis  2,158\n",
      "32                                 Indiana University  2,155\n",
      "33                         San Diego State University  2,150\n",
      "34                               University of Kansas  2,071\n",
      "35                Minnesota State University, Mankato  2,067\n",
      "36              California State University Fullerton  2,064\n",
      "37                            Sacred Heart University  2,060\n",
      "38                           The University of Toledo  2,056\n",
      "39                        University of San Francisco  2,056\n",
      "40                       The Johns Hopkins University  2,050\n",
      "41             California State University Long Beach  2,050\n",
      "42                          Oklahoma State University  2,049\n",
      "43                                     Boston College  2,039\n",
      "44                       University of South Carolina  2,017\n",
      "45                                New England College  2,009\n",
      "46                    The City University of New York  2,005\n",
      "                                                    0      1\n",
      "0                     Florida Institute of Technology  1,982\n",
      "1                           Colorado State University  1,981\n",
      "2                              The University of Iowa  1,973\n",
      "3          Louisiana State University and A&M College  1,971\n",
      "4                                  Clemson University  1,934\n",
      "5                  University of Massachusetts Boston  1,931\n",
      "6                         Washington State University  1,915\n",
      "7                University of California, Santa Cruz  1,913\n",
      "8                              University of Oklahoma  1,908\n",
      "9                 University of Alabama at Birmingham  1,891\n",
      "10                              Kent State University  1,885\n",
      "11            California State University, Northridge  1,877\n",
      "12                                   Tufts University  1,876\n",
      "13                                 Fordham University  1,876\n",
      "14                            The American University  1,854\n",
      "15                 Maharishi International University  1,853\n",
      "16              Teachers College, Columbia University  1,835\n",
      "17                 The University of Texas at El Paso  1,812\n",
      "18                                     Babson College  1,801\n",
      "19                                  Dartmouth College  1,795\n",
      "20                   Rensselaer Polytechnic Institute  1,784\n",
      "21                             SANTA CLARA UNIVERSITY  1,784\n",
      "22                           University of Bridgeport  1,777\n",
      "23                           Brigham Young University  1,767\n",
      "24  Virginia Polytechnic Institute and State Unive...  1,767\n",
      "25       University at Albany, State University of NY  1,756\n",
      "26                        ArtCenter College of Design  1,755\n",
      "27                                   Miami University  1,708\n",
      "28                            Wright State University  1,700\n",
      "29                  University of Wisconsin Milwaukee  1,695\n",
      "30                                     Dallas College  1,670\n",
      "31                      Texas A&M University-Commerce  1,663\n",
      "32                                     Monroe College  1,634\n",
      "33                           West Virginia University  1,629\n",
      "34                             University of Kentucky  1,599\n",
      "35                                   Clark University  1,590\n",
      "36                   New York Institute of Technology  1,589\n",
      "37                                  Gannon University  1,585\n",
      "38                             Saint Louis University  1,583\n",
      "39                    University of Missouri-Columbia  1,580\n",
      "40                        Central Michigan University  1,578\n",
      "41                         St. Cloud State University  1,572\n",
      "42                             University of Arkansas  1,569\n",
      "43                      Southern Methodist University  1,565\n",
      "44                    Worcester Polytechnic Institute  1,564\n",
      "45              San Francisco State University (SFSU)  1,562\n",
      "46                                   Lewis University  1,528\n",
      "                                                    0      1\n",
      "0                  University of Massachusetts Lowell  1,518\n",
      "1              School of the Art Institute of Chicago  1,514\n",
      "2                        Northern Illinois University  1,510\n",
      "3                       University of Colorado Denver  1,508\n",
      "4                                    Lamar University  1,501\n",
      "5                           Portland State University  1,495\n",
      "6                Embry-Riddle Aeronautical University  1,478\n",
      "7                       Rhode Island School of Design  1,455\n",
      "8                         The University of Tennessee  1,452\n",
      "9           Southern Illinois University Edwardsville  1,451\n",
      "10                Northwest Missouri State University  1,451\n",
      "11              California State University, East Bay  1,450\n",
      "12                Southeast Missouri State University  1,447\n",
      "13        Rutgers, the State University of New Jersey  1,446\n",
      "14                  University of Michigan - Dearborn  1,435\n",
      "15                                 Suffolk University  1,431\n",
      "16                          The University of Alabama  1,398\n",
      "17                                  Lehigh University  1,397\n",
      "18                            Kansas State University  1,386\n",
      "19                                  Tulane University  1,354\n",
      "20                        Florida Atlantic University  1,353\n",
      "21                            Northeastern University  1,338\n",
      "22  Fashion Institute of Technology, State Univers...  1,335\n",
      "23                             Wayne State University  1,316\n",
      "24                 University of Texas at San Antonio  1,316\n",
      "25                           University of New Mexico  1,307\n",
      "26                          Kennesaw State University  1,306\n",
      "27                      University of Hawaii at Manoa  1,297\n",
      "28  The Johns Hopkins University: Medical Institut...  1,294\n",
      "29                                 Bentley University  1,285\n",
      "30                        Western Illinois University  1,283\n",
      "31                          Missouri State University  1,276\n",
      "32                    Texas A&M University-Kingsville  1,270\n",
      "33                                  DePaul University  1,265\n",
      "34                       Southern Arkansas University  1,263\n",
      "35                               University of Oregon  1,261\n",
      "36                        Loyola Marymount University  1,255\n",
      "37                  Michigan Technological University  1,240\n",
      "38                             University of Missouri  1,234\n",
      "39                    Auburn University at Montgomery  1,231\n",
      "40                                    Ohio University  1,229\n",
      "41                             Wake Forest University  1,217\n",
      "42                           Saint Peter's University  1,211\n",
      "43                    University of Nevada, Las Vegas  1,191\n",
      "44                   Coast Community College District  1,185\n",
      "45    Washington University of Science and Technology  1,181\n",
      "46                 Savannah College of Art and Design  1,173\n",
      "                                                 0      1\n",
      "0                 University of Houston-Clear Lake  1,172\n",
      "1                                DePaul University  1,170\n",
      "2                The Pennsylvania State University  1,151\n",
      "3                          University of New Haven  1,146\n",
      "4                               Seattle University  1,136\n",
      "5                        Arkansas State University  1,133\n",
      "6               Hult International Business School  1,126\n",
      "7                     Mississippi State University  1,124\n",
      "8                      WESTERN MICHIGAN UNIVERSITY  1,121\n",
      "9                                Baylor University  1,117\n",
      "10                                     ASA College  1,107\n",
      "11                         The University of Tampa  1,106\n",
      "12                          Lindsey Wilson College  1,093\n",
      "13                          Texas State University  1,082\n",
      "14                    Nova Southeastern University  1,080\n",
      "15                       Hawaii Pacific University  1,079\n",
      "16                     Eastern Illinois University  1,077\n",
      "17                Virginia Commonwealth University  1,068\n",
      "18                      Saint Leo University, Inc.  1,063\n",
      "19                            University of Denver  1,043\n",
      "20                  UNIVERSITY OF CENTRAL OKLAHOMA  1,042\n",
      "21                           Pepperdine University  1,039\n",
      "22         Southern Illinois University Carbondale  1,034\n",
      "23                                 Emerson College  1,031\n",
      "24                       Campbellsville University  1,029\n",
      "25                             Green River College  1,014\n",
      "26                                  Ensign College  1,004\n",
      "27                  California College of the Arts    997\n",
      "28  California State Polytechnic University Pomona    996\n",
      "29                 The City University of New York    991\n",
      "30              California Institute of Technology    977\n",
      "31                   South Dakota State University    976\n",
      "32                       Illinois State University    971\n",
      "33       The University of Texas Rio Grande Valley    969\n",
      "34                     New Mexico State University    956\n",
      "35         California State University, Sacramento    953\n",
      "36                     California State University    947\n",
      "37                                MCPHS University    946\n",
      "38               INTERNATIONAL AMERICAN UNIVERSITY    932\n",
      "39                   North Dakota State University    930\n",
      "40                             University of Idaho    912\n",
      "41                        University of Louisville    911\n",
      "42                                Rowan University    909\n",
      "43                           New York Film Academy    904\n",
      "44                               Howard University    902\n",
      "45                     Northern Arizona University    901\n",
      "46                                Bellevue College    882\n",
      "                                              0    1\n",
      "0                          Underwood University  864\n",
      "1            University of Illinois Springfield  860\n",
      "2      CALIFORNIA STATE UNIVERSITY, LOS ANGELES  859\n",
      "3                            Liberty University  851\n",
      "4                         Wilmington University  842\n",
      "5                   WESTERN MICHIGAN UNIVERSITY  841\n",
      "6                    University of Nevada, Reno  841\n",
      "7                Bowling Green State University  839\n",
      "8                       Northeastern University  838\n",
      "9           Santa Barbara City College District  837\n",
      "10  Columbia University in the City of New York  835\n",
      "11                           Andrews University  829\n",
      "12                      Old Dominion University  827\n",
      "13                The University of Mississippi  826\n",
      "14                           Hofstra University  825\n",
      "15                   Governors State University  821\n",
      "16                              Edmonds College  817\n",
      "17                       Long Island University  808\n",
      "18                        Georgetown University  807\n",
      "19                           Oakland University  803\n",
      "20                   University of North Dakota  791\n",
      "21                   Texas Christian University  787\n",
      "22                  Youngstown State University  786\n",
      "23                      Grand Canyon University  784\n",
      "24                        Mount Holyoke College  770\n",
      "25                       University of Nebraska  765\n",
      "26              Concordia University - St. Paul  757\n",
      "27            Middle Tennessee State University  754\n",
      "28            Southern New Hampshire University  753\n",
      "29              The College of William and Mary  753\n",
      "30                           Minerva University  751\n",
      "31                        SKEMA BUSINESS SCHOOL  750\n",
      "32                    Dallas Baptist University  749\n",
      "33                        Lindenwood University  741\n",
      "34                        St. John's University  738\n",
      "35                              Lynn University  737\n",
      "36              The City University of New York  737\n",
      "37                          St. Francis College  732\n",
      "38                        Wilmington University  730\n",
      "39                             Valencia College  724\n",
      "40                     Colorado School of Mines  716\n",
      "41                           Webster University  710\n",
      "42                           Adelphi University  709\n",
      "43              The City University of New York  708\n",
      "44                Christian Brothers University  704\n",
      "45            Lawrence Technological University  698\n",
      "46                      The University of Akron  697\n",
      "                                                    0    1\n",
      "0                     The City University of New York  696\n",
      "1                                  Cornell University  695\n",
      "2                             University of San Diego  693\n",
      "3                       Grand Valley State University  692\n",
      "4              The University of Southern Mississippi  692\n",
      "5                           Manhattan School of Music  691\n",
      "6                         University of New Hampshire  686\n",
      "7                           University of the Potomac  682\n",
      "8                             Oral Roberts University  675\n",
      "9                               University of Wyoming  669\n",
      "10                          Loyola University Chicago  666\n",
      "11           Collin County Community College District  663\n",
      "12     The University of North Carolina at Greensboro  661\n",
      "13                                    Park University  661\n",
      "14                        Shoreline Community College  661\n",
      "15              Texas A&M University - Corpus Christi  661\n",
      "16               University of Louisiana at Lafayette  659\n",
      "17                      Bunker Hill Community College  658\n",
      "18                        University of North America  658\n",
      "19                  University of Washington, Bothell  657\n",
      "20                                  Rivier University  653\n",
      "21                          University of the Pacific  650\n",
      "22                                   Trine University  648\n",
      "23                              Pasadena City College  646\n",
      "24                               Full Sail University  646\n",
      "25                           Southern Utah University  644\n",
      "26                  Maryland Institute College of Art  638\n",
      "27                              Valparaiso University  628\n",
      "28                    INDIANA INSTITUTE OF TECHNOLOGY  627\n",
      "29                            Missouri Valley College  626\n",
      "30                                University of Maine  625\n",
      "31  The University of Texas Health Science Center ...  623\n",
      "32                        Midwestern State University  620\n",
      "33                             UTAH VALLEY UNIVERSITY  620\n",
      "34                           University of St. Thomas  619\n",
      "35                                 Chapman University  618\n",
      "36                   California Institute of the Arts  616\n",
      "37                  University of Southern California  615\n",
      "38              University of Massachusetts Dartmouth  612\n",
      "39                        Eastern Michigan University  607\n",
      "40        California State University, San Bernardino  606\n",
      "41                                 Bradley University  601\n",
      "42                                    Barnard College  601\n",
      "43                      Oklahoma Christian University  600\n",
      "44                                 Fordham University  600\n",
      "45  Johns Hopkins University Schl of Advanced Intl...  600\n",
      "46                          University of Connecticut  598\n",
      "                                                    0    1\n",
      "0                           The University of Findlay  598\n",
      "1                         Indiana Wesleyan University  597\n",
      "2                          Carnegie Mellon University  592\n",
      "3                               Utah State University  587\n",
      "4                         University of North Alabama  586\n",
      "5                                  Stanton University  583\n",
      "6                                   Calvin University  580\n",
      "7                             Northwestern University  577\n",
      "8                            McNeese State University  567\n",
      "9                     The City University of New York  565\n",
      "10                            East Central University  562\n",
      "11                                   Seattle Colleges  561\n",
      "12                   University of Missouri-St. Louis  558\n",
      "13                         Montclair State University  558\n",
      "14                  Pensacola Christian College, Inc.  556\n",
      "15                               Villanova University  553\n",
      "16                       Northern Kentucky University  551\n",
      "17                                  Purdue University  550\n",
      "18                                 Denison University  547\n",
      "19                            Morgan State University  546\n",
      "20              University of Arkansas at Little Rock  546\n",
      "21                                     Marist College  543\n",
      "22                                Duquesne University  543\n",
      "23                                  Purdue University  539\n",
      "24      Southern California Institute of Architecture  538\n",
      "25                        Franklin & Marshall College  537\n",
      "26              The University of Louisiana at Monroe  533\n",
      "27                    East Tennessee State University  532\n",
      "28                        Georgia Southern University  530\n",
      "29                                 Miami Dade College  526\n",
      "30            The University of Alabama in Huntsville  519\n",
      "31                     Fairleigh Dickinson University  518\n",
      "32                 Montana State University - Bozeman  517\n",
      "33                     University of Central Arkansas  514\n",
      "34                                Wesleyan University  512\n",
      "35                  The Culinary Institute of America  507\n",
      "36                            The University of Tulsa  504\n",
      "37                                 Miami Dade College  504\n",
      "38                                      Smith College  502\n",
      "39                         University of South Dakota  502\n",
      "40                                  Augustana College  500\n",
      "41                          The University of Vermont  489\n",
      "42                              St. Thomas University  487\n",
      "43                                   Grinnell College  487\n",
      "44                 Ringling College of Art and Design  486\n",
      "45  North Carolina Agricultural and Technical Stat...  480\n",
      "46                             University of Hartford  480\n",
      "                                                    0    1\n",
      "0                     Brigham Young University-Hawaii  480\n",
      "1                                   Wellesley College  478\n",
      "2                                    Biola University  475\n",
      "3                           University of Connecticut  473\n",
      "4   California Polytechnic State University, San L...  473\n",
      "5                                 Franklin University  471\n",
      "6                     The City University of New York  467\n",
      "7                                  Lincoln University  466\n",
      "8                                   DePauw University  465\n",
      "9                    The University of Texas at Tyler  465\n",
      "10                      California Baptist University  461\n",
      "11                        Florida National University  460\n",
      "12                     Catholic University of America  459\n",
      "13                      Claremont Graduate University  458\n",
      "14                                ATLANTIS UNIVERSITY  457\n",
      "15                          Louisiana Tech University  457\n",
      "16                        University of South Alabama  452\n",
      "17                               Marquette University  452\n",
      "18                                 Middlebury College  450\n",
      "19                               Marymount University  448\n",
      "20                       Sam Houston State University  442\n",
      "21                            Truman State University  440\n",
      "22                     California Lutheran University  440\n",
      "23                                   St. Olaf College  440\n",
      "24                    University of Washington Tacoma  439\n",
      "25                                   Barry University  438\n",
      "26                             University of Richmond  436\n",
      "27                             The College of Wooster  430\n",
      "28                                Musicians Institute  430\n",
      "29                                 Macalester College  430\n",
      "30                          University of the Potomac  429\n",
      "31                                    Oberlin College  427\n",
      "32                             Weber State University  427\n",
      "33                             University of La Verne  425\n",
      "34                     University of Houston-Downtown  424\n",
      "35                               Rochester University  424\n",
      "36                        University of Detroit Mercy  423\n",
      "37                                    Trinity College  421\n",
      "38                           Bergen Community College  421\n",
      "39                          North American University  419\n",
      "40                              Goldey-Beacom College  419\n",
      "41                  Washington University of Virginia  418\n",
      "42  University of Hawaii - Kapiolani Community Col...  417\n",
      "43                                    Broward College  417\n",
      "44  The Fashion Institute of Design & Merchandisin...  416\n",
      "45                            Murray State University  415\n",
      "46                     UNIVERSITY OF CENTRAL MISSOURI  413\n",
      "                                                    0    1\n",
      "0                      Otis College of Art and Design  410\n",
      "1                          University of Rhode Island  406\n",
      "2                         University of North Florida  406\n",
      "3                            New England Conservatory  403\n",
      "4                         Loma Linda University (LLU)  402\n",
      "5                  Tennessee Technological University  402\n",
      "6                                   Towson University  399\n",
      "7                      Hillsborough Community College  399\n",
      "8                                  Clemson University  398\n",
      "9                                    Foothill College  398\n",
      "10    Everglades College, Inc., DBA Keiser University  397\n",
      "11                               Concordia University  394\n",
      "12                   University of California, Merced  394\n",
      "13                             Idaho State University  391\n",
      "14                              Irvine Valley College  390\n",
      "15                        Salt Lake Community College  386\n",
      "16                                    Drew University  385\n",
      "17                                       Bard College  385\n",
      "18                              Ball State University  384\n",
      "19             California State University San Marcos  384\n",
      "20                                    Troy University  383\n",
      "21                                 Colgate University  382\n",
      "22                                Clarkson University  381\n",
      "23                 Indiana University of Pennsylvania  381\n",
      "24                 CENTRAL PIEDMONT COMMUNITY COLLEGE  380\n",
      "25                      Virginia Christian University  380\n",
      "26  Embry-Riddle Aeronautical University - Prescot...  379\n",
      "27          Southwestern Baptist Theological Seminary  377\n",
      "28                         Pittsburg State University  377\n",
      "29                               College of San Mateo  377\n",
      "30                           Texas Woman's University  376\n",
      "31          State University of New York at New Paltz  376\n",
      "32                                  Ottawa University  375\n",
      "33         Mt. San Antonio Community College District  373\n",
      "34                         Johnson & Wales University  370\n",
      "35                                 Cornell University  370\n"
     ]
    },
    {
     "data": {
      "text/plain": [
       "[None, None, None, None, None, None, None, None, None, None, None]"
      ]
     },
     "execution_count": 4,
     "metadata": {},
     "output_type": "execute_result"
    }
   ],
   "source": [
    "[print(x) for x in my_table]"
   ]
  },
  {
   "cell_type": "code",
   "execution_count": 5,
   "metadata": {},
   "outputs": [
    {
     "data": {
      "text/html": [
       "<div>\n",
       "<style scoped>\n",
       "    .dataframe tbody tr th:only-of-type {\n",
       "        vertical-align: middle;\n",
       "    }\n",
       "\n",
       "    .dataframe tbody tr th {\n",
       "        vertical-align: top;\n",
       "    }\n",
       "\n",
       "    .dataframe thead th {\n",
       "        text-align: right;\n",
       "    }\n",
       "</style>\n",
       "<table border=\"1\" class=\"dataframe\">\n",
       "  <thead>\n",
       "    <tr style=\"text-align: right;\">\n",
       "      <th></th>\n",
       "      <th>0</th>\n",
       "      <th>1</th>\n",
       "    </tr>\n",
       "  </thead>\n",
       "  <tbody>\n",
       "    <tr>\n",
       "      <th>0</th>\n",
       "      <td>School Name</td>\n",
       "      <td>Total SEVIS IDs</td>\n",
       "    </tr>\n",
       "    <tr>\n",
       "      <th>1</th>\n",
       "      <td>New York University</td>\n",
       "      <td>21,453</td>\n",
       "    </tr>\n",
       "    <tr>\n",
       "      <th>2</th>\n",
       "      <td>Northeastern University</td>\n",
       "      <td>21,385</td>\n",
       "    </tr>\n",
       "    <tr>\n",
       "      <th>3</th>\n",
       "      <td>Columbia University in the City of New York</td>\n",
       "      <td>20,347</td>\n",
       "    </tr>\n",
       "    <tr>\n",
       "      <th>4</th>\n",
       "      <td>University of Southern California</td>\n",
       "      <td>18,437</td>\n",
       "    </tr>\n",
       "    <tr>\n",
       "      <th>...</th>\n",
       "      <td>...</td>\n",
       "      <td>...</td>\n",
       "    </tr>\n",
       "    <tr>\n",
       "      <th>496</th>\n",
       "      <td>State University of New York at New Paltz</td>\n",
       "      <td>376</td>\n",
       "    </tr>\n",
       "    <tr>\n",
       "      <th>497</th>\n",
       "      <td>Ottawa University</td>\n",
       "      <td>375</td>\n",
       "    </tr>\n",
       "    <tr>\n",
       "      <th>498</th>\n",
       "      <td>Mt. San Antonio Community College District</td>\n",
       "      <td>373</td>\n",
       "    </tr>\n",
       "    <tr>\n",
       "      <th>499</th>\n",
       "      <td>Johnson &amp; Wales University</td>\n",
       "      <td>370</td>\n",
       "    </tr>\n",
       "    <tr>\n",
       "      <th>500</th>\n",
       "      <td>Cornell University</td>\n",
       "      <td>370</td>\n",
       "    </tr>\n",
       "  </tbody>\n",
       "</table>\n",
       "<p>501 rows × 2 columns</p>\n",
       "</div>"
      ],
      "text/plain": [
       "                                               0                1\n",
       "0                                    School Name  Total SEVIS IDs\n",
       "1                            New York University           21,453\n",
       "2                        Northeastern University           21,385\n",
       "3    Columbia University in the City of New York           20,347\n",
       "4              University of Southern California           18,437\n",
       "..                                           ...              ...\n",
       "496    State University of New York at New Paltz              376\n",
       "497                            Ottawa University              375\n",
       "498   Mt. San Antonio Community College District              373\n",
       "499                   Johnson & Wales University              370\n",
       "500                           Cornell University              370\n",
       "\n",
       "[501 rows x 2 columns]"
      ]
     },
     "execution_count": 5,
     "metadata": {},
     "output_type": "execute_result"
    }
   ],
   "source": [
    "result_df = pd.concat(my_table, ignore_index=True)\n",
    "result_df"
   ]
  },
  {
   "cell_type": "code",
   "execution_count": 6,
   "metadata": {},
   "outputs": [],
   "source": [
    "result_df.columns = result_df.iloc[0]"
   ]
  },
  {
   "cell_type": "code",
   "execution_count": 7,
   "metadata": {},
   "outputs": [
    {
     "data": {
      "text/html": [
       "<div>\n",
       "<style scoped>\n",
       "    .dataframe tbody tr th:only-of-type {\n",
       "        vertical-align: middle;\n",
       "    }\n",
       "\n",
       "    .dataframe tbody tr th {\n",
       "        vertical-align: top;\n",
       "    }\n",
       "\n",
       "    .dataframe thead th {\n",
       "        text-align: right;\n",
       "    }\n",
       "</style>\n",
       "<table border=\"1\" class=\"dataframe\">\n",
       "  <thead>\n",
       "    <tr style=\"text-align: right;\">\n",
       "      <th></th>\n",
       "      <th>School Name</th>\n",
       "      <th>Total SEVIS IDs</th>\n",
       "    </tr>\n",
       "  </thead>\n",
       "  <tbody>\n",
       "    <tr>\n",
       "      <th>0</th>\n",
       "      <td>School Name</td>\n",
       "      <td>Total SEVIS IDs</td>\n",
       "    </tr>\n",
       "    <tr>\n",
       "      <th>1</th>\n",
       "      <td>New York University</td>\n",
       "      <td>21,453</td>\n",
       "    </tr>\n",
       "    <tr>\n",
       "      <th>2</th>\n",
       "      <td>Northeastern University</td>\n",
       "      <td>21,385</td>\n",
       "    </tr>\n",
       "    <tr>\n",
       "      <th>3</th>\n",
       "      <td>Columbia University in the City of New York</td>\n",
       "      <td>20,347</td>\n",
       "    </tr>\n",
       "    <tr>\n",
       "      <th>4</th>\n",
       "      <td>University of Southern California</td>\n",
       "      <td>18,437</td>\n",
       "    </tr>\n",
       "    <tr>\n",
       "      <th>...</th>\n",
       "      <td>...</td>\n",
       "      <td>...</td>\n",
       "    </tr>\n",
       "    <tr>\n",
       "      <th>496</th>\n",
       "      <td>State University of New York at New Paltz</td>\n",
       "      <td>376</td>\n",
       "    </tr>\n",
       "    <tr>\n",
       "      <th>497</th>\n",
       "      <td>Ottawa University</td>\n",
       "      <td>375</td>\n",
       "    </tr>\n",
       "    <tr>\n",
       "      <th>498</th>\n",
       "      <td>Mt. San Antonio Community College District</td>\n",
       "      <td>373</td>\n",
       "    </tr>\n",
       "    <tr>\n",
       "      <th>499</th>\n",
       "      <td>Johnson &amp; Wales University</td>\n",
       "      <td>370</td>\n",
       "    </tr>\n",
       "    <tr>\n",
       "      <th>500</th>\n",
       "      <td>Cornell University</td>\n",
       "      <td>370</td>\n",
       "    </tr>\n",
       "  </tbody>\n",
       "</table>\n",
       "<p>501 rows × 2 columns</p>\n",
       "</div>"
      ],
      "text/plain": [
       "0                                    School Name  Total SEVIS IDs\n",
       "0                                    School Name  Total SEVIS IDs\n",
       "1                            New York University           21,453\n",
       "2                        Northeastern University           21,385\n",
       "3    Columbia University in the City of New York           20,347\n",
       "4              University of Southern California           18,437\n",
       "..                                           ...              ...\n",
       "496    State University of New York at New Paltz              376\n",
       "497                            Ottawa University              375\n",
       "498   Mt. San Antonio Community College District              373\n",
       "499                   Johnson & Wales University              370\n",
       "500                           Cornell University              370\n",
       "\n",
       "[501 rows x 2 columns]"
      ]
     },
     "execution_count": 7,
     "metadata": {},
     "output_type": "execute_result"
    }
   ],
   "source": [
    "result_df"
   ]
  },
  {
   "cell_type": "code",
   "execution_count": 8,
   "metadata": {},
   "outputs": [],
   "source": [
    "result_df.drop(0, inplace=True)"
   ]
  },
  {
   "cell_type": "code",
   "execution_count": 9,
   "metadata": {},
   "outputs": [
    {
     "data": {
      "text/html": [
       "<div>\n",
       "<style scoped>\n",
       "    .dataframe tbody tr th:only-of-type {\n",
       "        vertical-align: middle;\n",
       "    }\n",
       "\n",
       "    .dataframe tbody tr th {\n",
       "        vertical-align: top;\n",
       "    }\n",
       "\n",
       "    .dataframe thead th {\n",
       "        text-align: right;\n",
       "    }\n",
       "</style>\n",
       "<table border=\"1\" class=\"dataframe\">\n",
       "  <thead>\n",
       "    <tr style=\"text-align: right;\">\n",
       "      <th></th>\n",
       "      <th>index</th>\n",
       "      <th>School Name</th>\n",
       "      <th>Total SEVIS IDs</th>\n",
       "    </tr>\n",
       "  </thead>\n",
       "  <tbody>\n",
       "    <tr>\n",
       "      <th>0</th>\n",
       "      <td>1</td>\n",
       "      <td>New York University</td>\n",
       "      <td>21,453</td>\n",
       "    </tr>\n",
       "    <tr>\n",
       "      <th>1</th>\n",
       "      <td>2</td>\n",
       "      <td>Northeastern University</td>\n",
       "      <td>21,385</td>\n",
       "    </tr>\n",
       "    <tr>\n",
       "      <th>2</th>\n",
       "      <td>3</td>\n",
       "      <td>Columbia University in the City of New York</td>\n",
       "      <td>20,347</td>\n",
       "    </tr>\n",
       "    <tr>\n",
       "      <th>3</th>\n",
       "      <td>4</td>\n",
       "      <td>University of Southern California</td>\n",
       "      <td>18,437</td>\n",
       "    </tr>\n",
       "    <tr>\n",
       "      <th>4</th>\n",
       "      <td>5</td>\n",
       "      <td>Arizona State University</td>\n",
       "      <td>15,855</td>\n",
       "    </tr>\n",
       "    <tr>\n",
       "      <th>...</th>\n",
       "      <td>...</td>\n",
       "      <td>...</td>\n",
       "      <td>...</td>\n",
       "    </tr>\n",
       "    <tr>\n",
       "      <th>495</th>\n",
       "      <td>496</td>\n",
       "      <td>State University of New York at New Paltz</td>\n",
       "      <td>376</td>\n",
       "    </tr>\n",
       "    <tr>\n",
       "      <th>496</th>\n",
       "      <td>497</td>\n",
       "      <td>Ottawa University</td>\n",
       "      <td>375</td>\n",
       "    </tr>\n",
       "    <tr>\n",
       "      <th>497</th>\n",
       "      <td>498</td>\n",
       "      <td>Mt. San Antonio Community College District</td>\n",
       "      <td>373</td>\n",
       "    </tr>\n",
       "    <tr>\n",
       "      <th>498</th>\n",
       "      <td>499</td>\n",
       "      <td>Johnson &amp; Wales University</td>\n",
       "      <td>370</td>\n",
       "    </tr>\n",
       "    <tr>\n",
       "      <th>499</th>\n",
       "      <td>500</td>\n",
       "      <td>Cornell University</td>\n",
       "      <td>370</td>\n",
       "    </tr>\n",
       "  </tbody>\n",
       "</table>\n",
       "<p>500 rows × 3 columns</p>\n",
       "</div>"
      ],
      "text/plain": [
       "0    index                                  School Name Total SEVIS IDs\n",
       "0        1                          New York University          21,453\n",
       "1        2                      Northeastern University          21,385\n",
       "2        3  Columbia University in the City of New York          20,347\n",
       "3        4            University of Southern California          18,437\n",
       "4        5                     Arizona State University          15,855\n",
       "..     ...                                          ...             ...\n",
       "495    496    State University of New York at New Paltz             376\n",
       "496    497                            Ottawa University             375\n",
       "497    498   Mt. San Antonio Community College District             373\n",
       "498    499                   Johnson & Wales University             370\n",
       "499    500                           Cornell University             370\n",
       "\n",
       "[500 rows x 3 columns]"
      ]
     },
     "execution_count": 9,
     "metadata": {},
     "output_type": "execute_result"
    }
   ],
   "source": [
    "result_df.reset_index(inplace=True)\n",
    "result_df"
   ]
  },
  {
   "cell_type": "code",
   "execution_count": 10,
   "metadata": {},
   "outputs": [
    {
     "data": {
      "text/html": [
       "<div>\n",
       "<style scoped>\n",
       "    .dataframe tbody tr th:only-of-type {\n",
       "        vertical-align: middle;\n",
       "    }\n",
       "\n",
       "    .dataframe tbody tr th {\n",
       "        vertical-align: top;\n",
       "    }\n",
       "\n",
       "    .dataframe thead th {\n",
       "        text-align: right;\n",
       "    }\n",
       "</style>\n",
       "<table border=\"1\" class=\"dataframe\">\n",
       "  <thead>\n",
       "    <tr style=\"text-align: right;\">\n",
       "      <th></th>\n",
       "      <th>School Name</th>\n",
       "      <th>Total SEVIS IDs</th>\n",
       "    </tr>\n",
       "  </thead>\n",
       "  <tbody>\n",
       "    <tr>\n",
       "      <th>0</th>\n",
       "      <td>New York University</td>\n",
       "      <td>21,453</td>\n",
       "    </tr>\n",
       "    <tr>\n",
       "      <th>1</th>\n",
       "      <td>Northeastern University</td>\n",
       "      <td>21,385</td>\n",
       "    </tr>\n",
       "    <tr>\n",
       "      <th>2</th>\n",
       "      <td>Columbia University in the City of New York</td>\n",
       "      <td>20,347</td>\n",
       "    </tr>\n",
       "    <tr>\n",
       "      <th>3</th>\n",
       "      <td>University of Southern California</td>\n",
       "      <td>18,437</td>\n",
       "    </tr>\n",
       "    <tr>\n",
       "      <th>4</th>\n",
       "      <td>Arizona State University</td>\n",
       "      <td>15,855</td>\n",
       "    </tr>\n",
       "    <tr>\n",
       "      <th>...</th>\n",
       "      <td>...</td>\n",
       "      <td>...</td>\n",
       "    </tr>\n",
       "    <tr>\n",
       "      <th>495</th>\n",
       "      <td>State University of New York at New Paltz</td>\n",
       "      <td>376</td>\n",
       "    </tr>\n",
       "    <tr>\n",
       "      <th>496</th>\n",
       "      <td>Ottawa University</td>\n",
       "      <td>375</td>\n",
       "    </tr>\n",
       "    <tr>\n",
       "      <th>497</th>\n",
       "      <td>Mt. San Antonio Community College District</td>\n",
       "      <td>373</td>\n",
       "    </tr>\n",
       "    <tr>\n",
       "      <th>498</th>\n",
       "      <td>Johnson &amp; Wales University</td>\n",
       "      <td>370</td>\n",
       "    </tr>\n",
       "    <tr>\n",
       "      <th>499</th>\n",
       "      <td>Cornell University</td>\n",
       "      <td>370</td>\n",
       "    </tr>\n",
       "  </tbody>\n",
       "</table>\n",
       "<p>500 rows × 2 columns</p>\n",
       "</div>"
      ],
      "text/plain": [
       "0                                    School Name Total SEVIS IDs\n",
       "0                            New York University          21,453\n",
       "1                        Northeastern University          21,385\n",
       "2    Columbia University in the City of New York          20,347\n",
       "3              University of Southern California          18,437\n",
       "4                       Arizona State University          15,855\n",
       "..                                           ...             ...\n",
       "495    State University of New York at New Paltz             376\n",
       "496                            Ottawa University             375\n",
       "497   Mt. San Antonio Community College District             373\n",
       "498                   Johnson & Wales University             370\n",
       "499                           Cornell University             370\n",
       "\n",
       "[500 rows x 2 columns]"
      ]
     },
     "execution_count": 10,
     "metadata": {},
     "output_type": "execute_result"
    }
   ],
   "source": [
    "result_df.drop('index', inplace=True, axis=1)\n",
    "result_df"
   ]
  },
  {
   "cell_type": "code",
   "execution_count": 11,
   "metadata": {},
   "outputs": [
    {
     "data": {
      "text/plain": [
       "6"
      ]
     },
     "execution_count": 11,
     "metadata": {},
     "output_type": "execute_result"
    }
   ],
   "source": [
    "my_pdf = '/Users/tinashem/Github Repos/CareerPalz/2022_AllStudentsByCOC.pdf'\n",
    "\n",
    "my_df = tabula.read_pdf(my_pdf, lattice=True, pages='all', pandas_options={'header': None})\n",
    "\n",
    "len(my_df)"
   ]
  },
  {
   "cell_type": "code",
   "execution_count": 12,
   "metadata": {},
   "outputs": [
    {
     "data": {
      "text/plain": [
       "[                                  0                1\n",
       " 0            Country of Citizenship  Total SEVIS IDS\n",
       " 1                             CHINA          324,196\n",
       " 2                             INDIA          297,151\n",
       " 3   REPUBLIC OF KOREA (SOUTH KOREA)           62,617\n",
       " 4                            CANADA           41,392\n",
       " 5                            BRAZIL           37,904\n",
       " 6                           VIETNAM           29,742\n",
       " 7                             JAPAN           26,519\n",
       " 8                            TAIWAN           26,225\n",
       " 9                      SAUDI ARABIA           24,485\n",
       " 10                          NIGERIA           22,935\n",
       " 11                           MEXICO           22,715\n",
       " 12                         COLOMBIA           20,744\n",
       " 13                            NEPAL           20,344\n",
       " 14                       BANGLADESH           18,184\n",
       " 15                          GERMANY           16,097\n",
       " 16                   UNITED KINGDOM           15,144\n",
       " 17                           FRANCE           14,713\n",
       " 18                            SPAIN           14,444\n",
       " 19                           TURKEY           14,009\n",
       " 20                             IRAN           12,183\n",
       " 21                         PAKISTAN           11,993\n",
       " 22                            ITALY           11,435\n",
       " 23                        INDONESIA            8,932\n",
       " 24                         THAILAND            8,777\n",
       " 25                           RUSSIA            7,625\n",
       " 26                             PERU            7,560\n",
       " 27                            GHANA            7,537\n",
       " 28                           KUWAIT            7,509\n",
       " 29                        HONG KONG            7,500\n",
       " 30                        VENEZUELA            7,131\n",
       " 31                      PHILIPPINES            6,278\n",
       " 32                        AUSTRALIA            5,990\n",
       " 33                         MALAYSIA            5,887\n",
       " 34                            KENYA            5,792\n",
       " 35                          ECUADOR            5,650\n",
       " 36                        SINGAPORE            5,166\n",
       " 37                        ARGENTINA            4,996\n",
       " 38                            EGYPT            4,855\n",
       " 39                            CHILE            4,697\n",
       " 40                           SWEDEN            4,570\n",
       " 41                     BAHAMAS, THE            4,510\n",
       " 42                          JAMAICA            4,492\n",
       " 43                         ETHIOPIA            4,274,\n",
       "                   0\n",
       " 0   Total SEVIS IDS\n",
       " 1           324,196\n",
       " 2           297,151\n",
       " 3            62,617\n",
       " 4            41,392\n",
       " 5            37,904\n",
       " 6            29,742\n",
       " 7            26,519\n",
       " 8            26,225\n",
       " 9            24,485\n",
       " 10           22,935\n",
       " 11           22,715\n",
       " 12           20,744\n",
       " 13           20,344\n",
       " 14           18,184\n",
       " 15           16,097\n",
       " 16           15,144\n",
       " 17           14,713\n",
       " 18           14,444\n",
       " 19           14,009\n",
       " 20           12,183\n",
       " 21           11,993\n",
       " 22           11,435\n",
       " 23            8,932\n",
       " 24            8,777\n",
       " 25            7,625\n",
       " 26            7,560\n",
       " 27            7,537\n",
       " 28            7,509\n",
       " 29            7,500\n",
       " 30            7,131\n",
       " 31            6,278\n",
       " 32            5,990\n",
       " 33            5,887\n",
       " 34            5,792\n",
       " 35            5,650\n",
       " 36            5,166\n",
       " 37            4,996\n",
       " 38            4,855\n",
       " 39            4,697\n",
       " 40            4,570\n",
       " 41            4,510\n",
       " 42            4,492\n",
       " 43            4,274,\n",
       "                        0      1\n",
       " 0            NETHERLANDS  4,262\n",
       " 1           SOUTH AFRICA  4,036\n",
       " 2                 JORDAN  3,925\n",
       " 3                UKRAINE  3,806\n",
       " 4            SWITZERLAND  3,737\n",
       " 5             KAZAKHSTAN  3,731\n",
       " 6                  BURMA  3,592\n",
       " 7              SRI LANKA  3,570\n",
       " 8                 ISRAEL  3,549\n",
       " 9                 NORWAY  3,474\n",
       " 10    DOMINICAN REPUBLIC  3,414\n",
       " 11                PANAMA  3,363\n",
       " 12              MONGOLIA  3,282\n",
       " 13              HONDURAS  3,253\n",
       " 14                GREECE  2,949\n",
       " 15                POLAND  2,853\n",
       " 16                  OMAN  2,546\n",
       " 17      CONGO (KINSHASA)  2,543\n",
       " 18              ZIMBABWE  2,325\n",
       " 19               LEBANON  2,319\n",
       " 20               MOROCCO  2,236\n",
       " 21           NEW ZEALAND  2,084\n",
       " 22               BELGIUM  1,994\n",
       " 23               BOLIVIA  1,909\n",
       " 24               DENMARK  1,909\n",
       " 25                RWANDA  1,887\n",
       " 26            COSTA RICA  1,861\n",
       " 27   TRINIDAD AND TOBAGO  1,800\n",
       " 28                SERBIA  1,798\n",
       " 29            UZBEKISTAN  1,736\n",
       " 30               IRELAND  1,731\n",
       " 31              PORTUGAL  1,728\n",
       " 32  UNITED ARAB EMIRATES  1,725\n",
       " 33             GUATEMALA  1,668\n",
       " 34               ALBANIA  1,665\n",
       " 35         COTE D'IVOIRE  1,643\n",
       " 36               AUSTRIA  1,557\n",
       " 37                UGANDA  1,525\n",
       " 38           EL SALVADOR  1,485\n",
       " 39                 HAITI  1,377\n",
       " 40              TANZANIA  1,373\n",
       " 41              CAMEROON  1,341\n",
       " 42               TUNISIA  1,330\n",
       " 43        CZECH REPUBLIC  1,277\n",
       " 44               ROMANIA  1,213\n",
       " 45              CAMBODIA  1,197\n",
       " 46            KYRGYZSTAN  1,197,\n",
       "                          0      1\n",
       " 0                  HUNGARY  1,165\n",
       " 1               AZERBAIJAN  1,135\n",
       " 2                  GEORGIA  1,078\n",
       " 3                   ANGOLA    947\n",
       " 4                 PARAGUAY    848\n",
       " 5                  FINLAND    830\n",
       " 6                  ARMENIA    806\n",
       " 7                 BULGARIA    798\n",
       " 8                  SENEGAL    798\n",
       " 9                   ZAMBIA    786\n",
       " 10                 BELARUS    757\n",
       " 11               NICARAGUA    719\n",
       " 12                   LIBYA    712\n",
       " 13                 CROATIA    649\n",
       " 14                DOMINICA    628\n",
       " 15                   QATAR    609\n",
       " 16             AFGHANISTAN    593\n",
       " 17            BURKINA FASO    582\n",
       " 18                 ALGERIA    580\n",
       " 19                SLOVAKIA    580\n",
       " 20                 ICELAND    573\n",
       " 21                 URUGUAY    572\n",
       " 22                   YEMEN    562\n",
       " 23                  CYPRUS    522\n",
       " 24                  BELIZE    518\n",
       " 25            TURKMENISTAN    518\n",
       " 26               LITHUANIA    506\n",
       " 27                  MALAWI    499\n",
       " 28                  GUYANA    494\n",
       " 29                 BERMUDA    484\n",
       " 30                    IRAQ    454\n",
       " 31                   MACAU    448\n",
       " 32                BARBADOS    446\n",
       " 33                   SUDAN    441\n",
       " 34               WEST BANK    437\n",
       " 35                 BAHRAIN    426\n",
       " 36                    MALI    417\n",
       " 37                  LATVIA    406\n",
       " 38                   SYRIA    406\n",
       " 39       EQUATORIAL GUINEA    397\n",
       " 40                   GABON    397\n",
       " 41             GAMBIA, THE    392\n",
       " 42                 LIBERIA    387\n",
       " 43            SIERRA LEONE    358\n",
       " 44                   BENIN    352\n",
       " 45  BOSNIA AND HERZEGOVINA    346\n",
       " 46               MACEDONIA    345,\n",
       "                                    0    1\n",
       " 0                          MAURITIUS  327\n",
       " 1                           BOTSWANA  325\n",
       " 2                         TAJIKISTAN  323\n",
       " 3                         MADAGASCAR  321\n",
       " 4                        SAINT LUCIA  310\n",
       " 5                         MONTENEGRO  300\n",
       " 6                           SLOVENIA  292\n",
       " 7                              NIGER  277\n",
       " 8                ANTIGUA AND BARBUDA  276\n",
       " 9                               TOGO  271\n",
       " 10                            KOSOVO  269\n",
       " 11             SAINT KITTS AND NEVIS  263\n",
       " 12                           ESTONIA  255\n",
       " 13                           MOLDOVA  243\n",
       " 14                         SWAZILAND  243\n",
       " 15                           BURUNDI  232\n",
       " 16                           GRENADA  227\n",
       " 17                        MOZAMBIQUE  226\n",
       " 18                    CAYMAN ISLANDS  224\n",
       " 19                            BHUTAN  211\n",
       " 20               CONGO (BRAZZAVILLE)  205\n",
       " 21                              LAOS  177\n",
       " 22                           ERITREA  172\n",
       " 23                       SOUTH SUDAN  155\n",
       " 24                              CUBA  154\n",
       " 25                        GAZA STRIP  151\n",
       " 26                  PAPUA NEW GUINEA  150\n",
       " 27                           NAMIBIA  149\n",
       " 28                           CURACAO  147\n",
       " 29  SAINT VINCENT AND THE GRENADINES  147\n",
       " 30                        LUXEMBOURG  144\n",
       " 31                            GUINEA  132\n",
       " 32                           SOMALIA  130\n",
       " 33                             MALTA  108\n",
       " 34                             ARUBA   89\n",
       " 35                        CAPE VERDE   89\n",
       " 36                              CHAD   85\n",
       " 37                          SURINAME   78\n",
       " 38                           LESOTHO   77\n",
       " 39          TURKS AND CAICOS ISLANDS   74\n",
       " 40                              FIJI   72\n",
       " 41                        MAURITANIA   62\n",
       " 42            BRITISH VIRGIN ISLANDS   61\n",
       " 43                         STATELESS   50\n",
       " 44                      SINT MAARTEN   41\n",
       " 45                            BRUNEI   39\n",
       " 46                          MALDIVES   36,\n",
       "                                  0   1\n",
       " 0                            TONGA  34\n",
       " 1                          ANDORRA  33\n",
       " 2                 FRENCH POLYNESIA  23\n",
       " 3                           MONACO  22\n",
       " 4         CENTRAL AFRICAN REPUBLIC  21\n",
       " 5                    LIECHTENSTEIN  20\n",
       " 6                     SAINT MARTIN  20\n",
       " 7                            SAMOA  20\n",
       " 8                      TIMOR-LESTE  18\n",
       " 9                    GUINEA-BISSAU  17\n",
       " 10                      SEYCHELLES  16\n",
       " 11                        ANGUILLA  14\n",
       " 12                        KIRIBATI  13\n",
       " 13                 SOLOMON ISLANDS  12\n",
       " 14                 BASSAS DA INDIA  10\n",
       " 15                      SAN MARINO   9\n",
       " 16                     ISLE OF MAN   8\n",
       " 17                          JERSEY   8\n",
       " 18                         REUNION   8\n",
       " 19                         COMOROS   7\n",
       " 20                         UNKNOWN   7\n",
       " 21                      MARTINIQUE   6\n",
       " 22                         VANUATU   5\n",
       " 23  BRITISH INDIAN OCEAN TERRITORY   4\n",
       " 24                        DJIBOUTI   4\n",
       " 25                       GIBRALTAR   4\n",
       " 26                   NEW CALEDONIA   4\n",
       " 27                   FRENCH GUIANA   3\n",
       " 28                        GUERNSEY   3\n",
       " 29                      MONTSERRAT   3\n",
       " 30           SAO TOME AND PRINCIPE   3\n",
       " 31                   FAROE ISLANDS   2\n",
       " 32                           PALAU   2\n",
       " 33                       GREENLAND   1\n",
       " 34                       JAN MAYEN   1\n",
       " 35            NETHERLANDS ANTILLES   1\n",
       " 36                    NEUTRAL ZONE   1\n",
       " 37                            NIUE   1\n",
       " 38       SAINT PIERRE AND MIQUELON   1\n",
       " 39                 TROMELIN ISLAND   1\n",
       " 40                          TUVALU   1]"
      ]
     },
     "execution_count": 12,
     "metadata": {},
     "output_type": "execute_result"
    }
   ],
   "source": [
    "my_df"
   ]
  },
  {
   "cell_type": "code",
   "execution_count": 13,
   "metadata": {},
   "outputs": [
    {
     "data": {
      "text/html": [
       "<div>\n",
       "<style scoped>\n",
       "    .dataframe tbody tr th:only-of-type {\n",
       "        vertical-align: middle;\n",
       "    }\n",
       "\n",
       "    .dataframe tbody tr th {\n",
       "        vertical-align: top;\n",
       "    }\n",
       "\n",
       "    .dataframe thead th {\n",
       "        text-align: right;\n",
       "    }\n",
       "</style>\n",
       "<table border=\"1\" class=\"dataframe\">\n",
       "  <thead>\n",
       "    <tr style=\"text-align: right;\">\n",
       "      <th></th>\n",
       "      <th>0</th>\n",
       "      <th>1</th>\n",
       "    </tr>\n",
       "  </thead>\n",
       "  <tbody>\n",
       "    <tr>\n",
       "      <th>0</th>\n",
       "      <td>Country of Citizenship</td>\n",
       "      <td>Total SEVIS IDS</td>\n",
       "    </tr>\n",
       "    <tr>\n",
       "      <th>1</th>\n",
       "      <td>CHINA</td>\n",
       "      <td>324,196</td>\n",
       "    </tr>\n",
       "    <tr>\n",
       "      <th>2</th>\n",
       "      <td>INDIA</td>\n",
       "      <td>297,151</td>\n",
       "    </tr>\n",
       "    <tr>\n",
       "      <th>3</th>\n",
       "      <td>REPUBLIC OF KOREA (SOUTH KOREA)</td>\n",
       "      <td>62,617</td>\n",
       "    </tr>\n",
       "    <tr>\n",
       "      <th>4</th>\n",
       "      <td>CANADA</td>\n",
       "      <td>41,392</td>\n",
       "    </tr>\n",
       "    <tr>\n",
       "      <th>...</th>\n",
       "      <td>...</td>\n",
       "      <td>...</td>\n",
       "    </tr>\n",
       "    <tr>\n",
       "      <th>265</th>\n",
       "      <td>NEUTRAL ZONE</td>\n",
       "      <td>1</td>\n",
       "    </tr>\n",
       "    <tr>\n",
       "      <th>266</th>\n",
       "      <td>NIUE</td>\n",
       "      <td>1</td>\n",
       "    </tr>\n",
       "    <tr>\n",
       "      <th>267</th>\n",
       "      <td>SAINT PIERRE AND MIQUELON</td>\n",
       "      <td>1</td>\n",
       "    </tr>\n",
       "    <tr>\n",
       "      <th>268</th>\n",
       "      <td>TROMELIN ISLAND</td>\n",
       "      <td>1</td>\n",
       "    </tr>\n",
       "    <tr>\n",
       "      <th>269</th>\n",
       "      <td>TUVALU</td>\n",
       "      <td>1</td>\n",
       "    </tr>\n",
       "  </tbody>\n",
       "</table>\n",
       "<p>270 rows × 2 columns</p>\n",
       "</div>"
      ],
      "text/plain": [
       "                                   0                1\n",
       "0             Country of Citizenship  Total SEVIS IDS\n",
       "1                              CHINA          324,196\n",
       "2                              INDIA          297,151\n",
       "3    REPUBLIC OF KOREA (SOUTH KOREA)           62,617\n",
       "4                             CANADA           41,392\n",
       "..                               ...              ...\n",
       "265                     NEUTRAL ZONE                1\n",
       "266                             NIUE                1\n",
       "267        SAINT PIERRE AND MIQUELON                1\n",
       "268                  TROMELIN ISLAND                1\n",
       "269                           TUVALU                1\n",
       "\n",
       "[270 rows x 2 columns]"
      ]
     },
     "execution_count": 13,
     "metadata": {},
     "output_type": "execute_result"
    }
   ],
   "source": [
    "bigger_df = pd.concat(my_df, ignore_index=True)\n",
    "bigger_df"
   ]
  },
  {
   "cell_type": "code",
   "execution_count": 14,
   "metadata": {},
   "outputs": [
    {
     "data": {
      "text/html": [
       "<div>\n",
       "<style scoped>\n",
       "    .dataframe tbody tr th:only-of-type {\n",
       "        vertical-align: middle;\n",
       "    }\n",
       "\n",
       "    .dataframe tbody tr th {\n",
       "        vertical-align: top;\n",
       "    }\n",
       "\n",
       "    .dataframe thead th {\n",
       "        text-align: right;\n",
       "    }\n",
       "</style>\n",
       "<table border=\"1\" class=\"dataframe\">\n",
       "  <thead>\n",
       "    <tr style=\"text-align: right;\">\n",
       "      <th></th>\n",
       "      <th>Country of Citizenship</th>\n",
       "      <th>Total SEVIS IDS</th>\n",
       "    </tr>\n",
       "  </thead>\n",
       "  <tbody>\n",
       "    <tr>\n",
       "      <th>1</th>\n",
       "      <td>CHINA</td>\n",
       "      <td>324,196</td>\n",
       "    </tr>\n",
       "    <tr>\n",
       "      <th>2</th>\n",
       "      <td>INDIA</td>\n",
       "      <td>297,151</td>\n",
       "    </tr>\n",
       "    <tr>\n",
       "      <th>3</th>\n",
       "      <td>REPUBLIC OF KOREA (SOUTH KOREA)</td>\n",
       "      <td>62,617</td>\n",
       "    </tr>\n",
       "    <tr>\n",
       "      <th>4</th>\n",
       "      <td>CANADA</td>\n",
       "      <td>41,392</td>\n",
       "    </tr>\n",
       "    <tr>\n",
       "      <th>5</th>\n",
       "      <td>BRAZIL</td>\n",
       "      <td>37,904</td>\n",
       "    </tr>\n",
       "    <tr>\n",
       "      <th>...</th>\n",
       "      <td>...</td>\n",
       "      <td>...</td>\n",
       "    </tr>\n",
       "    <tr>\n",
       "      <th>265</th>\n",
       "      <td>NEUTRAL ZONE</td>\n",
       "      <td>1</td>\n",
       "    </tr>\n",
       "    <tr>\n",
       "      <th>266</th>\n",
       "      <td>NIUE</td>\n",
       "      <td>1</td>\n",
       "    </tr>\n",
       "    <tr>\n",
       "      <th>267</th>\n",
       "      <td>SAINT PIERRE AND MIQUELON</td>\n",
       "      <td>1</td>\n",
       "    </tr>\n",
       "    <tr>\n",
       "      <th>268</th>\n",
       "      <td>TROMELIN ISLAND</td>\n",
       "      <td>1</td>\n",
       "    </tr>\n",
       "    <tr>\n",
       "      <th>269</th>\n",
       "      <td>TUVALU</td>\n",
       "      <td>1</td>\n",
       "    </tr>\n",
       "  </tbody>\n",
       "</table>\n",
       "<p>269 rows × 2 columns</p>\n",
       "</div>"
      ],
      "text/plain": [
       "0             Country of Citizenship Total SEVIS IDS\n",
       "1                              CHINA         324,196\n",
       "2                              INDIA         297,151\n",
       "3    REPUBLIC OF KOREA (SOUTH KOREA)          62,617\n",
       "4                             CANADA          41,392\n",
       "5                             BRAZIL          37,904\n",
       "..                               ...             ...\n",
       "265                     NEUTRAL ZONE               1\n",
       "266                             NIUE               1\n",
       "267        SAINT PIERRE AND MIQUELON               1\n",
       "268                  TROMELIN ISLAND               1\n",
       "269                           TUVALU               1\n",
       "\n",
       "[269 rows x 2 columns]"
      ]
     },
     "execution_count": 14,
     "metadata": {},
     "output_type": "execute_result"
    }
   ],
   "source": [
    "bigger_df.columns = bigger_df.iloc[0]\n",
    "bigger_df.drop(0, inplace=True)\n",
    "bigger_df"
   ]
  },
  {
   "cell_type": "code",
   "execution_count": 15,
   "metadata": {},
   "outputs": [],
   "source": [
    "import plotly.express as px\n",
    "import plotly.figure_factory as ff\n",
    "import plotly.graph_objects as go"
   ]
  },
  {
   "cell_type": "code",
   "execution_count": 16,
   "metadata": {},
   "outputs": [
    {
     "data": {
      "application/vnd.plotly.v1+json": {
       "config": {
        "plotlyServerURL": "https://plot.ly"
       },
       "data": [
        {
         "autocolorscale": false,
         "colorbar": {
          "title": {
           "text": "Number"
          }
         },
         "colorscale": [
          [
           0,
           "#440154"
          ],
          [
           0.1111111111111111,
           "#482878"
          ],
          [
           0.2222222222222222,
           "#3e4989"
          ],
          [
           0.3333333333333333,
           "#31688e"
          ],
          [
           0.4444444444444444,
           "#26828e"
          ],
          [
           0.5555555555555556,
           "#1f9e89"
          ],
          [
           0.6666666666666666,
           "#35b779"
          ],
          [
           0.7777777777777778,
           "#6ece58"
          ],
          [
           0.8888888888888888,
           "#b5de2b"
          ],
          [
           1,
           "#fde725"
          ]
         ],
         "locationmode": "country names",
         "locations": [
          "CHINA",
          "INDIA",
          "REPUBLIC OF KOREA (SOUTH KOREA)",
          "CANADA",
          "BRAZIL",
          "VIETNAM",
          "JAPAN",
          "TAIWAN",
          "SAUDI ARABIA",
          "NIGERIA",
          "MEXICO",
          "COLOMBIA",
          "NEPAL",
          "BANGLADESH",
          "GERMANY",
          "UNITED KINGDOM",
          "FRANCE",
          "SPAIN",
          "TURKEY",
          "IRAN",
          "PAKISTAN",
          "ITALY",
          "INDONESIA",
          "THAILAND",
          "RUSSIA",
          "PERU",
          "GHANA",
          "KUWAIT",
          "HONG KONG",
          "VENEZUELA",
          "PHILIPPINES",
          "AUSTRALIA",
          "MALAYSIA",
          "KENYA",
          "ECUADOR",
          "SINGAPORE",
          "ARGENTINA",
          "EGYPT",
          "CHILE",
          "SWEDEN",
          "BAHAMAS, THE",
          "JAMAICA",
          "ETHIOPIA",
          "Total SEVIS IDS",
          "324,196",
          "297,151",
          "62,617",
          "41,392",
          "37,904",
          "29,742",
          "26,519",
          "26,225",
          "24,485",
          "22,935",
          "22,715",
          "20,744",
          "20,344",
          "18,184",
          "16,097",
          "15,144",
          "14,713",
          "14,444",
          "14,009",
          "12,183",
          "11,993",
          "11,435",
          "8,932",
          "8,777",
          "7,625",
          "7,560",
          "7,537",
          "7,509",
          "7,500",
          "7,131",
          "6,278",
          "5,990",
          "5,887",
          "5,792",
          "5,650",
          "5,166",
          "4,996",
          "4,855",
          "4,697",
          "4,570",
          "4,510",
          "4,492",
          "4,274",
          "NETHERLANDS",
          "SOUTH AFRICA",
          "JORDAN",
          "UKRAINE",
          "SWITZERLAND",
          "KAZAKHSTAN",
          "BURMA",
          "SRI LANKA",
          "ISRAEL",
          "NORWAY",
          "DOMINICAN REPUBLIC",
          "PANAMA",
          "MONGOLIA",
          "HONDURAS",
          "GREECE",
          "POLAND",
          "OMAN",
          "CONGO (KINSHASA)",
          "ZIMBABWE",
          "LEBANON",
          "MOROCCO",
          "NEW ZEALAND",
          "BELGIUM",
          "BOLIVIA",
          "DENMARK",
          "RWANDA",
          "COSTA RICA",
          "TRINIDAD AND TOBAGO",
          "SERBIA",
          "UZBEKISTAN",
          "IRELAND",
          "PORTUGAL",
          "UNITED ARAB EMIRATES",
          "GUATEMALA",
          "ALBANIA",
          "COTE D'IVOIRE",
          "AUSTRIA",
          "UGANDA",
          "EL SALVADOR",
          "HAITI",
          "TANZANIA",
          "CAMEROON",
          "TUNISIA",
          "CZECH REPUBLIC",
          "ROMANIA",
          "CAMBODIA",
          "KYRGYZSTAN",
          "HUNGARY",
          "AZERBAIJAN",
          "GEORGIA",
          "ANGOLA",
          "PARAGUAY",
          "FINLAND",
          "ARMENIA",
          "BULGARIA",
          "SENEGAL",
          "ZAMBIA",
          "BELARUS",
          "NICARAGUA",
          "LIBYA",
          "CROATIA",
          "DOMINICA",
          "QATAR",
          "AFGHANISTAN",
          "BURKINA FASO",
          "ALGERIA",
          "SLOVAKIA",
          "ICELAND",
          "URUGUAY",
          "YEMEN",
          "CYPRUS",
          "BELIZE",
          "TURKMENISTAN",
          "LITHUANIA",
          "MALAWI",
          "GUYANA",
          "BERMUDA",
          "IRAQ",
          "MACAU",
          "BARBADOS",
          "SUDAN",
          "WEST BANK",
          "BAHRAIN",
          "MALI",
          "LATVIA",
          "SYRIA",
          "EQUATORIAL GUINEA",
          "GABON",
          "GAMBIA, THE",
          "LIBERIA",
          "SIERRA LEONE",
          "BENIN",
          "BOSNIA AND HERZEGOVINA",
          "MACEDONIA",
          "MAURITIUS",
          "BOTSWANA",
          "TAJIKISTAN",
          "MADAGASCAR",
          "SAINT LUCIA",
          "MONTENEGRO",
          "SLOVENIA",
          "NIGER",
          "ANTIGUA AND BARBUDA",
          "TOGO",
          "KOSOVO",
          "SAINT KITTS AND NEVIS",
          "ESTONIA",
          "MOLDOVA",
          "SWAZILAND",
          "BURUNDI",
          "GRENADA",
          "MOZAMBIQUE",
          "CAYMAN ISLANDS",
          "BHUTAN",
          "CONGO (BRAZZAVILLE)",
          "LAOS",
          "ERITREA",
          "SOUTH SUDAN",
          "CUBA",
          "GAZA STRIP",
          "PAPUA NEW GUINEA",
          "NAMIBIA",
          "CURACAO",
          "SAINT VINCENT AND THE GRENADINES",
          "LUXEMBOURG",
          "GUINEA",
          "SOMALIA",
          "MALTA",
          "ARUBA",
          "CAPE VERDE",
          "CHAD",
          "SURINAME",
          "LESOTHO",
          "TURKS AND CAICOS ISLANDS",
          "FIJI",
          "MAURITANIA",
          "BRITISH VIRGIN ISLANDS",
          "STATELESS",
          "SINT MAARTEN",
          "BRUNEI",
          "MALDIVES",
          "TONGA",
          "ANDORRA",
          "FRENCH POLYNESIA",
          "MONACO",
          "CENTRAL AFRICAN REPUBLIC",
          "LIECHTENSTEIN",
          "SAINT MARTIN",
          "SAMOA",
          "TIMOR-LESTE",
          "GUINEA-BISSAU",
          "SEYCHELLES",
          "ANGUILLA",
          "KIRIBATI",
          "SOLOMON ISLANDS",
          "BASSAS DA INDIA",
          "SAN MARINO",
          "ISLE OF MAN",
          "JERSEY",
          "REUNION",
          "COMOROS",
          "UNKNOWN",
          "MARTINIQUE",
          "VANUATU",
          "BRITISH INDIAN OCEAN TERRITORY",
          "DJIBOUTI",
          "GIBRALTAR",
          "NEW CALEDONIA",
          "FRENCH GUIANA",
          "GUERNSEY",
          "MONTSERRAT",
          "SAO TOME AND PRINCIPE",
          "FAROE ISLANDS",
          "PALAU",
          "GREENLAND",
          "JAN MAYEN",
          "NETHERLANDS ANTILLES",
          "NEUTRAL ZONE",
          "NIUE",
          "SAINT PIERRE AND MIQUELON",
          "TROMELIN ISLAND",
          "TUVALU"
         ],
         "marker": {
          "line": {
           "color": "black"
          }
         },
         "type": "choropleth",
         "z": [
          "324,196",
          "297,151",
          "62,617",
          "41,392",
          "37,904",
          "29,742",
          "26,519",
          "26,225",
          "24,485",
          "22,935",
          "22,715",
          "20,744",
          "20,344",
          "18,184",
          "16,097",
          "15,144",
          "14,713",
          "14,444",
          "14,009",
          "12,183",
          "11,993",
          "11,435",
          "8,932",
          "8,777",
          "7,625",
          "7,560",
          "7,537",
          "7,509",
          "7,500",
          "7,131",
          "6,278",
          "5,990",
          "5,887",
          "5,792",
          "5,650",
          "5,166",
          "4,996",
          "4,855",
          "4,697",
          "4,570",
          "4,510",
          "4,492",
          "4,274",
          null,
          null,
          null,
          null,
          null,
          null,
          null,
          null,
          null,
          null,
          null,
          null,
          null,
          null,
          null,
          null,
          null,
          null,
          null,
          null,
          null,
          null,
          null,
          null,
          null,
          null,
          null,
          null,
          null,
          null,
          null,
          null,
          null,
          null,
          null,
          null,
          null,
          null,
          null,
          null,
          null,
          null,
          null,
          null,
          "4,262",
          "4,036",
          "3,925",
          "3,806",
          "3,737",
          "3,731",
          "3,592",
          "3,570",
          "3,549",
          "3,474",
          "3,414",
          "3,363",
          "3,282",
          "3,253",
          "2,949",
          "2,853",
          "2,546",
          "2,543",
          "2,325",
          "2,319",
          "2,236",
          "2,084",
          "1,994",
          "1,909",
          "1,909",
          "1,887",
          "1,861",
          "1,800",
          "1,798",
          "1,736",
          "1,731",
          "1,728",
          "1,725",
          "1,668",
          "1,665",
          "1,643",
          "1,557",
          "1,525",
          "1,485",
          "1,377",
          "1,373",
          "1,341",
          "1,330",
          "1,277",
          "1,213",
          "1,197",
          "1,197",
          "1,165",
          "1,135",
          "1,078",
          "947",
          "848",
          "830",
          "806",
          "798",
          "798",
          "786",
          "757",
          "719",
          "712",
          "649",
          "628",
          "609",
          "593",
          "582",
          "580",
          "580",
          "573",
          "572",
          "562",
          "522",
          "518",
          "518",
          "506",
          "499",
          "494",
          "484",
          "454",
          "448",
          "446",
          "441",
          "437",
          "426",
          "417",
          "406",
          "406",
          "397",
          "397",
          "392",
          "387",
          "358",
          "352",
          "346",
          "345",
          327,
          325,
          323,
          321,
          310,
          300,
          292,
          277,
          276,
          271,
          269,
          263,
          255,
          243,
          243,
          232,
          227,
          226,
          224,
          211,
          205,
          177,
          172,
          155,
          154,
          151,
          150,
          149,
          147,
          147,
          144,
          132,
          130,
          108,
          89,
          89,
          85,
          78,
          77,
          74,
          72,
          62,
          61,
          50,
          41,
          39,
          36,
          34,
          33,
          23,
          22,
          21,
          20,
          20,
          20,
          18,
          17,
          16,
          14,
          13,
          12,
          10,
          9,
          8,
          8,
          8,
          7,
          7,
          6,
          5,
          4,
          4,
          4,
          4,
          3,
          3,
          3,
          3,
          2,
          2,
          1,
          1,
          1,
          1,
          1,
          1,
          1,
          1
         ]
        }
       ],
       "layout": {
        "geo": {
         "showcoastlines": true
        },
        "template": {
         "data": {
          "bar": [
           {
            "error_x": {
             "color": "#2a3f5f"
            },
            "error_y": {
             "color": "#2a3f5f"
            },
            "marker": {
             "line": {
              "color": "#E5ECF6",
              "width": 0.5
             },
             "pattern": {
              "fillmode": "overlay",
              "size": 10,
              "solidity": 0.2
             }
            },
            "type": "bar"
           }
          ],
          "barpolar": [
           {
            "marker": {
             "line": {
              "color": "#E5ECF6",
              "width": 0.5
             },
             "pattern": {
              "fillmode": "overlay",
              "size": 10,
              "solidity": 0.2
             }
            },
            "type": "barpolar"
           }
          ],
          "carpet": [
           {
            "aaxis": {
             "endlinecolor": "#2a3f5f",
             "gridcolor": "white",
             "linecolor": "white",
             "minorgridcolor": "white",
             "startlinecolor": "#2a3f5f"
            },
            "baxis": {
             "endlinecolor": "#2a3f5f",
             "gridcolor": "white",
             "linecolor": "white",
             "minorgridcolor": "white",
             "startlinecolor": "#2a3f5f"
            },
            "type": "carpet"
           }
          ],
          "choropleth": [
           {
            "colorbar": {
             "outlinewidth": 0,
             "ticks": ""
            },
            "type": "choropleth"
           }
          ],
          "contour": [
           {
            "colorbar": {
             "outlinewidth": 0,
             "ticks": ""
            },
            "colorscale": [
             [
              0,
              "#0d0887"
             ],
             [
              0.1111111111111111,
              "#46039f"
             ],
             [
              0.2222222222222222,
              "#7201a8"
             ],
             [
              0.3333333333333333,
              "#9c179e"
             ],
             [
              0.4444444444444444,
              "#bd3786"
             ],
             [
              0.5555555555555556,
              "#d8576b"
             ],
             [
              0.6666666666666666,
              "#ed7953"
             ],
             [
              0.7777777777777778,
              "#fb9f3a"
             ],
             [
              0.8888888888888888,
              "#fdca26"
             ],
             [
              1,
              "#f0f921"
             ]
            ],
            "type": "contour"
           }
          ],
          "contourcarpet": [
           {
            "colorbar": {
             "outlinewidth": 0,
             "ticks": ""
            },
            "type": "contourcarpet"
           }
          ],
          "heatmap": [
           {
            "colorbar": {
             "outlinewidth": 0,
             "ticks": ""
            },
            "colorscale": [
             [
              0,
              "#0d0887"
             ],
             [
              0.1111111111111111,
              "#46039f"
             ],
             [
              0.2222222222222222,
              "#7201a8"
             ],
             [
              0.3333333333333333,
              "#9c179e"
             ],
             [
              0.4444444444444444,
              "#bd3786"
             ],
             [
              0.5555555555555556,
              "#d8576b"
             ],
             [
              0.6666666666666666,
              "#ed7953"
             ],
             [
              0.7777777777777778,
              "#fb9f3a"
             ],
             [
              0.8888888888888888,
              "#fdca26"
             ],
             [
              1,
              "#f0f921"
             ]
            ],
            "type": "heatmap"
           }
          ],
          "heatmapgl": [
           {
            "colorbar": {
             "outlinewidth": 0,
             "ticks": ""
            },
            "colorscale": [
             [
              0,
              "#0d0887"
             ],
             [
              0.1111111111111111,
              "#46039f"
             ],
             [
              0.2222222222222222,
              "#7201a8"
             ],
             [
              0.3333333333333333,
              "#9c179e"
             ],
             [
              0.4444444444444444,
              "#bd3786"
             ],
             [
              0.5555555555555556,
              "#d8576b"
             ],
             [
              0.6666666666666666,
              "#ed7953"
             ],
             [
              0.7777777777777778,
              "#fb9f3a"
             ],
             [
              0.8888888888888888,
              "#fdca26"
             ],
             [
              1,
              "#f0f921"
             ]
            ],
            "type": "heatmapgl"
           }
          ],
          "histogram": [
           {
            "marker": {
             "pattern": {
              "fillmode": "overlay",
              "size": 10,
              "solidity": 0.2
             }
            },
            "type": "histogram"
           }
          ],
          "histogram2d": [
           {
            "colorbar": {
             "outlinewidth": 0,
             "ticks": ""
            },
            "colorscale": [
             [
              0,
              "#0d0887"
             ],
             [
              0.1111111111111111,
              "#46039f"
             ],
             [
              0.2222222222222222,
              "#7201a8"
             ],
             [
              0.3333333333333333,
              "#9c179e"
             ],
             [
              0.4444444444444444,
              "#bd3786"
             ],
             [
              0.5555555555555556,
              "#d8576b"
             ],
             [
              0.6666666666666666,
              "#ed7953"
             ],
             [
              0.7777777777777778,
              "#fb9f3a"
             ],
             [
              0.8888888888888888,
              "#fdca26"
             ],
             [
              1,
              "#f0f921"
             ]
            ],
            "type": "histogram2d"
           }
          ],
          "histogram2dcontour": [
           {
            "colorbar": {
             "outlinewidth": 0,
             "ticks": ""
            },
            "colorscale": [
             [
              0,
              "#0d0887"
             ],
             [
              0.1111111111111111,
              "#46039f"
             ],
             [
              0.2222222222222222,
              "#7201a8"
             ],
             [
              0.3333333333333333,
              "#9c179e"
             ],
             [
              0.4444444444444444,
              "#bd3786"
             ],
             [
              0.5555555555555556,
              "#d8576b"
             ],
             [
              0.6666666666666666,
              "#ed7953"
             ],
             [
              0.7777777777777778,
              "#fb9f3a"
             ],
             [
              0.8888888888888888,
              "#fdca26"
             ],
             [
              1,
              "#f0f921"
             ]
            ],
            "type": "histogram2dcontour"
           }
          ],
          "mesh3d": [
           {
            "colorbar": {
             "outlinewidth": 0,
             "ticks": ""
            },
            "type": "mesh3d"
           }
          ],
          "parcoords": [
           {
            "line": {
             "colorbar": {
              "outlinewidth": 0,
              "ticks": ""
             }
            },
            "type": "parcoords"
           }
          ],
          "pie": [
           {
            "automargin": true,
            "type": "pie"
           }
          ],
          "scatter": [
           {
            "fillpattern": {
             "fillmode": "overlay",
             "size": 10,
             "solidity": 0.2
            },
            "type": "scatter"
           }
          ],
          "scatter3d": [
           {
            "line": {
             "colorbar": {
              "outlinewidth": 0,
              "ticks": ""
             }
            },
            "marker": {
             "colorbar": {
              "outlinewidth": 0,
              "ticks": ""
             }
            },
            "type": "scatter3d"
           }
          ],
          "scattercarpet": [
           {
            "marker": {
             "colorbar": {
              "outlinewidth": 0,
              "ticks": ""
             }
            },
            "type": "scattercarpet"
           }
          ],
          "scattergeo": [
           {
            "marker": {
             "colorbar": {
              "outlinewidth": 0,
              "ticks": ""
             }
            },
            "type": "scattergeo"
           }
          ],
          "scattergl": [
           {
            "marker": {
             "colorbar": {
              "outlinewidth": 0,
              "ticks": ""
             }
            },
            "type": "scattergl"
           }
          ],
          "scattermapbox": [
           {
            "marker": {
             "colorbar": {
              "outlinewidth": 0,
              "ticks": ""
             }
            },
            "type": "scattermapbox"
           }
          ],
          "scatterpolar": [
           {
            "marker": {
             "colorbar": {
              "outlinewidth": 0,
              "ticks": ""
             }
            },
            "type": "scatterpolar"
           }
          ],
          "scatterpolargl": [
           {
            "marker": {
             "colorbar": {
              "outlinewidth": 0,
              "ticks": ""
             }
            },
            "type": "scatterpolargl"
           }
          ],
          "scatterternary": [
           {
            "marker": {
             "colorbar": {
              "outlinewidth": 0,
              "ticks": ""
             }
            },
            "type": "scatterternary"
           }
          ],
          "surface": [
           {
            "colorbar": {
             "outlinewidth": 0,
             "ticks": ""
            },
            "colorscale": [
             [
              0,
              "#0d0887"
             ],
             [
              0.1111111111111111,
              "#46039f"
             ],
             [
              0.2222222222222222,
              "#7201a8"
             ],
             [
              0.3333333333333333,
              "#9c179e"
             ],
             [
              0.4444444444444444,
              "#bd3786"
             ],
             [
              0.5555555555555556,
              "#d8576b"
             ],
             [
              0.6666666666666666,
              "#ed7953"
             ],
             [
              0.7777777777777778,
              "#fb9f3a"
             ],
             [
              0.8888888888888888,
              "#fdca26"
             ],
             [
              1,
              "#f0f921"
             ]
            ],
            "type": "surface"
           }
          ],
          "table": [
           {
            "cells": {
             "fill": {
              "color": "#EBF0F8"
             },
             "line": {
              "color": "white"
             }
            },
            "header": {
             "fill": {
              "color": "#C8D4E3"
             },
             "line": {
              "color": "white"
             }
            },
            "type": "table"
           }
          ]
         },
         "layout": {
          "annotationdefaults": {
           "arrowcolor": "#2a3f5f",
           "arrowhead": 0,
           "arrowwidth": 1
          },
          "autotypenumbers": "strict",
          "coloraxis": {
           "colorbar": {
            "outlinewidth": 0,
            "ticks": ""
           }
          },
          "colorscale": {
           "diverging": [
            [
             0,
             "#8e0152"
            ],
            [
             0.1,
             "#c51b7d"
            ],
            [
             0.2,
             "#de77ae"
            ],
            [
             0.3,
             "#f1b6da"
            ],
            [
             0.4,
             "#fde0ef"
            ],
            [
             0.5,
             "#f7f7f7"
            ],
            [
             0.6,
             "#e6f5d0"
            ],
            [
             0.7,
             "#b8e186"
            ],
            [
             0.8,
             "#7fbc41"
            ],
            [
             0.9,
             "#4d9221"
            ],
            [
             1,
             "#276419"
            ]
           ],
           "sequential": [
            [
             0,
             "#0d0887"
            ],
            [
             0.1111111111111111,
             "#46039f"
            ],
            [
             0.2222222222222222,
             "#7201a8"
            ],
            [
             0.3333333333333333,
             "#9c179e"
            ],
            [
             0.4444444444444444,
             "#bd3786"
            ],
            [
             0.5555555555555556,
             "#d8576b"
            ],
            [
             0.6666666666666666,
             "#ed7953"
            ],
            [
             0.7777777777777778,
             "#fb9f3a"
            ],
            [
             0.8888888888888888,
             "#fdca26"
            ],
            [
             1,
             "#f0f921"
            ]
           ],
           "sequentialminus": [
            [
             0,
             "#0d0887"
            ],
            [
             0.1111111111111111,
             "#46039f"
            ],
            [
             0.2222222222222222,
             "#7201a8"
            ],
            [
             0.3333333333333333,
             "#9c179e"
            ],
            [
             0.4444444444444444,
             "#bd3786"
            ],
            [
             0.5555555555555556,
             "#d8576b"
            ],
            [
             0.6666666666666666,
             "#ed7953"
            ],
            [
             0.7777777777777778,
             "#fb9f3a"
            ],
            [
             0.8888888888888888,
             "#fdca26"
            ],
            [
             1,
             "#f0f921"
            ]
           ]
          },
          "colorway": [
           "#636efa",
           "#EF553B",
           "#00cc96",
           "#ab63fa",
           "#FFA15A",
           "#19d3f3",
           "#FF6692",
           "#B6E880",
           "#FF97FF",
           "#FECB52"
          ],
          "font": {
           "color": "#2a3f5f"
          },
          "geo": {
           "bgcolor": "white",
           "lakecolor": "white",
           "landcolor": "#E5ECF6",
           "showlakes": true,
           "showland": true,
           "subunitcolor": "white"
          },
          "hoverlabel": {
           "align": "left"
          },
          "hovermode": "closest",
          "mapbox": {
           "style": "light"
          },
          "paper_bgcolor": "white",
          "plot_bgcolor": "#E5ECF6",
          "polar": {
           "angularaxis": {
            "gridcolor": "white",
            "linecolor": "white",
            "ticks": ""
           },
           "bgcolor": "#E5ECF6",
           "radialaxis": {
            "gridcolor": "white",
            "linecolor": "white",
            "ticks": ""
           }
          },
          "scene": {
           "xaxis": {
            "backgroundcolor": "#E5ECF6",
            "gridcolor": "white",
            "gridwidth": 2,
            "linecolor": "white",
            "showbackground": true,
            "ticks": "",
            "zerolinecolor": "white"
           },
           "yaxis": {
            "backgroundcolor": "#E5ECF6",
            "gridcolor": "white",
            "gridwidth": 2,
            "linecolor": "white",
            "showbackground": true,
            "ticks": "",
            "zerolinecolor": "white"
           },
           "zaxis": {
            "backgroundcolor": "#E5ECF6",
            "gridcolor": "white",
            "gridwidth": 2,
            "linecolor": "white",
            "showbackground": true,
            "ticks": "",
            "zerolinecolor": "white"
           }
          },
          "shapedefaults": {
           "line": {
            "color": "#2a3f5f"
           }
          },
          "ternary": {
           "aaxis": {
            "gridcolor": "white",
            "linecolor": "white",
            "ticks": ""
           },
           "baxis": {
            "gridcolor": "white",
            "linecolor": "white",
            "ticks": ""
           },
           "bgcolor": "#E5ECF6",
           "caxis": {
            "gridcolor": "white",
            "linecolor": "white",
            "ticks": ""
           }
          },
          "title": {
           "x": 0.05
          },
          "xaxis": {
           "automargin": true,
           "gridcolor": "white",
           "linecolor": "white",
           "ticks": "",
           "title": {
            "standoff": 15
           },
           "zerolinecolor": "white",
           "zerolinewidth": 2
          },
          "yaxis": {
           "automargin": true,
           "gridcolor": "white",
           "linecolor": "white",
           "ticks": "",
           "title": {
            "standoff": 15
           },
           "zerolinecolor": "white",
           "zerolinewidth": 2
          }
         }
        },
        "title": {
         "text": "World SEVIS IDS"
        }
       }
      }
     },
     "metadata": {},
     "output_type": "display_data"
    }
   ],
   "source": [
    "# fig = px.choropleth(data_frame=bigger_df, locations='Country of Citizenship', locationmode='country names', color='Total SEVIS IDS')\n",
    "# fig.show()\n",
    "\n",
    "# Plotly choropleth map\n",
    "fig = go.Figure(go.Choropleth(\n",
    "    locations=bigger_df['Country of Citizenship'],  # Country codes or names\n",
    "    locationmode='country names',\n",
    "    z=bigger_df['Total SEVIS IDS'],  # Data to be color-coded\n",
    "    colorscale='Viridis',\n",
    "    autocolorscale=False,\n",
    "    marker_line_color='black',  # Line color between countries\n",
    "    colorbar_title='Number'\n",
    "))\n",
    "\n",
    "fig.update_layout(\n",
    "    title_text='World SEVIS IDS',\n",
    "    geo=dict(\n",
    "        showcoastlines=True,  # Display coastlines\n",
    "    )\n",
    ")\n",
    "\n",
    "fig.show()\n"
   ]
  },
  {
   "cell_type": "code",
   "execution_count": 17,
   "metadata": {},
   "outputs": [
    {
     "data": {
      "application/vnd.plotly.v1+json": {
       "config": {
        "plotlyServerURL": "https://plot.ly"
       },
       "data": [
        {
         "colorscale": [
          [
           0,
           "#636efa"
          ],
          [
           1,
           "#636efa"
          ]
         ],
         "geo": "geo",
         "hovertemplate": "Total SEVIS IDS=324,196<br>Country of Citizenship=%{location}<extra></extra>",
         "locationmode": "country names",
         "locations": [
          "CHINA"
         ],
         "name": "324,196",
         "showlegend": true,
         "showscale": false,
         "type": "choropleth",
         "z": [
          1
         ]
        },
        {
         "colorscale": [
          [
           0,
           "#EF553B"
          ],
          [
           1,
           "#EF553B"
          ]
         ],
         "geo": "geo",
         "hovertemplate": "Total SEVIS IDS=297,151<br>Country of Citizenship=%{location}<extra></extra>",
         "locationmode": "country names",
         "locations": [
          "INDIA"
         ],
         "name": "297,151",
         "showlegend": true,
         "showscale": false,
         "type": "choropleth",
         "z": [
          1
         ]
        },
        {
         "colorscale": [
          [
           0,
           "#00cc96"
          ],
          [
           1,
           "#00cc96"
          ]
         ],
         "geo": "geo",
         "hovertemplate": "Total SEVIS IDS=62,617<br>Country of Citizenship=%{location}<extra></extra>",
         "locationmode": "country names",
         "locations": [
          "REPUBLIC OF KOREA (SOUTH KOREA)"
         ],
         "name": "62,617",
         "showlegend": true,
         "showscale": false,
         "type": "choropleth",
         "z": [
          1
         ]
        },
        {
         "colorscale": [
          [
           0,
           "#ab63fa"
          ],
          [
           1,
           "#ab63fa"
          ]
         ],
         "geo": "geo",
         "hovertemplate": "Total SEVIS IDS=41,392<br>Country of Citizenship=%{location}<extra></extra>",
         "locationmode": "country names",
         "locations": [
          "CANADA"
         ],
         "name": "41,392",
         "showlegend": true,
         "showscale": false,
         "type": "choropleth",
         "z": [
          1
         ]
        },
        {
         "colorscale": [
          [
           0,
           "#FFA15A"
          ],
          [
           1,
           "#FFA15A"
          ]
         ],
         "geo": "geo",
         "hovertemplate": "Total SEVIS IDS=37,904<br>Country of Citizenship=%{location}<extra></extra>",
         "locationmode": "country names",
         "locations": [
          "BRAZIL"
         ],
         "name": "37,904",
         "showlegend": true,
         "showscale": false,
         "type": "choropleth",
         "z": [
          1
         ]
        },
        {
         "colorscale": [
          [
           0,
           "#19d3f3"
          ],
          [
           1,
           "#19d3f3"
          ]
         ],
         "geo": "geo",
         "hovertemplate": "Total SEVIS IDS=29,742<br>Country of Citizenship=%{location}<extra></extra>",
         "locationmode": "country names",
         "locations": [
          "VIETNAM"
         ],
         "name": "29,742",
         "showlegend": true,
         "showscale": false,
         "type": "choropleth",
         "z": [
          1
         ]
        },
        {
         "colorscale": [
          [
           0,
           "#FF6692"
          ],
          [
           1,
           "#FF6692"
          ]
         ],
         "geo": "geo",
         "hovertemplate": "Total SEVIS IDS=26,519<br>Country of Citizenship=%{location}<extra></extra>",
         "locationmode": "country names",
         "locations": [
          "JAPAN"
         ],
         "name": "26,519",
         "showlegend": true,
         "showscale": false,
         "type": "choropleth",
         "z": [
          1
         ]
        },
        {
         "colorscale": [
          [
           0,
           "#B6E880"
          ],
          [
           1,
           "#B6E880"
          ]
         ],
         "geo": "geo",
         "hovertemplate": "Total SEVIS IDS=26,225<br>Country of Citizenship=%{location}<extra></extra>",
         "locationmode": "country names",
         "locations": [
          "TAIWAN"
         ],
         "name": "26,225",
         "showlegend": true,
         "showscale": false,
         "type": "choropleth",
         "z": [
          1
         ]
        },
        {
         "colorscale": [
          [
           0,
           "#FF97FF"
          ],
          [
           1,
           "#FF97FF"
          ]
         ],
         "geo": "geo",
         "hovertemplate": "Total SEVIS IDS=24,485<br>Country of Citizenship=%{location}<extra></extra>",
         "locationmode": "country names",
         "locations": [
          "SAUDI ARABIA"
         ],
         "name": "24,485",
         "showlegend": true,
         "showscale": false,
         "type": "choropleth",
         "z": [
          1
         ]
        },
        {
         "colorscale": [
          [
           0,
           "#FECB52"
          ],
          [
           1,
           "#FECB52"
          ]
         ],
         "geo": "geo",
         "hovertemplate": "Total SEVIS IDS=22,935<br>Country of Citizenship=%{location}<extra></extra>",
         "locationmode": "country names",
         "locations": [
          "NIGERIA"
         ],
         "name": "22,935",
         "showlegend": true,
         "showscale": false,
         "type": "choropleth",
         "z": [
          1
         ]
        },
        {
         "colorscale": [
          [
           0,
           "#636efa"
          ],
          [
           1,
           "#636efa"
          ]
         ],
         "geo": "geo",
         "hovertemplate": "Total SEVIS IDS=22,715<br>Country of Citizenship=%{location}<extra></extra>",
         "locationmode": "country names",
         "locations": [
          "MEXICO"
         ],
         "name": "22,715",
         "showlegend": true,
         "showscale": false,
         "type": "choropleth",
         "z": [
          1
         ]
        },
        {
         "colorscale": [
          [
           0,
           "#EF553B"
          ],
          [
           1,
           "#EF553B"
          ]
         ],
         "geo": "geo",
         "hovertemplate": "Total SEVIS IDS=20,744<br>Country of Citizenship=%{location}<extra></extra>",
         "locationmode": "country names",
         "locations": [
          "COLOMBIA"
         ],
         "name": "20,744",
         "showlegend": true,
         "showscale": false,
         "type": "choropleth",
         "z": [
          1
         ]
        },
        {
         "colorscale": [
          [
           0,
           "#00cc96"
          ],
          [
           1,
           "#00cc96"
          ]
         ],
         "geo": "geo",
         "hovertemplate": "Total SEVIS IDS=20,344<br>Country of Citizenship=%{location}<extra></extra>",
         "locationmode": "country names",
         "locations": [
          "NEPAL"
         ],
         "name": "20,344",
         "showlegend": true,
         "showscale": false,
         "type": "choropleth",
         "z": [
          1
         ]
        },
        {
         "colorscale": [
          [
           0,
           "#ab63fa"
          ],
          [
           1,
           "#ab63fa"
          ]
         ],
         "geo": "geo",
         "hovertemplate": "Total SEVIS IDS=18,184<br>Country of Citizenship=%{location}<extra></extra>",
         "locationmode": "country names",
         "locations": [
          "BANGLADESH"
         ],
         "name": "18,184",
         "showlegend": true,
         "showscale": false,
         "type": "choropleth",
         "z": [
          1
         ]
        },
        {
         "colorscale": [
          [
           0,
           "#FFA15A"
          ],
          [
           1,
           "#FFA15A"
          ]
         ],
         "geo": "geo",
         "hovertemplate": "Total SEVIS IDS=16,097<br>Country of Citizenship=%{location}<extra></extra>",
         "locationmode": "country names",
         "locations": [
          "GERMANY"
         ],
         "name": "16,097",
         "showlegend": true,
         "showscale": false,
         "type": "choropleth",
         "z": [
          1
         ]
        },
        {
         "colorscale": [
          [
           0,
           "#19d3f3"
          ],
          [
           1,
           "#19d3f3"
          ]
         ],
         "geo": "geo",
         "hovertemplate": "Total SEVIS IDS=15,144<br>Country of Citizenship=%{location}<extra></extra>",
         "locationmode": "country names",
         "locations": [
          "UNITED KINGDOM"
         ],
         "name": "15,144",
         "showlegend": true,
         "showscale": false,
         "type": "choropleth",
         "z": [
          1
         ]
        },
        {
         "colorscale": [
          [
           0,
           "#FF6692"
          ],
          [
           1,
           "#FF6692"
          ]
         ],
         "geo": "geo",
         "hovertemplate": "Total SEVIS IDS=14,713<br>Country of Citizenship=%{location}<extra></extra>",
         "locationmode": "country names",
         "locations": [
          "FRANCE"
         ],
         "name": "14,713",
         "showlegend": true,
         "showscale": false,
         "type": "choropleth",
         "z": [
          1
         ]
        },
        {
         "colorscale": [
          [
           0,
           "#B6E880"
          ],
          [
           1,
           "#B6E880"
          ]
         ],
         "geo": "geo",
         "hovertemplate": "Total SEVIS IDS=14,444<br>Country of Citizenship=%{location}<extra></extra>",
         "locationmode": "country names",
         "locations": [
          "SPAIN"
         ],
         "name": "14,444",
         "showlegend": true,
         "showscale": false,
         "type": "choropleth",
         "z": [
          1
         ]
        },
        {
         "colorscale": [
          [
           0,
           "#FF97FF"
          ],
          [
           1,
           "#FF97FF"
          ]
         ],
         "geo": "geo",
         "hovertemplate": "Total SEVIS IDS=14,009<br>Country of Citizenship=%{location}<extra></extra>",
         "locationmode": "country names",
         "locations": [
          "TURKEY"
         ],
         "name": "14,009",
         "showlegend": true,
         "showscale": false,
         "type": "choropleth",
         "z": [
          1
         ]
        },
        {
         "colorscale": [
          [
           0,
           "#FECB52"
          ],
          [
           1,
           "#FECB52"
          ]
         ],
         "geo": "geo",
         "hovertemplate": "Total SEVIS IDS=12,183<br>Country of Citizenship=%{location}<extra></extra>",
         "locationmode": "country names",
         "locations": [
          "IRAN"
         ],
         "name": "12,183",
         "showlegend": true,
         "showscale": false,
         "type": "choropleth",
         "z": [
          1
         ]
        },
        {
         "colorscale": [
          [
           0,
           "#636efa"
          ],
          [
           1,
           "#636efa"
          ]
         ],
         "geo": "geo",
         "hovertemplate": "Total SEVIS IDS=11,993<br>Country of Citizenship=%{location}<extra></extra>",
         "locationmode": "country names",
         "locations": [
          "PAKISTAN"
         ],
         "name": "11,993",
         "showlegend": true,
         "showscale": false,
         "type": "choropleth",
         "z": [
          1
         ]
        },
        {
         "colorscale": [
          [
           0,
           "#EF553B"
          ],
          [
           1,
           "#EF553B"
          ]
         ],
         "geo": "geo",
         "hovertemplate": "Total SEVIS IDS=11,435<br>Country of Citizenship=%{location}<extra></extra>",
         "locationmode": "country names",
         "locations": [
          "ITALY"
         ],
         "name": "11,435",
         "showlegend": true,
         "showscale": false,
         "type": "choropleth",
         "z": [
          1
         ]
        },
        {
         "colorscale": [
          [
           0,
           "#00cc96"
          ],
          [
           1,
           "#00cc96"
          ]
         ],
         "geo": "geo",
         "hovertemplate": "Total SEVIS IDS=8,932<br>Country of Citizenship=%{location}<extra></extra>",
         "locationmode": "country names",
         "locations": [
          "INDONESIA"
         ],
         "name": "8,932",
         "showlegend": true,
         "showscale": false,
         "type": "choropleth",
         "z": [
          1
         ]
        },
        {
         "colorscale": [
          [
           0,
           "#ab63fa"
          ],
          [
           1,
           "#ab63fa"
          ]
         ],
         "geo": "geo",
         "hovertemplate": "Total SEVIS IDS=8,777<br>Country of Citizenship=%{location}<extra></extra>",
         "locationmode": "country names",
         "locations": [
          "THAILAND"
         ],
         "name": "8,777",
         "showlegend": true,
         "showscale": false,
         "type": "choropleth",
         "z": [
          1
         ]
        },
        {
         "colorscale": [
          [
           0,
           "#FFA15A"
          ],
          [
           1,
           "#FFA15A"
          ]
         ],
         "geo": "geo",
         "hovertemplate": "Total SEVIS IDS=7,625<br>Country of Citizenship=%{location}<extra></extra>",
         "locationmode": "country names",
         "locations": [
          "RUSSIA"
         ],
         "name": "7,625",
         "showlegend": true,
         "showscale": false,
         "type": "choropleth",
         "z": [
          1
         ]
        },
        {
         "colorscale": [
          [
           0,
           "#19d3f3"
          ],
          [
           1,
           "#19d3f3"
          ]
         ],
         "geo": "geo",
         "hovertemplate": "Total SEVIS IDS=7,560<br>Country of Citizenship=%{location}<extra></extra>",
         "locationmode": "country names",
         "locations": [
          "PERU"
         ],
         "name": "7,560",
         "showlegend": true,
         "showscale": false,
         "type": "choropleth",
         "z": [
          1
         ]
        },
        {
         "colorscale": [
          [
           0,
           "#FF6692"
          ],
          [
           1,
           "#FF6692"
          ]
         ],
         "geo": "geo",
         "hovertemplate": "Total SEVIS IDS=7,537<br>Country of Citizenship=%{location}<extra></extra>",
         "locationmode": "country names",
         "locations": [
          "GHANA"
         ],
         "name": "7,537",
         "showlegend": true,
         "showscale": false,
         "type": "choropleth",
         "z": [
          1
         ]
        },
        {
         "colorscale": [
          [
           0,
           "#B6E880"
          ],
          [
           1,
           "#B6E880"
          ]
         ],
         "geo": "geo",
         "hovertemplate": "Total SEVIS IDS=7,509<br>Country of Citizenship=%{location}<extra></extra>",
         "locationmode": "country names",
         "locations": [
          "KUWAIT"
         ],
         "name": "7,509",
         "showlegend": true,
         "showscale": false,
         "type": "choropleth",
         "z": [
          1
         ]
        },
        {
         "colorscale": [
          [
           0,
           "#FF97FF"
          ],
          [
           1,
           "#FF97FF"
          ]
         ],
         "geo": "geo",
         "hovertemplate": "Total SEVIS IDS=7,500<br>Country of Citizenship=%{location}<extra></extra>",
         "locationmode": "country names",
         "locations": [
          "HONG KONG"
         ],
         "name": "7,500",
         "showlegend": true,
         "showscale": false,
         "type": "choropleth",
         "z": [
          1
         ]
        },
        {
         "colorscale": [
          [
           0,
           "#FECB52"
          ],
          [
           1,
           "#FECB52"
          ]
         ],
         "geo": "geo",
         "hovertemplate": "Total SEVIS IDS=7,131<br>Country of Citizenship=%{location}<extra></extra>",
         "locationmode": "country names",
         "locations": [
          "VENEZUELA"
         ],
         "name": "7,131",
         "showlegend": true,
         "showscale": false,
         "type": "choropleth",
         "z": [
          1
         ]
        },
        {
         "colorscale": [
          [
           0,
           "#636efa"
          ],
          [
           1,
           "#636efa"
          ]
         ],
         "geo": "geo",
         "hovertemplate": "Total SEVIS IDS=6,278<br>Country of Citizenship=%{location}<extra></extra>",
         "locationmode": "country names",
         "locations": [
          "PHILIPPINES"
         ],
         "name": "6,278",
         "showlegend": true,
         "showscale": false,
         "type": "choropleth",
         "z": [
          1
         ]
        },
        {
         "colorscale": [
          [
           0,
           "#EF553B"
          ],
          [
           1,
           "#EF553B"
          ]
         ],
         "geo": "geo",
         "hovertemplate": "Total SEVIS IDS=5,990<br>Country of Citizenship=%{location}<extra></extra>",
         "locationmode": "country names",
         "locations": [
          "AUSTRALIA"
         ],
         "name": "5,990",
         "showlegend": true,
         "showscale": false,
         "type": "choropleth",
         "z": [
          1
         ]
        },
        {
         "colorscale": [
          [
           0,
           "#00cc96"
          ],
          [
           1,
           "#00cc96"
          ]
         ],
         "geo": "geo",
         "hovertemplate": "Total SEVIS IDS=5,887<br>Country of Citizenship=%{location}<extra></extra>",
         "locationmode": "country names",
         "locations": [
          "MALAYSIA"
         ],
         "name": "5,887",
         "showlegend": true,
         "showscale": false,
         "type": "choropleth",
         "z": [
          1
         ]
        },
        {
         "colorscale": [
          [
           0,
           "#ab63fa"
          ],
          [
           1,
           "#ab63fa"
          ]
         ],
         "geo": "geo",
         "hovertemplate": "Total SEVIS IDS=5,792<br>Country of Citizenship=%{location}<extra></extra>",
         "locationmode": "country names",
         "locations": [
          "KENYA"
         ],
         "name": "5,792",
         "showlegend": true,
         "showscale": false,
         "type": "choropleth",
         "z": [
          1
         ]
        },
        {
         "colorscale": [
          [
           0,
           "#FFA15A"
          ],
          [
           1,
           "#FFA15A"
          ]
         ],
         "geo": "geo",
         "hovertemplate": "Total SEVIS IDS=5,650<br>Country of Citizenship=%{location}<extra></extra>",
         "locationmode": "country names",
         "locations": [
          "ECUADOR"
         ],
         "name": "5,650",
         "showlegend": true,
         "showscale": false,
         "type": "choropleth",
         "z": [
          1
         ]
        },
        {
         "colorscale": [
          [
           0,
           "#19d3f3"
          ],
          [
           1,
           "#19d3f3"
          ]
         ],
         "geo": "geo",
         "hovertemplate": "Total SEVIS IDS=5,166<br>Country of Citizenship=%{location}<extra></extra>",
         "locationmode": "country names",
         "locations": [
          "SINGAPORE"
         ],
         "name": "5,166",
         "showlegend": true,
         "showscale": false,
         "type": "choropleth",
         "z": [
          1
         ]
        },
        {
         "colorscale": [
          [
           0,
           "#FF6692"
          ],
          [
           1,
           "#FF6692"
          ]
         ],
         "geo": "geo",
         "hovertemplate": "Total SEVIS IDS=4,996<br>Country of Citizenship=%{location}<extra></extra>",
         "locationmode": "country names",
         "locations": [
          "ARGENTINA"
         ],
         "name": "4,996",
         "showlegend": true,
         "showscale": false,
         "type": "choropleth",
         "z": [
          1
         ]
        },
        {
         "colorscale": [
          [
           0,
           "#B6E880"
          ],
          [
           1,
           "#B6E880"
          ]
         ],
         "geo": "geo",
         "hovertemplate": "Total SEVIS IDS=4,855<br>Country of Citizenship=%{location}<extra></extra>",
         "locationmode": "country names",
         "locations": [
          "EGYPT"
         ],
         "name": "4,855",
         "showlegend": true,
         "showscale": false,
         "type": "choropleth",
         "z": [
          1
         ]
        },
        {
         "colorscale": [
          [
           0,
           "#FF97FF"
          ],
          [
           1,
           "#FF97FF"
          ]
         ],
         "geo": "geo",
         "hovertemplate": "Total SEVIS IDS=4,697<br>Country of Citizenship=%{location}<extra></extra>",
         "locationmode": "country names",
         "locations": [
          "CHILE"
         ],
         "name": "4,697",
         "showlegend": true,
         "showscale": false,
         "type": "choropleth",
         "z": [
          1
         ]
        },
        {
         "colorscale": [
          [
           0,
           "#FECB52"
          ],
          [
           1,
           "#FECB52"
          ]
         ],
         "geo": "geo",
         "hovertemplate": "Total SEVIS IDS=4,570<br>Country of Citizenship=%{location}<extra></extra>",
         "locationmode": "country names",
         "locations": [
          "SWEDEN"
         ],
         "name": "4,570",
         "showlegend": true,
         "showscale": false,
         "type": "choropleth",
         "z": [
          1
         ]
        },
        {
         "colorscale": [
          [
           0,
           "#636efa"
          ],
          [
           1,
           "#636efa"
          ]
         ],
         "geo": "geo",
         "hovertemplate": "Total SEVIS IDS=4,510<br>Country of Citizenship=%{location}<extra></extra>",
         "locationmode": "country names",
         "locations": [
          "BAHAMAS, THE"
         ],
         "name": "4,510",
         "showlegend": true,
         "showscale": false,
         "type": "choropleth",
         "z": [
          1
         ]
        },
        {
         "colorscale": [
          [
           0,
           "#EF553B"
          ],
          [
           1,
           "#EF553B"
          ]
         ],
         "geo": "geo",
         "hovertemplate": "Total SEVIS IDS=4,492<br>Country of Citizenship=%{location}<extra></extra>",
         "locationmode": "country names",
         "locations": [
          "JAMAICA"
         ],
         "name": "4,492",
         "showlegend": true,
         "showscale": false,
         "type": "choropleth",
         "z": [
          1
         ]
        },
        {
         "colorscale": [
          [
           0,
           "#00cc96"
          ],
          [
           1,
           "#00cc96"
          ]
         ],
         "geo": "geo",
         "hovertemplate": "Total SEVIS IDS=4,274<br>Country of Citizenship=%{location}<extra></extra>",
         "locationmode": "country names",
         "locations": [
          "ETHIOPIA"
         ],
         "name": "4,274",
         "showlegend": true,
         "showscale": false,
         "type": "choropleth",
         "z": [
          1
         ]
        },
        {
         "colorscale": [
          [
           0,
           "#FFA15A"
          ],
          [
           1,
           "#FFA15A"
          ]
         ],
         "geo": "geo",
         "hovertemplate": "Total SEVIS IDS=4,262<br>Country of Citizenship=%{location}<extra></extra>",
         "locationmode": "country names",
         "locations": [
          "NETHERLANDS"
         ],
         "name": "4,262",
         "showlegend": true,
         "showscale": false,
         "type": "choropleth",
         "z": [
          1
         ]
        },
        {
         "colorscale": [
          [
           0,
           "#19d3f3"
          ],
          [
           1,
           "#19d3f3"
          ]
         ],
         "geo": "geo",
         "hovertemplate": "Total SEVIS IDS=4,036<br>Country of Citizenship=%{location}<extra></extra>",
         "locationmode": "country names",
         "locations": [
          "SOUTH AFRICA"
         ],
         "name": "4,036",
         "showlegend": true,
         "showscale": false,
         "type": "choropleth",
         "z": [
          1
         ]
        },
        {
         "colorscale": [
          [
           0,
           "#FF6692"
          ],
          [
           1,
           "#FF6692"
          ]
         ],
         "geo": "geo",
         "hovertemplate": "Total SEVIS IDS=3,925<br>Country of Citizenship=%{location}<extra></extra>",
         "locationmode": "country names",
         "locations": [
          "JORDAN"
         ],
         "name": "3,925",
         "showlegend": true,
         "showscale": false,
         "type": "choropleth",
         "z": [
          1
         ]
        },
        {
         "colorscale": [
          [
           0,
           "#B6E880"
          ],
          [
           1,
           "#B6E880"
          ]
         ],
         "geo": "geo",
         "hovertemplate": "Total SEVIS IDS=3,806<br>Country of Citizenship=%{location}<extra></extra>",
         "locationmode": "country names",
         "locations": [
          "UKRAINE"
         ],
         "name": "3,806",
         "showlegend": true,
         "showscale": false,
         "type": "choropleth",
         "z": [
          1
         ]
        },
        {
         "colorscale": [
          [
           0,
           "#FF97FF"
          ],
          [
           1,
           "#FF97FF"
          ]
         ],
         "geo": "geo",
         "hovertemplate": "Total SEVIS IDS=3,737<br>Country of Citizenship=%{location}<extra></extra>",
         "locationmode": "country names",
         "locations": [
          "SWITZERLAND"
         ],
         "name": "3,737",
         "showlegend": true,
         "showscale": false,
         "type": "choropleth",
         "z": [
          1
         ]
        },
        {
         "colorscale": [
          [
           0,
           "#FECB52"
          ],
          [
           1,
           "#FECB52"
          ]
         ],
         "geo": "geo",
         "hovertemplate": "Total SEVIS IDS=3,731<br>Country of Citizenship=%{location}<extra></extra>",
         "locationmode": "country names",
         "locations": [
          "KAZAKHSTAN"
         ],
         "name": "3,731",
         "showlegend": true,
         "showscale": false,
         "type": "choropleth",
         "z": [
          1
         ]
        },
        {
         "colorscale": [
          [
           0,
           "#636efa"
          ],
          [
           1,
           "#636efa"
          ]
         ],
         "geo": "geo",
         "hovertemplate": "Total SEVIS IDS=3,592<br>Country of Citizenship=%{location}<extra></extra>",
         "locationmode": "country names",
         "locations": [
          "BURMA"
         ],
         "name": "3,592",
         "showlegend": true,
         "showscale": false,
         "type": "choropleth",
         "z": [
          1
         ]
        },
        {
         "colorscale": [
          [
           0,
           "#EF553B"
          ],
          [
           1,
           "#EF553B"
          ]
         ],
         "geo": "geo",
         "hovertemplate": "Total SEVIS IDS=3,570<br>Country of Citizenship=%{location}<extra></extra>",
         "locationmode": "country names",
         "locations": [
          "SRI LANKA"
         ],
         "name": "3,570",
         "showlegend": true,
         "showscale": false,
         "type": "choropleth",
         "z": [
          1
         ]
        },
        {
         "colorscale": [
          [
           0,
           "#00cc96"
          ],
          [
           1,
           "#00cc96"
          ]
         ],
         "geo": "geo",
         "hovertemplate": "Total SEVIS IDS=3,549<br>Country of Citizenship=%{location}<extra></extra>",
         "locationmode": "country names",
         "locations": [
          "ISRAEL"
         ],
         "name": "3,549",
         "showlegend": true,
         "showscale": false,
         "type": "choropleth",
         "z": [
          1
         ]
        },
        {
         "colorscale": [
          [
           0,
           "#ab63fa"
          ],
          [
           1,
           "#ab63fa"
          ]
         ],
         "geo": "geo",
         "hovertemplate": "Total SEVIS IDS=3,474<br>Country of Citizenship=%{location}<extra></extra>",
         "locationmode": "country names",
         "locations": [
          "NORWAY"
         ],
         "name": "3,474",
         "showlegend": true,
         "showscale": false,
         "type": "choropleth",
         "z": [
          1
         ]
        },
        {
         "colorscale": [
          [
           0,
           "#FFA15A"
          ],
          [
           1,
           "#FFA15A"
          ]
         ],
         "geo": "geo",
         "hovertemplate": "Total SEVIS IDS=3,414<br>Country of Citizenship=%{location}<extra></extra>",
         "locationmode": "country names",
         "locations": [
          "DOMINICAN REPUBLIC"
         ],
         "name": "3,414",
         "showlegend": true,
         "showscale": false,
         "type": "choropleth",
         "z": [
          1
         ]
        },
        {
         "colorscale": [
          [
           0,
           "#19d3f3"
          ],
          [
           1,
           "#19d3f3"
          ]
         ],
         "geo": "geo",
         "hovertemplate": "Total SEVIS IDS=3,363<br>Country of Citizenship=%{location}<extra></extra>",
         "locationmode": "country names",
         "locations": [
          "PANAMA"
         ],
         "name": "3,363",
         "showlegend": true,
         "showscale": false,
         "type": "choropleth",
         "z": [
          1
         ]
        },
        {
         "colorscale": [
          [
           0,
           "#FF6692"
          ],
          [
           1,
           "#FF6692"
          ]
         ],
         "geo": "geo",
         "hovertemplate": "Total SEVIS IDS=3,282<br>Country of Citizenship=%{location}<extra></extra>",
         "locationmode": "country names",
         "locations": [
          "MONGOLIA"
         ],
         "name": "3,282",
         "showlegend": true,
         "showscale": false,
         "type": "choropleth",
         "z": [
          1
         ]
        },
        {
         "colorscale": [
          [
           0,
           "#B6E880"
          ],
          [
           1,
           "#B6E880"
          ]
         ],
         "geo": "geo",
         "hovertemplate": "Total SEVIS IDS=3,253<br>Country of Citizenship=%{location}<extra></extra>",
         "locationmode": "country names",
         "locations": [
          "HONDURAS"
         ],
         "name": "3,253",
         "showlegend": true,
         "showscale": false,
         "type": "choropleth",
         "z": [
          1
         ]
        },
        {
         "colorscale": [
          [
           0,
           "#FF97FF"
          ],
          [
           1,
           "#FF97FF"
          ]
         ],
         "geo": "geo",
         "hovertemplate": "Total SEVIS IDS=2,949<br>Country of Citizenship=%{location}<extra></extra>",
         "locationmode": "country names",
         "locations": [
          "GREECE"
         ],
         "name": "2,949",
         "showlegend": true,
         "showscale": false,
         "type": "choropleth",
         "z": [
          1
         ]
        },
        {
         "colorscale": [
          [
           0,
           "#FECB52"
          ],
          [
           1,
           "#FECB52"
          ]
         ],
         "geo": "geo",
         "hovertemplate": "Total SEVIS IDS=2,853<br>Country of Citizenship=%{location}<extra></extra>",
         "locationmode": "country names",
         "locations": [
          "POLAND"
         ],
         "name": "2,853",
         "showlegend": true,
         "showscale": false,
         "type": "choropleth",
         "z": [
          1
         ]
        },
        {
         "colorscale": [
          [
           0,
           "#636efa"
          ],
          [
           1,
           "#636efa"
          ]
         ],
         "geo": "geo",
         "hovertemplate": "Total SEVIS IDS=2,546<br>Country of Citizenship=%{location}<extra></extra>",
         "locationmode": "country names",
         "locations": [
          "OMAN"
         ],
         "name": "2,546",
         "showlegend": true,
         "showscale": false,
         "type": "choropleth",
         "z": [
          1
         ]
        },
        {
         "colorscale": [
          [
           0,
           "#EF553B"
          ],
          [
           1,
           "#EF553B"
          ]
         ],
         "geo": "geo",
         "hovertemplate": "Total SEVIS IDS=2,543<br>Country of Citizenship=%{location}<extra></extra>",
         "locationmode": "country names",
         "locations": [
          "CONGO (KINSHASA)"
         ],
         "name": "2,543",
         "showlegend": true,
         "showscale": false,
         "type": "choropleth",
         "z": [
          1
         ]
        },
        {
         "colorscale": [
          [
           0,
           "#00cc96"
          ],
          [
           1,
           "#00cc96"
          ]
         ],
         "geo": "geo",
         "hovertemplate": "Total SEVIS IDS=2,325<br>Country of Citizenship=%{location}<extra></extra>",
         "locationmode": "country names",
         "locations": [
          "ZIMBABWE"
         ],
         "name": "2,325",
         "showlegend": true,
         "showscale": false,
         "type": "choropleth",
         "z": [
          1
         ]
        },
        {
         "colorscale": [
          [
           0,
           "#ab63fa"
          ],
          [
           1,
           "#ab63fa"
          ]
         ],
         "geo": "geo",
         "hovertemplate": "Total SEVIS IDS=2,319<br>Country of Citizenship=%{location}<extra></extra>",
         "locationmode": "country names",
         "locations": [
          "LEBANON"
         ],
         "name": "2,319",
         "showlegend": true,
         "showscale": false,
         "type": "choropleth",
         "z": [
          1
         ]
        },
        {
         "colorscale": [
          [
           0,
           "#FFA15A"
          ],
          [
           1,
           "#FFA15A"
          ]
         ],
         "geo": "geo",
         "hovertemplate": "Total SEVIS IDS=2,236<br>Country of Citizenship=%{location}<extra></extra>",
         "locationmode": "country names",
         "locations": [
          "MOROCCO"
         ],
         "name": "2,236",
         "showlegend": true,
         "showscale": false,
         "type": "choropleth",
         "z": [
          1
         ]
        },
        {
         "colorscale": [
          [
           0,
           "#19d3f3"
          ],
          [
           1,
           "#19d3f3"
          ]
         ],
         "geo": "geo",
         "hovertemplate": "Total SEVIS IDS=2,084<br>Country of Citizenship=%{location}<extra></extra>",
         "locationmode": "country names",
         "locations": [
          "NEW ZEALAND"
         ],
         "name": "2,084",
         "showlegend": true,
         "showscale": false,
         "type": "choropleth",
         "z": [
          1
         ]
        },
        {
         "colorscale": [
          [
           0,
           "#FF6692"
          ],
          [
           1,
           "#FF6692"
          ]
         ],
         "geo": "geo",
         "hovertemplate": "Total SEVIS IDS=1,994<br>Country of Citizenship=%{location}<extra></extra>",
         "locationmode": "country names",
         "locations": [
          "BELGIUM"
         ],
         "name": "1,994",
         "showlegend": true,
         "showscale": false,
         "type": "choropleth",
         "z": [
          1
         ]
        },
        {
         "colorscale": [
          [
           0,
           "#B6E880"
          ],
          [
           1,
           "#B6E880"
          ]
         ],
         "geo": "geo",
         "hovertemplate": "Total SEVIS IDS=1,909<br>Country of Citizenship=%{location}<extra></extra>",
         "locationmode": "country names",
         "locations": [
          "BOLIVIA",
          "DENMARK"
         ],
         "name": "1,909",
         "showlegend": true,
         "showscale": false,
         "type": "choropleth",
         "z": [
          1,
          1
         ]
        },
        {
         "colorscale": [
          [
           0,
           "#FF97FF"
          ],
          [
           1,
           "#FF97FF"
          ]
         ],
         "geo": "geo",
         "hovertemplate": "Total SEVIS IDS=1,887<br>Country of Citizenship=%{location}<extra></extra>",
         "locationmode": "country names",
         "locations": [
          "RWANDA"
         ],
         "name": "1,887",
         "showlegend": true,
         "showscale": false,
         "type": "choropleth",
         "z": [
          1
         ]
        },
        {
         "colorscale": [
          [
           0,
           "#FECB52"
          ],
          [
           1,
           "#FECB52"
          ]
         ],
         "geo": "geo",
         "hovertemplate": "Total SEVIS IDS=1,861<br>Country of Citizenship=%{location}<extra></extra>",
         "locationmode": "country names",
         "locations": [
          "COSTA RICA"
         ],
         "name": "1,861",
         "showlegend": true,
         "showscale": false,
         "type": "choropleth",
         "z": [
          1
         ]
        },
        {
         "colorscale": [
          [
           0,
           "#636efa"
          ],
          [
           1,
           "#636efa"
          ]
         ],
         "geo": "geo",
         "hovertemplate": "Total SEVIS IDS=1,800<br>Country of Citizenship=%{location}<extra></extra>",
         "locationmode": "country names",
         "locations": [
          "TRINIDAD AND TOBAGO"
         ],
         "name": "1,800",
         "showlegend": true,
         "showscale": false,
         "type": "choropleth",
         "z": [
          1
         ]
        },
        {
         "colorscale": [
          [
           0,
           "#EF553B"
          ],
          [
           1,
           "#EF553B"
          ]
         ],
         "geo": "geo",
         "hovertemplate": "Total SEVIS IDS=1,798<br>Country of Citizenship=%{location}<extra></extra>",
         "locationmode": "country names",
         "locations": [
          "SERBIA"
         ],
         "name": "1,798",
         "showlegend": true,
         "showscale": false,
         "type": "choropleth",
         "z": [
          1
         ]
        },
        {
         "colorscale": [
          [
           0,
           "#00cc96"
          ],
          [
           1,
           "#00cc96"
          ]
         ],
         "geo": "geo",
         "hovertemplate": "Total SEVIS IDS=1,736<br>Country of Citizenship=%{location}<extra></extra>",
         "locationmode": "country names",
         "locations": [
          "UZBEKISTAN"
         ],
         "name": "1,736",
         "showlegend": true,
         "showscale": false,
         "type": "choropleth",
         "z": [
          1
         ]
        },
        {
         "colorscale": [
          [
           0,
           "#ab63fa"
          ],
          [
           1,
           "#ab63fa"
          ]
         ],
         "geo": "geo",
         "hovertemplate": "Total SEVIS IDS=1,731<br>Country of Citizenship=%{location}<extra></extra>",
         "locationmode": "country names",
         "locations": [
          "IRELAND"
         ],
         "name": "1,731",
         "showlegend": true,
         "showscale": false,
         "type": "choropleth",
         "z": [
          1
         ]
        },
        {
         "colorscale": [
          [
           0,
           "#FFA15A"
          ],
          [
           1,
           "#FFA15A"
          ]
         ],
         "geo": "geo",
         "hovertemplate": "Total SEVIS IDS=1,728<br>Country of Citizenship=%{location}<extra></extra>",
         "locationmode": "country names",
         "locations": [
          "PORTUGAL"
         ],
         "name": "1,728",
         "showlegend": true,
         "showscale": false,
         "type": "choropleth",
         "z": [
          1
         ]
        },
        {
         "colorscale": [
          [
           0,
           "#19d3f3"
          ],
          [
           1,
           "#19d3f3"
          ]
         ],
         "geo": "geo",
         "hovertemplate": "Total SEVIS IDS=1,725<br>Country of Citizenship=%{location}<extra></extra>",
         "locationmode": "country names",
         "locations": [
          "UNITED ARAB EMIRATES"
         ],
         "name": "1,725",
         "showlegend": true,
         "showscale": false,
         "type": "choropleth",
         "z": [
          1
         ]
        },
        {
         "colorscale": [
          [
           0,
           "#FF6692"
          ],
          [
           1,
           "#FF6692"
          ]
         ],
         "geo": "geo",
         "hovertemplate": "Total SEVIS IDS=1,668<br>Country of Citizenship=%{location}<extra></extra>",
         "locationmode": "country names",
         "locations": [
          "GUATEMALA"
         ],
         "name": "1,668",
         "showlegend": true,
         "showscale": false,
         "type": "choropleth",
         "z": [
          1
         ]
        },
        {
         "colorscale": [
          [
           0,
           "#B6E880"
          ],
          [
           1,
           "#B6E880"
          ]
         ],
         "geo": "geo",
         "hovertemplate": "Total SEVIS IDS=1,665<br>Country of Citizenship=%{location}<extra></extra>",
         "locationmode": "country names",
         "locations": [
          "ALBANIA"
         ],
         "name": "1,665",
         "showlegend": true,
         "showscale": false,
         "type": "choropleth",
         "z": [
          1
         ]
        },
        {
         "colorscale": [
          [
           0,
           "#FF97FF"
          ],
          [
           1,
           "#FF97FF"
          ]
         ],
         "geo": "geo",
         "hovertemplate": "Total SEVIS IDS=1,643<br>Country of Citizenship=%{location}<extra></extra>",
         "locationmode": "country names",
         "locations": [
          "COTE D'IVOIRE"
         ],
         "name": "1,643",
         "showlegend": true,
         "showscale": false,
         "type": "choropleth",
         "z": [
          1
         ]
        },
        {
         "colorscale": [
          [
           0,
           "#FECB52"
          ],
          [
           1,
           "#FECB52"
          ]
         ],
         "geo": "geo",
         "hovertemplate": "Total SEVIS IDS=1,557<br>Country of Citizenship=%{location}<extra></extra>",
         "locationmode": "country names",
         "locations": [
          "AUSTRIA"
         ],
         "name": "1,557",
         "showlegend": true,
         "showscale": false,
         "type": "choropleth",
         "z": [
          1
         ]
        },
        {
         "colorscale": [
          [
           0,
           "#636efa"
          ],
          [
           1,
           "#636efa"
          ]
         ],
         "geo": "geo",
         "hovertemplate": "Total SEVIS IDS=1,525<br>Country of Citizenship=%{location}<extra></extra>",
         "locationmode": "country names",
         "locations": [
          "UGANDA"
         ],
         "name": "1,525",
         "showlegend": true,
         "showscale": false,
         "type": "choropleth",
         "z": [
          1
         ]
        },
        {
         "colorscale": [
          [
           0,
           "#EF553B"
          ],
          [
           1,
           "#EF553B"
          ]
         ],
         "geo": "geo",
         "hovertemplate": "Total SEVIS IDS=1,485<br>Country of Citizenship=%{location}<extra></extra>",
         "locationmode": "country names",
         "locations": [
          "EL SALVADOR"
         ],
         "name": "1,485",
         "showlegend": true,
         "showscale": false,
         "type": "choropleth",
         "z": [
          1
         ]
        },
        {
         "colorscale": [
          [
           0,
           "#00cc96"
          ],
          [
           1,
           "#00cc96"
          ]
         ],
         "geo": "geo",
         "hovertemplate": "Total SEVIS IDS=1,377<br>Country of Citizenship=%{location}<extra></extra>",
         "locationmode": "country names",
         "locations": [
          "HAITI"
         ],
         "name": "1,377",
         "showlegend": true,
         "showscale": false,
         "type": "choropleth",
         "z": [
          1
         ]
        },
        {
         "colorscale": [
          [
           0,
           "#ab63fa"
          ],
          [
           1,
           "#ab63fa"
          ]
         ],
         "geo": "geo",
         "hovertemplate": "Total SEVIS IDS=1,373<br>Country of Citizenship=%{location}<extra></extra>",
         "locationmode": "country names",
         "locations": [
          "TANZANIA"
         ],
         "name": "1,373",
         "showlegend": true,
         "showscale": false,
         "type": "choropleth",
         "z": [
          1
         ]
        },
        {
         "colorscale": [
          [
           0,
           "#FFA15A"
          ],
          [
           1,
           "#FFA15A"
          ]
         ],
         "geo": "geo",
         "hovertemplate": "Total SEVIS IDS=1,341<br>Country of Citizenship=%{location}<extra></extra>",
         "locationmode": "country names",
         "locations": [
          "CAMEROON"
         ],
         "name": "1,341",
         "showlegend": true,
         "showscale": false,
         "type": "choropleth",
         "z": [
          1
         ]
        },
        {
         "colorscale": [
          [
           0,
           "#19d3f3"
          ],
          [
           1,
           "#19d3f3"
          ]
         ],
         "geo": "geo",
         "hovertemplate": "Total SEVIS IDS=1,330<br>Country of Citizenship=%{location}<extra></extra>",
         "locationmode": "country names",
         "locations": [
          "TUNISIA"
         ],
         "name": "1,330",
         "showlegend": true,
         "showscale": false,
         "type": "choropleth",
         "z": [
          1
         ]
        },
        {
         "colorscale": [
          [
           0,
           "#FF6692"
          ],
          [
           1,
           "#FF6692"
          ]
         ],
         "geo": "geo",
         "hovertemplate": "Total SEVIS IDS=1,277<br>Country of Citizenship=%{location}<extra></extra>",
         "locationmode": "country names",
         "locations": [
          "CZECH REPUBLIC"
         ],
         "name": "1,277",
         "showlegend": true,
         "showscale": false,
         "type": "choropleth",
         "z": [
          1
         ]
        },
        {
         "colorscale": [
          [
           0,
           "#B6E880"
          ],
          [
           1,
           "#B6E880"
          ]
         ],
         "geo": "geo",
         "hovertemplate": "Total SEVIS IDS=1,213<br>Country of Citizenship=%{location}<extra></extra>",
         "locationmode": "country names",
         "locations": [
          "ROMANIA"
         ],
         "name": "1,213",
         "showlegend": true,
         "showscale": false,
         "type": "choropleth",
         "z": [
          1
         ]
        },
        {
         "colorscale": [
          [
           0,
           "#FF97FF"
          ],
          [
           1,
           "#FF97FF"
          ]
         ],
         "geo": "geo",
         "hovertemplate": "Total SEVIS IDS=1,197<br>Country of Citizenship=%{location}<extra></extra>",
         "locationmode": "country names",
         "locations": [
          "CAMBODIA",
          "KYRGYZSTAN"
         ],
         "name": "1,197",
         "showlegend": true,
         "showscale": false,
         "type": "choropleth",
         "z": [
          1,
          1
         ]
        },
        {
         "colorscale": [
          [
           0,
           "#FECB52"
          ],
          [
           1,
           "#FECB52"
          ]
         ],
         "geo": "geo",
         "hovertemplate": "Total SEVIS IDS=1,165<br>Country of Citizenship=%{location}<extra></extra>",
         "locationmode": "country names",
         "locations": [
          "HUNGARY"
         ],
         "name": "1,165",
         "showlegend": true,
         "showscale": false,
         "type": "choropleth",
         "z": [
          1
         ]
        },
        {
         "colorscale": [
          [
           0,
           "#636efa"
          ],
          [
           1,
           "#636efa"
          ]
         ],
         "geo": "geo",
         "hovertemplate": "Total SEVIS IDS=1,135<br>Country of Citizenship=%{location}<extra></extra>",
         "locationmode": "country names",
         "locations": [
          "AZERBAIJAN"
         ],
         "name": "1,135",
         "showlegend": true,
         "showscale": false,
         "type": "choropleth",
         "z": [
          1
         ]
        },
        {
         "colorscale": [
          [
           0,
           "#EF553B"
          ],
          [
           1,
           "#EF553B"
          ]
         ],
         "geo": "geo",
         "hovertemplate": "Total SEVIS IDS=1,078<br>Country of Citizenship=%{location}<extra></extra>",
         "locationmode": "country names",
         "locations": [
          "GEORGIA"
         ],
         "name": "1,078",
         "showlegend": true,
         "showscale": false,
         "type": "choropleth",
         "z": [
          1
         ]
        },
        {
         "colorscale": [
          [
           0,
           "#00cc96"
          ],
          [
           1,
           "#00cc96"
          ]
         ],
         "geo": "geo",
         "hovertemplate": "Total SEVIS IDS=947<br>Country of Citizenship=%{location}<extra></extra>",
         "locationmode": "country names",
         "locations": [
          "ANGOLA"
         ],
         "name": "947",
         "showlegend": true,
         "showscale": false,
         "type": "choropleth",
         "z": [
          1
         ]
        },
        {
         "colorscale": [
          [
           0,
           "#ab63fa"
          ],
          [
           1,
           "#ab63fa"
          ]
         ],
         "geo": "geo",
         "hovertemplate": "Total SEVIS IDS=848<br>Country of Citizenship=%{location}<extra></extra>",
         "locationmode": "country names",
         "locations": [
          "PARAGUAY"
         ],
         "name": "848",
         "showlegend": true,
         "showscale": false,
         "type": "choropleth",
         "z": [
          1
         ]
        },
        {
         "colorscale": [
          [
           0,
           "#FFA15A"
          ],
          [
           1,
           "#FFA15A"
          ]
         ],
         "geo": "geo",
         "hovertemplate": "Total SEVIS IDS=830<br>Country of Citizenship=%{location}<extra></extra>",
         "locationmode": "country names",
         "locations": [
          "FINLAND"
         ],
         "name": "830",
         "showlegend": true,
         "showscale": false,
         "type": "choropleth",
         "z": [
          1
         ]
        },
        {
         "colorscale": [
          [
           0,
           "#19d3f3"
          ],
          [
           1,
           "#19d3f3"
          ]
         ],
         "geo": "geo",
         "hovertemplate": "Total SEVIS IDS=806<br>Country of Citizenship=%{location}<extra></extra>",
         "locationmode": "country names",
         "locations": [
          "ARMENIA"
         ],
         "name": "806",
         "showlegend": true,
         "showscale": false,
         "type": "choropleth",
         "z": [
          1
         ]
        },
        {
         "colorscale": [
          [
           0,
           "#FF6692"
          ],
          [
           1,
           "#FF6692"
          ]
         ],
         "geo": "geo",
         "hovertemplate": "Total SEVIS IDS=798<br>Country of Citizenship=%{location}<extra></extra>",
         "locationmode": "country names",
         "locations": [
          "BULGARIA",
          "SENEGAL"
         ],
         "name": "798",
         "showlegend": true,
         "showscale": false,
         "type": "choropleth",
         "z": [
          1,
          1
         ]
        },
        {
         "colorscale": [
          [
           0,
           "#B6E880"
          ],
          [
           1,
           "#B6E880"
          ]
         ],
         "geo": "geo",
         "hovertemplate": "Total SEVIS IDS=786<br>Country of Citizenship=%{location}<extra></extra>",
         "locationmode": "country names",
         "locations": [
          "ZAMBIA"
         ],
         "name": "786",
         "showlegend": true,
         "showscale": false,
         "type": "choropleth",
         "z": [
          1
         ]
        },
        {
         "colorscale": [
          [
           0,
           "#FF97FF"
          ],
          [
           1,
           "#FF97FF"
          ]
         ],
         "geo": "geo",
         "hovertemplate": "Total SEVIS IDS=757<br>Country of Citizenship=%{location}<extra></extra>",
         "locationmode": "country names",
         "locations": [
          "BELARUS"
         ],
         "name": "757",
         "showlegend": true,
         "showscale": false,
         "type": "choropleth",
         "z": [
          1
         ]
        },
        {
         "colorscale": [
          [
           0,
           "#FECB52"
          ],
          [
           1,
           "#FECB52"
          ]
         ],
         "geo": "geo",
         "hovertemplate": "Total SEVIS IDS=719<br>Country of Citizenship=%{location}<extra></extra>",
         "locationmode": "country names",
         "locations": [
          "NICARAGUA"
         ],
         "name": "719",
         "showlegend": true,
         "showscale": false,
         "type": "choropleth",
         "z": [
          1
         ]
        },
        {
         "colorscale": [
          [
           0,
           "#636efa"
          ],
          [
           1,
           "#636efa"
          ]
         ],
         "geo": "geo",
         "hovertemplate": "Total SEVIS IDS=712<br>Country of Citizenship=%{location}<extra></extra>",
         "locationmode": "country names",
         "locations": [
          "LIBYA"
         ],
         "name": "712",
         "showlegend": true,
         "showscale": false,
         "type": "choropleth",
         "z": [
          1
         ]
        },
        {
         "colorscale": [
          [
           0,
           "#EF553B"
          ],
          [
           1,
           "#EF553B"
          ]
         ],
         "geo": "geo",
         "hovertemplate": "Total SEVIS IDS=649<br>Country of Citizenship=%{location}<extra></extra>",
         "locationmode": "country names",
         "locations": [
          "CROATIA"
         ],
         "name": "649",
         "showlegend": true,
         "showscale": false,
         "type": "choropleth",
         "z": [
          1
         ]
        },
        {
         "colorscale": [
          [
           0,
           "#00cc96"
          ],
          [
           1,
           "#00cc96"
          ]
         ],
         "geo": "geo",
         "hovertemplate": "Total SEVIS IDS=628<br>Country of Citizenship=%{location}<extra></extra>",
         "locationmode": "country names",
         "locations": [
          "DOMINICA"
         ],
         "name": "628",
         "showlegend": true,
         "showscale": false,
         "type": "choropleth",
         "z": [
          1
         ]
        },
        {
         "colorscale": [
          [
           0,
           "#ab63fa"
          ],
          [
           1,
           "#ab63fa"
          ]
         ],
         "geo": "geo",
         "hovertemplate": "Total SEVIS IDS=609<br>Country of Citizenship=%{location}<extra></extra>",
         "locationmode": "country names",
         "locations": [
          "QATAR"
         ],
         "name": "609",
         "showlegend": true,
         "showscale": false,
         "type": "choropleth",
         "z": [
          1
         ]
        },
        {
         "colorscale": [
          [
           0,
           "#FFA15A"
          ],
          [
           1,
           "#FFA15A"
          ]
         ],
         "geo": "geo",
         "hovertemplate": "Total SEVIS IDS=593<br>Country of Citizenship=%{location}<extra></extra>",
         "locationmode": "country names",
         "locations": [
          "AFGHANISTAN"
         ],
         "name": "593",
         "showlegend": true,
         "showscale": false,
         "type": "choropleth",
         "z": [
          1
         ]
        },
        {
         "colorscale": [
          [
           0,
           "#19d3f3"
          ],
          [
           1,
           "#19d3f3"
          ]
         ],
         "geo": "geo",
         "hovertemplate": "Total SEVIS IDS=582<br>Country of Citizenship=%{location}<extra></extra>",
         "locationmode": "country names",
         "locations": [
          "BURKINA FASO"
         ],
         "name": "582",
         "showlegend": true,
         "showscale": false,
         "type": "choropleth",
         "z": [
          1
         ]
        },
        {
         "colorscale": [
          [
           0,
           "#FF6692"
          ],
          [
           1,
           "#FF6692"
          ]
         ],
         "geo": "geo",
         "hovertemplate": "Total SEVIS IDS=580<br>Country of Citizenship=%{location}<extra></extra>",
         "locationmode": "country names",
         "locations": [
          "ALGERIA",
          "SLOVAKIA"
         ],
         "name": "580",
         "showlegend": true,
         "showscale": false,
         "type": "choropleth",
         "z": [
          1,
          1
         ]
        },
        {
         "colorscale": [
          [
           0,
           "#B6E880"
          ],
          [
           1,
           "#B6E880"
          ]
         ],
         "geo": "geo",
         "hovertemplate": "Total SEVIS IDS=573<br>Country of Citizenship=%{location}<extra></extra>",
         "locationmode": "country names",
         "locations": [
          "ICELAND"
         ],
         "name": "573",
         "showlegend": true,
         "showscale": false,
         "type": "choropleth",
         "z": [
          1
         ]
        },
        {
         "colorscale": [
          [
           0,
           "#FF97FF"
          ],
          [
           1,
           "#FF97FF"
          ]
         ],
         "geo": "geo",
         "hovertemplate": "Total SEVIS IDS=572<br>Country of Citizenship=%{location}<extra></extra>",
         "locationmode": "country names",
         "locations": [
          "URUGUAY"
         ],
         "name": "572",
         "showlegend": true,
         "showscale": false,
         "type": "choropleth",
         "z": [
          1
         ]
        },
        {
         "colorscale": [
          [
           0,
           "#FECB52"
          ],
          [
           1,
           "#FECB52"
          ]
         ],
         "geo": "geo",
         "hovertemplate": "Total SEVIS IDS=562<br>Country of Citizenship=%{location}<extra></extra>",
         "locationmode": "country names",
         "locations": [
          "YEMEN"
         ],
         "name": "562",
         "showlegend": true,
         "showscale": false,
         "type": "choropleth",
         "z": [
          1
         ]
        },
        {
         "colorscale": [
          [
           0,
           "#636efa"
          ],
          [
           1,
           "#636efa"
          ]
         ],
         "geo": "geo",
         "hovertemplate": "Total SEVIS IDS=522<br>Country of Citizenship=%{location}<extra></extra>",
         "locationmode": "country names",
         "locations": [
          "CYPRUS"
         ],
         "name": "522",
         "showlegend": true,
         "showscale": false,
         "type": "choropleth",
         "z": [
          1
         ]
        },
        {
         "colorscale": [
          [
           0,
           "#EF553B"
          ],
          [
           1,
           "#EF553B"
          ]
         ],
         "geo": "geo",
         "hovertemplate": "Total SEVIS IDS=518<br>Country of Citizenship=%{location}<extra></extra>",
         "locationmode": "country names",
         "locations": [
          "BELIZE",
          "TURKMENISTAN"
         ],
         "name": "518",
         "showlegend": true,
         "showscale": false,
         "type": "choropleth",
         "z": [
          1,
          1
         ]
        },
        {
         "colorscale": [
          [
           0,
           "#00cc96"
          ],
          [
           1,
           "#00cc96"
          ]
         ],
         "geo": "geo",
         "hovertemplate": "Total SEVIS IDS=506<br>Country of Citizenship=%{location}<extra></extra>",
         "locationmode": "country names",
         "locations": [
          "LITHUANIA"
         ],
         "name": "506",
         "showlegend": true,
         "showscale": false,
         "type": "choropleth",
         "z": [
          1
         ]
        },
        {
         "colorscale": [
          [
           0,
           "#ab63fa"
          ],
          [
           1,
           "#ab63fa"
          ]
         ],
         "geo": "geo",
         "hovertemplate": "Total SEVIS IDS=499<br>Country of Citizenship=%{location}<extra></extra>",
         "locationmode": "country names",
         "locations": [
          "MALAWI"
         ],
         "name": "499",
         "showlegend": true,
         "showscale": false,
         "type": "choropleth",
         "z": [
          1
         ]
        },
        {
         "colorscale": [
          [
           0,
           "#FFA15A"
          ],
          [
           1,
           "#FFA15A"
          ]
         ],
         "geo": "geo",
         "hovertemplate": "Total SEVIS IDS=494<br>Country of Citizenship=%{location}<extra></extra>",
         "locationmode": "country names",
         "locations": [
          "GUYANA"
         ],
         "name": "494",
         "showlegend": true,
         "showscale": false,
         "type": "choropleth",
         "z": [
          1
         ]
        },
        {
         "colorscale": [
          [
           0,
           "#19d3f3"
          ],
          [
           1,
           "#19d3f3"
          ]
         ],
         "geo": "geo",
         "hovertemplate": "Total SEVIS IDS=484<br>Country of Citizenship=%{location}<extra></extra>",
         "locationmode": "country names",
         "locations": [
          "BERMUDA"
         ],
         "name": "484",
         "showlegend": true,
         "showscale": false,
         "type": "choropleth",
         "z": [
          1
         ]
        },
        {
         "colorscale": [
          [
           0,
           "#FF6692"
          ],
          [
           1,
           "#FF6692"
          ]
         ],
         "geo": "geo",
         "hovertemplate": "Total SEVIS IDS=454<br>Country of Citizenship=%{location}<extra></extra>",
         "locationmode": "country names",
         "locations": [
          "IRAQ"
         ],
         "name": "454",
         "showlegend": true,
         "showscale": false,
         "type": "choropleth",
         "z": [
          1
         ]
        },
        {
         "colorscale": [
          [
           0,
           "#B6E880"
          ],
          [
           1,
           "#B6E880"
          ]
         ],
         "geo": "geo",
         "hovertemplate": "Total SEVIS IDS=448<br>Country of Citizenship=%{location}<extra></extra>",
         "locationmode": "country names",
         "locations": [
          "MACAU"
         ],
         "name": "448",
         "showlegend": true,
         "showscale": false,
         "type": "choropleth",
         "z": [
          1
         ]
        },
        {
         "colorscale": [
          [
           0,
           "#FF97FF"
          ],
          [
           1,
           "#FF97FF"
          ]
         ],
         "geo": "geo",
         "hovertemplate": "Total SEVIS IDS=446<br>Country of Citizenship=%{location}<extra></extra>",
         "locationmode": "country names",
         "locations": [
          "BARBADOS"
         ],
         "name": "446",
         "showlegend": true,
         "showscale": false,
         "type": "choropleth",
         "z": [
          1
         ]
        },
        {
         "colorscale": [
          [
           0,
           "#FECB52"
          ],
          [
           1,
           "#FECB52"
          ]
         ],
         "geo": "geo",
         "hovertemplate": "Total SEVIS IDS=441<br>Country of Citizenship=%{location}<extra></extra>",
         "locationmode": "country names",
         "locations": [
          "SUDAN"
         ],
         "name": "441",
         "showlegend": true,
         "showscale": false,
         "type": "choropleth",
         "z": [
          1
         ]
        },
        {
         "colorscale": [
          [
           0,
           "#636efa"
          ],
          [
           1,
           "#636efa"
          ]
         ],
         "geo": "geo",
         "hovertemplate": "Total SEVIS IDS=437<br>Country of Citizenship=%{location}<extra></extra>",
         "locationmode": "country names",
         "locations": [
          "WEST BANK"
         ],
         "name": "437",
         "showlegend": true,
         "showscale": false,
         "type": "choropleth",
         "z": [
          1
         ]
        },
        {
         "colorscale": [
          [
           0,
           "#EF553B"
          ],
          [
           1,
           "#EF553B"
          ]
         ],
         "geo": "geo",
         "hovertemplate": "Total SEVIS IDS=426<br>Country of Citizenship=%{location}<extra></extra>",
         "locationmode": "country names",
         "locations": [
          "BAHRAIN"
         ],
         "name": "426",
         "showlegend": true,
         "showscale": false,
         "type": "choropleth",
         "z": [
          1
         ]
        },
        {
         "colorscale": [
          [
           0,
           "#00cc96"
          ],
          [
           1,
           "#00cc96"
          ]
         ],
         "geo": "geo",
         "hovertemplate": "Total SEVIS IDS=417<br>Country of Citizenship=%{location}<extra></extra>",
         "locationmode": "country names",
         "locations": [
          "MALI"
         ],
         "name": "417",
         "showlegend": true,
         "showscale": false,
         "type": "choropleth",
         "z": [
          1
         ]
        },
        {
         "colorscale": [
          [
           0,
           "#ab63fa"
          ],
          [
           1,
           "#ab63fa"
          ]
         ],
         "geo": "geo",
         "hovertemplate": "Total SEVIS IDS=406<br>Country of Citizenship=%{location}<extra></extra>",
         "locationmode": "country names",
         "locations": [
          "LATVIA",
          "SYRIA"
         ],
         "name": "406",
         "showlegend": true,
         "showscale": false,
         "type": "choropleth",
         "z": [
          1,
          1
         ]
        },
        {
         "colorscale": [
          [
           0,
           "#FFA15A"
          ],
          [
           1,
           "#FFA15A"
          ]
         ],
         "geo": "geo",
         "hovertemplate": "Total SEVIS IDS=397<br>Country of Citizenship=%{location}<extra></extra>",
         "locationmode": "country names",
         "locations": [
          "EQUATORIAL GUINEA",
          "GABON"
         ],
         "name": "397",
         "showlegend": true,
         "showscale": false,
         "type": "choropleth",
         "z": [
          1,
          1
         ]
        },
        {
         "colorscale": [
          [
           0,
           "#19d3f3"
          ],
          [
           1,
           "#19d3f3"
          ]
         ],
         "geo": "geo",
         "hovertemplate": "Total SEVIS IDS=392<br>Country of Citizenship=%{location}<extra></extra>",
         "locationmode": "country names",
         "locations": [
          "GAMBIA, THE"
         ],
         "name": "392",
         "showlegend": true,
         "showscale": false,
         "type": "choropleth",
         "z": [
          1
         ]
        },
        {
         "colorscale": [
          [
           0,
           "#FF6692"
          ],
          [
           1,
           "#FF6692"
          ]
         ],
         "geo": "geo",
         "hovertemplate": "Total SEVIS IDS=387<br>Country of Citizenship=%{location}<extra></extra>",
         "locationmode": "country names",
         "locations": [
          "LIBERIA"
         ],
         "name": "387",
         "showlegend": true,
         "showscale": false,
         "type": "choropleth",
         "z": [
          1
         ]
        },
        {
         "colorscale": [
          [
           0,
           "#B6E880"
          ],
          [
           1,
           "#B6E880"
          ]
         ],
         "geo": "geo",
         "hovertemplate": "Total SEVIS IDS=358<br>Country of Citizenship=%{location}<extra></extra>",
         "locationmode": "country names",
         "locations": [
          "SIERRA LEONE"
         ],
         "name": "358",
         "showlegend": true,
         "showscale": false,
         "type": "choropleth",
         "z": [
          1
         ]
        },
        {
         "colorscale": [
          [
           0,
           "#FF97FF"
          ],
          [
           1,
           "#FF97FF"
          ]
         ],
         "geo": "geo",
         "hovertemplate": "Total SEVIS IDS=352<br>Country of Citizenship=%{location}<extra></extra>",
         "locationmode": "country names",
         "locations": [
          "BENIN"
         ],
         "name": "352",
         "showlegend": true,
         "showscale": false,
         "type": "choropleth",
         "z": [
          1
         ]
        },
        {
         "colorscale": [
          [
           0,
           "#FECB52"
          ],
          [
           1,
           "#FECB52"
          ]
         ],
         "geo": "geo",
         "hovertemplate": "Total SEVIS IDS=346<br>Country of Citizenship=%{location}<extra></extra>",
         "locationmode": "country names",
         "locations": [
          "BOSNIA AND HERZEGOVINA"
         ],
         "name": "346",
         "showlegend": true,
         "showscale": false,
         "type": "choropleth",
         "z": [
          1
         ]
        },
        {
         "colorscale": [
          [
           0,
           "#636efa"
          ],
          [
           1,
           "#636efa"
          ]
         ],
         "geo": "geo",
         "hovertemplate": "Total SEVIS IDS=345<br>Country of Citizenship=%{location}<extra></extra>",
         "locationmode": "country names",
         "locations": [
          "MACEDONIA"
         ],
         "name": "345",
         "showlegend": true,
         "showscale": false,
         "type": "choropleth",
         "z": [
          1
         ]
        },
        {
         "colorscale": [
          [
           0,
           "#EF553B"
          ],
          [
           1,
           "#EF553B"
          ]
         ],
         "geo": "geo",
         "hovertemplate": "Total SEVIS IDS=327<br>Country of Citizenship=%{location}<extra></extra>",
         "locationmode": "country names",
         "locations": [
          "MAURITIUS"
         ],
         "name": "327",
         "showlegend": true,
         "showscale": false,
         "type": "choropleth",
         "z": [
          1
         ]
        },
        {
         "colorscale": [
          [
           0,
           "#00cc96"
          ],
          [
           1,
           "#00cc96"
          ]
         ],
         "geo": "geo",
         "hovertemplate": "Total SEVIS IDS=325<br>Country of Citizenship=%{location}<extra></extra>",
         "locationmode": "country names",
         "locations": [
          "BOTSWANA"
         ],
         "name": "325",
         "showlegend": true,
         "showscale": false,
         "type": "choropleth",
         "z": [
          1
         ]
        },
        {
         "colorscale": [
          [
           0,
           "#ab63fa"
          ],
          [
           1,
           "#ab63fa"
          ]
         ],
         "geo": "geo",
         "hovertemplate": "Total SEVIS IDS=323<br>Country of Citizenship=%{location}<extra></extra>",
         "locationmode": "country names",
         "locations": [
          "TAJIKISTAN"
         ],
         "name": "323",
         "showlegend": true,
         "showscale": false,
         "type": "choropleth",
         "z": [
          1
         ]
        },
        {
         "colorscale": [
          [
           0,
           "#FFA15A"
          ],
          [
           1,
           "#FFA15A"
          ]
         ],
         "geo": "geo",
         "hovertemplate": "Total SEVIS IDS=321<br>Country of Citizenship=%{location}<extra></extra>",
         "locationmode": "country names",
         "locations": [
          "MADAGASCAR"
         ],
         "name": "321",
         "showlegend": true,
         "showscale": false,
         "type": "choropleth",
         "z": [
          1
         ]
        },
        {
         "colorscale": [
          [
           0,
           "#19d3f3"
          ],
          [
           1,
           "#19d3f3"
          ]
         ],
         "geo": "geo",
         "hovertemplate": "Total SEVIS IDS=310<br>Country of Citizenship=%{location}<extra></extra>",
         "locationmode": "country names",
         "locations": [
          "SAINT LUCIA"
         ],
         "name": "310",
         "showlegend": true,
         "showscale": false,
         "type": "choropleth",
         "z": [
          1
         ]
        },
        {
         "colorscale": [
          [
           0,
           "#FF6692"
          ],
          [
           1,
           "#FF6692"
          ]
         ],
         "geo": "geo",
         "hovertemplate": "Total SEVIS IDS=300<br>Country of Citizenship=%{location}<extra></extra>",
         "locationmode": "country names",
         "locations": [
          "MONTENEGRO"
         ],
         "name": "300",
         "showlegend": true,
         "showscale": false,
         "type": "choropleth",
         "z": [
          1
         ]
        },
        {
         "colorscale": [
          [
           0,
           "#B6E880"
          ],
          [
           1,
           "#B6E880"
          ]
         ],
         "geo": "geo",
         "hovertemplate": "Total SEVIS IDS=292<br>Country of Citizenship=%{location}<extra></extra>",
         "locationmode": "country names",
         "locations": [
          "SLOVENIA"
         ],
         "name": "292",
         "showlegend": true,
         "showscale": false,
         "type": "choropleth",
         "z": [
          1
         ]
        },
        {
         "colorscale": [
          [
           0,
           "#FF97FF"
          ],
          [
           1,
           "#FF97FF"
          ]
         ],
         "geo": "geo",
         "hovertemplate": "Total SEVIS IDS=277<br>Country of Citizenship=%{location}<extra></extra>",
         "locationmode": "country names",
         "locations": [
          "NIGER"
         ],
         "name": "277",
         "showlegend": true,
         "showscale": false,
         "type": "choropleth",
         "z": [
          1
         ]
        },
        {
         "colorscale": [
          [
           0,
           "#FECB52"
          ],
          [
           1,
           "#FECB52"
          ]
         ],
         "geo": "geo",
         "hovertemplate": "Total SEVIS IDS=276<br>Country of Citizenship=%{location}<extra></extra>",
         "locationmode": "country names",
         "locations": [
          "ANTIGUA AND BARBUDA"
         ],
         "name": "276",
         "showlegend": true,
         "showscale": false,
         "type": "choropleth",
         "z": [
          1
         ]
        },
        {
         "colorscale": [
          [
           0,
           "#636efa"
          ],
          [
           1,
           "#636efa"
          ]
         ],
         "geo": "geo",
         "hovertemplate": "Total SEVIS IDS=271<br>Country of Citizenship=%{location}<extra></extra>",
         "locationmode": "country names",
         "locations": [
          "TOGO"
         ],
         "name": "271",
         "showlegend": true,
         "showscale": false,
         "type": "choropleth",
         "z": [
          1
         ]
        },
        {
         "colorscale": [
          [
           0,
           "#EF553B"
          ],
          [
           1,
           "#EF553B"
          ]
         ],
         "geo": "geo",
         "hovertemplate": "Total SEVIS IDS=269<br>Country of Citizenship=%{location}<extra></extra>",
         "locationmode": "country names",
         "locations": [
          "KOSOVO"
         ],
         "name": "269",
         "showlegend": true,
         "showscale": false,
         "type": "choropleth",
         "z": [
          1
         ]
        },
        {
         "colorscale": [
          [
           0,
           "#00cc96"
          ],
          [
           1,
           "#00cc96"
          ]
         ],
         "geo": "geo",
         "hovertemplate": "Total SEVIS IDS=263<br>Country of Citizenship=%{location}<extra></extra>",
         "locationmode": "country names",
         "locations": [
          "SAINT KITTS AND NEVIS"
         ],
         "name": "263",
         "showlegend": true,
         "showscale": false,
         "type": "choropleth",
         "z": [
          1
         ]
        },
        {
         "colorscale": [
          [
           0,
           "#ab63fa"
          ],
          [
           1,
           "#ab63fa"
          ]
         ],
         "geo": "geo",
         "hovertemplate": "Total SEVIS IDS=255<br>Country of Citizenship=%{location}<extra></extra>",
         "locationmode": "country names",
         "locations": [
          "ESTONIA"
         ],
         "name": "255",
         "showlegend": true,
         "showscale": false,
         "type": "choropleth",
         "z": [
          1
         ]
        },
        {
         "colorscale": [
          [
           0,
           "#FFA15A"
          ],
          [
           1,
           "#FFA15A"
          ]
         ],
         "geo": "geo",
         "hovertemplate": "Total SEVIS IDS=243<br>Country of Citizenship=%{location}<extra></extra>",
         "locationmode": "country names",
         "locations": [
          "MOLDOVA",
          "SWAZILAND"
         ],
         "name": "243",
         "showlegend": true,
         "showscale": false,
         "type": "choropleth",
         "z": [
          1,
          1
         ]
        },
        {
         "colorscale": [
          [
           0,
           "#19d3f3"
          ],
          [
           1,
           "#19d3f3"
          ]
         ],
         "geo": "geo",
         "hovertemplate": "Total SEVIS IDS=232<br>Country of Citizenship=%{location}<extra></extra>",
         "locationmode": "country names",
         "locations": [
          "BURUNDI"
         ],
         "name": "232",
         "showlegend": true,
         "showscale": false,
         "type": "choropleth",
         "z": [
          1
         ]
        },
        {
         "colorscale": [
          [
           0,
           "#FF6692"
          ],
          [
           1,
           "#FF6692"
          ]
         ],
         "geo": "geo",
         "hovertemplate": "Total SEVIS IDS=227<br>Country of Citizenship=%{location}<extra></extra>",
         "locationmode": "country names",
         "locations": [
          "GRENADA"
         ],
         "name": "227",
         "showlegend": true,
         "showscale": false,
         "type": "choropleth",
         "z": [
          1
         ]
        },
        {
         "colorscale": [
          [
           0,
           "#B6E880"
          ],
          [
           1,
           "#B6E880"
          ]
         ],
         "geo": "geo",
         "hovertemplate": "Total SEVIS IDS=226<br>Country of Citizenship=%{location}<extra></extra>",
         "locationmode": "country names",
         "locations": [
          "MOZAMBIQUE"
         ],
         "name": "226",
         "showlegend": true,
         "showscale": false,
         "type": "choropleth",
         "z": [
          1
         ]
        },
        {
         "colorscale": [
          [
           0,
           "#FF97FF"
          ],
          [
           1,
           "#FF97FF"
          ]
         ],
         "geo": "geo",
         "hovertemplate": "Total SEVIS IDS=224<br>Country of Citizenship=%{location}<extra></extra>",
         "locationmode": "country names",
         "locations": [
          "CAYMAN ISLANDS"
         ],
         "name": "224",
         "showlegend": true,
         "showscale": false,
         "type": "choropleth",
         "z": [
          1
         ]
        },
        {
         "colorscale": [
          [
           0,
           "#FECB52"
          ],
          [
           1,
           "#FECB52"
          ]
         ],
         "geo": "geo",
         "hovertemplate": "Total SEVIS IDS=211<br>Country of Citizenship=%{location}<extra></extra>",
         "locationmode": "country names",
         "locations": [
          "BHUTAN"
         ],
         "name": "211",
         "showlegend": true,
         "showscale": false,
         "type": "choropleth",
         "z": [
          1
         ]
        },
        {
         "colorscale": [
          [
           0,
           "#636efa"
          ],
          [
           1,
           "#636efa"
          ]
         ],
         "geo": "geo",
         "hovertemplate": "Total SEVIS IDS=205<br>Country of Citizenship=%{location}<extra></extra>",
         "locationmode": "country names",
         "locations": [
          "CONGO (BRAZZAVILLE)"
         ],
         "name": "205",
         "showlegend": true,
         "showscale": false,
         "type": "choropleth",
         "z": [
          1
         ]
        },
        {
         "colorscale": [
          [
           0,
           "#EF553B"
          ],
          [
           1,
           "#EF553B"
          ]
         ],
         "geo": "geo",
         "hovertemplate": "Total SEVIS IDS=177<br>Country of Citizenship=%{location}<extra></extra>",
         "locationmode": "country names",
         "locations": [
          "LAOS"
         ],
         "name": "177",
         "showlegend": true,
         "showscale": false,
         "type": "choropleth",
         "z": [
          1
         ]
        },
        {
         "colorscale": [
          [
           0,
           "#00cc96"
          ],
          [
           1,
           "#00cc96"
          ]
         ],
         "geo": "geo",
         "hovertemplate": "Total SEVIS IDS=172<br>Country of Citizenship=%{location}<extra></extra>",
         "locationmode": "country names",
         "locations": [
          "ERITREA"
         ],
         "name": "172",
         "showlegend": true,
         "showscale": false,
         "type": "choropleth",
         "z": [
          1
         ]
        },
        {
         "colorscale": [
          [
           0,
           "#ab63fa"
          ],
          [
           1,
           "#ab63fa"
          ]
         ],
         "geo": "geo",
         "hovertemplate": "Total SEVIS IDS=155<br>Country of Citizenship=%{location}<extra></extra>",
         "locationmode": "country names",
         "locations": [
          "SOUTH SUDAN"
         ],
         "name": "155",
         "showlegend": true,
         "showscale": false,
         "type": "choropleth",
         "z": [
          1
         ]
        },
        {
         "colorscale": [
          [
           0,
           "#FFA15A"
          ],
          [
           1,
           "#FFA15A"
          ]
         ],
         "geo": "geo",
         "hovertemplate": "Total SEVIS IDS=154<br>Country of Citizenship=%{location}<extra></extra>",
         "locationmode": "country names",
         "locations": [
          "CUBA"
         ],
         "name": "154",
         "showlegend": true,
         "showscale": false,
         "type": "choropleth",
         "z": [
          1
         ]
        },
        {
         "colorscale": [
          [
           0,
           "#19d3f3"
          ],
          [
           1,
           "#19d3f3"
          ]
         ],
         "geo": "geo",
         "hovertemplate": "Total SEVIS IDS=151<br>Country of Citizenship=%{location}<extra></extra>",
         "locationmode": "country names",
         "locations": [
          "GAZA STRIP"
         ],
         "name": "151",
         "showlegend": true,
         "showscale": false,
         "type": "choropleth",
         "z": [
          1
         ]
        },
        {
         "colorscale": [
          [
           0,
           "#FF6692"
          ],
          [
           1,
           "#FF6692"
          ]
         ],
         "geo": "geo",
         "hovertemplate": "Total SEVIS IDS=150<br>Country of Citizenship=%{location}<extra></extra>",
         "locationmode": "country names",
         "locations": [
          "PAPUA NEW GUINEA"
         ],
         "name": "150",
         "showlegend": true,
         "showscale": false,
         "type": "choropleth",
         "z": [
          1
         ]
        },
        {
         "colorscale": [
          [
           0,
           "#B6E880"
          ],
          [
           1,
           "#B6E880"
          ]
         ],
         "geo": "geo",
         "hovertemplate": "Total SEVIS IDS=149<br>Country of Citizenship=%{location}<extra></extra>",
         "locationmode": "country names",
         "locations": [
          "NAMIBIA"
         ],
         "name": "149",
         "showlegend": true,
         "showscale": false,
         "type": "choropleth",
         "z": [
          1
         ]
        },
        {
         "colorscale": [
          [
           0,
           "#FF97FF"
          ],
          [
           1,
           "#FF97FF"
          ]
         ],
         "geo": "geo",
         "hovertemplate": "Total SEVIS IDS=147<br>Country of Citizenship=%{location}<extra></extra>",
         "locationmode": "country names",
         "locations": [
          "CURACAO",
          "SAINT VINCENT AND THE GRENADINES"
         ],
         "name": "147",
         "showlegend": true,
         "showscale": false,
         "type": "choropleth",
         "z": [
          1,
          1
         ]
        },
        {
         "colorscale": [
          [
           0,
           "#FECB52"
          ],
          [
           1,
           "#FECB52"
          ]
         ],
         "geo": "geo",
         "hovertemplate": "Total SEVIS IDS=144<br>Country of Citizenship=%{location}<extra></extra>",
         "locationmode": "country names",
         "locations": [
          "LUXEMBOURG"
         ],
         "name": "144",
         "showlegend": true,
         "showscale": false,
         "type": "choropleth",
         "z": [
          1
         ]
        },
        {
         "colorscale": [
          [
           0,
           "#636efa"
          ],
          [
           1,
           "#636efa"
          ]
         ],
         "geo": "geo",
         "hovertemplate": "Total SEVIS IDS=132<br>Country of Citizenship=%{location}<extra></extra>",
         "locationmode": "country names",
         "locations": [
          "GUINEA"
         ],
         "name": "132",
         "showlegend": true,
         "showscale": false,
         "type": "choropleth",
         "z": [
          1
         ]
        },
        {
         "colorscale": [
          [
           0,
           "#EF553B"
          ],
          [
           1,
           "#EF553B"
          ]
         ],
         "geo": "geo",
         "hovertemplate": "Total SEVIS IDS=130<br>Country of Citizenship=%{location}<extra></extra>",
         "locationmode": "country names",
         "locations": [
          "SOMALIA"
         ],
         "name": "130",
         "showlegend": true,
         "showscale": false,
         "type": "choropleth",
         "z": [
          1
         ]
        },
        {
         "colorscale": [
          [
           0,
           "#00cc96"
          ],
          [
           1,
           "#00cc96"
          ]
         ],
         "geo": "geo",
         "hovertemplate": "Total SEVIS IDS=108<br>Country of Citizenship=%{location}<extra></extra>",
         "locationmode": "country names",
         "locations": [
          "MALTA"
         ],
         "name": "108",
         "showlegend": true,
         "showscale": false,
         "type": "choropleth",
         "z": [
          1
         ]
        },
        {
         "colorscale": [
          [
           0,
           "#ab63fa"
          ],
          [
           1,
           "#ab63fa"
          ]
         ],
         "geo": "geo",
         "hovertemplate": "Total SEVIS IDS=89<br>Country of Citizenship=%{location}<extra></extra>",
         "locationmode": "country names",
         "locations": [
          "ARUBA",
          "CAPE VERDE"
         ],
         "name": "89",
         "showlegend": true,
         "showscale": false,
         "type": "choropleth",
         "z": [
          1,
          1
         ]
        },
        {
         "colorscale": [
          [
           0,
           "#FFA15A"
          ],
          [
           1,
           "#FFA15A"
          ]
         ],
         "geo": "geo",
         "hovertemplate": "Total SEVIS IDS=85<br>Country of Citizenship=%{location}<extra></extra>",
         "locationmode": "country names",
         "locations": [
          "CHAD"
         ],
         "name": "85",
         "showlegend": true,
         "showscale": false,
         "type": "choropleth",
         "z": [
          1
         ]
        },
        {
         "colorscale": [
          [
           0,
           "#19d3f3"
          ],
          [
           1,
           "#19d3f3"
          ]
         ],
         "geo": "geo",
         "hovertemplate": "Total SEVIS IDS=78<br>Country of Citizenship=%{location}<extra></extra>",
         "locationmode": "country names",
         "locations": [
          "SURINAME"
         ],
         "name": "78",
         "showlegend": true,
         "showscale": false,
         "type": "choropleth",
         "z": [
          1
         ]
        },
        {
         "colorscale": [
          [
           0,
           "#FF6692"
          ],
          [
           1,
           "#FF6692"
          ]
         ],
         "geo": "geo",
         "hovertemplate": "Total SEVIS IDS=77<br>Country of Citizenship=%{location}<extra></extra>",
         "locationmode": "country names",
         "locations": [
          "LESOTHO"
         ],
         "name": "77",
         "showlegend": true,
         "showscale": false,
         "type": "choropleth",
         "z": [
          1
         ]
        },
        {
         "colorscale": [
          [
           0,
           "#B6E880"
          ],
          [
           1,
           "#B6E880"
          ]
         ],
         "geo": "geo",
         "hovertemplate": "Total SEVIS IDS=74<br>Country of Citizenship=%{location}<extra></extra>",
         "locationmode": "country names",
         "locations": [
          "TURKS AND CAICOS ISLANDS"
         ],
         "name": "74",
         "showlegend": true,
         "showscale": false,
         "type": "choropleth",
         "z": [
          1
         ]
        },
        {
         "colorscale": [
          [
           0,
           "#FF97FF"
          ],
          [
           1,
           "#FF97FF"
          ]
         ],
         "geo": "geo",
         "hovertemplate": "Total SEVIS IDS=72<br>Country of Citizenship=%{location}<extra></extra>",
         "locationmode": "country names",
         "locations": [
          "FIJI"
         ],
         "name": "72",
         "showlegend": true,
         "showscale": false,
         "type": "choropleth",
         "z": [
          1
         ]
        },
        {
         "colorscale": [
          [
           0,
           "#FECB52"
          ],
          [
           1,
           "#FECB52"
          ]
         ],
         "geo": "geo",
         "hovertemplate": "Total SEVIS IDS=62<br>Country of Citizenship=%{location}<extra></extra>",
         "locationmode": "country names",
         "locations": [
          "MAURITANIA"
         ],
         "name": "62",
         "showlegend": true,
         "showscale": false,
         "type": "choropleth",
         "z": [
          1
         ]
        },
        {
         "colorscale": [
          [
           0,
           "#636efa"
          ],
          [
           1,
           "#636efa"
          ]
         ],
         "geo": "geo",
         "hovertemplate": "Total SEVIS IDS=61<br>Country of Citizenship=%{location}<extra></extra>",
         "locationmode": "country names",
         "locations": [
          "BRITISH VIRGIN ISLANDS"
         ],
         "name": "61",
         "showlegend": true,
         "showscale": false,
         "type": "choropleth",
         "z": [
          1
         ]
        },
        {
         "colorscale": [
          [
           0,
           "#EF553B"
          ],
          [
           1,
           "#EF553B"
          ]
         ],
         "geo": "geo",
         "hovertemplate": "Total SEVIS IDS=50<br>Country of Citizenship=%{location}<extra></extra>",
         "locationmode": "country names",
         "locations": [
          "STATELESS"
         ],
         "name": "50",
         "showlegend": true,
         "showscale": false,
         "type": "choropleth",
         "z": [
          1
         ]
        },
        {
         "colorscale": [
          [
           0,
           "#00cc96"
          ],
          [
           1,
           "#00cc96"
          ]
         ],
         "geo": "geo",
         "hovertemplate": "Total SEVIS IDS=41<br>Country of Citizenship=%{location}<extra></extra>",
         "locationmode": "country names",
         "locations": [
          "SINT MAARTEN"
         ],
         "name": "41",
         "showlegend": true,
         "showscale": false,
         "type": "choropleth",
         "z": [
          1
         ]
        },
        {
         "colorscale": [
          [
           0,
           "#ab63fa"
          ],
          [
           1,
           "#ab63fa"
          ]
         ],
         "geo": "geo",
         "hovertemplate": "Total SEVIS IDS=39<br>Country of Citizenship=%{location}<extra></extra>",
         "locationmode": "country names",
         "locations": [
          "BRUNEI"
         ],
         "name": "39",
         "showlegend": true,
         "showscale": false,
         "type": "choropleth",
         "z": [
          1
         ]
        },
        {
         "colorscale": [
          [
           0,
           "#FFA15A"
          ],
          [
           1,
           "#FFA15A"
          ]
         ],
         "geo": "geo",
         "hovertemplate": "Total SEVIS IDS=36<br>Country of Citizenship=%{location}<extra></extra>",
         "locationmode": "country names",
         "locations": [
          "MALDIVES"
         ],
         "name": "36",
         "showlegend": true,
         "showscale": false,
         "type": "choropleth",
         "z": [
          1
         ]
        },
        {
         "colorscale": [
          [
           0,
           "#19d3f3"
          ],
          [
           1,
           "#19d3f3"
          ]
         ],
         "geo": "geo",
         "hovertemplate": "Total SEVIS IDS=34<br>Country of Citizenship=%{location}<extra></extra>",
         "locationmode": "country names",
         "locations": [
          "TONGA"
         ],
         "name": "34",
         "showlegend": true,
         "showscale": false,
         "type": "choropleth",
         "z": [
          1
         ]
        },
        {
         "colorscale": [
          [
           0,
           "#FF6692"
          ],
          [
           1,
           "#FF6692"
          ]
         ],
         "geo": "geo",
         "hovertemplate": "Total SEVIS IDS=33<br>Country of Citizenship=%{location}<extra></extra>",
         "locationmode": "country names",
         "locations": [
          "ANDORRA"
         ],
         "name": "33",
         "showlegend": true,
         "showscale": false,
         "type": "choropleth",
         "z": [
          1
         ]
        },
        {
         "colorscale": [
          [
           0,
           "#B6E880"
          ],
          [
           1,
           "#B6E880"
          ]
         ],
         "geo": "geo",
         "hovertemplate": "Total SEVIS IDS=23<br>Country of Citizenship=%{location}<extra></extra>",
         "locationmode": "country names",
         "locations": [
          "FRENCH POLYNESIA"
         ],
         "name": "23",
         "showlegend": true,
         "showscale": false,
         "type": "choropleth",
         "z": [
          1
         ]
        },
        {
         "colorscale": [
          [
           0,
           "#FF97FF"
          ],
          [
           1,
           "#FF97FF"
          ]
         ],
         "geo": "geo",
         "hovertemplate": "Total SEVIS IDS=22<br>Country of Citizenship=%{location}<extra></extra>",
         "locationmode": "country names",
         "locations": [
          "MONACO"
         ],
         "name": "22",
         "showlegend": true,
         "showscale": false,
         "type": "choropleth",
         "z": [
          1
         ]
        },
        {
         "colorscale": [
          [
           0,
           "#FECB52"
          ],
          [
           1,
           "#FECB52"
          ]
         ],
         "geo": "geo",
         "hovertemplate": "Total SEVIS IDS=21<br>Country of Citizenship=%{location}<extra></extra>",
         "locationmode": "country names",
         "locations": [
          "CENTRAL AFRICAN REPUBLIC"
         ],
         "name": "21",
         "showlegend": true,
         "showscale": false,
         "type": "choropleth",
         "z": [
          1
         ]
        },
        {
         "colorscale": [
          [
           0,
           "#636efa"
          ],
          [
           1,
           "#636efa"
          ]
         ],
         "geo": "geo",
         "hovertemplate": "Total SEVIS IDS=20<br>Country of Citizenship=%{location}<extra></extra>",
         "locationmode": "country names",
         "locations": [
          "LIECHTENSTEIN",
          "SAINT MARTIN",
          "SAMOA"
         ],
         "name": "20",
         "showlegend": true,
         "showscale": false,
         "type": "choropleth",
         "z": [
          1,
          1,
          1
         ]
        },
        {
         "colorscale": [
          [
           0,
           "#EF553B"
          ],
          [
           1,
           "#EF553B"
          ]
         ],
         "geo": "geo",
         "hovertemplate": "Total SEVIS IDS=18<br>Country of Citizenship=%{location}<extra></extra>",
         "locationmode": "country names",
         "locations": [
          "TIMOR-LESTE"
         ],
         "name": "18",
         "showlegend": true,
         "showscale": false,
         "type": "choropleth",
         "z": [
          1
         ]
        },
        {
         "colorscale": [
          [
           0,
           "#00cc96"
          ],
          [
           1,
           "#00cc96"
          ]
         ],
         "geo": "geo",
         "hovertemplate": "Total SEVIS IDS=17<br>Country of Citizenship=%{location}<extra></extra>",
         "locationmode": "country names",
         "locations": [
          "GUINEA-BISSAU"
         ],
         "name": "17",
         "showlegend": true,
         "showscale": false,
         "type": "choropleth",
         "z": [
          1
         ]
        },
        {
         "colorscale": [
          [
           0,
           "#ab63fa"
          ],
          [
           1,
           "#ab63fa"
          ]
         ],
         "geo": "geo",
         "hovertemplate": "Total SEVIS IDS=16<br>Country of Citizenship=%{location}<extra></extra>",
         "locationmode": "country names",
         "locations": [
          "SEYCHELLES"
         ],
         "name": "16",
         "showlegend": true,
         "showscale": false,
         "type": "choropleth",
         "z": [
          1
         ]
        },
        {
         "colorscale": [
          [
           0,
           "#FFA15A"
          ],
          [
           1,
           "#FFA15A"
          ]
         ],
         "geo": "geo",
         "hovertemplate": "Total SEVIS IDS=14<br>Country of Citizenship=%{location}<extra></extra>",
         "locationmode": "country names",
         "locations": [
          "ANGUILLA"
         ],
         "name": "14",
         "showlegend": true,
         "showscale": false,
         "type": "choropleth",
         "z": [
          1
         ]
        },
        {
         "colorscale": [
          [
           0,
           "#19d3f3"
          ],
          [
           1,
           "#19d3f3"
          ]
         ],
         "geo": "geo",
         "hovertemplate": "Total SEVIS IDS=13<br>Country of Citizenship=%{location}<extra></extra>",
         "locationmode": "country names",
         "locations": [
          "KIRIBATI"
         ],
         "name": "13",
         "showlegend": true,
         "showscale": false,
         "type": "choropleth",
         "z": [
          1
         ]
        },
        {
         "colorscale": [
          [
           0,
           "#FF6692"
          ],
          [
           1,
           "#FF6692"
          ]
         ],
         "geo": "geo",
         "hovertemplate": "Total SEVIS IDS=12<br>Country of Citizenship=%{location}<extra></extra>",
         "locationmode": "country names",
         "locations": [
          "SOLOMON ISLANDS"
         ],
         "name": "12",
         "showlegend": true,
         "showscale": false,
         "type": "choropleth",
         "z": [
          1
         ]
        },
        {
         "colorscale": [
          [
           0,
           "#B6E880"
          ],
          [
           1,
           "#B6E880"
          ]
         ],
         "geo": "geo",
         "hovertemplate": "Total SEVIS IDS=10<br>Country of Citizenship=%{location}<extra></extra>",
         "locationmode": "country names",
         "locations": [
          "BASSAS DA INDIA"
         ],
         "name": "10",
         "showlegend": true,
         "showscale": false,
         "type": "choropleth",
         "z": [
          1
         ]
        },
        {
         "colorscale": [
          [
           0,
           "#FF97FF"
          ],
          [
           1,
           "#FF97FF"
          ]
         ],
         "geo": "geo",
         "hovertemplate": "Total SEVIS IDS=9<br>Country of Citizenship=%{location}<extra></extra>",
         "locationmode": "country names",
         "locations": [
          "SAN MARINO"
         ],
         "name": "9",
         "showlegend": true,
         "showscale": false,
         "type": "choropleth",
         "z": [
          1
         ]
        },
        {
         "colorscale": [
          [
           0,
           "#FECB52"
          ],
          [
           1,
           "#FECB52"
          ]
         ],
         "geo": "geo",
         "hovertemplate": "Total SEVIS IDS=8<br>Country of Citizenship=%{location}<extra></extra>",
         "locationmode": "country names",
         "locations": [
          "ISLE OF MAN",
          "JERSEY",
          "REUNION"
         ],
         "name": "8",
         "showlegend": true,
         "showscale": false,
         "type": "choropleth",
         "z": [
          1,
          1,
          1
         ]
        },
        {
         "colorscale": [
          [
           0,
           "#636efa"
          ],
          [
           1,
           "#636efa"
          ]
         ],
         "geo": "geo",
         "hovertemplate": "Total SEVIS IDS=7<br>Country of Citizenship=%{location}<extra></extra>",
         "locationmode": "country names",
         "locations": [
          "COMOROS",
          "UNKNOWN"
         ],
         "name": "7",
         "showlegend": true,
         "showscale": false,
         "type": "choropleth",
         "z": [
          1,
          1
         ]
        },
        {
         "colorscale": [
          [
           0,
           "#EF553B"
          ],
          [
           1,
           "#EF553B"
          ]
         ],
         "geo": "geo",
         "hovertemplate": "Total SEVIS IDS=6<br>Country of Citizenship=%{location}<extra></extra>",
         "locationmode": "country names",
         "locations": [
          "MARTINIQUE"
         ],
         "name": "6",
         "showlegend": true,
         "showscale": false,
         "type": "choropleth",
         "z": [
          1
         ]
        },
        {
         "colorscale": [
          [
           0,
           "#00cc96"
          ],
          [
           1,
           "#00cc96"
          ]
         ],
         "geo": "geo",
         "hovertemplate": "Total SEVIS IDS=5<br>Country of Citizenship=%{location}<extra></extra>",
         "locationmode": "country names",
         "locations": [
          "VANUATU"
         ],
         "name": "5",
         "showlegend": true,
         "showscale": false,
         "type": "choropleth",
         "z": [
          1
         ]
        },
        {
         "colorscale": [
          [
           0,
           "#ab63fa"
          ],
          [
           1,
           "#ab63fa"
          ]
         ],
         "geo": "geo",
         "hovertemplate": "Total SEVIS IDS=4<br>Country of Citizenship=%{location}<extra></extra>",
         "locationmode": "country names",
         "locations": [
          "BRITISH INDIAN OCEAN TERRITORY",
          "DJIBOUTI",
          "GIBRALTAR",
          "NEW CALEDONIA"
         ],
         "name": "4",
         "showlegend": true,
         "showscale": false,
         "type": "choropleth",
         "z": [
          1,
          1,
          1,
          1
         ]
        },
        {
         "colorscale": [
          [
           0,
           "#FFA15A"
          ],
          [
           1,
           "#FFA15A"
          ]
         ],
         "geo": "geo",
         "hovertemplate": "Total SEVIS IDS=3<br>Country of Citizenship=%{location}<extra></extra>",
         "locationmode": "country names",
         "locations": [
          "FRENCH GUIANA",
          "GUERNSEY",
          "MONTSERRAT",
          "SAO TOME AND PRINCIPE"
         ],
         "name": "3",
         "showlegend": true,
         "showscale": false,
         "type": "choropleth",
         "z": [
          1,
          1,
          1,
          1
         ]
        },
        {
         "colorscale": [
          [
           0,
           "#19d3f3"
          ],
          [
           1,
           "#19d3f3"
          ]
         ],
         "geo": "geo",
         "hovertemplate": "Total SEVIS IDS=2<br>Country of Citizenship=%{location}<extra></extra>",
         "locationmode": "country names",
         "locations": [
          "FAROE ISLANDS",
          "PALAU"
         ],
         "name": "2",
         "showlegend": true,
         "showscale": false,
         "type": "choropleth",
         "z": [
          1,
          1
         ]
        },
        {
         "colorscale": [
          [
           0,
           "#FF6692"
          ],
          [
           1,
           "#FF6692"
          ]
         ],
         "geo": "geo",
         "hovertemplate": "Total SEVIS IDS=1<br>Country of Citizenship=%{location}<extra></extra>",
         "locationmode": "country names",
         "locations": [
          "GREENLAND",
          "JAN MAYEN",
          "NETHERLANDS ANTILLES",
          "NEUTRAL ZONE",
          "NIUE",
          "SAINT PIERRE AND MIQUELON",
          "TROMELIN ISLAND",
          "TUVALU"
         ],
         "name": "1",
         "showlegend": true,
         "showscale": false,
         "type": "choropleth",
         "z": [
          1,
          1,
          1,
          1,
          1,
          1,
          1,
          1
         ]
        }
       ],
       "layout": {
        "geo": {
         "center": {},
         "domain": {
          "x": [
           0,
           1
          ],
          "y": [
           0,
           1
          ]
         },
         "showcoastlines": true
        },
        "legend": {
         "title": {
          "text": "Total SEVIS IDS"
         },
         "tracegroupgap": 0
        },
        "template": {
         "data": {
          "bar": [
           {
            "error_x": {
             "color": "#2a3f5f"
            },
            "error_y": {
             "color": "#2a3f5f"
            },
            "marker": {
             "line": {
              "color": "#E5ECF6",
              "width": 0.5
             },
             "pattern": {
              "fillmode": "overlay",
              "size": 10,
              "solidity": 0.2
             }
            },
            "type": "bar"
           }
          ],
          "barpolar": [
           {
            "marker": {
             "line": {
              "color": "#E5ECF6",
              "width": 0.5
             },
             "pattern": {
              "fillmode": "overlay",
              "size": 10,
              "solidity": 0.2
             }
            },
            "type": "barpolar"
           }
          ],
          "carpet": [
           {
            "aaxis": {
             "endlinecolor": "#2a3f5f",
             "gridcolor": "white",
             "linecolor": "white",
             "minorgridcolor": "white",
             "startlinecolor": "#2a3f5f"
            },
            "baxis": {
             "endlinecolor": "#2a3f5f",
             "gridcolor": "white",
             "linecolor": "white",
             "minorgridcolor": "white",
             "startlinecolor": "#2a3f5f"
            },
            "type": "carpet"
           }
          ],
          "choropleth": [
           {
            "colorbar": {
             "outlinewidth": 0,
             "ticks": ""
            },
            "type": "choropleth"
           }
          ],
          "contour": [
           {
            "colorbar": {
             "outlinewidth": 0,
             "ticks": ""
            },
            "colorscale": [
             [
              0,
              "#0d0887"
             ],
             [
              0.1111111111111111,
              "#46039f"
             ],
             [
              0.2222222222222222,
              "#7201a8"
             ],
             [
              0.3333333333333333,
              "#9c179e"
             ],
             [
              0.4444444444444444,
              "#bd3786"
             ],
             [
              0.5555555555555556,
              "#d8576b"
             ],
             [
              0.6666666666666666,
              "#ed7953"
             ],
             [
              0.7777777777777778,
              "#fb9f3a"
             ],
             [
              0.8888888888888888,
              "#fdca26"
             ],
             [
              1,
              "#f0f921"
             ]
            ],
            "type": "contour"
           }
          ],
          "contourcarpet": [
           {
            "colorbar": {
             "outlinewidth": 0,
             "ticks": ""
            },
            "type": "contourcarpet"
           }
          ],
          "heatmap": [
           {
            "colorbar": {
             "outlinewidth": 0,
             "ticks": ""
            },
            "colorscale": [
             [
              0,
              "#0d0887"
             ],
             [
              0.1111111111111111,
              "#46039f"
             ],
             [
              0.2222222222222222,
              "#7201a8"
             ],
             [
              0.3333333333333333,
              "#9c179e"
             ],
             [
              0.4444444444444444,
              "#bd3786"
             ],
             [
              0.5555555555555556,
              "#d8576b"
             ],
             [
              0.6666666666666666,
              "#ed7953"
             ],
             [
              0.7777777777777778,
              "#fb9f3a"
             ],
             [
              0.8888888888888888,
              "#fdca26"
             ],
             [
              1,
              "#f0f921"
             ]
            ],
            "type": "heatmap"
           }
          ],
          "heatmapgl": [
           {
            "colorbar": {
             "outlinewidth": 0,
             "ticks": ""
            },
            "colorscale": [
             [
              0,
              "#0d0887"
             ],
             [
              0.1111111111111111,
              "#46039f"
             ],
             [
              0.2222222222222222,
              "#7201a8"
             ],
             [
              0.3333333333333333,
              "#9c179e"
             ],
             [
              0.4444444444444444,
              "#bd3786"
             ],
             [
              0.5555555555555556,
              "#d8576b"
             ],
             [
              0.6666666666666666,
              "#ed7953"
             ],
             [
              0.7777777777777778,
              "#fb9f3a"
             ],
             [
              0.8888888888888888,
              "#fdca26"
             ],
             [
              1,
              "#f0f921"
             ]
            ],
            "type": "heatmapgl"
           }
          ],
          "histogram": [
           {
            "marker": {
             "pattern": {
              "fillmode": "overlay",
              "size": 10,
              "solidity": 0.2
             }
            },
            "type": "histogram"
           }
          ],
          "histogram2d": [
           {
            "colorbar": {
             "outlinewidth": 0,
             "ticks": ""
            },
            "colorscale": [
             [
              0,
              "#0d0887"
             ],
             [
              0.1111111111111111,
              "#46039f"
             ],
             [
              0.2222222222222222,
              "#7201a8"
             ],
             [
              0.3333333333333333,
              "#9c179e"
             ],
             [
              0.4444444444444444,
              "#bd3786"
             ],
             [
              0.5555555555555556,
              "#d8576b"
             ],
             [
              0.6666666666666666,
              "#ed7953"
             ],
             [
              0.7777777777777778,
              "#fb9f3a"
             ],
             [
              0.8888888888888888,
              "#fdca26"
             ],
             [
              1,
              "#f0f921"
             ]
            ],
            "type": "histogram2d"
           }
          ],
          "histogram2dcontour": [
           {
            "colorbar": {
             "outlinewidth": 0,
             "ticks": ""
            },
            "colorscale": [
             [
              0,
              "#0d0887"
             ],
             [
              0.1111111111111111,
              "#46039f"
             ],
             [
              0.2222222222222222,
              "#7201a8"
             ],
             [
              0.3333333333333333,
              "#9c179e"
             ],
             [
              0.4444444444444444,
              "#bd3786"
             ],
             [
              0.5555555555555556,
              "#d8576b"
             ],
             [
              0.6666666666666666,
              "#ed7953"
             ],
             [
              0.7777777777777778,
              "#fb9f3a"
             ],
             [
              0.8888888888888888,
              "#fdca26"
             ],
             [
              1,
              "#f0f921"
             ]
            ],
            "type": "histogram2dcontour"
           }
          ],
          "mesh3d": [
           {
            "colorbar": {
             "outlinewidth": 0,
             "ticks": ""
            },
            "type": "mesh3d"
           }
          ],
          "parcoords": [
           {
            "line": {
             "colorbar": {
              "outlinewidth": 0,
              "ticks": ""
             }
            },
            "type": "parcoords"
           }
          ],
          "pie": [
           {
            "automargin": true,
            "type": "pie"
           }
          ],
          "scatter": [
           {
            "fillpattern": {
             "fillmode": "overlay",
             "size": 10,
             "solidity": 0.2
            },
            "type": "scatter"
           }
          ],
          "scatter3d": [
           {
            "line": {
             "colorbar": {
              "outlinewidth": 0,
              "ticks": ""
             }
            },
            "marker": {
             "colorbar": {
              "outlinewidth": 0,
              "ticks": ""
             }
            },
            "type": "scatter3d"
           }
          ],
          "scattercarpet": [
           {
            "marker": {
             "colorbar": {
              "outlinewidth": 0,
              "ticks": ""
             }
            },
            "type": "scattercarpet"
           }
          ],
          "scattergeo": [
           {
            "marker": {
             "colorbar": {
              "outlinewidth": 0,
              "ticks": ""
             }
            },
            "type": "scattergeo"
           }
          ],
          "scattergl": [
           {
            "marker": {
             "colorbar": {
              "outlinewidth": 0,
              "ticks": ""
             }
            },
            "type": "scattergl"
           }
          ],
          "scattermapbox": [
           {
            "marker": {
             "colorbar": {
              "outlinewidth": 0,
              "ticks": ""
             }
            },
            "type": "scattermapbox"
           }
          ],
          "scatterpolar": [
           {
            "marker": {
             "colorbar": {
              "outlinewidth": 0,
              "ticks": ""
             }
            },
            "type": "scatterpolar"
           }
          ],
          "scatterpolargl": [
           {
            "marker": {
             "colorbar": {
              "outlinewidth": 0,
              "ticks": ""
             }
            },
            "type": "scatterpolargl"
           }
          ],
          "scatterternary": [
           {
            "marker": {
             "colorbar": {
              "outlinewidth": 0,
              "ticks": ""
             }
            },
            "type": "scatterternary"
           }
          ],
          "surface": [
           {
            "colorbar": {
             "outlinewidth": 0,
             "ticks": ""
            },
            "colorscale": [
             [
              0,
              "#0d0887"
             ],
             [
              0.1111111111111111,
              "#46039f"
             ],
             [
              0.2222222222222222,
              "#7201a8"
             ],
             [
              0.3333333333333333,
              "#9c179e"
             ],
             [
              0.4444444444444444,
              "#bd3786"
             ],
             [
              0.5555555555555556,
              "#d8576b"
             ],
             [
              0.6666666666666666,
              "#ed7953"
             ],
             [
              0.7777777777777778,
              "#fb9f3a"
             ],
             [
              0.8888888888888888,
              "#fdca26"
             ],
             [
              1,
              "#f0f921"
             ]
            ],
            "type": "surface"
           }
          ],
          "table": [
           {
            "cells": {
             "fill": {
              "color": "#EBF0F8"
             },
             "line": {
              "color": "white"
             }
            },
            "header": {
             "fill": {
              "color": "#C8D4E3"
             },
             "line": {
              "color": "white"
             }
            },
            "type": "table"
           }
          ]
         },
         "layout": {
          "annotationdefaults": {
           "arrowcolor": "#2a3f5f",
           "arrowhead": 0,
           "arrowwidth": 1
          },
          "autotypenumbers": "strict",
          "coloraxis": {
           "colorbar": {
            "outlinewidth": 0,
            "ticks": ""
           }
          },
          "colorscale": {
           "diverging": [
            [
             0,
             "#8e0152"
            ],
            [
             0.1,
             "#c51b7d"
            ],
            [
             0.2,
             "#de77ae"
            ],
            [
             0.3,
             "#f1b6da"
            ],
            [
             0.4,
             "#fde0ef"
            ],
            [
             0.5,
             "#f7f7f7"
            ],
            [
             0.6,
             "#e6f5d0"
            ],
            [
             0.7,
             "#b8e186"
            ],
            [
             0.8,
             "#7fbc41"
            ],
            [
             0.9,
             "#4d9221"
            ],
            [
             1,
             "#276419"
            ]
           ],
           "sequential": [
            [
             0,
             "#0d0887"
            ],
            [
             0.1111111111111111,
             "#46039f"
            ],
            [
             0.2222222222222222,
             "#7201a8"
            ],
            [
             0.3333333333333333,
             "#9c179e"
            ],
            [
             0.4444444444444444,
             "#bd3786"
            ],
            [
             0.5555555555555556,
             "#d8576b"
            ],
            [
             0.6666666666666666,
             "#ed7953"
            ],
            [
             0.7777777777777778,
             "#fb9f3a"
            ],
            [
             0.8888888888888888,
             "#fdca26"
            ],
            [
             1,
             "#f0f921"
            ]
           ],
           "sequentialminus": [
            [
             0,
             "#0d0887"
            ],
            [
             0.1111111111111111,
             "#46039f"
            ],
            [
             0.2222222222222222,
             "#7201a8"
            ],
            [
             0.3333333333333333,
             "#9c179e"
            ],
            [
             0.4444444444444444,
             "#bd3786"
            ],
            [
             0.5555555555555556,
             "#d8576b"
            ],
            [
             0.6666666666666666,
             "#ed7953"
            ],
            [
             0.7777777777777778,
             "#fb9f3a"
            ],
            [
             0.8888888888888888,
             "#fdca26"
            ],
            [
             1,
             "#f0f921"
            ]
           ]
          },
          "colorway": [
           "#636efa",
           "#EF553B",
           "#00cc96",
           "#ab63fa",
           "#FFA15A",
           "#19d3f3",
           "#FF6692",
           "#B6E880",
           "#FF97FF",
           "#FECB52"
          ],
          "font": {
           "color": "#2a3f5f"
          },
          "geo": {
           "bgcolor": "white",
           "lakecolor": "white",
           "landcolor": "#E5ECF6",
           "showlakes": true,
           "showland": true,
           "subunitcolor": "white"
          },
          "hoverlabel": {
           "align": "left"
          },
          "hovermode": "closest",
          "mapbox": {
           "style": "light"
          },
          "paper_bgcolor": "white",
          "plot_bgcolor": "#E5ECF6",
          "polar": {
           "angularaxis": {
            "gridcolor": "white",
            "linecolor": "white",
            "ticks": ""
           },
           "bgcolor": "#E5ECF6",
           "radialaxis": {
            "gridcolor": "white",
            "linecolor": "white",
            "ticks": ""
           }
          },
          "scene": {
           "xaxis": {
            "backgroundcolor": "#E5ECF6",
            "gridcolor": "white",
            "gridwidth": 2,
            "linecolor": "white",
            "showbackground": true,
            "ticks": "",
            "zerolinecolor": "white"
           },
           "yaxis": {
            "backgroundcolor": "#E5ECF6",
            "gridcolor": "white",
            "gridwidth": 2,
            "linecolor": "white",
            "showbackground": true,
            "ticks": "",
            "zerolinecolor": "white"
           },
           "zaxis": {
            "backgroundcolor": "#E5ECF6",
            "gridcolor": "white",
            "gridwidth": 2,
            "linecolor": "white",
            "showbackground": true,
            "ticks": "",
            "zerolinecolor": "white"
           }
          },
          "shapedefaults": {
           "line": {
            "color": "#2a3f5f"
           }
          },
          "ternary": {
           "aaxis": {
            "gridcolor": "white",
            "linecolor": "white",
            "ticks": ""
           },
           "baxis": {
            "gridcolor": "white",
            "linecolor": "white",
            "ticks": ""
           },
           "bgcolor": "#E5ECF6",
           "caxis": {
            "gridcolor": "white",
            "linecolor": "white",
            "ticks": ""
           }
          },
          "title": {
           "x": 0.05
          },
          "xaxis": {
           "automargin": true,
           "gridcolor": "white",
           "linecolor": "white",
           "ticks": "",
           "title": {
            "standoff": 15
           },
           "zerolinecolor": "white",
           "zerolinewidth": 2
          },
          "yaxis": {
           "automargin": true,
           "gridcolor": "white",
           "linecolor": "white",
           "ticks": "",
           "title": {
            "standoff": 15
           },
           "zerolinecolor": "white",
           "zerolinewidth": 2
          }
         }
        },
        "title": {
         "text": "World SEVIS IDS"
        }
       }
      }
     },
     "metadata": {},
     "output_type": "display_data"
    }
   ],
   "source": [
    "fig = px.choropleth(\n",
    "    bigger_df,\n",
    "    locations='Country of Citizenship',  # Column specifying the country names\n",
    "    locationmode='country names',\n",
    "    color='Total SEVIS IDS',  # Column specifying the population\n",
    "    color_continuous_scale='Viridis',  # Color scale\n",
    "    labels={'Total SEVIS IDS': 'Total SEVIS IDS'},  # Labels for hover information\n",
    "    title='World SEVIS IDS'  # Title of the plot\n",
    ")\n",
    "\n",
    "fig.update_geos(showcoastlines=True)  # Display coastlines\n",
    "\n",
    "fig.show()"
   ]
  },
  {
   "cell_type": "code",
   "execution_count": 18,
   "metadata": {},
   "outputs": [
    {
     "name": "stdout",
     "output_type": "stream",
     "text": [
      "<class 'pandas.core.frame.DataFrame'>\n",
      "RangeIndex: 269 entries, 1 to 269\n",
      "Data columns (total 2 columns):\n",
      " #   Column                  Non-Null Count  Dtype \n",
      "---  ------                  --------------  ----- \n",
      " 0   Country of Citizenship  269 non-null    object\n",
      " 1   Total SEVIS IDS         225 non-null    object\n",
      "dtypes: object(2)\n",
      "memory usage: 4.3+ KB\n"
     ]
    }
   ],
   "source": [
    "bigger_df.info()"
   ]
  },
  {
   "cell_type": "code",
   "execution_count": 19,
   "metadata": {},
   "outputs": [
    {
     "data": {
      "text/plain": [
       "Index(['Country of Citizenship', 'Total SEVIS IDS'], dtype='object', name=0)"
      ]
     },
     "execution_count": 19,
     "metadata": {},
     "output_type": "execute_result"
    }
   ],
   "source": [
    "bigger_df.columns"
   ]
  },
  {
   "cell_type": "code",
   "execution_count": 20,
   "metadata": {},
   "outputs": [
    {
     "data": {
      "text/plain": [
       "'324,196'"
      ]
     },
     "execution_count": 20,
     "metadata": {},
     "output_type": "execute_result"
    }
   ],
   "source": [
    "type(bigger_df['Total SEVIS IDS'].values[0])\n",
    "bigger_df['Total SEVIS IDS'].values[0]"
   ]
  },
  {
   "cell_type": "code",
   "execution_count": 21,
   "metadata": {},
   "outputs": [
    {
     "name": "stdout",
     "output_type": "stream",
     "text": [
      "<class 'pandas.core.frame.DataFrame'>\n",
      "Index: 225 entries, 1 to 269\n",
      "Data columns (total 2 columns):\n",
      " #   Column                  Non-Null Count  Dtype \n",
      "---  ------                  --------------  ----- \n",
      " 0   Country of Citizenship  225 non-null    object\n",
      " 1   Total SEVIS IDS         225 non-null    int64 \n",
      "dtypes: int64(1), object(1)\n",
      "memory usage: 5.3+ KB\n"
     ]
    }
   ],
   "source": [
    "def convert_to_int(value):\n",
    "    '''\n",
    "    Purpose: formatting the strings to remove commas and change data type to int data type\n",
    "    Inputs: string to be formatted\n",
    "    Returns: final_number, an int which is the result of the proper formatting\n",
    "    '''\n",
    "\n",
    "    if isinstance(value, str):\n",
    "        return int(value.replace(',', ''))\n",
    "    else:\n",
    "        return int(value)\n",
    "\n",
    "\n",
    "non_null = bigger_df[bigger_df['Total SEVIS IDS'].notnull()]\n",
    "\n",
    "non_null['Total SEVIS IDS'] = non_null['Total SEVIS IDS'].apply(convert_to_int)\n",
    "\n",
    "non_null.info()"
   ]
  },
  {
   "cell_type": "code",
   "execution_count": 22,
   "metadata": {},
   "outputs": [
    {
     "data": {
      "text/plain": [
       "str"
      ]
     },
     "execution_count": 22,
     "metadata": {},
     "output_type": "execute_result"
    }
   ],
   "source": [
    "type(bigger_df['Total SEVIS IDS'].values[0])"
   ]
  },
  {
   "cell_type": "code",
   "execution_count": 23,
   "metadata": {},
   "outputs": [
    {
     "data": {
      "text/plain": [
       "numpy.int64"
      ]
     },
     "execution_count": 23,
     "metadata": {},
     "output_type": "execute_result"
    }
   ],
   "source": [
    "type(non_null['Total SEVIS IDS'].values[0])"
   ]
  },
  {
   "cell_type": "code",
   "execution_count": 24,
   "metadata": {},
   "outputs": [
    {
     "data": {
      "application/vnd.plotly.v1+json": {
       "config": {
        "plotlyServerURL": "https://plot.ly"
       },
       "data": [
        {
         "coloraxis": "coloraxis",
         "geo": "geo",
         "hovertemplate": "Country of Citizenship=%{location}<br>Total SEVIS IDS=%{z}<extra></extra>",
         "locationmode": "country names",
         "locations": [
          "CHINA",
          "INDIA",
          "REPUBLIC OF KOREA (SOUTH KOREA)",
          "CANADA",
          "BRAZIL",
          "VIETNAM",
          "JAPAN",
          "TAIWAN",
          "SAUDI ARABIA",
          "NIGERIA",
          "MEXICO",
          "COLOMBIA",
          "NEPAL",
          "BANGLADESH",
          "GERMANY",
          "UNITED KINGDOM",
          "FRANCE",
          "SPAIN",
          "TURKEY",
          "IRAN",
          "PAKISTAN",
          "ITALY",
          "INDONESIA",
          "THAILAND",
          "RUSSIA",
          "PERU",
          "GHANA",
          "KUWAIT",
          "HONG KONG",
          "VENEZUELA",
          "PHILIPPINES",
          "AUSTRALIA",
          "MALAYSIA",
          "KENYA",
          "ECUADOR",
          "SINGAPORE",
          "ARGENTINA",
          "EGYPT",
          "CHILE",
          "SWEDEN",
          "BAHAMAS, THE",
          "JAMAICA",
          "ETHIOPIA",
          "NETHERLANDS",
          "SOUTH AFRICA",
          "JORDAN",
          "UKRAINE",
          "SWITZERLAND",
          "KAZAKHSTAN",
          "BURMA",
          "SRI LANKA",
          "ISRAEL",
          "NORWAY",
          "DOMINICAN REPUBLIC",
          "PANAMA",
          "MONGOLIA",
          "HONDURAS",
          "GREECE",
          "POLAND",
          "OMAN",
          "CONGO (KINSHASA)",
          "ZIMBABWE",
          "LEBANON",
          "MOROCCO",
          "NEW ZEALAND",
          "BELGIUM",
          "BOLIVIA",
          "DENMARK",
          "RWANDA",
          "COSTA RICA",
          "TRINIDAD AND TOBAGO",
          "SERBIA",
          "UZBEKISTAN",
          "IRELAND",
          "PORTUGAL",
          "UNITED ARAB EMIRATES",
          "GUATEMALA",
          "ALBANIA",
          "COTE D'IVOIRE",
          "AUSTRIA",
          "UGANDA",
          "EL SALVADOR",
          "HAITI",
          "TANZANIA",
          "CAMEROON",
          "TUNISIA",
          "CZECH REPUBLIC",
          "ROMANIA",
          "CAMBODIA",
          "KYRGYZSTAN",
          "HUNGARY",
          "AZERBAIJAN",
          "GEORGIA",
          "ANGOLA",
          "PARAGUAY",
          "FINLAND",
          "ARMENIA",
          "BULGARIA",
          "SENEGAL",
          "ZAMBIA",
          "BELARUS",
          "NICARAGUA",
          "LIBYA",
          "CROATIA",
          "DOMINICA",
          "QATAR",
          "AFGHANISTAN",
          "BURKINA FASO",
          "ALGERIA",
          "SLOVAKIA",
          "ICELAND",
          "URUGUAY",
          "YEMEN",
          "CYPRUS",
          "BELIZE",
          "TURKMENISTAN",
          "LITHUANIA",
          "MALAWI",
          "GUYANA",
          "BERMUDA",
          "IRAQ",
          "MACAU",
          "BARBADOS",
          "SUDAN",
          "WEST BANK",
          "BAHRAIN",
          "MALI",
          "LATVIA",
          "SYRIA",
          "EQUATORIAL GUINEA",
          "GABON",
          "GAMBIA, THE",
          "LIBERIA",
          "SIERRA LEONE",
          "BENIN",
          "BOSNIA AND HERZEGOVINA",
          "MACEDONIA",
          "MAURITIUS",
          "BOTSWANA",
          "TAJIKISTAN",
          "MADAGASCAR",
          "SAINT LUCIA",
          "MONTENEGRO",
          "SLOVENIA",
          "NIGER",
          "ANTIGUA AND BARBUDA",
          "TOGO",
          "KOSOVO",
          "SAINT KITTS AND NEVIS",
          "ESTONIA",
          "MOLDOVA",
          "SWAZILAND",
          "BURUNDI",
          "GRENADA",
          "MOZAMBIQUE",
          "CAYMAN ISLANDS",
          "BHUTAN",
          "CONGO (BRAZZAVILLE)",
          "LAOS",
          "ERITREA",
          "SOUTH SUDAN",
          "CUBA",
          "GAZA STRIP",
          "PAPUA NEW GUINEA",
          "NAMIBIA",
          "CURACAO",
          "SAINT VINCENT AND THE GRENADINES",
          "LUXEMBOURG",
          "GUINEA",
          "SOMALIA",
          "MALTA",
          "ARUBA",
          "CAPE VERDE",
          "CHAD",
          "SURINAME",
          "LESOTHO",
          "TURKS AND CAICOS ISLANDS",
          "FIJI",
          "MAURITANIA",
          "BRITISH VIRGIN ISLANDS",
          "STATELESS",
          "SINT MAARTEN",
          "BRUNEI",
          "MALDIVES",
          "TONGA",
          "ANDORRA",
          "FRENCH POLYNESIA",
          "MONACO",
          "CENTRAL AFRICAN REPUBLIC",
          "LIECHTENSTEIN",
          "SAINT MARTIN",
          "SAMOA",
          "TIMOR-LESTE",
          "GUINEA-BISSAU",
          "SEYCHELLES",
          "ANGUILLA",
          "KIRIBATI",
          "SOLOMON ISLANDS",
          "BASSAS DA INDIA",
          "SAN MARINO",
          "ISLE OF MAN",
          "JERSEY",
          "REUNION",
          "COMOROS",
          "UNKNOWN",
          "MARTINIQUE",
          "VANUATU",
          "BRITISH INDIAN OCEAN TERRITORY",
          "DJIBOUTI",
          "GIBRALTAR",
          "NEW CALEDONIA",
          "FRENCH GUIANA",
          "GUERNSEY",
          "MONTSERRAT",
          "SAO TOME AND PRINCIPE",
          "FAROE ISLANDS",
          "PALAU",
          "GREENLAND",
          "JAN MAYEN",
          "NETHERLANDS ANTILLES",
          "NEUTRAL ZONE",
          "NIUE",
          "SAINT PIERRE AND MIQUELON",
          "TROMELIN ISLAND",
          "TUVALU"
         ],
         "name": "",
         "type": "choropleth",
         "z": [
          324196,
          297151,
          62617,
          41392,
          37904,
          29742,
          26519,
          26225,
          24485,
          22935,
          22715,
          20744,
          20344,
          18184,
          16097,
          15144,
          14713,
          14444,
          14009,
          12183,
          11993,
          11435,
          8932,
          8777,
          7625,
          7560,
          7537,
          7509,
          7500,
          7131,
          6278,
          5990,
          5887,
          5792,
          5650,
          5166,
          4996,
          4855,
          4697,
          4570,
          4510,
          4492,
          4274,
          4262,
          4036,
          3925,
          3806,
          3737,
          3731,
          3592,
          3570,
          3549,
          3474,
          3414,
          3363,
          3282,
          3253,
          2949,
          2853,
          2546,
          2543,
          2325,
          2319,
          2236,
          2084,
          1994,
          1909,
          1909,
          1887,
          1861,
          1800,
          1798,
          1736,
          1731,
          1728,
          1725,
          1668,
          1665,
          1643,
          1557,
          1525,
          1485,
          1377,
          1373,
          1341,
          1330,
          1277,
          1213,
          1197,
          1197,
          1165,
          1135,
          1078,
          947,
          848,
          830,
          806,
          798,
          798,
          786,
          757,
          719,
          712,
          649,
          628,
          609,
          593,
          582,
          580,
          580,
          573,
          572,
          562,
          522,
          518,
          518,
          506,
          499,
          494,
          484,
          454,
          448,
          446,
          441,
          437,
          426,
          417,
          406,
          406,
          397,
          397,
          392,
          387,
          358,
          352,
          346,
          345,
          327,
          325,
          323,
          321,
          310,
          300,
          292,
          277,
          276,
          271,
          269,
          263,
          255,
          243,
          243,
          232,
          227,
          226,
          224,
          211,
          205,
          177,
          172,
          155,
          154,
          151,
          150,
          149,
          147,
          147,
          144,
          132,
          130,
          108,
          89,
          89,
          85,
          78,
          77,
          74,
          72,
          62,
          61,
          50,
          41,
          39,
          36,
          34,
          33,
          23,
          22,
          21,
          20,
          20,
          20,
          18,
          17,
          16,
          14,
          13,
          12,
          10,
          9,
          8,
          8,
          8,
          7,
          7,
          6,
          5,
          4,
          4,
          4,
          4,
          3,
          3,
          3,
          3,
          2,
          2,
          1,
          1,
          1,
          1,
          1,
          1,
          1,
          1
         ]
        }
       ],
       "layout": {
        "coloraxis": {
         "colorbar": {
          "title": {
           "text": "Total SEVIS IDS"
          }
         },
         "colorscale": [
          [
           0,
           "#440154"
          ],
          [
           0.1111111111111111,
           "#482878"
          ],
          [
           0.2222222222222222,
           "#3e4989"
          ],
          [
           0.3333333333333333,
           "#31688e"
          ],
          [
           0.4444444444444444,
           "#26828e"
          ],
          [
           0.5555555555555556,
           "#1f9e89"
          ],
          [
           0.6666666666666666,
           "#35b779"
          ],
          [
           0.7777777777777778,
           "#6ece58"
          ],
          [
           0.8888888888888888,
           "#b5de2b"
          ],
          [
           1,
           "#fde725"
          ]
         ]
        },
        "geo": {
         "center": {},
         "domain": {
          "x": [
           0,
           1
          ],
          "y": [
           0,
           1
          ]
         },
         "showcoastlines": true
        },
        "legend": {
         "tracegroupgap": 0
        },
        "template": {
         "data": {
          "bar": [
           {
            "error_x": {
             "color": "#2a3f5f"
            },
            "error_y": {
             "color": "#2a3f5f"
            },
            "marker": {
             "line": {
              "color": "#E5ECF6",
              "width": 0.5
             },
             "pattern": {
              "fillmode": "overlay",
              "size": 10,
              "solidity": 0.2
             }
            },
            "type": "bar"
           }
          ],
          "barpolar": [
           {
            "marker": {
             "line": {
              "color": "#E5ECF6",
              "width": 0.5
             },
             "pattern": {
              "fillmode": "overlay",
              "size": 10,
              "solidity": 0.2
             }
            },
            "type": "barpolar"
           }
          ],
          "carpet": [
           {
            "aaxis": {
             "endlinecolor": "#2a3f5f",
             "gridcolor": "white",
             "linecolor": "white",
             "minorgridcolor": "white",
             "startlinecolor": "#2a3f5f"
            },
            "baxis": {
             "endlinecolor": "#2a3f5f",
             "gridcolor": "white",
             "linecolor": "white",
             "minorgridcolor": "white",
             "startlinecolor": "#2a3f5f"
            },
            "type": "carpet"
           }
          ],
          "choropleth": [
           {
            "colorbar": {
             "outlinewidth": 0,
             "ticks": ""
            },
            "type": "choropleth"
           }
          ],
          "contour": [
           {
            "colorbar": {
             "outlinewidth": 0,
             "ticks": ""
            },
            "colorscale": [
             [
              0,
              "#0d0887"
             ],
             [
              0.1111111111111111,
              "#46039f"
             ],
             [
              0.2222222222222222,
              "#7201a8"
             ],
             [
              0.3333333333333333,
              "#9c179e"
             ],
             [
              0.4444444444444444,
              "#bd3786"
             ],
             [
              0.5555555555555556,
              "#d8576b"
             ],
             [
              0.6666666666666666,
              "#ed7953"
             ],
             [
              0.7777777777777778,
              "#fb9f3a"
             ],
             [
              0.8888888888888888,
              "#fdca26"
             ],
             [
              1,
              "#f0f921"
             ]
            ],
            "type": "contour"
           }
          ],
          "contourcarpet": [
           {
            "colorbar": {
             "outlinewidth": 0,
             "ticks": ""
            },
            "type": "contourcarpet"
           }
          ],
          "heatmap": [
           {
            "colorbar": {
             "outlinewidth": 0,
             "ticks": ""
            },
            "colorscale": [
             [
              0,
              "#0d0887"
             ],
             [
              0.1111111111111111,
              "#46039f"
             ],
             [
              0.2222222222222222,
              "#7201a8"
             ],
             [
              0.3333333333333333,
              "#9c179e"
             ],
             [
              0.4444444444444444,
              "#bd3786"
             ],
             [
              0.5555555555555556,
              "#d8576b"
             ],
             [
              0.6666666666666666,
              "#ed7953"
             ],
             [
              0.7777777777777778,
              "#fb9f3a"
             ],
             [
              0.8888888888888888,
              "#fdca26"
             ],
             [
              1,
              "#f0f921"
             ]
            ],
            "type": "heatmap"
           }
          ],
          "heatmapgl": [
           {
            "colorbar": {
             "outlinewidth": 0,
             "ticks": ""
            },
            "colorscale": [
             [
              0,
              "#0d0887"
             ],
             [
              0.1111111111111111,
              "#46039f"
             ],
             [
              0.2222222222222222,
              "#7201a8"
             ],
             [
              0.3333333333333333,
              "#9c179e"
             ],
             [
              0.4444444444444444,
              "#bd3786"
             ],
             [
              0.5555555555555556,
              "#d8576b"
             ],
             [
              0.6666666666666666,
              "#ed7953"
             ],
             [
              0.7777777777777778,
              "#fb9f3a"
             ],
             [
              0.8888888888888888,
              "#fdca26"
             ],
             [
              1,
              "#f0f921"
             ]
            ],
            "type": "heatmapgl"
           }
          ],
          "histogram": [
           {
            "marker": {
             "pattern": {
              "fillmode": "overlay",
              "size": 10,
              "solidity": 0.2
             }
            },
            "type": "histogram"
           }
          ],
          "histogram2d": [
           {
            "colorbar": {
             "outlinewidth": 0,
             "ticks": ""
            },
            "colorscale": [
             [
              0,
              "#0d0887"
             ],
             [
              0.1111111111111111,
              "#46039f"
             ],
             [
              0.2222222222222222,
              "#7201a8"
             ],
             [
              0.3333333333333333,
              "#9c179e"
             ],
             [
              0.4444444444444444,
              "#bd3786"
             ],
             [
              0.5555555555555556,
              "#d8576b"
             ],
             [
              0.6666666666666666,
              "#ed7953"
             ],
             [
              0.7777777777777778,
              "#fb9f3a"
             ],
             [
              0.8888888888888888,
              "#fdca26"
             ],
             [
              1,
              "#f0f921"
             ]
            ],
            "type": "histogram2d"
           }
          ],
          "histogram2dcontour": [
           {
            "colorbar": {
             "outlinewidth": 0,
             "ticks": ""
            },
            "colorscale": [
             [
              0,
              "#0d0887"
             ],
             [
              0.1111111111111111,
              "#46039f"
             ],
             [
              0.2222222222222222,
              "#7201a8"
             ],
             [
              0.3333333333333333,
              "#9c179e"
             ],
             [
              0.4444444444444444,
              "#bd3786"
             ],
             [
              0.5555555555555556,
              "#d8576b"
             ],
             [
              0.6666666666666666,
              "#ed7953"
             ],
             [
              0.7777777777777778,
              "#fb9f3a"
             ],
             [
              0.8888888888888888,
              "#fdca26"
             ],
             [
              1,
              "#f0f921"
             ]
            ],
            "type": "histogram2dcontour"
           }
          ],
          "mesh3d": [
           {
            "colorbar": {
             "outlinewidth": 0,
             "ticks": ""
            },
            "type": "mesh3d"
           }
          ],
          "parcoords": [
           {
            "line": {
             "colorbar": {
              "outlinewidth": 0,
              "ticks": ""
             }
            },
            "type": "parcoords"
           }
          ],
          "pie": [
           {
            "automargin": true,
            "type": "pie"
           }
          ],
          "scatter": [
           {
            "fillpattern": {
             "fillmode": "overlay",
             "size": 10,
             "solidity": 0.2
            },
            "type": "scatter"
           }
          ],
          "scatter3d": [
           {
            "line": {
             "colorbar": {
              "outlinewidth": 0,
              "ticks": ""
             }
            },
            "marker": {
             "colorbar": {
              "outlinewidth": 0,
              "ticks": ""
             }
            },
            "type": "scatter3d"
           }
          ],
          "scattercarpet": [
           {
            "marker": {
             "colorbar": {
              "outlinewidth": 0,
              "ticks": ""
             }
            },
            "type": "scattercarpet"
           }
          ],
          "scattergeo": [
           {
            "marker": {
             "colorbar": {
              "outlinewidth": 0,
              "ticks": ""
             }
            },
            "type": "scattergeo"
           }
          ],
          "scattergl": [
           {
            "marker": {
             "colorbar": {
              "outlinewidth": 0,
              "ticks": ""
             }
            },
            "type": "scattergl"
           }
          ],
          "scattermapbox": [
           {
            "marker": {
             "colorbar": {
              "outlinewidth": 0,
              "ticks": ""
             }
            },
            "type": "scattermapbox"
           }
          ],
          "scatterpolar": [
           {
            "marker": {
             "colorbar": {
              "outlinewidth": 0,
              "ticks": ""
             }
            },
            "type": "scatterpolar"
           }
          ],
          "scatterpolargl": [
           {
            "marker": {
             "colorbar": {
              "outlinewidth": 0,
              "ticks": ""
             }
            },
            "type": "scatterpolargl"
           }
          ],
          "scatterternary": [
           {
            "marker": {
             "colorbar": {
              "outlinewidth": 0,
              "ticks": ""
             }
            },
            "type": "scatterternary"
           }
          ],
          "surface": [
           {
            "colorbar": {
             "outlinewidth": 0,
             "ticks": ""
            },
            "colorscale": [
             [
              0,
              "#0d0887"
             ],
             [
              0.1111111111111111,
              "#46039f"
             ],
             [
              0.2222222222222222,
              "#7201a8"
             ],
             [
              0.3333333333333333,
              "#9c179e"
             ],
             [
              0.4444444444444444,
              "#bd3786"
             ],
             [
              0.5555555555555556,
              "#d8576b"
             ],
             [
              0.6666666666666666,
              "#ed7953"
             ],
             [
              0.7777777777777778,
              "#fb9f3a"
             ],
             [
              0.8888888888888888,
              "#fdca26"
             ],
             [
              1,
              "#f0f921"
             ]
            ],
            "type": "surface"
           }
          ],
          "table": [
           {
            "cells": {
             "fill": {
              "color": "#EBF0F8"
             },
             "line": {
              "color": "white"
             }
            },
            "header": {
             "fill": {
              "color": "#C8D4E3"
             },
             "line": {
              "color": "white"
             }
            },
            "type": "table"
           }
          ]
         },
         "layout": {
          "annotationdefaults": {
           "arrowcolor": "#2a3f5f",
           "arrowhead": 0,
           "arrowwidth": 1
          },
          "autotypenumbers": "strict",
          "coloraxis": {
           "colorbar": {
            "outlinewidth": 0,
            "ticks": ""
           }
          },
          "colorscale": {
           "diverging": [
            [
             0,
             "#8e0152"
            ],
            [
             0.1,
             "#c51b7d"
            ],
            [
             0.2,
             "#de77ae"
            ],
            [
             0.3,
             "#f1b6da"
            ],
            [
             0.4,
             "#fde0ef"
            ],
            [
             0.5,
             "#f7f7f7"
            ],
            [
             0.6,
             "#e6f5d0"
            ],
            [
             0.7,
             "#b8e186"
            ],
            [
             0.8,
             "#7fbc41"
            ],
            [
             0.9,
             "#4d9221"
            ],
            [
             1,
             "#276419"
            ]
           ],
           "sequential": [
            [
             0,
             "#0d0887"
            ],
            [
             0.1111111111111111,
             "#46039f"
            ],
            [
             0.2222222222222222,
             "#7201a8"
            ],
            [
             0.3333333333333333,
             "#9c179e"
            ],
            [
             0.4444444444444444,
             "#bd3786"
            ],
            [
             0.5555555555555556,
             "#d8576b"
            ],
            [
             0.6666666666666666,
             "#ed7953"
            ],
            [
             0.7777777777777778,
             "#fb9f3a"
            ],
            [
             0.8888888888888888,
             "#fdca26"
            ],
            [
             1,
             "#f0f921"
            ]
           ],
           "sequentialminus": [
            [
             0,
             "#0d0887"
            ],
            [
             0.1111111111111111,
             "#46039f"
            ],
            [
             0.2222222222222222,
             "#7201a8"
            ],
            [
             0.3333333333333333,
             "#9c179e"
            ],
            [
             0.4444444444444444,
             "#bd3786"
            ],
            [
             0.5555555555555556,
             "#d8576b"
            ],
            [
             0.6666666666666666,
             "#ed7953"
            ],
            [
             0.7777777777777778,
             "#fb9f3a"
            ],
            [
             0.8888888888888888,
             "#fdca26"
            ],
            [
             1,
             "#f0f921"
            ]
           ]
          },
          "colorway": [
           "#636efa",
           "#EF553B",
           "#00cc96",
           "#ab63fa",
           "#FFA15A",
           "#19d3f3",
           "#FF6692",
           "#B6E880",
           "#FF97FF",
           "#FECB52"
          ],
          "font": {
           "color": "#2a3f5f"
          },
          "geo": {
           "bgcolor": "white",
           "lakecolor": "white",
           "landcolor": "#E5ECF6",
           "showlakes": true,
           "showland": true,
           "subunitcolor": "white"
          },
          "hoverlabel": {
           "align": "left"
          },
          "hovermode": "closest",
          "mapbox": {
           "style": "light"
          },
          "paper_bgcolor": "white",
          "plot_bgcolor": "#E5ECF6",
          "polar": {
           "angularaxis": {
            "gridcolor": "white",
            "linecolor": "white",
            "ticks": ""
           },
           "bgcolor": "#E5ECF6",
           "radialaxis": {
            "gridcolor": "white",
            "linecolor": "white",
            "ticks": ""
           }
          },
          "scene": {
           "xaxis": {
            "backgroundcolor": "#E5ECF6",
            "gridcolor": "white",
            "gridwidth": 2,
            "linecolor": "white",
            "showbackground": true,
            "ticks": "",
            "zerolinecolor": "white"
           },
           "yaxis": {
            "backgroundcolor": "#E5ECF6",
            "gridcolor": "white",
            "gridwidth": 2,
            "linecolor": "white",
            "showbackground": true,
            "ticks": "",
            "zerolinecolor": "white"
           },
           "zaxis": {
            "backgroundcolor": "#E5ECF6",
            "gridcolor": "white",
            "gridwidth": 2,
            "linecolor": "white",
            "showbackground": true,
            "ticks": "",
            "zerolinecolor": "white"
           }
          },
          "shapedefaults": {
           "line": {
            "color": "#2a3f5f"
           }
          },
          "ternary": {
           "aaxis": {
            "gridcolor": "white",
            "linecolor": "white",
            "ticks": ""
           },
           "baxis": {
            "gridcolor": "white",
            "linecolor": "white",
            "ticks": ""
           },
           "bgcolor": "#E5ECF6",
           "caxis": {
            "gridcolor": "white",
            "linecolor": "white",
            "ticks": ""
           }
          },
          "title": {
           "x": 0.05
          },
          "xaxis": {
           "automargin": true,
           "gridcolor": "white",
           "linecolor": "white",
           "ticks": "",
           "title": {
            "standoff": 15
           },
           "zerolinecolor": "white",
           "zerolinewidth": 2
          },
          "yaxis": {
           "automargin": true,
           "gridcolor": "white",
           "linecolor": "white",
           "ticks": "",
           "title": {
            "standoff": 15
           },
           "zerolinecolor": "white",
           "zerolinewidth": 2
          }
         }
        },
        "title": {
         "text": "World SEVIS IDS"
        }
       }
      }
     },
     "metadata": {},
     "output_type": "display_data"
    }
   ],
   "source": [
    "fig = px.choropleth(\n",
    "    non_null,\n",
    "    locations='Country of Citizenship',  # Column specifying the country names\n",
    "    locationmode='country names',\n",
    "    color='Total SEVIS IDS',  # Column specifying the population\n",
    "    color_continuous_scale='Viridis',  # Color scale\n",
    "    labels={'Total SEVIS IDS': 'Total SEVIS IDS'},  # Labels for hover information\n",
    "    title='World SEVIS IDS'  # Title of the plot\n",
    ")\n",
    "\n",
    "fig.update_geos(showcoastlines=True)  # Display coastlines\n",
    "\n",
    "fig.show()"
   ]
  },
  {
   "cell_type": "code",
   "execution_count": 25,
   "metadata": {},
   "outputs": [
    {
     "data": {
      "text/html": [
       "<div>\n",
       "<style scoped>\n",
       "    .dataframe tbody tr th:only-of-type {\n",
       "        vertical-align: middle;\n",
       "    }\n",
       "\n",
       "    .dataframe tbody tr th {\n",
       "        vertical-align: top;\n",
       "    }\n",
       "\n",
       "    .dataframe thead th {\n",
       "        text-align: right;\n",
       "    }\n",
       "</style>\n",
       "<table border=\"1\" class=\"dataframe\">\n",
       "  <thead>\n",
       "    <tr style=\"text-align: right;\">\n",
       "      <th></th>\n",
       "      <th>Country of Citizenship</th>\n",
       "      <th>Total SEVIS IDS</th>\n",
       "    </tr>\n",
       "  </thead>\n",
       "  <tbody>\n",
       "    <tr>\n",
       "      <th>1</th>\n",
       "      <td>CHINA</td>\n",
       "      <td>324196</td>\n",
       "    </tr>\n",
       "    <tr>\n",
       "      <th>2</th>\n",
       "      <td>INDIA</td>\n",
       "      <td>297151</td>\n",
       "    </tr>\n",
       "    <tr>\n",
       "      <th>3</th>\n",
       "      <td>REPUBLIC OF KOREA (SOUTH KOREA)</td>\n",
       "      <td>62617</td>\n",
       "    </tr>\n",
       "    <tr>\n",
       "      <th>4</th>\n",
       "      <td>CANADA</td>\n",
       "      <td>41392</td>\n",
       "    </tr>\n",
       "    <tr>\n",
       "      <th>5</th>\n",
       "      <td>BRAZIL</td>\n",
       "      <td>37904</td>\n",
       "    </tr>\n",
       "  </tbody>\n",
       "</table>\n",
       "</div>"
      ],
      "text/plain": [
       "0           Country of Citizenship  Total SEVIS IDS\n",
       "1                            CHINA           324196\n",
       "2                            INDIA           297151\n",
       "3  REPUBLIC OF KOREA (SOUTH KOREA)            62617\n",
       "4                           CANADA            41392\n",
       "5                           BRAZIL            37904"
      ]
     },
     "execution_count": 25,
     "metadata": {},
     "output_type": "execute_result"
    }
   ],
   "source": [
    "non_null.head()"
   ]
  },
  {
   "cell_type": "code",
   "execution_count": 26,
   "metadata": {},
   "outputs": [
    {
     "data": {
      "application/vnd.plotly.v1+json": {
       "config": {
        "plotlyServerURL": "https://plot.ly"
       },
       "data": [
        {
         "coloraxis": "coloraxis",
         "geo": "geo",
         "hovertemplate": "Country of Citizenship=%{location}<br>Total SEVIS IDS=%{z}<extra></extra>",
         "locationmode": "country names",
         "locations": [
          "INDIA",
          "REPUBLIC OF KOREA (SOUTH KOREA)",
          "CANADA",
          "BRAZIL",
          "VIETNAM",
          "JAPAN",
          "TAIWAN",
          "SAUDI ARABIA",
          "NIGERIA",
          "MEXICO",
          "COLOMBIA",
          "NEPAL",
          "BANGLADESH",
          "GERMANY",
          "UNITED KINGDOM",
          "FRANCE",
          "SPAIN",
          "TURKEY",
          "IRAN",
          "PAKISTAN",
          "ITALY",
          "INDONESIA",
          "THAILAND",
          "RUSSIA",
          "PERU",
          "GHANA",
          "KUWAIT",
          "HONG KONG",
          "VENEZUELA",
          "PHILIPPINES",
          "AUSTRALIA",
          "MALAYSIA",
          "KENYA",
          "ECUADOR",
          "SINGAPORE",
          "ARGENTINA",
          "EGYPT",
          "CHILE",
          "SWEDEN",
          "BAHAMAS, THE",
          "JAMAICA",
          "ETHIOPIA",
          "NETHERLANDS",
          "SOUTH AFRICA",
          "JORDAN",
          "UKRAINE",
          "SWITZERLAND",
          "KAZAKHSTAN",
          "BURMA",
          "SRI LANKA",
          "ISRAEL",
          "NORWAY",
          "DOMINICAN REPUBLIC",
          "PANAMA",
          "MONGOLIA",
          "HONDURAS",
          "GREECE",
          "POLAND",
          "OMAN",
          "CONGO (KINSHASA)",
          "ZIMBABWE",
          "LEBANON",
          "MOROCCO",
          "NEW ZEALAND",
          "BELGIUM",
          "BOLIVIA",
          "DENMARK",
          "RWANDA",
          "COSTA RICA",
          "TRINIDAD AND TOBAGO",
          "SERBIA",
          "UZBEKISTAN",
          "IRELAND",
          "PORTUGAL",
          "UNITED ARAB EMIRATES",
          "GUATEMALA",
          "ALBANIA",
          "COTE D'IVOIRE",
          "AUSTRIA",
          "UGANDA",
          "EL SALVADOR",
          "HAITI",
          "TANZANIA",
          "CAMEROON",
          "TUNISIA",
          "CZECH REPUBLIC",
          "ROMANIA",
          "CAMBODIA",
          "KYRGYZSTAN",
          "HUNGARY",
          "AZERBAIJAN",
          "GEORGIA",
          "ANGOLA",
          "PARAGUAY",
          "FINLAND",
          "ARMENIA",
          "BULGARIA",
          "SENEGAL",
          "ZAMBIA",
          "BELARUS",
          "NICARAGUA",
          "LIBYA",
          "CROATIA",
          "DOMINICA",
          "QATAR",
          "AFGHANISTAN",
          "BURKINA FASO",
          "ALGERIA",
          "SLOVAKIA",
          "ICELAND",
          "URUGUAY",
          "YEMEN",
          "CYPRUS",
          "BELIZE",
          "TURKMENISTAN",
          "LITHUANIA",
          "MALAWI",
          "GUYANA",
          "BERMUDA",
          "IRAQ",
          "MACAU",
          "BARBADOS",
          "SUDAN",
          "WEST BANK",
          "BAHRAIN",
          "MALI",
          "LATVIA",
          "SYRIA",
          "EQUATORIAL GUINEA",
          "GABON",
          "GAMBIA, THE",
          "LIBERIA",
          "SIERRA LEONE",
          "BENIN",
          "BOSNIA AND HERZEGOVINA",
          "MACEDONIA",
          "MAURITIUS",
          "BOTSWANA",
          "TAJIKISTAN",
          "MADAGASCAR",
          "SAINT LUCIA",
          "MONTENEGRO",
          "SLOVENIA",
          "NIGER",
          "ANTIGUA AND BARBUDA",
          "TOGO",
          "KOSOVO",
          "SAINT KITTS AND NEVIS",
          "ESTONIA",
          "MOLDOVA",
          "SWAZILAND",
          "BURUNDI",
          "GRENADA",
          "MOZAMBIQUE",
          "CAYMAN ISLANDS",
          "BHUTAN",
          "CONGO (BRAZZAVILLE)",
          "LAOS",
          "ERITREA",
          "SOUTH SUDAN",
          "CUBA",
          "GAZA STRIP",
          "PAPUA NEW GUINEA",
          "NAMIBIA",
          "CURACAO",
          "SAINT VINCENT AND THE GRENADINES",
          "LUXEMBOURG",
          "GUINEA",
          "SOMALIA",
          "MALTA",
          "ARUBA",
          "CAPE VERDE",
          "CHAD",
          "SURINAME",
          "LESOTHO",
          "TURKS AND CAICOS ISLANDS",
          "FIJI",
          "MAURITANIA",
          "BRITISH VIRGIN ISLANDS",
          "STATELESS",
          "SINT MAARTEN",
          "BRUNEI",
          "MALDIVES",
          "TONGA",
          "ANDORRA",
          "FRENCH POLYNESIA",
          "MONACO",
          "CENTRAL AFRICAN REPUBLIC",
          "LIECHTENSTEIN",
          "SAINT MARTIN",
          "SAMOA",
          "TIMOR-LESTE",
          "GUINEA-BISSAU",
          "SEYCHELLES",
          "ANGUILLA",
          "KIRIBATI",
          "SOLOMON ISLANDS",
          "BASSAS DA INDIA",
          "SAN MARINO",
          "ISLE OF MAN",
          "JERSEY",
          "REUNION",
          "COMOROS",
          "UNKNOWN",
          "MARTINIQUE",
          "VANUATU",
          "BRITISH INDIAN OCEAN TERRITORY",
          "DJIBOUTI",
          "GIBRALTAR",
          "NEW CALEDONIA",
          "FRENCH GUIANA",
          "GUERNSEY",
          "MONTSERRAT",
          "SAO TOME AND PRINCIPE",
          "FAROE ISLANDS",
          "PALAU",
          "GREENLAND",
          "JAN MAYEN",
          "NETHERLANDS ANTILLES",
          "NEUTRAL ZONE",
          "NIUE",
          "SAINT PIERRE AND MIQUELON",
          "TROMELIN ISLAND",
          "TUVALU"
         ],
         "name": "",
         "type": "choropleth",
         "z": [
          297151,
          62617,
          41392,
          37904,
          29742,
          26519,
          26225,
          24485,
          22935,
          22715,
          20744,
          20344,
          18184,
          16097,
          15144,
          14713,
          14444,
          14009,
          12183,
          11993,
          11435,
          8932,
          8777,
          7625,
          7560,
          7537,
          7509,
          7500,
          7131,
          6278,
          5990,
          5887,
          5792,
          5650,
          5166,
          4996,
          4855,
          4697,
          4570,
          4510,
          4492,
          4274,
          4262,
          4036,
          3925,
          3806,
          3737,
          3731,
          3592,
          3570,
          3549,
          3474,
          3414,
          3363,
          3282,
          3253,
          2949,
          2853,
          2546,
          2543,
          2325,
          2319,
          2236,
          2084,
          1994,
          1909,
          1909,
          1887,
          1861,
          1800,
          1798,
          1736,
          1731,
          1728,
          1725,
          1668,
          1665,
          1643,
          1557,
          1525,
          1485,
          1377,
          1373,
          1341,
          1330,
          1277,
          1213,
          1197,
          1197,
          1165,
          1135,
          1078,
          947,
          848,
          830,
          806,
          798,
          798,
          786,
          757,
          719,
          712,
          649,
          628,
          609,
          593,
          582,
          580,
          580,
          573,
          572,
          562,
          522,
          518,
          518,
          506,
          499,
          494,
          484,
          454,
          448,
          446,
          441,
          437,
          426,
          417,
          406,
          406,
          397,
          397,
          392,
          387,
          358,
          352,
          346,
          345,
          327,
          325,
          323,
          321,
          310,
          300,
          292,
          277,
          276,
          271,
          269,
          263,
          255,
          243,
          243,
          232,
          227,
          226,
          224,
          211,
          205,
          177,
          172,
          155,
          154,
          151,
          150,
          149,
          147,
          147,
          144,
          132,
          130,
          108,
          89,
          89,
          85,
          78,
          77,
          74,
          72,
          62,
          61,
          50,
          41,
          39,
          36,
          34,
          33,
          23,
          22,
          21,
          20,
          20,
          20,
          18,
          17,
          16,
          14,
          13,
          12,
          10,
          9,
          8,
          8,
          8,
          7,
          7,
          6,
          5,
          4,
          4,
          4,
          4,
          3,
          3,
          3,
          3,
          2,
          2,
          1,
          1,
          1,
          1,
          1,
          1,
          1,
          1
         ]
        }
       ],
       "layout": {
        "coloraxis": {
         "colorbar": {
          "title": {
           "text": "Total SEVIS IDS"
          }
         },
         "colorscale": [
          [
           0,
           "#440154"
          ],
          [
           0.1111111111111111,
           "#482878"
          ],
          [
           0.2222222222222222,
           "#3e4989"
          ],
          [
           0.3333333333333333,
           "#31688e"
          ],
          [
           0.4444444444444444,
           "#26828e"
          ],
          [
           0.5555555555555556,
           "#1f9e89"
          ],
          [
           0.6666666666666666,
           "#35b779"
          ],
          [
           0.7777777777777778,
           "#6ece58"
          ],
          [
           0.8888888888888888,
           "#b5de2b"
          ],
          [
           1,
           "#fde725"
          ]
         ]
        },
        "geo": {
         "center": {},
         "domain": {
          "x": [
           0,
           1
          ],
          "y": [
           0,
           1
          ]
         },
         "showcoastlines": true
        },
        "legend": {
         "tracegroupgap": 0
        },
        "template": {
         "data": {
          "bar": [
           {
            "error_x": {
             "color": "#2a3f5f"
            },
            "error_y": {
             "color": "#2a3f5f"
            },
            "marker": {
             "line": {
              "color": "#E5ECF6",
              "width": 0.5
             },
             "pattern": {
              "fillmode": "overlay",
              "size": 10,
              "solidity": 0.2
             }
            },
            "type": "bar"
           }
          ],
          "barpolar": [
           {
            "marker": {
             "line": {
              "color": "#E5ECF6",
              "width": 0.5
             },
             "pattern": {
              "fillmode": "overlay",
              "size": 10,
              "solidity": 0.2
             }
            },
            "type": "barpolar"
           }
          ],
          "carpet": [
           {
            "aaxis": {
             "endlinecolor": "#2a3f5f",
             "gridcolor": "white",
             "linecolor": "white",
             "minorgridcolor": "white",
             "startlinecolor": "#2a3f5f"
            },
            "baxis": {
             "endlinecolor": "#2a3f5f",
             "gridcolor": "white",
             "linecolor": "white",
             "minorgridcolor": "white",
             "startlinecolor": "#2a3f5f"
            },
            "type": "carpet"
           }
          ],
          "choropleth": [
           {
            "colorbar": {
             "outlinewidth": 0,
             "ticks": ""
            },
            "type": "choropleth"
           }
          ],
          "contour": [
           {
            "colorbar": {
             "outlinewidth": 0,
             "ticks": ""
            },
            "colorscale": [
             [
              0,
              "#0d0887"
             ],
             [
              0.1111111111111111,
              "#46039f"
             ],
             [
              0.2222222222222222,
              "#7201a8"
             ],
             [
              0.3333333333333333,
              "#9c179e"
             ],
             [
              0.4444444444444444,
              "#bd3786"
             ],
             [
              0.5555555555555556,
              "#d8576b"
             ],
             [
              0.6666666666666666,
              "#ed7953"
             ],
             [
              0.7777777777777778,
              "#fb9f3a"
             ],
             [
              0.8888888888888888,
              "#fdca26"
             ],
             [
              1,
              "#f0f921"
             ]
            ],
            "type": "contour"
           }
          ],
          "contourcarpet": [
           {
            "colorbar": {
             "outlinewidth": 0,
             "ticks": ""
            },
            "type": "contourcarpet"
           }
          ],
          "heatmap": [
           {
            "colorbar": {
             "outlinewidth": 0,
             "ticks": ""
            },
            "colorscale": [
             [
              0,
              "#0d0887"
             ],
             [
              0.1111111111111111,
              "#46039f"
             ],
             [
              0.2222222222222222,
              "#7201a8"
             ],
             [
              0.3333333333333333,
              "#9c179e"
             ],
             [
              0.4444444444444444,
              "#bd3786"
             ],
             [
              0.5555555555555556,
              "#d8576b"
             ],
             [
              0.6666666666666666,
              "#ed7953"
             ],
             [
              0.7777777777777778,
              "#fb9f3a"
             ],
             [
              0.8888888888888888,
              "#fdca26"
             ],
             [
              1,
              "#f0f921"
             ]
            ],
            "type": "heatmap"
           }
          ],
          "heatmapgl": [
           {
            "colorbar": {
             "outlinewidth": 0,
             "ticks": ""
            },
            "colorscale": [
             [
              0,
              "#0d0887"
             ],
             [
              0.1111111111111111,
              "#46039f"
             ],
             [
              0.2222222222222222,
              "#7201a8"
             ],
             [
              0.3333333333333333,
              "#9c179e"
             ],
             [
              0.4444444444444444,
              "#bd3786"
             ],
             [
              0.5555555555555556,
              "#d8576b"
             ],
             [
              0.6666666666666666,
              "#ed7953"
             ],
             [
              0.7777777777777778,
              "#fb9f3a"
             ],
             [
              0.8888888888888888,
              "#fdca26"
             ],
             [
              1,
              "#f0f921"
             ]
            ],
            "type": "heatmapgl"
           }
          ],
          "histogram": [
           {
            "marker": {
             "pattern": {
              "fillmode": "overlay",
              "size": 10,
              "solidity": 0.2
             }
            },
            "type": "histogram"
           }
          ],
          "histogram2d": [
           {
            "colorbar": {
             "outlinewidth": 0,
             "ticks": ""
            },
            "colorscale": [
             [
              0,
              "#0d0887"
             ],
             [
              0.1111111111111111,
              "#46039f"
             ],
             [
              0.2222222222222222,
              "#7201a8"
             ],
             [
              0.3333333333333333,
              "#9c179e"
             ],
             [
              0.4444444444444444,
              "#bd3786"
             ],
             [
              0.5555555555555556,
              "#d8576b"
             ],
             [
              0.6666666666666666,
              "#ed7953"
             ],
             [
              0.7777777777777778,
              "#fb9f3a"
             ],
             [
              0.8888888888888888,
              "#fdca26"
             ],
             [
              1,
              "#f0f921"
             ]
            ],
            "type": "histogram2d"
           }
          ],
          "histogram2dcontour": [
           {
            "colorbar": {
             "outlinewidth": 0,
             "ticks": ""
            },
            "colorscale": [
             [
              0,
              "#0d0887"
             ],
             [
              0.1111111111111111,
              "#46039f"
             ],
             [
              0.2222222222222222,
              "#7201a8"
             ],
             [
              0.3333333333333333,
              "#9c179e"
             ],
             [
              0.4444444444444444,
              "#bd3786"
             ],
             [
              0.5555555555555556,
              "#d8576b"
             ],
             [
              0.6666666666666666,
              "#ed7953"
             ],
             [
              0.7777777777777778,
              "#fb9f3a"
             ],
             [
              0.8888888888888888,
              "#fdca26"
             ],
             [
              1,
              "#f0f921"
             ]
            ],
            "type": "histogram2dcontour"
           }
          ],
          "mesh3d": [
           {
            "colorbar": {
             "outlinewidth": 0,
             "ticks": ""
            },
            "type": "mesh3d"
           }
          ],
          "parcoords": [
           {
            "line": {
             "colorbar": {
              "outlinewidth": 0,
              "ticks": ""
             }
            },
            "type": "parcoords"
           }
          ],
          "pie": [
           {
            "automargin": true,
            "type": "pie"
           }
          ],
          "scatter": [
           {
            "fillpattern": {
             "fillmode": "overlay",
             "size": 10,
             "solidity": 0.2
            },
            "type": "scatter"
           }
          ],
          "scatter3d": [
           {
            "line": {
             "colorbar": {
              "outlinewidth": 0,
              "ticks": ""
             }
            },
            "marker": {
             "colorbar": {
              "outlinewidth": 0,
              "ticks": ""
             }
            },
            "type": "scatter3d"
           }
          ],
          "scattercarpet": [
           {
            "marker": {
             "colorbar": {
              "outlinewidth": 0,
              "ticks": ""
             }
            },
            "type": "scattercarpet"
           }
          ],
          "scattergeo": [
           {
            "marker": {
             "colorbar": {
              "outlinewidth": 0,
              "ticks": ""
             }
            },
            "type": "scattergeo"
           }
          ],
          "scattergl": [
           {
            "marker": {
             "colorbar": {
              "outlinewidth": 0,
              "ticks": ""
             }
            },
            "type": "scattergl"
           }
          ],
          "scattermapbox": [
           {
            "marker": {
             "colorbar": {
              "outlinewidth": 0,
              "ticks": ""
             }
            },
            "type": "scattermapbox"
           }
          ],
          "scatterpolar": [
           {
            "marker": {
             "colorbar": {
              "outlinewidth": 0,
              "ticks": ""
             }
            },
            "type": "scatterpolar"
           }
          ],
          "scatterpolargl": [
           {
            "marker": {
             "colorbar": {
              "outlinewidth": 0,
              "ticks": ""
             }
            },
            "type": "scatterpolargl"
           }
          ],
          "scatterternary": [
           {
            "marker": {
             "colorbar": {
              "outlinewidth": 0,
              "ticks": ""
             }
            },
            "type": "scatterternary"
           }
          ],
          "surface": [
           {
            "colorbar": {
             "outlinewidth": 0,
             "ticks": ""
            },
            "colorscale": [
             [
              0,
              "#0d0887"
             ],
             [
              0.1111111111111111,
              "#46039f"
             ],
             [
              0.2222222222222222,
              "#7201a8"
             ],
             [
              0.3333333333333333,
              "#9c179e"
             ],
             [
              0.4444444444444444,
              "#bd3786"
             ],
             [
              0.5555555555555556,
              "#d8576b"
             ],
             [
              0.6666666666666666,
              "#ed7953"
             ],
             [
              0.7777777777777778,
              "#fb9f3a"
             ],
             [
              0.8888888888888888,
              "#fdca26"
             ],
             [
              1,
              "#f0f921"
             ]
            ],
            "type": "surface"
           }
          ],
          "table": [
           {
            "cells": {
             "fill": {
              "color": "#EBF0F8"
             },
             "line": {
              "color": "white"
             }
            },
            "header": {
             "fill": {
              "color": "#C8D4E3"
             },
             "line": {
              "color": "white"
             }
            },
            "type": "table"
           }
          ]
         },
         "layout": {
          "annotationdefaults": {
           "arrowcolor": "#2a3f5f",
           "arrowhead": 0,
           "arrowwidth": 1
          },
          "autotypenumbers": "strict",
          "coloraxis": {
           "colorbar": {
            "outlinewidth": 0,
            "ticks": ""
           }
          },
          "colorscale": {
           "diverging": [
            [
             0,
             "#8e0152"
            ],
            [
             0.1,
             "#c51b7d"
            ],
            [
             0.2,
             "#de77ae"
            ],
            [
             0.3,
             "#f1b6da"
            ],
            [
             0.4,
             "#fde0ef"
            ],
            [
             0.5,
             "#f7f7f7"
            ],
            [
             0.6,
             "#e6f5d0"
            ],
            [
             0.7,
             "#b8e186"
            ],
            [
             0.8,
             "#7fbc41"
            ],
            [
             0.9,
             "#4d9221"
            ],
            [
             1,
             "#276419"
            ]
           ],
           "sequential": [
            [
             0,
             "#0d0887"
            ],
            [
             0.1111111111111111,
             "#46039f"
            ],
            [
             0.2222222222222222,
             "#7201a8"
            ],
            [
             0.3333333333333333,
             "#9c179e"
            ],
            [
             0.4444444444444444,
             "#bd3786"
            ],
            [
             0.5555555555555556,
             "#d8576b"
            ],
            [
             0.6666666666666666,
             "#ed7953"
            ],
            [
             0.7777777777777778,
             "#fb9f3a"
            ],
            [
             0.8888888888888888,
             "#fdca26"
            ],
            [
             1,
             "#f0f921"
            ]
           ],
           "sequentialminus": [
            [
             0,
             "#0d0887"
            ],
            [
             0.1111111111111111,
             "#46039f"
            ],
            [
             0.2222222222222222,
             "#7201a8"
            ],
            [
             0.3333333333333333,
             "#9c179e"
            ],
            [
             0.4444444444444444,
             "#bd3786"
            ],
            [
             0.5555555555555556,
             "#d8576b"
            ],
            [
             0.6666666666666666,
             "#ed7953"
            ],
            [
             0.7777777777777778,
             "#fb9f3a"
            ],
            [
             0.8888888888888888,
             "#fdca26"
            ],
            [
             1,
             "#f0f921"
            ]
           ]
          },
          "colorway": [
           "#636efa",
           "#EF553B",
           "#00cc96",
           "#ab63fa",
           "#FFA15A",
           "#19d3f3",
           "#FF6692",
           "#B6E880",
           "#FF97FF",
           "#FECB52"
          ],
          "font": {
           "color": "#2a3f5f"
          },
          "geo": {
           "bgcolor": "white",
           "lakecolor": "white",
           "landcolor": "#E5ECF6",
           "showlakes": true,
           "showland": true,
           "subunitcolor": "white"
          },
          "hoverlabel": {
           "align": "left"
          },
          "hovermode": "closest",
          "mapbox": {
           "style": "light"
          },
          "paper_bgcolor": "white",
          "plot_bgcolor": "#E5ECF6",
          "polar": {
           "angularaxis": {
            "gridcolor": "white",
            "linecolor": "white",
            "ticks": ""
           },
           "bgcolor": "#E5ECF6",
           "radialaxis": {
            "gridcolor": "white",
            "linecolor": "white",
            "ticks": ""
           }
          },
          "scene": {
           "xaxis": {
            "backgroundcolor": "#E5ECF6",
            "gridcolor": "white",
            "gridwidth": 2,
            "linecolor": "white",
            "showbackground": true,
            "ticks": "",
            "zerolinecolor": "white"
           },
           "yaxis": {
            "backgroundcolor": "#E5ECF6",
            "gridcolor": "white",
            "gridwidth": 2,
            "linecolor": "white",
            "showbackground": true,
            "ticks": "",
            "zerolinecolor": "white"
           },
           "zaxis": {
            "backgroundcolor": "#E5ECF6",
            "gridcolor": "white",
            "gridwidth": 2,
            "linecolor": "white",
            "showbackground": true,
            "ticks": "",
            "zerolinecolor": "white"
           }
          },
          "shapedefaults": {
           "line": {
            "color": "#2a3f5f"
           }
          },
          "ternary": {
           "aaxis": {
            "gridcolor": "white",
            "linecolor": "white",
            "ticks": ""
           },
           "baxis": {
            "gridcolor": "white",
            "linecolor": "white",
            "ticks": ""
           },
           "bgcolor": "#E5ECF6",
           "caxis": {
            "gridcolor": "white",
            "linecolor": "white",
            "ticks": ""
           }
          },
          "title": {
           "x": 0.05
          },
          "xaxis": {
           "automargin": true,
           "gridcolor": "white",
           "linecolor": "white",
           "ticks": "",
           "title": {
            "standoff": 15
           },
           "zerolinecolor": "white",
           "zerolinewidth": 2
          },
          "yaxis": {
           "automargin": true,
           "gridcolor": "white",
           "linecolor": "white",
           "ticks": "",
           "title": {
            "standoff": 15
           },
           "zerolinecolor": "white",
           "zerolinewidth": 2
          }
         }
        },
        "title": {
         "text": "World SEVIS IDS"
        }
       }
      }
     },
     "metadata": {},
     "output_type": "display_data"
    }
   ],
   "source": [
    "non_china = non_null.drop(1)\n",
    "\n",
    "fig = px.choropleth(\n",
    "    non_china,\n",
    "    locations='Country of Citizenship',  # Column specifying the country names\n",
    "    locationmode='country names',\n",
    "    color='Total SEVIS IDS',  # Column specifying the population\n",
    "    color_continuous_scale='Viridis',  # Color scale\n",
    "    labels={'Total SEVIS IDS': 'Total SEVIS IDS'},  # Labels for hover information\n",
    "    title='World SEVIS IDS'  # Title of the plot\n",
    ")\n",
    "\n",
    "fig.update_geos(showcoastlines=True)  # Display coastlines\n",
    "\n",
    "fig.show()"
   ]
  },
  {
   "cell_type": "code",
   "execution_count": 27,
   "metadata": {},
   "outputs": [
    {
     "data": {
      "application/vnd.plotly.v1+json": {
       "config": {
        "plotlyServerURL": "https://plot.ly"
       },
       "data": [
        {
         "coloraxis": "coloraxis",
         "geo": "geo",
         "hovertemplate": "Country of Citizenship=%{location}<br>Total SEVIS IDS=%{z}<extra></extra>",
         "locationmode": "country names",
         "locations": [
          "REPUBLIC OF KOREA (SOUTH KOREA)",
          "CANADA",
          "BRAZIL",
          "VIETNAM",
          "JAPAN",
          "TAIWAN",
          "SAUDI ARABIA",
          "NIGERIA",
          "MEXICO",
          "COLOMBIA",
          "NEPAL",
          "BANGLADESH",
          "GERMANY",
          "UNITED KINGDOM",
          "FRANCE",
          "SPAIN",
          "TURKEY",
          "IRAN",
          "PAKISTAN",
          "ITALY",
          "INDONESIA",
          "THAILAND",
          "RUSSIA",
          "PERU",
          "GHANA",
          "KUWAIT",
          "HONG KONG",
          "VENEZUELA",
          "PHILIPPINES",
          "AUSTRALIA",
          "MALAYSIA",
          "KENYA",
          "ECUADOR",
          "SINGAPORE",
          "ARGENTINA",
          "EGYPT",
          "CHILE",
          "SWEDEN",
          "BAHAMAS, THE",
          "JAMAICA",
          "ETHIOPIA",
          "NETHERLANDS",
          "SOUTH AFRICA",
          "JORDAN",
          "UKRAINE",
          "SWITZERLAND",
          "KAZAKHSTAN",
          "BURMA",
          "SRI LANKA",
          "ISRAEL",
          "NORWAY",
          "DOMINICAN REPUBLIC",
          "PANAMA",
          "MONGOLIA",
          "HONDURAS",
          "GREECE",
          "POLAND",
          "OMAN",
          "CONGO (KINSHASA)",
          "ZIMBABWE",
          "LEBANON",
          "MOROCCO",
          "NEW ZEALAND",
          "BELGIUM",
          "BOLIVIA",
          "DENMARK",
          "RWANDA",
          "COSTA RICA",
          "TRINIDAD AND TOBAGO",
          "SERBIA",
          "UZBEKISTAN",
          "IRELAND",
          "PORTUGAL",
          "UNITED ARAB EMIRATES",
          "GUATEMALA",
          "ALBANIA",
          "COTE D'IVOIRE",
          "AUSTRIA",
          "UGANDA",
          "EL SALVADOR",
          "HAITI",
          "TANZANIA",
          "CAMEROON",
          "TUNISIA",
          "CZECH REPUBLIC",
          "ROMANIA",
          "CAMBODIA",
          "KYRGYZSTAN",
          "HUNGARY",
          "AZERBAIJAN",
          "GEORGIA",
          "ANGOLA",
          "PARAGUAY",
          "FINLAND",
          "ARMENIA",
          "BULGARIA",
          "SENEGAL",
          "ZAMBIA",
          "BELARUS",
          "NICARAGUA",
          "LIBYA",
          "CROATIA",
          "DOMINICA",
          "QATAR",
          "AFGHANISTAN",
          "BURKINA FASO",
          "ALGERIA",
          "SLOVAKIA",
          "ICELAND",
          "URUGUAY",
          "YEMEN",
          "CYPRUS",
          "BELIZE",
          "TURKMENISTAN",
          "LITHUANIA",
          "MALAWI",
          "GUYANA",
          "BERMUDA",
          "IRAQ",
          "MACAU",
          "BARBADOS",
          "SUDAN",
          "WEST BANK",
          "BAHRAIN",
          "MALI",
          "LATVIA",
          "SYRIA",
          "EQUATORIAL GUINEA",
          "GABON",
          "GAMBIA, THE",
          "LIBERIA",
          "SIERRA LEONE",
          "BENIN",
          "BOSNIA AND HERZEGOVINA",
          "MACEDONIA",
          "MAURITIUS",
          "BOTSWANA",
          "TAJIKISTAN",
          "MADAGASCAR",
          "SAINT LUCIA",
          "MONTENEGRO",
          "SLOVENIA",
          "NIGER",
          "ANTIGUA AND BARBUDA",
          "TOGO",
          "KOSOVO",
          "SAINT KITTS AND NEVIS",
          "ESTONIA",
          "MOLDOVA",
          "SWAZILAND",
          "BURUNDI",
          "GRENADA",
          "MOZAMBIQUE",
          "CAYMAN ISLANDS",
          "BHUTAN",
          "CONGO (BRAZZAVILLE)",
          "LAOS",
          "ERITREA",
          "SOUTH SUDAN",
          "CUBA",
          "GAZA STRIP",
          "PAPUA NEW GUINEA",
          "NAMIBIA",
          "CURACAO",
          "SAINT VINCENT AND THE GRENADINES",
          "LUXEMBOURG",
          "GUINEA",
          "SOMALIA",
          "MALTA",
          "ARUBA",
          "CAPE VERDE",
          "CHAD",
          "SURINAME",
          "LESOTHO",
          "TURKS AND CAICOS ISLANDS",
          "FIJI",
          "MAURITANIA",
          "BRITISH VIRGIN ISLANDS",
          "STATELESS",
          "SINT MAARTEN",
          "BRUNEI",
          "MALDIVES",
          "TONGA",
          "ANDORRA",
          "FRENCH POLYNESIA",
          "MONACO",
          "CENTRAL AFRICAN REPUBLIC",
          "LIECHTENSTEIN",
          "SAINT MARTIN",
          "SAMOA",
          "TIMOR-LESTE",
          "GUINEA-BISSAU",
          "SEYCHELLES",
          "ANGUILLA",
          "KIRIBATI",
          "SOLOMON ISLANDS",
          "BASSAS DA INDIA",
          "SAN MARINO",
          "ISLE OF MAN",
          "JERSEY",
          "REUNION",
          "COMOROS",
          "UNKNOWN",
          "MARTINIQUE",
          "VANUATU",
          "BRITISH INDIAN OCEAN TERRITORY",
          "DJIBOUTI",
          "GIBRALTAR",
          "NEW CALEDONIA",
          "FRENCH GUIANA",
          "GUERNSEY",
          "MONTSERRAT",
          "SAO TOME AND PRINCIPE",
          "FAROE ISLANDS",
          "PALAU",
          "GREENLAND",
          "JAN MAYEN",
          "NETHERLANDS ANTILLES",
          "NEUTRAL ZONE",
          "NIUE",
          "SAINT PIERRE AND MIQUELON",
          "TROMELIN ISLAND",
          "TUVALU"
         ],
         "name": "",
         "type": "choropleth",
         "z": [
          62617,
          41392,
          37904,
          29742,
          26519,
          26225,
          24485,
          22935,
          22715,
          20744,
          20344,
          18184,
          16097,
          15144,
          14713,
          14444,
          14009,
          12183,
          11993,
          11435,
          8932,
          8777,
          7625,
          7560,
          7537,
          7509,
          7500,
          7131,
          6278,
          5990,
          5887,
          5792,
          5650,
          5166,
          4996,
          4855,
          4697,
          4570,
          4510,
          4492,
          4274,
          4262,
          4036,
          3925,
          3806,
          3737,
          3731,
          3592,
          3570,
          3549,
          3474,
          3414,
          3363,
          3282,
          3253,
          2949,
          2853,
          2546,
          2543,
          2325,
          2319,
          2236,
          2084,
          1994,
          1909,
          1909,
          1887,
          1861,
          1800,
          1798,
          1736,
          1731,
          1728,
          1725,
          1668,
          1665,
          1643,
          1557,
          1525,
          1485,
          1377,
          1373,
          1341,
          1330,
          1277,
          1213,
          1197,
          1197,
          1165,
          1135,
          1078,
          947,
          848,
          830,
          806,
          798,
          798,
          786,
          757,
          719,
          712,
          649,
          628,
          609,
          593,
          582,
          580,
          580,
          573,
          572,
          562,
          522,
          518,
          518,
          506,
          499,
          494,
          484,
          454,
          448,
          446,
          441,
          437,
          426,
          417,
          406,
          406,
          397,
          397,
          392,
          387,
          358,
          352,
          346,
          345,
          327,
          325,
          323,
          321,
          310,
          300,
          292,
          277,
          276,
          271,
          269,
          263,
          255,
          243,
          243,
          232,
          227,
          226,
          224,
          211,
          205,
          177,
          172,
          155,
          154,
          151,
          150,
          149,
          147,
          147,
          144,
          132,
          130,
          108,
          89,
          89,
          85,
          78,
          77,
          74,
          72,
          62,
          61,
          50,
          41,
          39,
          36,
          34,
          33,
          23,
          22,
          21,
          20,
          20,
          20,
          18,
          17,
          16,
          14,
          13,
          12,
          10,
          9,
          8,
          8,
          8,
          7,
          7,
          6,
          5,
          4,
          4,
          4,
          4,
          3,
          3,
          3,
          3,
          2,
          2,
          1,
          1,
          1,
          1,
          1,
          1,
          1,
          1
         ]
        }
       ],
       "layout": {
        "coloraxis": {
         "colorbar": {
          "title": {
           "text": "Total SEVIS IDS"
          }
         },
         "colorscale": [
          [
           0,
           "#440154"
          ],
          [
           0.1111111111111111,
           "#482878"
          ],
          [
           0.2222222222222222,
           "#3e4989"
          ],
          [
           0.3333333333333333,
           "#31688e"
          ],
          [
           0.4444444444444444,
           "#26828e"
          ],
          [
           0.5555555555555556,
           "#1f9e89"
          ],
          [
           0.6666666666666666,
           "#35b779"
          ],
          [
           0.7777777777777778,
           "#6ece58"
          ],
          [
           0.8888888888888888,
           "#b5de2b"
          ],
          [
           1,
           "#fde725"
          ]
         ]
        },
        "geo": {
         "center": {},
         "domain": {
          "x": [
           0,
           1
          ],
          "y": [
           0,
           1
          ]
         },
         "showcoastlines": true
        },
        "legend": {
         "tracegroupgap": 0
        },
        "template": {
         "data": {
          "bar": [
           {
            "error_x": {
             "color": "#2a3f5f"
            },
            "error_y": {
             "color": "#2a3f5f"
            },
            "marker": {
             "line": {
              "color": "#E5ECF6",
              "width": 0.5
             },
             "pattern": {
              "fillmode": "overlay",
              "size": 10,
              "solidity": 0.2
             }
            },
            "type": "bar"
           }
          ],
          "barpolar": [
           {
            "marker": {
             "line": {
              "color": "#E5ECF6",
              "width": 0.5
             },
             "pattern": {
              "fillmode": "overlay",
              "size": 10,
              "solidity": 0.2
             }
            },
            "type": "barpolar"
           }
          ],
          "carpet": [
           {
            "aaxis": {
             "endlinecolor": "#2a3f5f",
             "gridcolor": "white",
             "linecolor": "white",
             "minorgridcolor": "white",
             "startlinecolor": "#2a3f5f"
            },
            "baxis": {
             "endlinecolor": "#2a3f5f",
             "gridcolor": "white",
             "linecolor": "white",
             "minorgridcolor": "white",
             "startlinecolor": "#2a3f5f"
            },
            "type": "carpet"
           }
          ],
          "choropleth": [
           {
            "colorbar": {
             "outlinewidth": 0,
             "ticks": ""
            },
            "type": "choropleth"
           }
          ],
          "contour": [
           {
            "colorbar": {
             "outlinewidth": 0,
             "ticks": ""
            },
            "colorscale": [
             [
              0,
              "#0d0887"
             ],
             [
              0.1111111111111111,
              "#46039f"
             ],
             [
              0.2222222222222222,
              "#7201a8"
             ],
             [
              0.3333333333333333,
              "#9c179e"
             ],
             [
              0.4444444444444444,
              "#bd3786"
             ],
             [
              0.5555555555555556,
              "#d8576b"
             ],
             [
              0.6666666666666666,
              "#ed7953"
             ],
             [
              0.7777777777777778,
              "#fb9f3a"
             ],
             [
              0.8888888888888888,
              "#fdca26"
             ],
             [
              1,
              "#f0f921"
             ]
            ],
            "type": "contour"
           }
          ],
          "contourcarpet": [
           {
            "colorbar": {
             "outlinewidth": 0,
             "ticks": ""
            },
            "type": "contourcarpet"
           }
          ],
          "heatmap": [
           {
            "colorbar": {
             "outlinewidth": 0,
             "ticks": ""
            },
            "colorscale": [
             [
              0,
              "#0d0887"
             ],
             [
              0.1111111111111111,
              "#46039f"
             ],
             [
              0.2222222222222222,
              "#7201a8"
             ],
             [
              0.3333333333333333,
              "#9c179e"
             ],
             [
              0.4444444444444444,
              "#bd3786"
             ],
             [
              0.5555555555555556,
              "#d8576b"
             ],
             [
              0.6666666666666666,
              "#ed7953"
             ],
             [
              0.7777777777777778,
              "#fb9f3a"
             ],
             [
              0.8888888888888888,
              "#fdca26"
             ],
             [
              1,
              "#f0f921"
             ]
            ],
            "type": "heatmap"
           }
          ],
          "heatmapgl": [
           {
            "colorbar": {
             "outlinewidth": 0,
             "ticks": ""
            },
            "colorscale": [
             [
              0,
              "#0d0887"
             ],
             [
              0.1111111111111111,
              "#46039f"
             ],
             [
              0.2222222222222222,
              "#7201a8"
             ],
             [
              0.3333333333333333,
              "#9c179e"
             ],
             [
              0.4444444444444444,
              "#bd3786"
             ],
             [
              0.5555555555555556,
              "#d8576b"
             ],
             [
              0.6666666666666666,
              "#ed7953"
             ],
             [
              0.7777777777777778,
              "#fb9f3a"
             ],
             [
              0.8888888888888888,
              "#fdca26"
             ],
             [
              1,
              "#f0f921"
             ]
            ],
            "type": "heatmapgl"
           }
          ],
          "histogram": [
           {
            "marker": {
             "pattern": {
              "fillmode": "overlay",
              "size": 10,
              "solidity": 0.2
             }
            },
            "type": "histogram"
           }
          ],
          "histogram2d": [
           {
            "colorbar": {
             "outlinewidth": 0,
             "ticks": ""
            },
            "colorscale": [
             [
              0,
              "#0d0887"
             ],
             [
              0.1111111111111111,
              "#46039f"
             ],
             [
              0.2222222222222222,
              "#7201a8"
             ],
             [
              0.3333333333333333,
              "#9c179e"
             ],
             [
              0.4444444444444444,
              "#bd3786"
             ],
             [
              0.5555555555555556,
              "#d8576b"
             ],
             [
              0.6666666666666666,
              "#ed7953"
             ],
             [
              0.7777777777777778,
              "#fb9f3a"
             ],
             [
              0.8888888888888888,
              "#fdca26"
             ],
             [
              1,
              "#f0f921"
             ]
            ],
            "type": "histogram2d"
           }
          ],
          "histogram2dcontour": [
           {
            "colorbar": {
             "outlinewidth": 0,
             "ticks": ""
            },
            "colorscale": [
             [
              0,
              "#0d0887"
             ],
             [
              0.1111111111111111,
              "#46039f"
             ],
             [
              0.2222222222222222,
              "#7201a8"
             ],
             [
              0.3333333333333333,
              "#9c179e"
             ],
             [
              0.4444444444444444,
              "#bd3786"
             ],
             [
              0.5555555555555556,
              "#d8576b"
             ],
             [
              0.6666666666666666,
              "#ed7953"
             ],
             [
              0.7777777777777778,
              "#fb9f3a"
             ],
             [
              0.8888888888888888,
              "#fdca26"
             ],
             [
              1,
              "#f0f921"
             ]
            ],
            "type": "histogram2dcontour"
           }
          ],
          "mesh3d": [
           {
            "colorbar": {
             "outlinewidth": 0,
             "ticks": ""
            },
            "type": "mesh3d"
           }
          ],
          "parcoords": [
           {
            "line": {
             "colorbar": {
              "outlinewidth": 0,
              "ticks": ""
             }
            },
            "type": "parcoords"
           }
          ],
          "pie": [
           {
            "automargin": true,
            "type": "pie"
           }
          ],
          "scatter": [
           {
            "fillpattern": {
             "fillmode": "overlay",
             "size": 10,
             "solidity": 0.2
            },
            "type": "scatter"
           }
          ],
          "scatter3d": [
           {
            "line": {
             "colorbar": {
              "outlinewidth": 0,
              "ticks": ""
             }
            },
            "marker": {
             "colorbar": {
              "outlinewidth": 0,
              "ticks": ""
             }
            },
            "type": "scatter3d"
           }
          ],
          "scattercarpet": [
           {
            "marker": {
             "colorbar": {
              "outlinewidth": 0,
              "ticks": ""
             }
            },
            "type": "scattercarpet"
           }
          ],
          "scattergeo": [
           {
            "marker": {
             "colorbar": {
              "outlinewidth": 0,
              "ticks": ""
             }
            },
            "type": "scattergeo"
           }
          ],
          "scattergl": [
           {
            "marker": {
             "colorbar": {
              "outlinewidth": 0,
              "ticks": ""
             }
            },
            "type": "scattergl"
           }
          ],
          "scattermapbox": [
           {
            "marker": {
             "colorbar": {
              "outlinewidth": 0,
              "ticks": ""
             }
            },
            "type": "scattermapbox"
           }
          ],
          "scatterpolar": [
           {
            "marker": {
             "colorbar": {
              "outlinewidth": 0,
              "ticks": ""
             }
            },
            "type": "scatterpolar"
           }
          ],
          "scatterpolargl": [
           {
            "marker": {
             "colorbar": {
              "outlinewidth": 0,
              "ticks": ""
             }
            },
            "type": "scatterpolargl"
           }
          ],
          "scatterternary": [
           {
            "marker": {
             "colorbar": {
              "outlinewidth": 0,
              "ticks": ""
             }
            },
            "type": "scatterternary"
           }
          ],
          "surface": [
           {
            "colorbar": {
             "outlinewidth": 0,
             "ticks": ""
            },
            "colorscale": [
             [
              0,
              "#0d0887"
             ],
             [
              0.1111111111111111,
              "#46039f"
             ],
             [
              0.2222222222222222,
              "#7201a8"
             ],
             [
              0.3333333333333333,
              "#9c179e"
             ],
             [
              0.4444444444444444,
              "#bd3786"
             ],
             [
              0.5555555555555556,
              "#d8576b"
             ],
             [
              0.6666666666666666,
              "#ed7953"
             ],
             [
              0.7777777777777778,
              "#fb9f3a"
             ],
             [
              0.8888888888888888,
              "#fdca26"
             ],
             [
              1,
              "#f0f921"
             ]
            ],
            "type": "surface"
           }
          ],
          "table": [
           {
            "cells": {
             "fill": {
              "color": "#EBF0F8"
             },
             "line": {
              "color": "white"
             }
            },
            "header": {
             "fill": {
              "color": "#C8D4E3"
             },
             "line": {
              "color": "white"
             }
            },
            "type": "table"
           }
          ]
         },
         "layout": {
          "annotationdefaults": {
           "arrowcolor": "#2a3f5f",
           "arrowhead": 0,
           "arrowwidth": 1
          },
          "autotypenumbers": "strict",
          "coloraxis": {
           "colorbar": {
            "outlinewidth": 0,
            "ticks": ""
           }
          },
          "colorscale": {
           "diverging": [
            [
             0,
             "#8e0152"
            ],
            [
             0.1,
             "#c51b7d"
            ],
            [
             0.2,
             "#de77ae"
            ],
            [
             0.3,
             "#f1b6da"
            ],
            [
             0.4,
             "#fde0ef"
            ],
            [
             0.5,
             "#f7f7f7"
            ],
            [
             0.6,
             "#e6f5d0"
            ],
            [
             0.7,
             "#b8e186"
            ],
            [
             0.8,
             "#7fbc41"
            ],
            [
             0.9,
             "#4d9221"
            ],
            [
             1,
             "#276419"
            ]
           ],
           "sequential": [
            [
             0,
             "#0d0887"
            ],
            [
             0.1111111111111111,
             "#46039f"
            ],
            [
             0.2222222222222222,
             "#7201a8"
            ],
            [
             0.3333333333333333,
             "#9c179e"
            ],
            [
             0.4444444444444444,
             "#bd3786"
            ],
            [
             0.5555555555555556,
             "#d8576b"
            ],
            [
             0.6666666666666666,
             "#ed7953"
            ],
            [
             0.7777777777777778,
             "#fb9f3a"
            ],
            [
             0.8888888888888888,
             "#fdca26"
            ],
            [
             1,
             "#f0f921"
            ]
           ],
           "sequentialminus": [
            [
             0,
             "#0d0887"
            ],
            [
             0.1111111111111111,
             "#46039f"
            ],
            [
             0.2222222222222222,
             "#7201a8"
            ],
            [
             0.3333333333333333,
             "#9c179e"
            ],
            [
             0.4444444444444444,
             "#bd3786"
            ],
            [
             0.5555555555555556,
             "#d8576b"
            ],
            [
             0.6666666666666666,
             "#ed7953"
            ],
            [
             0.7777777777777778,
             "#fb9f3a"
            ],
            [
             0.8888888888888888,
             "#fdca26"
            ],
            [
             1,
             "#f0f921"
            ]
           ]
          },
          "colorway": [
           "#636efa",
           "#EF553B",
           "#00cc96",
           "#ab63fa",
           "#FFA15A",
           "#19d3f3",
           "#FF6692",
           "#B6E880",
           "#FF97FF",
           "#FECB52"
          ],
          "font": {
           "color": "#2a3f5f"
          },
          "geo": {
           "bgcolor": "white",
           "lakecolor": "white",
           "landcolor": "#E5ECF6",
           "showlakes": true,
           "showland": true,
           "subunitcolor": "white"
          },
          "hoverlabel": {
           "align": "left"
          },
          "hovermode": "closest",
          "mapbox": {
           "style": "light"
          },
          "paper_bgcolor": "white",
          "plot_bgcolor": "#E5ECF6",
          "polar": {
           "angularaxis": {
            "gridcolor": "white",
            "linecolor": "white",
            "ticks": ""
           },
           "bgcolor": "#E5ECF6",
           "radialaxis": {
            "gridcolor": "white",
            "linecolor": "white",
            "ticks": ""
           }
          },
          "scene": {
           "xaxis": {
            "backgroundcolor": "#E5ECF6",
            "gridcolor": "white",
            "gridwidth": 2,
            "linecolor": "white",
            "showbackground": true,
            "ticks": "",
            "zerolinecolor": "white"
           },
           "yaxis": {
            "backgroundcolor": "#E5ECF6",
            "gridcolor": "white",
            "gridwidth": 2,
            "linecolor": "white",
            "showbackground": true,
            "ticks": "",
            "zerolinecolor": "white"
           },
           "zaxis": {
            "backgroundcolor": "#E5ECF6",
            "gridcolor": "white",
            "gridwidth": 2,
            "linecolor": "white",
            "showbackground": true,
            "ticks": "",
            "zerolinecolor": "white"
           }
          },
          "shapedefaults": {
           "line": {
            "color": "#2a3f5f"
           }
          },
          "ternary": {
           "aaxis": {
            "gridcolor": "white",
            "linecolor": "white",
            "ticks": ""
           },
           "baxis": {
            "gridcolor": "white",
            "linecolor": "white",
            "ticks": ""
           },
           "bgcolor": "#E5ECF6",
           "caxis": {
            "gridcolor": "white",
            "linecolor": "white",
            "ticks": ""
           }
          },
          "title": {
           "x": 0.05
          },
          "xaxis": {
           "automargin": true,
           "gridcolor": "white",
           "linecolor": "white",
           "ticks": "",
           "title": {
            "standoff": 15
           },
           "zerolinecolor": "white",
           "zerolinewidth": 2
          },
          "yaxis": {
           "automargin": true,
           "gridcolor": "white",
           "linecolor": "white",
           "ticks": "",
           "title": {
            "standoff": 15
           },
           "zerolinecolor": "white",
           "zerolinewidth": 2
          }
         }
        },
        "title": {
         "text": "World SEVIS IDS"
        }
       }
      }
     },
     "metadata": {},
     "output_type": "display_data"
    }
   ],
   "source": [
    "non_china_non_india = non_null.drop([1, 2])\n",
    "\n",
    "fig = px.choropleth(\n",
    "    non_china_non_india,\n",
    "    locations='Country of Citizenship',  # Column specifying the country names\n",
    "    locationmode='country names',\n",
    "    color='Total SEVIS IDS',  # Column specifying the population\n",
    "    color_continuous_scale='Viridis',  # Color scale\n",
    "    labels={'Total SEVIS IDS': 'Total SEVIS IDS'},  # Labels for hover information\n",
    "    title='World SEVIS IDS'  # Title of the plot\n",
    ")\n",
    "\n",
    "fig.update_geos(showcoastlines=True)  # Display coastlines\n",
    "\n",
    "fig.show()"
   ]
  },
  {
   "cell_type": "code",
   "execution_count": 28,
   "metadata": {},
   "outputs": [
    {
     "data": {
      "text/html": [
       "<div>\n",
       "<style scoped>\n",
       "    .dataframe tbody tr th:only-of-type {\n",
       "        vertical-align: middle;\n",
       "    }\n",
       "\n",
       "    .dataframe tbody tr th {\n",
       "        vertical-align: top;\n",
       "    }\n",
       "\n",
       "    .dataframe thead th {\n",
       "        text-align: right;\n",
       "    }\n",
       "</style>\n",
       "<table border=\"1\" class=\"dataframe\">\n",
       "  <thead>\n",
       "    <tr style=\"text-align: right;\">\n",
       "      <th></th>\n",
       "      <th>Country of Citizenship</th>\n",
       "      <th>Total SEVIS IDS</th>\n",
       "    </tr>\n",
       "  </thead>\n",
       "  <tbody>\n",
       "    <tr>\n",
       "      <th>2</th>\n",
       "      <td>INDIA</td>\n",
       "      <td>297151</td>\n",
       "    </tr>\n",
       "    <tr>\n",
       "      <th>243</th>\n",
       "      <td>BASSAS DA INDIA</td>\n",
       "      <td>10</td>\n",
       "    </tr>\n",
       "    <tr>\n",
       "      <th>252</th>\n",
       "      <td>BRITISH INDIAN OCEAN TERRITORY</td>\n",
       "      <td>4</td>\n",
       "    </tr>\n",
       "  </tbody>\n",
       "</table>\n",
       "</div>"
      ],
      "text/plain": [
       "0            Country of Citizenship  Total SEVIS IDS\n",
       "2                             INDIA           297151\n",
       "243                 BASSAS DA INDIA               10\n",
       "252  BRITISH INDIAN OCEAN TERRITORY                4"
      ]
     },
     "execution_count": 28,
     "metadata": {},
     "output_type": "execute_result"
    }
   ],
   "source": [
    "finding_india = non_null[non_null['Country of Citizenship'].str.contains('India', case=False)]\n",
    "finding_india"
   ]
  },
  {
   "cell_type": "code",
   "execution_count": 29,
   "metadata": {},
   "outputs": [
    {
     "data": {
      "text/html": [
       "<div>\n",
       "<style scoped>\n",
       "    .dataframe tbody tr th:only-of-type {\n",
       "        vertical-align: middle;\n",
       "    }\n",
       "\n",
       "    .dataframe tbody tr th {\n",
       "        vertical-align: top;\n",
       "    }\n",
       "\n",
       "    .dataframe thead th {\n",
       "        text-align: right;\n",
       "    }\n",
       "</style>\n",
       "<table border=\"1\" class=\"dataframe\">\n",
       "  <thead>\n",
       "    <tr style=\"text-align: right;\">\n",
       "      <th></th>\n",
       "      <th>Country of Citizenship</th>\n",
       "      <th>Total SEVIS IDS</th>\n",
       "    </tr>\n",
       "  </thead>\n",
       "  <tbody>\n",
       "    <tr>\n",
       "      <th>252</th>\n",
       "      <td>BRITISH INDIAN OCEAN TERRITORY</td>\n",
       "      <td>4</td>\n",
       "    </tr>\n",
       "  </tbody>\n",
       "</table>\n",
       "</div>"
      ],
      "text/plain": [
       "0            Country of Citizenship  Total SEVIS IDS\n",
       "252  BRITISH INDIAN OCEAN TERRITORY                4"
      ]
     },
     "execution_count": 29,
     "metadata": {},
     "output_type": "execute_result"
    }
   ],
   "source": [
    "remove_bassas = non_china_non_india.drop(243)\n",
    "finding_india_again = remove_bassas[remove_bassas['Country of Citizenship'].str.contains('India', case=False)]\n",
    "finding_india_again"
   ]
  },
  {
   "cell_type": "code",
   "execution_count": 30,
   "metadata": {},
   "outputs": [
    {
     "data": {
      "application/vnd.plotly.v1+json": {
       "config": {
        "plotlyServerURL": "https://plot.ly"
       },
       "data": [
        {
         "coloraxis": "coloraxis",
         "geo": "geo",
         "hovertemplate": "Country of Citizenship=%{location}<br>Total SEVIS IDS=%{z}<extra></extra>",
         "locationmode": "country names",
         "locations": [
          "REPUBLIC OF KOREA (SOUTH KOREA)",
          "CANADA",
          "BRAZIL",
          "VIETNAM",
          "JAPAN",
          "TAIWAN",
          "SAUDI ARABIA",
          "NIGERIA",
          "MEXICO",
          "COLOMBIA",
          "NEPAL",
          "BANGLADESH",
          "GERMANY",
          "UNITED KINGDOM",
          "FRANCE",
          "SPAIN",
          "TURKEY",
          "IRAN",
          "PAKISTAN",
          "ITALY",
          "INDONESIA",
          "THAILAND",
          "RUSSIA",
          "PERU",
          "GHANA",
          "KUWAIT",
          "HONG KONG",
          "VENEZUELA",
          "PHILIPPINES",
          "AUSTRALIA",
          "MALAYSIA",
          "KENYA",
          "ECUADOR",
          "SINGAPORE",
          "ARGENTINA",
          "EGYPT",
          "CHILE",
          "SWEDEN",
          "BAHAMAS, THE",
          "JAMAICA",
          "ETHIOPIA",
          "NETHERLANDS",
          "SOUTH AFRICA",
          "JORDAN",
          "UKRAINE",
          "SWITZERLAND",
          "KAZAKHSTAN",
          "BURMA",
          "SRI LANKA",
          "ISRAEL",
          "NORWAY",
          "DOMINICAN REPUBLIC",
          "PANAMA",
          "MONGOLIA",
          "HONDURAS",
          "GREECE",
          "POLAND",
          "OMAN",
          "CONGO (KINSHASA)",
          "ZIMBABWE",
          "LEBANON",
          "MOROCCO",
          "NEW ZEALAND",
          "BELGIUM",
          "BOLIVIA",
          "DENMARK",
          "RWANDA",
          "COSTA RICA",
          "TRINIDAD AND TOBAGO",
          "SERBIA",
          "UZBEKISTAN",
          "IRELAND",
          "PORTUGAL",
          "UNITED ARAB EMIRATES",
          "GUATEMALA",
          "ALBANIA",
          "COTE D'IVOIRE",
          "AUSTRIA",
          "UGANDA",
          "EL SALVADOR",
          "HAITI",
          "TANZANIA",
          "CAMEROON",
          "TUNISIA",
          "CZECH REPUBLIC",
          "ROMANIA",
          "CAMBODIA",
          "KYRGYZSTAN",
          "HUNGARY",
          "AZERBAIJAN",
          "GEORGIA",
          "ANGOLA",
          "PARAGUAY",
          "FINLAND",
          "ARMENIA",
          "BULGARIA",
          "SENEGAL",
          "ZAMBIA",
          "BELARUS",
          "NICARAGUA",
          "LIBYA",
          "CROATIA",
          "DOMINICA",
          "QATAR",
          "AFGHANISTAN",
          "BURKINA FASO",
          "ALGERIA",
          "SLOVAKIA",
          "ICELAND",
          "URUGUAY",
          "YEMEN",
          "CYPRUS",
          "BELIZE",
          "TURKMENISTAN",
          "LITHUANIA",
          "MALAWI",
          "GUYANA",
          "BERMUDA",
          "IRAQ",
          "MACAU",
          "BARBADOS",
          "SUDAN",
          "WEST BANK",
          "BAHRAIN",
          "MALI",
          "LATVIA",
          "SYRIA",
          "EQUATORIAL GUINEA",
          "GABON",
          "GAMBIA, THE",
          "LIBERIA",
          "SIERRA LEONE",
          "BENIN",
          "BOSNIA AND HERZEGOVINA",
          "MACEDONIA",
          "MAURITIUS",
          "BOTSWANA",
          "TAJIKISTAN",
          "MADAGASCAR",
          "SAINT LUCIA",
          "MONTENEGRO",
          "SLOVENIA",
          "NIGER",
          "ANTIGUA AND BARBUDA",
          "TOGO",
          "KOSOVO",
          "SAINT KITTS AND NEVIS",
          "ESTONIA",
          "MOLDOVA",
          "SWAZILAND",
          "BURUNDI",
          "GRENADA",
          "MOZAMBIQUE",
          "CAYMAN ISLANDS",
          "BHUTAN",
          "CONGO (BRAZZAVILLE)",
          "LAOS",
          "ERITREA",
          "SOUTH SUDAN",
          "CUBA",
          "GAZA STRIP",
          "PAPUA NEW GUINEA",
          "NAMIBIA",
          "CURACAO",
          "SAINT VINCENT AND THE GRENADINES",
          "LUXEMBOURG",
          "GUINEA",
          "SOMALIA",
          "MALTA",
          "ARUBA",
          "CAPE VERDE",
          "CHAD",
          "SURINAME",
          "LESOTHO",
          "TURKS AND CAICOS ISLANDS",
          "FIJI",
          "MAURITANIA",
          "BRITISH VIRGIN ISLANDS",
          "STATELESS",
          "SINT MAARTEN",
          "BRUNEI",
          "MALDIVES",
          "TONGA",
          "ANDORRA",
          "FRENCH POLYNESIA",
          "MONACO",
          "CENTRAL AFRICAN REPUBLIC",
          "LIECHTENSTEIN",
          "SAINT MARTIN",
          "SAMOA",
          "TIMOR-LESTE",
          "GUINEA-BISSAU",
          "SEYCHELLES",
          "ANGUILLA",
          "KIRIBATI",
          "SOLOMON ISLANDS",
          "SAN MARINO",
          "ISLE OF MAN",
          "JERSEY",
          "REUNION",
          "COMOROS",
          "UNKNOWN",
          "MARTINIQUE",
          "VANUATU",
          "BRITISH INDIAN OCEAN TERRITORY",
          "DJIBOUTI",
          "GIBRALTAR",
          "NEW CALEDONIA",
          "FRENCH GUIANA",
          "GUERNSEY",
          "MONTSERRAT",
          "SAO TOME AND PRINCIPE",
          "FAROE ISLANDS",
          "PALAU",
          "GREENLAND",
          "JAN MAYEN",
          "NETHERLANDS ANTILLES",
          "NEUTRAL ZONE",
          "NIUE",
          "SAINT PIERRE AND MIQUELON",
          "TROMELIN ISLAND",
          "TUVALU"
         ],
         "name": "",
         "type": "choropleth",
         "z": [
          62617,
          41392,
          37904,
          29742,
          26519,
          26225,
          24485,
          22935,
          22715,
          20744,
          20344,
          18184,
          16097,
          15144,
          14713,
          14444,
          14009,
          12183,
          11993,
          11435,
          8932,
          8777,
          7625,
          7560,
          7537,
          7509,
          7500,
          7131,
          6278,
          5990,
          5887,
          5792,
          5650,
          5166,
          4996,
          4855,
          4697,
          4570,
          4510,
          4492,
          4274,
          4262,
          4036,
          3925,
          3806,
          3737,
          3731,
          3592,
          3570,
          3549,
          3474,
          3414,
          3363,
          3282,
          3253,
          2949,
          2853,
          2546,
          2543,
          2325,
          2319,
          2236,
          2084,
          1994,
          1909,
          1909,
          1887,
          1861,
          1800,
          1798,
          1736,
          1731,
          1728,
          1725,
          1668,
          1665,
          1643,
          1557,
          1525,
          1485,
          1377,
          1373,
          1341,
          1330,
          1277,
          1213,
          1197,
          1197,
          1165,
          1135,
          1078,
          947,
          848,
          830,
          806,
          798,
          798,
          786,
          757,
          719,
          712,
          649,
          628,
          609,
          593,
          582,
          580,
          580,
          573,
          572,
          562,
          522,
          518,
          518,
          506,
          499,
          494,
          484,
          454,
          448,
          446,
          441,
          437,
          426,
          417,
          406,
          406,
          397,
          397,
          392,
          387,
          358,
          352,
          346,
          345,
          327,
          325,
          323,
          321,
          310,
          300,
          292,
          277,
          276,
          271,
          269,
          263,
          255,
          243,
          243,
          232,
          227,
          226,
          224,
          211,
          205,
          177,
          172,
          155,
          154,
          151,
          150,
          149,
          147,
          147,
          144,
          132,
          130,
          108,
          89,
          89,
          85,
          78,
          77,
          74,
          72,
          62,
          61,
          50,
          41,
          39,
          36,
          34,
          33,
          23,
          22,
          21,
          20,
          20,
          20,
          18,
          17,
          16,
          14,
          13,
          12,
          9,
          8,
          8,
          8,
          7,
          7,
          6,
          5,
          4,
          4,
          4,
          4,
          3,
          3,
          3,
          3,
          2,
          2,
          1,
          1,
          1,
          1,
          1,
          1,
          1,
          1
         ]
        }
       ],
       "layout": {
        "coloraxis": {
         "colorbar": {
          "title": {
           "text": "Total SEVIS IDS"
          }
         },
         "colorscale": [
          [
           0,
           "#440154"
          ],
          [
           0.1111111111111111,
           "#482878"
          ],
          [
           0.2222222222222222,
           "#3e4989"
          ],
          [
           0.3333333333333333,
           "#31688e"
          ],
          [
           0.4444444444444444,
           "#26828e"
          ],
          [
           0.5555555555555556,
           "#1f9e89"
          ],
          [
           0.6666666666666666,
           "#35b779"
          ],
          [
           0.7777777777777778,
           "#6ece58"
          ],
          [
           0.8888888888888888,
           "#b5de2b"
          ],
          [
           1,
           "#fde725"
          ]
         ]
        },
        "geo": {
         "center": {},
         "domain": {
          "x": [
           0,
           1
          ],
          "y": [
           0,
           1
          ]
         },
         "showcoastlines": true
        },
        "legend": {
         "tracegroupgap": 0
        },
        "template": {
         "data": {
          "bar": [
           {
            "error_x": {
             "color": "#2a3f5f"
            },
            "error_y": {
             "color": "#2a3f5f"
            },
            "marker": {
             "line": {
              "color": "#E5ECF6",
              "width": 0.5
             },
             "pattern": {
              "fillmode": "overlay",
              "size": 10,
              "solidity": 0.2
             }
            },
            "type": "bar"
           }
          ],
          "barpolar": [
           {
            "marker": {
             "line": {
              "color": "#E5ECF6",
              "width": 0.5
             },
             "pattern": {
              "fillmode": "overlay",
              "size": 10,
              "solidity": 0.2
             }
            },
            "type": "barpolar"
           }
          ],
          "carpet": [
           {
            "aaxis": {
             "endlinecolor": "#2a3f5f",
             "gridcolor": "white",
             "linecolor": "white",
             "minorgridcolor": "white",
             "startlinecolor": "#2a3f5f"
            },
            "baxis": {
             "endlinecolor": "#2a3f5f",
             "gridcolor": "white",
             "linecolor": "white",
             "minorgridcolor": "white",
             "startlinecolor": "#2a3f5f"
            },
            "type": "carpet"
           }
          ],
          "choropleth": [
           {
            "colorbar": {
             "outlinewidth": 0,
             "ticks": ""
            },
            "type": "choropleth"
           }
          ],
          "contour": [
           {
            "colorbar": {
             "outlinewidth": 0,
             "ticks": ""
            },
            "colorscale": [
             [
              0,
              "#0d0887"
             ],
             [
              0.1111111111111111,
              "#46039f"
             ],
             [
              0.2222222222222222,
              "#7201a8"
             ],
             [
              0.3333333333333333,
              "#9c179e"
             ],
             [
              0.4444444444444444,
              "#bd3786"
             ],
             [
              0.5555555555555556,
              "#d8576b"
             ],
             [
              0.6666666666666666,
              "#ed7953"
             ],
             [
              0.7777777777777778,
              "#fb9f3a"
             ],
             [
              0.8888888888888888,
              "#fdca26"
             ],
             [
              1,
              "#f0f921"
             ]
            ],
            "type": "contour"
           }
          ],
          "contourcarpet": [
           {
            "colorbar": {
             "outlinewidth": 0,
             "ticks": ""
            },
            "type": "contourcarpet"
           }
          ],
          "heatmap": [
           {
            "colorbar": {
             "outlinewidth": 0,
             "ticks": ""
            },
            "colorscale": [
             [
              0,
              "#0d0887"
             ],
             [
              0.1111111111111111,
              "#46039f"
             ],
             [
              0.2222222222222222,
              "#7201a8"
             ],
             [
              0.3333333333333333,
              "#9c179e"
             ],
             [
              0.4444444444444444,
              "#bd3786"
             ],
             [
              0.5555555555555556,
              "#d8576b"
             ],
             [
              0.6666666666666666,
              "#ed7953"
             ],
             [
              0.7777777777777778,
              "#fb9f3a"
             ],
             [
              0.8888888888888888,
              "#fdca26"
             ],
             [
              1,
              "#f0f921"
             ]
            ],
            "type": "heatmap"
           }
          ],
          "heatmapgl": [
           {
            "colorbar": {
             "outlinewidth": 0,
             "ticks": ""
            },
            "colorscale": [
             [
              0,
              "#0d0887"
             ],
             [
              0.1111111111111111,
              "#46039f"
             ],
             [
              0.2222222222222222,
              "#7201a8"
             ],
             [
              0.3333333333333333,
              "#9c179e"
             ],
             [
              0.4444444444444444,
              "#bd3786"
             ],
             [
              0.5555555555555556,
              "#d8576b"
             ],
             [
              0.6666666666666666,
              "#ed7953"
             ],
             [
              0.7777777777777778,
              "#fb9f3a"
             ],
             [
              0.8888888888888888,
              "#fdca26"
             ],
             [
              1,
              "#f0f921"
             ]
            ],
            "type": "heatmapgl"
           }
          ],
          "histogram": [
           {
            "marker": {
             "pattern": {
              "fillmode": "overlay",
              "size": 10,
              "solidity": 0.2
             }
            },
            "type": "histogram"
           }
          ],
          "histogram2d": [
           {
            "colorbar": {
             "outlinewidth": 0,
             "ticks": ""
            },
            "colorscale": [
             [
              0,
              "#0d0887"
             ],
             [
              0.1111111111111111,
              "#46039f"
             ],
             [
              0.2222222222222222,
              "#7201a8"
             ],
             [
              0.3333333333333333,
              "#9c179e"
             ],
             [
              0.4444444444444444,
              "#bd3786"
             ],
             [
              0.5555555555555556,
              "#d8576b"
             ],
             [
              0.6666666666666666,
              "#ed7953"
             ],
             [
              0.7777777777777778,
              "#fb9f3a"
             ],
             [
              0.8888888888888888,
              "#fdca26"
             ],
             [
              1,
              "#f0f921"
             ]
            ],
            "type": "histogram2d"
           }
          ],
          "histogram2dcontour": [
           {
            "colorbar": {
             "outlinewidth": 0,
             "ticks": ""
            },
            "colorscale": [
             [
              0,
              "#0d0887"
             ],
             [
              0.1111111111111111,
              "#46039f"
             ],
             [
              0.2222222222222222,
              "#7201a8"
             ],
             [
              0.3333333333333333,
              "#9c179e"
             ],
             [
              0.4444444444444444,
              "#bd3786"
             ],
             [
              0.5555555555555556,
              "#d8576b"
             ],
             [
              0.6666666666666666,
              "#ed7953"
             ],
             [
              0.7777777777777778,
              "#fb9f3a"
             ],
             [
              0.8888888888888888,
              "#fdca26"
             ],
             [
              1,
              "#f0f921"
             ]
            ],
            "type": "histogram2dcontour"
           }
          ],
          "mesh3d": [
           {
            "colorbar": {
             "outlinewidth": 0,
             "ticks": ""
            },
            "type": "mesh3d"
           }
          ],
          "parcoords": [
           {
            "line": {
             "colorbar": {
              "outlinewidth": 0,
              "ticks": ""
             }
            },
            "type": "parcoords"
           }
          ],
          "pie": [
           {
            "automargin": true,
            "type": "pie"
           }
          ],
          "scatter": [
           {
            "fillpattern": {
             "fillmode": "overlay",
             "size": 10,
             "solidity": 0.2
            },
            "type": "scatter"
           }
          ],
          "scatter3d": [
           {
            "line": {
             "colorbar": {
              "outlinewidth": 0,
              "ticks": ""
             }
            },
            "marker": {
             "colorbar": {
              "outlinewidth": 0,
              "ticks": ""
             }
            },
            "type": "scatter3d"
           }
          ],
          "scattercarpet": [
           {
            "marker": {
             "colorbar": {
              "outlinewidth": 0,
              "ticks": ""
             }
            },
            "type": "scattercarpet"
           }
          ],
          "scattergeo": [
           {
            "marker": {
             "colorbar": {
              "outlinewidth": 0,
              "ticks": ""
             }
            },
            "type": "scattergeo"
           }
          ],
          "scattergl": [
           {
            "marker": {
             "colorbar": {
              "outlinewidth": 0,
              "ticks": ""
             }
            },
            "type": "scattergl"
           }
          ],
          "scattermapbox": [
           {
            "marker": {
             "colorbar": {
              "outlinewidth": 0,
              "ticks": ""
             }
            },
            "type": "scattermapbox"
           }
          ],
          "scatterpolar": [
           {
            "marker": {
             "colorbar": {
              "outlinewidth": 0,
              "ticks": ""
             }
            },
            "type": "scatterpolar"
           }
          ],
          "scatterpolargl": [
           {
            "marker": {
             "colorbar": {
              "outlinewidth": 0,
              "ticks": ""
             }
            },
            "type": "scatterpolargl"
           }
          ],
          "scatterternary": [
           {
            "marker": {
             "colorbar": {
              "outlinewidth": 0,
              "ticks": ""
             }
            },
            "type": "scatterternary"
           }
          ],
          "surface": [
           {
            "colorbar": {
             "outlinewidth": 0,
             "ticks": ""
            },
            "colorscale": [
             [
              0,
              "#0d0887"
             ],
             [
              0.1111111111111111,
              "#46039f"
             ],
             [
              0.2222222222222222,
              "#7201a8"
             ],
             [
              0.3333333333333333,
              "#9c179e"
             ],
             [
              0.4444444444444444,
              "#bd3786"
             ],
             [
              0.5555555555555556,
              "#d8576b"
             ],
             [
              0.6666666666666666,
              "#ed7953"
             ],
             [
              0.7777777777777778,
              "#fb9f3a"
             ],
             [
              0.8888888888888888,
              "#fdca26"
             ],
             [
              1,
              "#f0f921"
             ]
            ],
            "type": "surface"
           }
          ],
          "table": [
           {
            "cells": {
             "fill": {
              "color": "#EBF0F8"
             },
             "line": {
              "color": "white"
             }
            },
            "header": {
             "fill": {
              "color": "#C8D4E3"
             },
             "line": {
              "color": "white"
             }
            },
            "type": "table"
           }
          ]
         },
         "layout": {
          "annotationdefaults": {
           "arrowcolor": "#2a3f5f",
           "arrowhead": 0,
           "arrowwidth": 1
          },
          "autotypenumbers": "strict",
          "coloraxis": {
           "colorbar": {
            "outlinewidth": 0,
            "ticks": ""
           }
          },
          "colorscale": {
           "diverging": [
            [
             0,
             "#8e0152"
            ],
            [
             0.1,
             "#c51b7d"
            ],
            [
             0.2,
             "#de77ae"
            ],
            [
             0.3,
             "#f1b6da"
            ],
            [
             0.4,
             "#fde0ef"
            ],
            [
             0.5,
             "#f7f7f7"
            ],
            [
             0.6,
             "#e6f5d0"
            ],
            [
             0.7,
             "#b8e186"
            ],
            [
             0.8,
             "#7fbc41"
            ],
            [
             0.9,
             "#4d9221"
            ],
            [
             1,
             "#276419"
            ]
           ],
           "sequential": [
            [
             0,
             "#0d0887"
            ],
            [
             0.1111111111111111,
             "#46039f"
            ],
            [
             0.2222222222222222,
             "#7201a8"
            ],
            [
             0.3333333333333333,
             "#9c179e"
            ],
            [
             0.4444444444444444,
             "#bd3786"
            ],
            [
             0.5555555555555556,
             "#d8576b"
            ],
            [
             0.6666666666666666,
             "#ed7953"
            ],
            [
             0.7777777777777778,
             "#fb9f3a"
            ],
            [
             0.8888888888888888,
             "#fdca26"
            ],
            [
             1,
             "#f0f921"
            ]
           ],
           "sequentialminus": [
            [
             0,
             "#0d0887"
            ],
            [
             0.1111111111111111,
             "#46039f"
            ],
            [
             0.2222222222222222,
             "#7201a8"
            ],
            [
             0.3333333333333333,
             "#9c179e"
            ],
            [
             0.4444444444444444,
             "#bd3786"
            ],
            [
             0.5555555555555556,
             "#d8576b"
            ],
            [
             0.6666666666666666,
             "#ed7953"
            ],
            [
             0.7777777777777778,
             "#fb9f3a"
            ],
            [
             0.8888888888888888,
             "#fdca26"
            ],
            [
             1,
             "#f0f921"
            ]
           ]
          },
          "colorway": [
           "#636efa",
           "#EF553B",
           "#00cc96",
           "#ab63fa",
           "#FFA15A",
           "#19d3f3",
           "#FF6692",
           "#B6E880",
           "#FF97FF",
           "#FECB52"
          ],
          "font": {
           "color": "#2a3f5f"
          },
          "geo": {
           "bgcolor": "white",
           "lakecolor": "white",
           "landcolor": "#E5ECF6",
           "showlakes": true,
           "showland": true,
           "subunitcolor": "white"
          },
          "hoverlabel": {
           "align": "left"
          },
          "hovermode": "closest",
          "mapbox": {
           "style": "light"
          },
          "paper_bgcolor": "white",
          "plot_bgcolor": "#E5ECF6",
          "polar": {
           "angularaxis": {
            "gridcolor": "white",
            "linecolor": "white",
            "ticks": ""
           },
           "bgcolor": "#E5ECF6",
           "radialaxis": {
            "gridcolor": "white",
            "linecolor": "white",
            "ticks": ""
           }
          },
          "scene": {
           "xaxis": {
            "backgroundcolor": "#E5ECF6",
            "gridcolor": "white",
            "gridwidth": 2,
            "linecolor": "white",
            "showbackground": true,
            "ticks": "",
            "zerolinecolor": "white"
           },
           "yaxis": {
            "backgroundcolor": "#E5ECF6",
            "gridcolor": "white",
            "gridwidth": 2,
            "linecolor": "white",
            "showbackground": true,
            "ticks": "",
            "zerolinecolor": "white"
           },
           "zaxis": {
            "backgroundcolor": "#E5ECF6",
            "gridcolor": "white",
            "gridwidth": 2,
            "linecolor": "white",
            "showbackground": true,
            "ticks": "",
            "zerolinecolor": "white"
           }
          },
          "shapedefaults": {
           "line": {
            "color": "#2a3f5f"
           }
          },
          "ternary": {
           "aaxis": {
            "gridcolor": "white",
            "linecolor": "white",
            "ticks": ""
           },
           "baxis": {
            "gridcolor": "white",
            "linecolor": "white",
            "ticks": ""
           },
           "bgcolor": "#E5ECF6",
           "caxis": {
            "gridcolor": "white",
            "linecolor": "white",
            "ticks": ""
           }
          },
          "title": {
           "x": 0.05
          },
          "xaxis": {
           "automargin": true,
           "gridcolor": "white",
           "linecolor": "white",
           "ticks": "",
           "title": {
            "standoff": 15
           },
           "zerolinecolor": "white",
           "zerolinewidth": 2
          },
          "yaxis": {
           "automargin": true,
           "gridcolor": "white",
           "linecolor": "white",
           "ticks": "",
           "title": {
            "standoff": 15
           },
           "zerolinecolor": "white",
           "zerolinewidth": 2
          }
         }
        },
        "title": {
         "text": "World SEVIS IDS"
        }
       }
      }
     },
     "metadata": {},
     "output_type": "display_data"
    }
   ],
   "source": [
    "fig = px.choropleth(\n",
    "    remove_bassas,\n",
    "    locations='Country of Citizenship',  # Column specifying the country names\n",
    "    locationmode='country names',\n",
    "    color='Total SEVIS IDS',  # Column specifying the population\n",
    "    color_continuous_scale='Viridis',  # Color scale\n",
    "    labels={'Total SEVIS IDS': 'Total SEVIS IDS'},  # Labels for hover information\n",
    "    title='World SEVIS IDS'  # Title of the plot\n",
    ")\n",
    "\n",
    "fig.update_geos(showcoastlines=True)  # Display coastlines\n",
    "\n",
    "fig.show()"
   ]
  }
 ],
 "metadata": {
  "kernelspec": {
   "display_name": "xeus-python",
   "language": "python",
   "name": "python3"
  },
  "language_info": {
   "codemirror_mode": {
    "name": "ipython",
    "version": 3
   },
   "file_extension": ".py",
   "mimetype": "text/x-python",
   "name": "python",
   "nbconvert_exporter": "python",
   "pygments_lexer": "ipython3",
   "version": "3.12.2"
  }
 },
 "nbformat": 4,
 "nbformat_minor": 2
}
