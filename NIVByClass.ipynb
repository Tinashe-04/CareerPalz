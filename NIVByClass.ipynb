{
 "cells": [
  {
   "cell_type": "code",
   "execution_count": 2,
   "metadata": {},
   "outputs": [],
   "source": [
    "# import all of the relevant libraries for data preprocessing, plotting graphs, and reading in values\n",
    "import pandas as pd\n",
    "import numpy as np\n",
    "import plotly.express as px\n",
    "import plotly.graph_objects as go\n",
    "import matplotlib.pyplot as plt\n",
    "%matplotlib inline\n",
    "from datetime import datetime\n",
    "from datetime import timedelta\n",
    "import tabula"
   ]
  },
  {
   "cell_type": "code",
   "execution_count": 3,
   "metadata": {},
   "outputs": [
    {
     "data": {
      "text/html": [
       "<div>\n",
       "<style scoped>\n",
       "    .dataframe tbody tr th:only-of-type {\n",
       "        vertical-align: middle;\n",
       "    }\n",
       "\n",
       "    .dataframe tbody tr th {\n",
       "        vertical-align: top;\n",
       "    }\n",
       "\n",
       "    .dataframe thead th {\n",
       "        text-align: right;\n",
       "    }\n",
       "</style>\n",
       "<table border=\"1\" class=\"dataframe\">\n",
       "  <thead>\n",
       "    <tr style=\"text-align: right;\">\n",
       "      <th></th>\n",
       "      <th>Fiscal Year 1997</th>\n",
       "      <th>A-1</th>\n",
       "      <th>A-2</th>\n",
       "      <th>A-3</th>\n",
       "      <th>B-1</th>\n",
       "      <th>B-1,2</th>\n",
       "      <th>B-2</th>\n",
       "      <th>B-1,2/BCC</th>\n",
       "      <th>B-1,2/BCV</th>\n",
       "      <th>C-1</th>\n",
       "      <th>...</th>\n",
       "      <th>U-1</th>\n",
       "      <th>U-2</th>\n",
       "      <th>U-3</th>\n",
       "      <th>U-4</th>\n",
       "      <th>V-1</th>\n",
       "      <th>V-2</th>\n",
       "      <th>V-3</th>\n",
       "      <th>Total Visas</th>\n",
       "      <th>BCC</th>\n",
       "      <th>Grand Total</th>\n",
       "    </tr>\n",
       "  </thead>\n",
       "  <tbody>\n",
       "    <tr>\n",
       "      <th>0</th>\n",
       "      <td>Africa</td>\n",
       "      <td>NaN</td>\n",
       "      <td>NaN</td>\n",
       "      <td>NaN</td>\n",
       "      <td>NaN</td>\n",
       "      <td>NaN</td>\n",
       "      <td>NaN</td>\n",
       "      <td>NaN</td>\n",
       "      <td>NaN</td>\n",
       "      <td>NaN</td>\n",
       "      <td>...</td>\n",
       "      <td>NaN</td>\n",
       "      <td>NaN</td>\n",
       "      <td>NaN</td>\n",
       "      <td>NaN</td>\n",
       "      <td>NaN</td>\n",
       "      <td>NaN</td>\n",
       "      <td>NaN</td>\n",
       "      <td>NaN</td>\n",
       "      <td>NaN</td>\n",
       "      <td>NaN</td>\n",
       "    </tr>\n",
       "    <tr>\n",
       "      <th>1</th>\n",
       "      <td>Algeria</td>\n",
       "      <td>62.0</td>\n",
       "      <td>23.0</td>\n",
       "      <td>5.0</td>\n",
       "      <td>1661.0</td>\n",
       "      <td>507.0</td>\n",
       "      <td>3430.0</td>\n",
       "      <td>0.0</td>\n",
       "      <td>0.0</td>\n",
       "      <td>57.0</td>\n",
       "      <td>...</td>\n",
       "      <td>0.0</td>\n",
       "      <td>0.0</td>\n",
       "      <td>0.0</td>\n",
       "      <td>0.0</td>\n",
       "      <td>0.0</td>\n",
       "      <td>0.0</td>\n",
       "      <td>0.0</td>\n",
       "      <td>6386.0</td>\n",
       "      <td>492.0</td>\n",
       "      <td>6878.0</td>\n",
       "    </tr>\n",
       "    <tr>\n",
       "      <th>2</th>\n",
       "      <td>Angola</td>\n",
       "      <td>54.0</td>\n",
       "      <td>169.0</td>\n",
       "      <td>3.0</td>\n",
       "      <td>10.0</td>\n",
       "      <td>1421.0</td>\n",
       "      <td>271.0</td>\n",
       "      <td>1.0</td>\n",
       "      <td>0.0</td>\n",
       "      <td>10.0</td>\n",
       "      <td>...</td>\n",
       "      <td>0.0</td>\n",
       "      <td>0.0</td>\n",
       "      <td>0.0</td>\n",
       "      <td>0.0</td>\n",
       "      <td>0.0</td>\n",
       "      <td>0.0</td>\n",
       "      <td>0.0</td>\n",
       "      <td>2397.0</td>\n",
       "      <td>4.0</td>\n",
       "      <td>2401.0</td>\n",
       "    </tr>\n",
       "    <tr>\n",
       "      <th>3</th>\n",
       "      <td>Benin</td>\n",
       "      <td>10.0</td>\n",
       "      <td>43.0</td>\n",
       "      <td>4.0</td>\n",
       "      <td>104.0</td>\n",
       "      <td>375.0</td>\n",
       "      <td>249.0</td>\n",
       "      <td>0.0</td>\n",
       "      <td>0.0</td>\n",
       "      <td>37.0</td>\n",
       "      <td>...</td>\n",
       "      <td>0.0</td>\n",
       "      <td>0.0</td>\n",
       "      <td>0.0</td>\n",
       "      <td>0.0</td>\n",
       "      <td>0.0</td>\n",
       "      <td>0.0</td>\n",
       "      <td>0.0</td>\n",
       "      <td>1105.0</td>\n",
       "      <td>10.0</td>\n",
       "      <td>1115.0</td>\n",
       "    </tr>\n",
       "    <tr>\n",
       "      <th>4</th>\n",
       "      <td>Botswana</td>\n",
       "      <td>10.0</td>\n",
       "      <td>79.0</td>\n",
       "      <td>1.0</td>\n",
       "      <td>2.0</td>\n",
       "      <td>366.0</td>\n",
       "      <td>54.0</td>\n",
       "      <td>0.0</td>\n",
       "      <td>0.0</td>\n",
       "      <td>3.0</td>\n",
       "      <td>...</td>\n",
       "      <td>0.0</td>\n",
       "      <td>0.0</td>\n",
       "      <td>0.0</td>\n",
       "      <td>0.0</td>\n",
       "      <td>0.0</td>\n",
       "      <td>0.0</td>\n",
       "      <td>0.0</td>\n",
       "      <td>850.0</td>\n",
       "      <td>0.0</td>\n",
       "      <td>850.0</td>\n",
       "    </tr>\n",
       "    <tr>\n",
       "      <th>5</th>\n",
       "      <td>Burkina Faso</td>\n",
       "      <td>19.0</td>\n",
       "      <td>7.0</td>\n",
       "      <td>1.0</td>\n",
       "      <td>12.0</td>\n",
       "      <td>487.0</td>\n",
       "      <td>309.0</td>\n",
       "      <td>1.0</td>\n",
       "      <td>0.0</td>\n",
       "      <td>24.0</td>\n",
       "      <td>...</td>\n",
       "      <td>0.0</td>\n",
       "      <td>0.0</td>\n",
       "      <td>0.0</td>\n",
       "      <td>0.0</td>\n",
       "      <td>0.0</td>\n",
       "      <td>0.0</td>\n",
       "      <td>0.0</td>\n",
       "      <td>1192.0</td>\n",
       "      <td>4.0</td>\n",
       "      <td>1196.0</td>\n",
       "    </tr>\n",
       "    <tr>\n",
       "      <th>6</th>\n",
       "      <td>Burundi</td>\n",
       "      <td>5.0</td>\n",
       "      <td>2.0</td>\n",
       "      <td>0.0</td>\n",
       "      <td>57.0</td>\n",
       "      <td>97.0</td>\n",
       "      <td>60.0</td>\n",
       "      <td>3.0</td>\n",
       "      <td>0.0</td>\n",
       "      <td>49.0</td>\n",
       "      <td>...</td>\n",
       "      <td>0.0</td>\n",
       "      <td>0.0</td>\n",
       "      <td>0.0</td>\n",
       "      <td>0.0</td>\n",
       "      <td>0.0</td>\n",
       "      <td>0.0</td>\n",
       "      <td>0.0</td>\n",
       "      <td>387.0</td>\n",
       "      <td>74.0</td>\n",
       "      <td>461.0</td>\n",
       "    </tr>\n",
       "    <tr>\n",
       "      <th>7</th>\n",
       "      <td>Cameroon</td>\n",
       "      <td>44.0</td>\n",
       "      <td>52.0</td>\n",
       "      <td>11.0</td>\n",
       "      <td>242.0</td>\n",
       "      <td>768.0</td>\n",
       "      <td>1128.0</td>\n",
       "      <td>0.0</td>\n",
       "      <td>0.0</td>\n",
       "      <td>53.0</td>\n",
       "      <td>...</td>\n",
       "      <td>0.0</td>\n",
       "      <td>0.0</td>\n",
       "      <td>0.0</td>\n",
       "      <td>0.0</td>\n",
       "      <td>0.0</td>\n",
       "      <td>0.0</td>\n",
       "      <td>0.0</td>\n",
       "      <td>2960.0</td>\n",
       "      <td>10.0</td>\n",
       "      <td>2970.0</td>\n",
       "    </tr>\n",
       "    <tr>\n",
       "      <th>8</th>\n",
       "      <td>Cape Verde</td>\n",
       "      <td>3.0</td>\n",
       "      <td>23.0</td>\n",
       "      <td>2.0</td>\n",
       "      <td>17.0</td>\n",
       "      <td>3273.0</td>\n",
       "      <td>763.0</td>\n",
       "      <td>0.0</td>\n",
       "      <td>0.0</td>\n",
       "      <td>16.0</td>\n",
       "      <td>...</td>\n",
       "      <td>0.0</td>\n",
       "      <td>0.0</td>\n",
       "      <td>0.0</td>\n",
       "      <td>0.0</td>\n",
       "      <td>0.0</td>\n",
       "      <td>0.0</td>\n",
       "      <td>0.0</td>\n",
       "      <td>4261.0</td>\n",
       "      <td>1.0</td>\n",
       "      <td>4262.0</td>\n",
       "    </tr>\n",
       "    <tr>\n",
       "      <th>9</th>\n",
       "      <td>Central African Republic</td>\n",
       "      <td>7.0</td>\n",
       "      <td>5.0</td>\n",
       "      <td>0.0</td>\n",
       "      <td>7.0</td>\n",
       "      <td>69.0</td>\n",
       "      <td>33.0</td>\n",
       "      <td>0.0</td>\n",
       "      <td>0.0</td>\n",
       "      <td>5.0</td>\n",
       "      <td>...</td>\n",
       "      <td>0.0</td>\n",
       "      <td>0.0</td>\n",
       "      <td>0.0</td>\n",
       "      <td>0.0</td>\n",
       "      <td>0.0</td>\n",
       "      <td>0.0</td>\n",
       "      <td>0.0</td>\n",
       "      <td>208.0</td>\n",
       "      <td>2.0</td>\n",
       "      <td>210.0</td>\n",
       "    </tr>\n",
       "  </tbody>\n",
       "</table>\n",
       "<p>10 rows × 90 columns</p>\n",
       "</div>"
      ],
      "text/plain": [
       "           Fiscal Year 1997   A-1    A-2   A-3     B-1   B-1,2     B-2  \\\n",
       "0                    Africa   NaN    NaN   NaN     NaN     NaN     NaN   \n",
       "1                   Algeria  62.0   23.0   5.0  1661.0   507.0  3430.0   \n",
       "2                    Angola  54.0  169.0   3.0    10.0  1421.0   271.0   \n",
       "3                     Benin  10.0   43.0   4.0   104.0   375.0   249.0   \n",
       "4                  Botswana  10.0   79.0   1.0     2.0   366.0    54.0   \n",
       "5              Burkina Faso  19.0    7.0   1.0    12.0   487.0   309.0   \n",
       "6                   Burundi   5.0    2.0   0.0    57.0    97.0    60.0   \n",
       "7                  Cameroon  44.0   52.0  11.0   242.0   768.0  1128.0   \n",
       "8                Cape Verde   3.0   23.0   2.0    17.0  3273.0   763.0   \n",
       "9  Central African Republic   7.0    5.0   0.0     7.0    69.0    33.0   \n",
       "\n",
       "   B-1,2/BCC  B-1,2/BCV   C-1  ...  U-1  U-2  U-3  U-4  V-1  V-2  V-3  \\\n",
       "0        NaN        NaN   NaN  ...  NaN  NaN  NaN  NaN  NaN  NaN  NaN   \n",
       "1        0.0        0.0  57.0  ...  0.0  0.0  0.0  0.0  0.0  0.0  0.0   \n",
       "2        1.0        0.0  10.0  ...  0.0  0.0  0.0  0.0  0.0  0.0  0.0   \n",
       "3        0.0        0.0  37.0  ...  0.0  0.0  0.0  0.0  0.0  0.0  0.0   \n",
       "4        0.0        0.0   3.0  ...  0.0  0.0  0.0  0.0  0.0  0.0  0.0   \n",
       "5        1.0        0.0  24.0  ...  0.0  0.0  0.0  0.0  0.0  0.0  0.0   \n",
       "6        3.0        0.0  49.0  ...  0.0  0.0  0.0  0.0  0.0  0.0  0.0   \n",
       "7        0.0        0.0  53.0  ...  0.0  0.0  0.0  0.0  0.0  0.0  0.0   \n",
       "8        0.0        0.0  16.0  ...  0.0  0.0  0.0  0.0  0.0  0.0  0.0   \n",
       "9        0.0        0.0   5.0  ...  0.0  0.0  0.0  0.0  0.0  0.0  0.0   \n",
       "\n",
       "   Total Visas    BCC  Grand Total  \n",
       "0          NaN    NaN          NaN  \n",
       "1       6386.0  492.0       6878.0  \n",
       "2       2397.0    4.0       2401.0  \n",
       "3       1105.0   10.0       1115.0  \n",
       "4        850.0    0.0        850.0  \n",
       "5       1192.0    4.0       1196.0  \n",
       "6        387.0   74.0        461.0  \n",
       "7       2960.0   10.0       2970.0  \n",
       "8       4261.0    1.0       4262.0  \n",
       "9        208.0    2.0        210.0  \n",
       "\n",
       "[10 rows x 90 columns]"
      ]
     },
     "execution_count": 3,
     "metadata": {},
     "output_type": "execute_result"
    }
   ],
   "source": [
    "# download Excel file to hard disk and read in using read_excel function\n",
    "data = pd.read_excel('/Users/tinashem/Github Repos/CareerPalz/files/FYs97-22_NIVDetailTable.xlsx', header=0)\n",
    "data.head(10)"
   ]
  },
  {
   "cell_type": "code",
   "execution_count": 4,
   "metadata": {},
   "outputs": [
    {
     "name": "stdout",
     "output_type": "stream",
     "text": [
      "Error loading Excel file:  Excel file format cannot be determined, you must specify an engine manually.\n"
     ]
    }
   ],
   "source": [
    "# attempt to resolve data reading error using try-except rule\n",
    "url = 'https://github.com/Tinashe-04/CareerPalz/blob/main/files/FYs97-22_NIVDetailTable.xlsx'\n",
    "\n",
    "try:\n",
    "    new_data = pd.read_excel(url, header=0)\n",
    "    print(\"Excel file read successfully.\")\n",
    "    new_data.head(10)\n",
    "\n",
    "except Exception as e:\n",
    "    print(\"Error loading Excel file: \", e)"
   ]
  },
  {
   "cell_type": "code",
   "execution_count": 5,
   "metadata": {},
   "outputs": [
    {
     "name": "stdout",
     "output_type": "stream",
     "text": [
      "Error loading Excel file:  Excel file format cannot be determined, you must specify an engine manually.\n"
     ]
    }
   ],
   "source": [
    "# use requests module to send a GET request and return Response object as the server's response to the HTTP request\n",
    "# use the content property of this response to read the Excel file, otherwise print an error message\n",
    "import requests\n",
    "\n",
    "my_file = requests.get(url)\n",
    "\n",
    "try:\n",
    "    newer_data = pd.read_excel(my_file.content, header=0)\n",
    "    print(\"Excel file read successfully.\")\n",
    "    newer_data.head(10)\n",
    "\n",
    "except Exception as e:\n",
    "    print(\"Error loading Excel file: \", e)"
   ]
  },
  {
   "cell_type": "code",
   "execution_count": 6,
   "metadata": {},
   "outputs": [
    {
     "data": {
      "text/html": [
       "<div>\n",
       "<style scoped>\n",
       "    .dataframe tbody tr th:only-of-type {\n",
       "        vertical-align: middle;\n",
       "    }\n",
       "\n",
       "    .dataframe tbody tr th {\n",
       "        vertical-align: top;\n",
       "    }\n",
       "\n",
       "    .dataframe thead th {\n",
       "        text-align: right;\n",
       "    }\n",
       "</style>\n",
       "<table border=\"1\" class=\"dataframe\">\n",
       "  <thead>\n",
       "    <tr style=\"text-align: right;\">\n",
       "      <th></th>\n",
       "      <th>Fiscal Year 2022</th>\n",
       "      <th>A1</th>\n",
       "      <th>A2</th>\n",
       "      <th>A3</th>\n",
       "      <th>B1</th>\n",
       "      <th>B1/B2</th>\n",
       "      <th>B2</th>\n",
       "      <th>BBBCC</th>\n",
       "      <th>BBBCV</th>\n",
       "      <th>C1</th>\n",
       "      <th>...</th>\n",
       "      <th>T5</th>\n",
       "      <th>T6</th>\n",
       "      <th>TD</th>\n",
       "      <th>TN</th>\n",
       "      <th>U1</th>\n",
       "      <th>U2</th>\n",
       "      <th>U3</th>\n",
       "      <th>U4</th>\n",
       "      <th>U5</th>\n",
       "      <th>Grand Total</th>\n",
       "    </tr>\n",
       "  </thead>\n",
       "  <tbody>\n",
       "    <tr>\n",
       "      <th>0</th>\n",
       "      <td>Algeria</td>\n",
       "      <td>59</td>\n",
       "      <td>133</td>\n",
       "      <td>1</td>\n",
       "      <td>4</td>\n",
       "      <td>12,208</td>\n",
       "      <td>0</td>\n",
       "      <td>0</td>\n",
       "      <td>0</td>\n",
       "      <td>16</td>\n",
       "      <td>...</td>\n",
       "      <td>0</td>\n",
       "      <td>0</td>\n",
       "      <td>1</td>\n",
       "      <td>0</td>\n",
       "      <td>0</td>\n",
       "      <td>0</td>\n",
       "      <td>0</td>\n",
       "      <td>0</td>\n",
       "      <td>0</td>\n",
       "      <td>13,293</td>\n",
       "    </tr>\n",
       "    <tr>\n",
       "      <th>1</th>\n",
       "      <td>Angola</td>\n",
       "      <td>54</td>\n",
       "      <td>120</td>\n",
       "      <td>0</td>\n",
       "      <td>6</td>\n",
       "      <td>2,421</td>\n",
       "      <td>202</td>\n",
       "      <td>0</td>\n",
       "      <td>0</td>\n",
       "      <td>2</td>\n",
       "      <td>...</td>\n",
       "      <td>0</td>\n",
       "      <td>0</td>\n",
       "      <td>0</td>\n",
       "      <td>0</td>\n",
       "      <td>0</td>\n",
       "      <td>0</td>\n",
       "      <td>0</td>\n",
       "      <td>0</td>\n",
       "      <td>0</td>\n",
       "      <td>3,643</td>\n",
       "    </tr>\n",
       "    <tr>\n",
       "      <th>2</th>\n",
       "      <td>Benin</td>\n",
       "      <td>6</td>\n",
       "      <td>76</td>\n",
       "      <td>1</td>\n",
       "      <td>2</td>\n",
       "      <td>961</td>\n",
       "      <td>1</td>\n",
       "      <td>0</td>\n",
       "      <td>0</td>\n",
       "      <td>5</td>\n",
       "      <td>...</td>\n",
       "      <td>0</td>\n",
       "      <td>0</td>\n",
       "      <td>0</td>\n",
       "      <td>0</td>\n",
       "      <td>0</td>\n",
       "      <td>0</td>\n",
       "      <td>0</td>\n",
       "      <td>0</td>\n",
       "      <td>0</td>\n",
       "      <td>1,378</td>\n",
       "    </tr>\n",
       "    <tr>\n",
       "      <th>3</th>\n",
       "      <td>Botswana</td>\n",
       "      <td>24</td>\n",
       "      <td>207</td>\n",
       "      <td>0</td>\n",
       "      <td>1</td>\n",
       "      <td>873</td>\n",
       "      <td>0</td>\n",
       "      <td>0</td>\n",
       "      <td>0</td>\n",
       "      <td>10</td>\n",
       "      <td>...</td>\n",
       "      <td>0</td>\n",
       "      <td>0</td>\n",
       "      <td>0</td>\n",
       "      <td>0</td>\n",
       "      <td>0</td>\n",
       "      <td>0</td>\n",
       "      <td>0</td>\n",
       "      <td>0</td>\n",
       "      <td>0</td>\n",
       "      <td>1,421</td>\n",
       "    </tr>\n",
       "    <tr>\n",
       "      <th>4</th>\n",
       "      <td>Burkina Faso</td>\n",
       "      <td>32</td>\n",
       "      <td>82</td>\n",
       "      <td>0</td>\n",
       "      <td>2</td>\n",
       "      <td>2,324</td>\n",
       "      <td>0</td>\n",
       "      <td>0</td>\n",
       "      <td>0</td>\n",
       "      <td>0</td>\n",
       "      <td>...</td>\n",
       "      <td>0</td>\n",
       "      <td>0</td>\n",
       "      <td>0</td>\n",
       "      <td>0</td>\n",
       "      <td>0</td>\n",
       "      <td>0</td>\n",
       "      <td>0</td>\n",
       "      <td>0</td>\n",
       "      <td>0</td>\n",
       "      <td>3,005</td>\n",
       "    </tr>\n",
       "    <tr>\n",
       "      <th>5</th>\n",
       "      <td>Burundi</td>\n",
       "      <td>14</td>\n",
       "      <td>10</td>\n",
       "      <td>0</td>\n",
       "      <td>0</td>\n",
       "      <td>513</td>\n",
       "      <td>2</td>\n",
       "      <td>0</td>\n",
       "      <td>0</td>\n",
       "      <td>2</td>\n",
       "      <td>...</td>\n",
       "      <td>0</td>\n",
       "      <td>0</td>\n",
       "      <td>0</td>\n",
       "      <td>0</td>\n",
       "      <td>0</td>\n",
       "      <td>0</td>\n",
       "      <td>0</td>\n",
       "      <td>0</td>\n",
       "      <td>0</td>\n",
       "      <td>857</td>\n",
       "    </tr>\n",
       "    <tr>\n",
       "      <th>6</th>\n",
       "      <td>Cabo Verde</td>\n",
       "      <td>6</td>\n",
       "      <td>45</td>\n",
       "      <td>0</td>\n",
       "      <td>2</td>\n",
       "      <td>1,342</td>\n",
       "      <td>0</td>\n",
       "      <td>0</td>\n",
       "      <td>0</td>\n",
       "      <td>0</td>\n",
       "      <td>...</td>\n",
       "      <td>0</td>\n",
       "      <td>0</td>\n",
       "      <td>0</td>\n",
       "      <td>0</td>\n",
       "      <td>0</td>\n",
       "      <td>0</td>\n",
       "      <td>0</td>\n",
       "      <td>0</td>\n",
       "      <td>0</td>\n",
       "      <td>1,605</td>\n",
       "    </tr>\n",
       "    <tr>\n",
       "      <th>7</th>\n",
       "      <td>Cameroon</td>\n",
       "      <td>31</td>\n",
       "      <td>229</td>\n",
       "      <td>0</td>\n",
       "      <td>9</td>\n",
       "      <td>5,390</td>\n",
       "      <td>3</td>\n",
       "      <td>0</td>\n",
       "      <td>0</td>\n",
       "      <td>4</td>\n",
       "      <td>...</td>\n",
       "      <td>0</td>\n",
       "      <td>0</td>\n",
       "      <td>0</td>\n",
       "      <td>0</td>\n",
       "      <td>0</td>\n",
       "      <td>0</td>\n",
       "      <td>0</td>\n",
       "      <td>0</td>\n",
       "      <td>0</td>\n",
       "      <td>7,044</td>\n",
       "    </tr>\n",
       "    <tr>\n",
       "      <th>8</th>\n",
       "      <td>Central African Republic</td>\n",
       "      <td>23</td>\n",
       "      <td>22</td>\n",
       "      <td>0</td>\n",
       "      <td>0</td>\n",
       "      <td>68</td>\n",
       "      <td>1</td>\n",
       "      <td>0</td>\n",
       "      <td>0</td>\n",
       "      <td>1</td>\n",
       "      <td>...</td>\n",
       "      <td>0</td>\n",
       "      <td>0</td>\n",
       "      <td>0</td>\n",
       "      <td>0</td>\n",
       "      <td>0</td>\n",
       "      <td>0</td>\n",
       "      <td>0</td>\n",
       "      <td>0</td>\n",
       "      <td>0</td>\n",
       "      <td>220</td>\n",
       "    </tr>\n",
       "    <tr>\n",
       "      <th>9</th>\n",
       "      <td>Chad</td>\n",
       "      <td>28</td>\n",
       "      <td>72</td>\n",
       "      <td>0</td>\n",
       "      <td>1</td>\n",
       "      <td>558</td>\n",
       "      <td>1</td>\n",
       "      <td>0</td>\n",
       "      <td>0</td>\n",
       "      <td>3</td>\n",
       "      <td>...</td>\n",
       "      <td>0</td>\n",
       "      <td>0</td>\n",
       "      <td>0</td>\n",
       "      <td>0</td>\n",
       "      <td>0</td>\n",
       "      <td>0</td>\n",
       "      <td>0</td>\n",
       "      <td>0</td>\n",
       "      <td>0</td>\n",
       "      <td>951</td>\n",
       "    </tr>\n",
       "  </tbody>\n",
       "</table>\n",
       "<p>10 rows × 78 columns</p>\n",
       "</div>"
      ],
      "text/plain": [
       "           Fiscal Year 2022  A1   A2  A3 B1   B1/B2   B2 BBBCC BBBCV  C1  ...  \\\n",
       "0                   Algeria  59  133   1  4  12,208    0     0     0  16  ...   \n",
       "1                    Angola  54  120   0  6   2,421  202     0     0   2  ...   \n",
       "2                     Benin   6   76   1  2     961    1     0     0   5  ...   \n",
       "3                  Botswana  24  207   0  1     873    0     0     0  10  ...   \n",
       "4              Burkina Faso  32   82   0  2   2,324    0     0     0   0  ...   \n",
       "5                   Burundi  14   10   0  0     513    2     0     0   2  ...   \n",
       "6                Cabo Verde   6   45   0  2   1,342    0     0     0   0  ...   \n",
       "7                  Cameroon  31  229   0  9   5,390    3     0     0   4  ...   \n",
       "8  Central African Republic  23   22   0  0      68    1     0     0   1  ...   \n",
       "9                      Chad  28   72   0  1     558    1     0     0   3  ...   \n",
       "\n",
       "  T5  T6  TD  TN  U1 U2 U3 U4  U5 Grand Total  \n",
       "0  0   0   1   0   0  0  0  0   0      13,293  \n",
       "1  0   0   0   0   0  0  0  0   0       3,643  \n",
       "2  0   0   0   0   0  0  0  0   0       1,378  \n",
       "3  0   0   0   0   0  0  0  0   0       1,421  \n",
       "4  0   0   0   0   0  0  0  0   0       3,005  \n",
       "5  0   0   0   0   0  0  0  0   0         857  \n",
       "6  0   0   0   0   0  0  0  0   0       1,605  \n",
       "7  0   0   0   0   0  0  0  0   0       7,044  \n",
       "8  0   0   0   0   0  0  0  0   0         220  \n",
       "9  0   0   0   0   0  0  0  0   0         951  \n",
       "\n",
       "[10 rows x 78 columns]"
      ]
     },
     "execution_count": 6,
     "metadata": {},
     "output_type": "execute_result"
    }
   ],
   "source": [
    "# download as .csv file type instead of .xlsx and read in the data as a CSV\n",
    "csv_url = 'https://raw.githubusercontent.com/Tinashe-04/CareerPalz/main/files/FY22NIVDetailTable%20-%20NIV_FY22%20CSV.csv'\n",
    "\n",
    "final_data = pd.read_csv(csv_url, header=0)\n",
    "final_data.head(10)"
   ]
  },
  {
   "cell_type": "code",
   "execution_count": 7,
   "metadata": {},
   "outputs": [
    {
     "name": "stdout",
     "output_type": "stream",
     "text": [
      "<class 'pandas.core.frame.DataFrame'>\n",
      "RangeIndex: 200 entries, 0 to 199\n",
      "Data columns (total 78 columns):\n",
      " #   Column            Non-Null Count  Dtype \n",
      "---  ------            --------------  ----- \n",
      " 0   Fiscal Year 2022  200 non-null    object\n",
      " 1   A1                200 non-null    int64 \n",
      " 2   A2                200 non-null    object\n",
      " 3   A3                200 non-null    int64 \n",
      " 4   B1                200 non-null    object\n",
      " 5   B1/B2             200 non-null    object\n",
      " 6   B2                200 non-null    object\n",
      " 7   BBBCC             200 non-null    object\n",
      " 8   BBBCV             200 non-null    object\n",
      " 9   C1                200 non-null    object\n",
      " 10  C1/D              200 non-null    object\n",
      " 11  C2                200 non-null    int64 \n",
      " 12  C3                200 non-null    int64 \n",
      " 13  CW1               200 non-null    int64 \n",
      " 14  CW2               200 non-null    int64 \n",
      " 15  D                 200 non-null    object\n",
      " 16  E1                200 non-null    object\n",
      " 17  E2                200 non-null    object\n",
      " 18  E2C               200 non-null    int64 \n",
      " 19  E3                200 non-null    object\n",
      " 20  E3D               200 non-null    object\n",
      " 21  E3R               200 non-null    object\n",
      " 22  F1                200 non-null    object\n",
      " 23  F2                200 non-null    object\n",
      " 24  G1                200 non-null    int64 \n",
      " 25  G2                200 non-null    int64 \n",
      " 26  G3                200 non-null    int64 \n",
      " 27  G4                200 non-null    object\n",
      " 28  G5                200 non-null    int64 \n",
      " 29  H1B               200 non-null    object\n",
      " 30  H1B1              200 non-null    object\n",
      " 31  H1C               200 non-null    int64 \n",
      " 32  H2A               200 non-null    object\n",
      " 33  H2B               200 non-null    object\n",
      " 34  H3                200 non-null    int64 \n",
      " 35  H4                200 non-null    object\n",
      " 36  I                 200 non-null    object\n",
      " 37  J1                200 non-null    object\n",
      " 38  J2                200 non-null    object\n",
      " 39  K1                200 non-null    object\n",
      " 40  K2                200 non-null    object\n",
      " 41  K3                200 non-null    int64 \n",
      " 42  K4                200 non-null    int64 \n",
      " 43  L1                200 non-null    object\n",
      " 44  L2                200 non-null    object\n",
      " 45  M1                200 non-null    int64 \n",
      " 46  M2                200 non-null    int64 \n",
      " 47  N8                200 non-null    int64 \n",
      " 48  N9                200 non-null    int64 \n",
      " 49  NATO1             200 non-null    int64 \n",
      " 50  NATO2             200 non-null    int64 \n",
      " 51  NATO3             200 non-null    int64 \n",
      " 52  NATO4             200 non-null    int64 \n",
      " 53  NATO5             200 non-null    int64 \n",
      " 54  NATO6             200 non-null    int64 \n",
      " 55  O1                200 non-null    object\n",
      " 56  O2                200 non-null    object\n",
      " 57  O3                200 non-null    int64 \n",
      " 58  P1                200 non-null    object\n",
      " 59  P2                200 non-null    int64 \n",
      " 60  P3                200 non-null    object\n",
      " 61  P4                200 non-null    int64 \n",
      " 62  Q1                200 non-null    int64 \n",
      " 63  R1                200 non-null    int64 \n",
      " 64  R2                200 non-null    int64 \n",
      " 65  T2                200 non-null    int64 \n",
      " 66  T3                200 non-null    int64 \n",
      " 67  T4                200 non-null    int64 \n",
      " 68  T5                200 non-null    int64 \n",
      " 69  T6                200 non-null    int64 \n",
      " 70  TD                200 non-null    object\n",
      " 71  TN                200 non-null    object\n",
      " 72  U1                200 non-null    int64 \n",
      " 73  U2                200 non-null    int64 \n",
      " 74  U3                200 non-null    int64 \n",
      " 75  U4                200 non-null    int64 \n",
      " 76  U5                200 non-null    int64 \n",
      " 77  Grand Total       200 non-null    object\n",
      "dtypes: int64(41), object(37)\n",
      "memory usage: 122.0+ KB\n"
     ]
    }
   ],
   "source": [
    "# extract as much information about dataframe including number of columns, and their data types\n",
    "final_data.info()"
   ]
  },
  {
   "cell_type": "code",
   "execution_count": 8,
   "metadata": {},
   "outputs": [],
   "source": [
    "true_or_false = [col for col in final_data.columns[1:77] if not isinstance(col, int)]"
   ]
  },
  {
   "cell_type": "code",
   "execution_count": 9,
   "metadata": {},
   "outputs": [
    {
     "data": {
      "text/plain": [
       "['A1',\n",
       " 'A2',\n",
       " 'A3',\n",
       " 'B1',\n",
       " 'B1/B2',\n",
       " 'B2',\n",
       " 'BBBCC',\n",
       " 'BBBCV',\n",
       " 'C1',\n",
       " 'C1/D',\n",
       " 'C2',\n",
       " 'C3',\n",
       " 'CW1',\n",
       " 'CW2',\n",
       " 'D',\n",
       " 'E1',\n",
       " 'E2',\n",
       " 'E2C',\n",
       " 'E3',\n",
       " 'E3D',\n",
       " 'E3R',\n",
       " 'F1',\n",
       " 'F2',\n",
       " 'G1',\n",
       " 'G2',\n",
       " 'G3',\n",
       " 'G4',\n",
       " 'G5',\n",
       " 'H1B',\n",
       " 'H1B1',\n",
       " 'H1C',\n",
       " 'H2A',\n",
       " 'H2B',\n",
       " 'H3',\n",
       " 'H4',\n",
       " 'I',\n",
       " 'J1',\n",
       " 'J2',\n",
       " 'K1',\n",
       " 'K2',\n",
       " 'K3',\n",
       " 'K4',\n",
       " 'L1',\n",
       " 'L2',\n",
       " 'M1',\n",
       " 'M2',\n",
       " 'N8',\n",
       " 'N9',\n",
       " 'NATO1',\n",
       " 'NATO2',\n",
       " 'NATO3',\n",
       " 'NATO4',\n",
       " 'NATO5',\n",
       " 'NATO6',\n",
       " 'O1',\n",
       " 'O2',\n",
       " 'O3',\n",
       " 'P1',\n",
       " 'P2',\n",
       " 'P3',\n",
       " 'P4',\n",
       " 'Q1',\n",
       " 'R1',\n",
       " 'R2',\n",
       " 'T2',\n",
       " 'T3',\n",
       " 'T4',\n",
       " 'T5',\n",
       " 'T6',\n",
       " 'TD',\n",
       " 'TN',\n",
       " 'U1',\n",
       " 'U2',\n",
       " 'U3',\n",
       " 'U4',\n",
       " 'U5']"
      ]
     },
     "execution_count": 9,
     "metadata": {},
     "output_type": "execute_result"
    }
   ],
   "source": [
    "true_or_false"
   ]
  },
  {
   "cell_type": "code",
   "execution_count": 10,
   "metadata": {},
   "outputs": [
    {
     "data": {
      "text/plain": [
       "76"
      ]
     },
     "execution_count": 10,
     "metadata": {},
     "output_type": "execute_result"
    }
   ],
   "source": [
    "len(true_or_false)"
   ]
  },
  {
   "cell_type": "code",
   "execution_count": 11,
   "metadata": {},
   "outputs": [
    {
     "data": {
      "text/plain": [
       "0"
      ]
     },
     "execution_count": 11,
     "metadata": {},
     "output_type": "execute_result"
    }
   ],
   "source": [
    "false_or_true = [col for col in final_data.columns[1:77] if isinstance(col, int)]\n",
    "len(false_or_true)"
   ]
  },
  {
   "cell_type": "code",
   "execution_count": 12,
   "metadata": {},
   "outputs": [
    {
     "data": {
      "text/plain": [
       "0"
      ]
     },
     "execution_count": 12,
     "metadata": {},
     "output_type": "execute_result"
    }
   ],
   "source": [
    "false_or_true_again = [col for col in final_data.columns[1:77] if isinstance(final_data[col].dtype, int)]\n",
    "len(false_or_true_again)"
   ]
  },
  {
   "cell_type": "code",
   "execution_count": 13,
   "metadata": {},
   "outputs": [
    {
     "data": {
      "text/plain": [
       "0"
      ]
     },
     "execution_count": 13,
     "metadata": {},
     "output_type": "execute_result"
    }
   ],
   "source": [
    "false_or_true_again = [col for col in final_data.columns[1:77] if isinstance(type(final_data[col]), int) == True]\n",
    "len(false_or_true_again)"
   ]
  },
  {
   "cell_type": "code",
   "execution_count": 14,
   "metadata": {},
   "outputs": [],
   "source": [
    "# convert the last column to an int column\n",
    "def remove_comma_and_convert_to_int(value):\n",
    "    \"\"\"\n",
    "    Purpose: Converting strings to int\n",
    "    Inputs: value, the parameter with data type string\n",
    "    Returns: int(value), the value converted to the int data type\n",
    "    \"\"\"\n",
    "    if isinstance(value, str):\n",
    "        return int(value.replace(',', ''))\n",
    "    else:\n",
    "        return int(value)\n",
    "    \n",
    "final_data['Grand Total'] = final_data['Grand Total'].apply(remove_comma_and_convert_to_int)"
   ]
  },
  {
   "cell_type": "code",
   "execution_count": 15,
   "metadata": {},
   "outputs": [
    {
     "name": "stdout",
     "output_type": "stream",
     "text": [
      "<class 'pandas.core.frame.DataFrame'>\n",
      "RangeIndex: 200 entries, 0 to 199\n",
      "Data columns (total 78 columns):\n",
      " #   Column            Non-Null Count  Dtype \n",
      "---  ------            --------------  ----- \n",
      " 0   Fiscal Year 2022  200 non-null    object\n",
      " 1   A1                200 non-null    int64 \n",
      " 2   A2                200 non-null    object\n",
      " 3   A3                200 non-null    int64 \n",
      " 4   B1                200 non-null    object\n",
      " 5   B1/B2             200 non-null    object\n",
      " 6   B2                200 non-null    object\n",
      " 7   BBBCC             200 non-null    object\n",
      " 8   BBBCV             200 non-null    object\n",
      " 9   C1                200 non-null    object\n",
      " 10  C1/D              200 non-null    object\n",
      " 11  C2                200 non-null    int64 \n",
      " 12  C3                200 non-null    int64 \n",
      " 13  CW1               200 non-null    int64 \n",
      " 14  CW2               200 non-null    int64 \n",
      " 15  D                 200 non-null    object\n",
      " 16  E1                200 non-null    object\n",
      " 17  E2                200 non-null    object\n",
      " 18  E2C               200 non-null    int64 \n",
      " 19  E3                200 non-null    object\n",
      " 20  E3D               200 non-null    object\n",
      " 21  E3R               200 non-null    object\n",
      " 22  F1                200 non-null    object\n",
      " 23  F2                200 non-null    object\n",
      " 24  G1                200 non-null    int64 \n",
      " 25  G2                200 non-null    int64 \n",
      " 26  G3                200 non-null    int64 \n",
      " 27  G4                200 non-null    object\n",
      " 28  G5                200 non-null    int64 \n",
      " 29  H1B               200 non-null    object\n",
      " 30  H1B1              200 non-null    object\n",
      " 31  H1C               200 non-null    int64 \n",
      " 32  H2A               200 non-null    object\n",
      " 33  H2B               200 non-null    object\n",
      " 34  H3                200 non-null    int64 \n",
      " 35  H4                200 non-null    object\n",
      " 36  I                 200 non-null    object\n",
      " 37  J1                200 non-null    object\n",
      " 38  J2                200 non-null    object\n",
      " 39  K1                200 non-null    object\n",
      " 40  K2                200 non-null    object\n",
      " 41  K3                200 non-null    int64 \n",
      " 42  K4                200 non-null    int64 \n",
      " 43  L1                200 non-null    object\n",
      " 44  L2                200 non-null    object\n",
      " 45  M1                200 non-null    int64 \n",
      " 46  M2                200 non-null    int64 \n",
      " 47  N8                200 non-null    int64 \n",
      " 48  N9                200 non-null    int64 \n",
      " 49  NATO1             200 non-null    int64 \n",
      " 50  NATO2             200 non-null    int64 \n",
      " 51  NATO3             200 non-null    int64 \n",
      " 52  NATO4             200 non-null    int64 \n",
      " 53  NATO5             200 non-null    int64 \n",
      " 54  NATO6             200 non-null    int64 \n",
      " 55  O1                200 non-null    object\n",
      " 56  O2                200 non-null    object\n",
      " 57  O3                200 non-null    int64 \n",
      " 58  P1                200 non-null    object\n",
      " 59  P2                200 non-null    int64 \n",
      " 60  P3                200 non-null    object\n",
      " 61  P4                200 non-null    int64 \n",
      " 62  Q1                200 non-null    int64 \n",
      " 63  R1                200 non-null    int64 \n",
      " 64  R2                200 non-null    int64 \n",
      " 65  T2                200 non-null    int64 \n",
      " 66  T3                200 non-null    int64 \n",
      " 67  T4                200 non-null    int64 \n",
      " 68  T5                200 non-null    int64 \n",
      " 69  T6                200 non-null    int64 \n",
      " 70  TD                200 non-null    object\n",
      " 71  TN                200 non-null    object\n",
      " 72  U1                200 non-null    int64 \n",
      " 73  U2                200 non-null    int64 \n",
      " 74  U3                200 non-null    int64 \n",
      " 75  U4                200 non-null    int64 \n",
      " 76  U5                200 non-null    int64 \n",
      " 77  Grand Total       200 non-null    int64 \n",
      "dtypes: int64(42), object(36)\n",
      "memory usage: 122.0+ KB\n"
     ]
    }
   ],
   "source": [
    "final_data.info()"
   ]
  },
  {
   "cell_type": "code",
   "execution_count": 16,
   "metadata": {},
   "outputs": [
    {
     "name": "stdout",
     "output_type": "stream",
     "text": [
      "<class 'pandas.core.frame.DataFrame'>\n",
      "RangeIndex: 200 entries, 0 to 199\n",
      "Data columns (total 78 columns):\n",
      " #   Column            Non-Null Count  Dtype \n",
      "---  ------            --------------  ----- \n",
      " 0   Fiscal Year 2022  200 non-null    object\n",
      " 1   A1                200 non-null    int64 \n",
      " 2   A2                200 non-null    int64 \n",
      " 3   A3                200 non-null    int64 \n",
      " 4   B1                200 non-null    int64 \n",
      " 5   B1/B2             200 non-null    int64 \n",
      " 6   B2                200 non-null    int64 \n",
      " 7   BBBCC             200 non-null    int64 \n",
      " 8   BBBCV             200 non-null    int64 \n",
      " 9   C1                200 non-null    int64 \n",
      " 10  C1/D              200 non-null    int64 \n",
      " 11  C2                200 non-null    int64 \n",
      " 12  C3                200 non-null    int64 \n",
      " 13  CW1               200 non-null    int64 \n",
      " 14  CW2               200 non-null    int64 \n",
      " 15  D                 200 non-null    int64 \n",
      " 16  E1                200 non-null    int64 \n",
      " 17  E2                200 non-null    int64 \n",
      " 18  E2C               200 non-null    int64 \n",
      " 19  E3                200 non-null    int64 \n",
      " 20  E3D               200 non-null    int64 \n",
      " 21  E3R               200 non-null    int64 \n",
      " 22  F1                200 non-null    int64 \n",
      " 23  F2                200 non-null    int64 \n",
      " 24  G1                200 non-null    int64 \n",
      " 25  G2                200 non-null    int64 \n",
      " 26  G3                200 non-null    int64 \n",
      " 27  G4                200 non-null    int64 \n",
      " 28  G5                200 non-null    int64 \n",
      " 29  H1B               200 non-null    int64 \n",
      " 30  H1B1              200 non-null    int64 \n",
      " 31  H1C               200 non-null    int64 \n",
      " 32  H2A               200 non-null    int64 \n",
      " 33  H2B               200 non-null    int64 \n",
      " 34  H3                200 non-null    int64 \n",
      " 35  H4                200 non-null    int64 \n",
      " 36  I                 200 non-null    int64 \n",
      " 37  J1                200 non-null    int64 \n",
      " 38  J2                200 non-null    int64 \n",
      " 39  K1                200 non-null    int64 \n",
      " 40  K2                200 non-null    int64 \n",
      " 41  K3                200 non-null    int64 \n",
      " 42  K4                200 non-null    int64 \n",
      " 43  L1                200 non-null    int64 \n",
      " 44  L2                200 non-null    int64 \n",
      " 45  M1                200 non-null    int64 \n",
      " 46  M2                200 non-null    int64 \n",
      " 47  N8                200 non-null    int64 \n",
      " 48  N9                200 non-null    int64 \n",
      " 49  NATO1             200 non-null    int64 \n",
      " 50  NATO2             200 non-null    int64 \n",
      " 51  NATO3             200 non-null    int64 \n",
      " 52  NATO4             200 non-null    int64 \n",
      " 53  NATO5             200 non-null    int64 \n",
      " 54  NATO6             200 non-null    int64 \n",
      " 55  O1                200 non-null    int64 \n",
      " 56  O2                200 non-null    int64 \n",
      " 57  O3                200 non-null    int64 \n",
      " 58  P1                200 non-null    int64 \n",
      " 59  P2                200 non-null    int64 \n",
      " 60  P3                200 non-null    int64 \n",
      " 61  P4                200 non-null    int64 \n",
      " 62  Q1                200 non-null    int64 \n",
      " 63  R1                200 non-null    int64 \n",
      " 64  R2                200 non-null    int64 \n",
      " 65  T2                200 non-null    int64 \n",
      " 66  T3                200 non-null    int64 \n",
      " 67  T4                200 non-null    int64 \n",
      " 68  T5                200 non-null    int64 \n",
      " 69  T6                200 non-null    int64 \n",
      " 70  TD                200 non-null    int64 \n",
      " 71  TN                200 non-null    int64 \n",
      " 72  U1                200 non-null    int64 \n",
      " 73  U2                200 non-null    int64 \n",
      " 74  U3                200 non-null    int64 \n",
      " 75  U4                200 non-null    int64 \n",
      " 76  U5                200 non-null    int64 \n",
      " 77  Grand Total       200 non-null    int64 \n",
      "dtypes: int64(77), object(1)\n",
      "memory usage: 122.0+ KB\n"
     ]
    }
   ],
   "source": [
    "for col in final_data.columns[1:77]:\n",
    "    final_data[col] = final_data[col].apply(remove_comma_and_convert_to_int)\n",
    "\n",
    "final_data.info()"
   ]
  },
  {
   "cell_type": "code",
   "execution_count": 17,
   "metadata": {},
   "outputs": [
    {
     "data": {
      "text/html": [
       "<div>\n",
       "<style scoped>\n",
       "    .dataframe tbody tr th:only-of-type {\n",
       "        vertical-align: middle;\n",
       "    }\n",
       "\n",
       "    .dataframe tbody tr th {\n",
       "        vertical-align: top;\n",
       "    }\n",
       "\n",
       "    .dataframe thead th {\n",
       "        text-align: right;\n",
       "    }\n",
       "</style>\n",
       "<table border=\"1\" class=\"dataframe\">\n",
       "  <thead>\n",
       "    <tr style=\"text-align: right;\">\n",
       "      <th></th>\n",
       "      <th>Fiscal Year 2022</th>\n",
       "      <th>A1</th>\n",
       "      <th>A2</th>\n",
       "      <th>A3</th>\n",
       "      <th>B1</th>\n",
       "      <th>B1/B2</th>\n",
       "      <th>B2</th>\n",
       "      <th>BBBCC</th>\n",
       "      <th>BBBCV</th>\n",
       "      <th>C1</th>\n",
       "      <th>...</th>\n",
       "      <th>T5</th>\n",
       "      <th>T6</th>\n",
       "      <th>TD</th>\n",
       "      <th>TN</th>\n",
       "      <th>U1</th>\n",
       "      <th>U2</th>\n",
       "      <th>U3</th>\n",
       "      <th>U4</th>\n",
       "      <th>U5</th>\n",
       "      <th>Grand Total</th>\n",
       "    </tr>\n",
       "  </thead>\n",
       "  <tbody>\n",
       "    <tr>\n",
       "      <th>0</th>\n",
       "      <td>Algeria</td>\n",
       "      <td>59</td>\n",
       "      <td>133</td>\n",
       "      <td>1</td>\n",
       "      <td>4</td>\n",
       "      <td>12208</td>\n",
       "      <td>0</td>\n",
       "      <td>0</td>\n",
       "      <td>0</td>\n",
       "      <td>16</td>\n",
       "      <td>...</td>\n",
       "      <td>0</td>\n",
       "      <td>0</td>\n",
       "      <td>1</td>\n",
       "      <td>0</td>\n",
       "      <td>0</td>\n",
       "      <td>0</td>\n",
       "      <td>0</td>\n",
       "      <td>0</td>\n",
       "      <td>0</td>\n",
       "      <td>13293</td>\n",
       "    </tr>\n",
       "    <tr>\n",
       "      <th>1</th>\n",
       "      <td>Angola</td>\n",
       "      <td>54</td>\n",
       "      <td>120</td>\n",
       "      <td>0</td>\n",
       "      <td>6</td>\n",
       "      <td>2421</td>\n",
       "      <td>202</td>\n",
       "      <td>0</td>\n",
       "      <td>0</td>\n",
       "      <td>2</td>\n",
       "      <td>...</td>\n",
       "      <td>0</td>\n",
       "      <td>0</td>\n",
       "      <td>0</td>\n",
       "      <td>0</td>\n",
       "      <td>0</td>\n",
       "      <td>0</td>\n",
       "      <td>0</td>\n",
       "      <td>0</td>\n",
       "      <td>0</td>\n",
       "      <td>3643</td>\n",
       "    </tr>\n",
       "    <tr>\n",
       "      <th>2</th>\n",
       "      <td>Benin</td>\n",
       "      <td>6</td>\n",
       "      <td>76</td>\n",
       "      <td>1</td>\n",
       "      <td>2</td>\n",
       "      <td>961</td>\n",
       "      <td>1</td>\n",
       "      <td>0</td>\n",
       "      <td>0</td>\n",
       "      <td>5</td>\n",
       "      <td>...</td>\n",
       "      <td>0</td>\n",
       "      <td>0</td>\n",
       "      <td>0</td>\n",
       "      <td>0</td>\n",
       "      <td>0</td>\n",
       "      <td>0</td>\n",
       "      <td>0</td>\n",
       "      <td>0</td>\n",
       "      <td>0</td>\n",
       "      <td>1378</td>\n",
       "    </tr>\n",
       "    <tr>\n",
       "      <th>3</th>\n",
       "      <td>Botswana</td>\n",
       "      <td>24</td>\n",
       "      <td>207</td>\n",
       "      <td>0</td>\n",
       "      <td>1</td>\n",
       "      <td>873</td>\n",
       "      <td>0</td>\n",
       "      <td>0</td>\n",
       "      <td>0</td>\n",
       "      <td>10</td>\n",
       "      <td>...</td>\n",
       "      <td>0</td>\n",
       "      <td>0</td>\n",
       "      <td>0</td>\n",
       "      <td>0</td>\n",
       "      <td>0</td>\n",
       "      <td>0</td>\n",
       "      <td>0</td>\n",
       "      <td>0</td>\n",
       "      <td>0</td>\n",
       "      <td>1421</td>\n",
       "    </tr>\n",
       "    <tr>\n",
       "      <th>4</th>\n",
       "      <td>Burkina Faso</td>\n",
       "      <td>32</td>\n",
       "      <td>82</td>\n",
       "      <td>0</td>\n",
       "      <td>2</td>\n",
       "      <td>2324</td>\n",
       "      <td>0</td>\n",
       "      <td>0</td>\n",
       "      <td>0</td>\n",
       "      <td>0</td>\n",
       "      <td>...</td>\n",
       "      <td>0</td>\n",
       "      <td>0</td>\n",
       "      <td>0</td>\n",
       "      <td>0</td>\n",
       "      <td>0</td>\n",
       "      <td>0</td>\n",
       "      <td>0</td>\n",
       "      <td>0</td>\n",
       "      <td>0</td>\n",
       "      <td>3005</td>\n",
       "    </tr>\n",
       "    <tr>\n",
       "      <th>5</th>\n",
       "      <td>Burundi</td>\n",
       "      <td>14</td>\n",
       "      <td>10</td>\n",
       "      <td>0</td>\n",
       "      <td>0</td>\n",
       "      <td>513</td>\n",
       "      <td>2</td>\n",
       "      <td>0</td>\n",
       "      <td>0</td>\n",
       "      <td>2</td>\n",
       "      <td>...</td>\n",
       "      <td>0</td>\n",
       "      <td>0</td>\n",
       "      <td>0</td>\n",
       "      <td>0</td>\n",
       "      <td>0</td>\n",
       "      <td>0</td>\n",
       "      <td>0</td>\n",
       "      <td>0</td>\n",
       "      <td>0</td>\n",
       "      <td>857</td>\n",
       "    </tr>\n",
       "    <tr>\n",
       "      <th>6</th>\n",
       "      <td>Cabo Verde</td>\n",
       "      <td>6</td>\n",
       "      <td>45</td>\n",
       "      <td>0</td>\n",
       "      <td>2</td>\n",
       "      <td>1342</td>\n",
       "      <td>0</td>\n",
       "      <td>0</td>\n",
       "      <td>0</td>\n",
       "      <td>0</td>\n",
       "      <td>...</td>\n",
       "      <td>0</td>\n",
       "      <td>0</td>\n",
       "      <td>0</td>\n",
       "      <td>0</td>\n",
       "      <td>0</td>\n",
       "      <td>0</td>\n",
       "      <td>0</td>\n",
       "      <td>0</td>\n",
       "      <td>0</td>\n",
       "      <td>1605</td>\n",
       "    </tr>\n",
       "    <tr>\n",
       "      <th>7</th>\n",
       "      <td>Cameroon</td>\n",
       "      <td>31</td>\n",
       "      <td>229</td>\n",
       "      <td>0</td>\n",
       "      <td>9</td>\n",
       "      <td>5390</td>\n",
       "      <td>3</td>\n",
       "      <td>0</td>\n",
       "      <td>0</td>\n",
       "      <td>4</td>\n",
       "      <td>...</td>\n",
       "      <td>0</td>\n",
       "      <td>0</td>\n",
       "      <td>0</td>\n",
       "      <td>0</td>\n",
       "      <td>0</td>\n",
       "      <td>0</td>\n",
       "      <td>0</td>\n",
       "      <td>0</td>\n",
       "      <td>0</td>\n",
       "      <td>7044</td>\n",
       "    </tr>\n",
       "    <tr>\n",
       "      <th>8</th>\n",
       "      <td>Central African Republic</td>\n",
       "      <td>23</td>\n",
       "      <td>22</td>\n",
       "      <td>0</td>\n",
       "      <td>0</td>\n",
       "      <td>68</td>\n",
       "      <td>1</td>\n",
       "      <td>0</td>\n",
       "      <td>0</td>\n",
       "      <td>1</td>\n",
       "      <td>...</td>\n",
       "      <td>0</td>\n",
       "      <td>0</td>\n",
       "      <td>0</td>\n",
       "      <td>0</td>\n",
       "      <td>0</td>\n",
       "      <td>0</td>\n",
       "      <td>0</td>\n",
       "      <td>0</td>\n",
       "      <td>0</td>\n",
       "      <td>220</td>\n",
       "    </tr>\n",
       "    <tr>\n",
       "      <th>9</th>\n",
       "      <td>Chad</td>\n",
       "      <td>28</td>\n",
       "      <td>72</td>\n",
       "      <td>0</td>\n",
       "      <td>1</td>\n",
       "      <td>558</td>\n",
       "      <td>1</td>\n",
       "      <td>0</td>\n",
       "      <td>0</td>\n",
       "      <td>3</td>\n",
       "      <td>...</td>\n",
       "      <td>0</td>\n",
       "      <td>0</td>\n",
       "      <td>0</td>\n",
       "      <td>0</td>\n",
       "      <td>0</td>\n",
       "      <td>0</td>\n",
       "      <td>0</td>\n",
       "      <td>0</td>\n",
       "      <td>0</td>\n",
       "      <td>951</td>\n",
       "    </tr>\n",
       "  </tbody>\n",
       "</table>\n",
       "<p>10 rows × 78 columns</p>\n",
       "</div>"
      ],
      "text/plain": [
       "           Fiscal Year 2022  A1   A2  A3  B1  B1/B2   B2  BBBCC  BBBCV  C1  \\\n",
       "0                   Algeria  59  133   1   4  12208    0      0      0  16   \n",
       "1                    Angola  54  120   0   6   2421  202      0      0   2   \n",
       "2                     Benin   6   76   1   2    961    1      0      0   5   \n",
       "3                  Botswana  24  207   0   1    873    0      0      0  10   \n",
       "4              Burkina Faso  32   82   0   2   2324    0      0      0   0   \n",
       "5                   Burundi  14   10   0   0    513    2      0      0   2   \n",
       "6                Cabo Verde   6   45   0   2   1342    0      0      0   0   \n",
       "7                  Cameroon  31  229   0   9   5390    3      0      0   4   \n",
       "8  Central African Republic  23   22   0   0     68    1      0      0   1   \n",
       "9                      Chad  28   72   0   1    558    1      0      0   3   \n",
       "\n",
       "   ...  T5  T6  TD  TN  U1  U2  U3  U4  U5  Grand Total  \n",
       "0  ...   0   0   1   0   0   0   0   0   0        13293  \n",
       "1  ...   0   0   0   0   0   0   0   0   0         3643  \n",
       "2  ...   0   0   0   0   0   0   0   0   0         1378  \n",
       "3  ...   0   0   0   0   0   0   0   0   0         1421  \n",
       "4  ...   0   0   0   0   0   0   0   0   0         3005  \n",
       "5  ...   0   0   0   0   0   0   0   0   0          857  \n",
       "6  ...   0   0   0   0   0   0   0   0   0         1605  \n",
       "7  ...   0   0   0   0   0   0   0   0   0         7044  \n",
       "8  ...   0   0   0   0   0   0   0   0   0          220  \n",
       "9  ...   0   0   0   0   0   0   0   0   0          951  \n",
       "\n",
       "[10 rows x 78 columns]"
      ]
     },
     "execution_count": 17,
     "metadata": {},
     "output_type": "execute_result"
    }
   ],
   "source": [
    "final_data.head(10)"
   ]
  },
  {
   "cell_type": "code",
   "execution_count": 18,
   "metadata": {},
   "outputs": [
    {
     "data": {
      "text/html": [
       "<div>\n",
       "<style scoped>\n",
       "    .dataframe tbody tr th:only-of-type {\n",
       "        vertical-align: middle;\n",
       "    }\n",
       "\n",
       "    .dataframe tbody tr th {\n",
       "        vertical-align: top;\n",
       "    }\n",
       "\n",
       "    .dataframe thead th {\n",
       "        text-align: right;\n",
       "    }\n",
       "</style>\n",
       "<table border=\"1\" class=\"dataframe\">\n",
       "  <thead>\n",
       "    <tr style=\"text-align: right;\">\n",
       "      <th></th>\n",
       "      <th>Fiscal Year 2022</th>\n",
       "      <th>A1</th>\n",
       "      <th>A2</th>\n",
       "      <th>A3</th>\n",
       "      <th>B1</th>\n",
       "      <th>B1/B2</th>\n",
       "      <th>B2</th>\n",
       "      <th>BBBCC</th>\n",
       "      <th>BBBCV</th>\n",
       "      <th>C1</th>\n",
       "      <th>...</th>\n",
       "      <th>T5</th>\n",
       "      <th>T6</th>\n",
       "      <th>TD</th>\n",
       "      <th>TN</th>\n",
       "      <th>U1</th>\n",
       "      <th>U2</th>\n",
       "      <th>U3</th>\n",
       "      <th>U4</th>\n",
       "      <th>U5</th>\n",
       "      <th>Grand Total</th>\n",
       "    </tr>\n",
       "  </thead>\n",
       "  <tbody>\n",
       "    <tr>\n",
       "      <th>54</th>\n",
       "      <td>Afghanistan</td>\n",
       "      <td>0</td>\n",
       "      <td>1</td>\n",
       "      <td>0</td>\n",
       "      <td>1</td>\n",
       "      <td>664</td>\n",
       "      <td>1</td>\n",
       "      <td>0</td>\n",
       "      <td>0</td>\n",
       "      <td>1</td>\n",
       "      <td>...</td>\n",
       "      <td>0</td>\n",
       "      <td>0</td>\n",
       "      <td>0</td>\n",
       "      <td>0</td>\n",
       "      <td>0</td>\n",
       "      <td>0</td>\n",
       "      <td>0</td>\n",
       "      <td>0</td>\n",
       "      <td>0</td>\n",
       "      <td>1854</td>\n",
       "    </tr>\n",
       "    <tr>\n",
       "      <th>95</th>\n",
       "      <td>Albania</td>\n",
       "      <td>18</td>\n",
       "      <td>193</td>\n",
       "      <td>0</td>\n",
       "      <td>10</td>\n",
       "      <td>13991</td>\n",
       "      <td>0</td>\n",
       "      <td>0</td>\n",
       "      <td>0</td>\n",
       "      <td>0</td>\n",
       "      <td>...</td>\n",
       "      <td>0</td>\n",
       "      <td>0</td>\n",
       "      <td>0</td>\n",
       "      <td>0</td>\n",
       "      <td>0</td>\n",
       "      <td>0</td>\n",
       "      <td>0</td>\n",
       "      <td>0</td>\n",
       "      <td>0</td>\n",
       "      <td>16127</td>\n",
       "    </tr>\n",
       "    <tr>\n",
       "      <th>0</th>\n",
       "      <td>Algeria</td>\n",
       "      <td>59</td>\n",
       "      <td>133</td>\n",
       "      <td>1</td>\n",
       "      <td>4</td>\n",
       "      <td>12208</td>\n",
       "      <td>0</td>\n",
       "      <td>0</td>\n",
       "      <td>0</td>\n",
       "      <td>16</td>\n",
       "      <td>...</td>\n",
       "      <td>0</td>\n",
       "      <td>0</td>\n",
       "      <td>1</td>\n",
       "      <td>0</td>\n",
       "      <td>0</td>\n",
       "      <td>0</td>\n",
       "      <td>0</td>\n",
       "      <td>0</td>\n",
       "      <td>0</td>\n",
       "      <td>13293</td>\n",
       "    </tr>\n",
       "    <tr>\n",
       "      <th>96</th>\n",
       "      <td>Andorra</td>\n",
       "      <td>6</td>\n",
       "      <td>8</td>\n",
       "      <td>0</td>\n",
       "      <td>0</td>\n",
       "      <td>3</td>\n",
       "      <td>0</td>\n",
       "      <td>0</td>\n",
       "      <td>0</td>\n",
       "      <td>0</td>\n",
       "      <td>...</td>\n",
       "      <td>0</td>\n",
       "      <td>0</td>\n",
       "      <td>0</td>\n",
       "      <td>0</td>\n",
       "      <td>0</td>\n",
       "      <td>0</td>\n",
       "      <td>0</td>\n",
       "      <td>0</td>\n",
       "      <td>0</td>\n",
       "      <td>53</td>\n",
       "    </tr>\n",
       "    <tr>\n",
       "      <th>1</th>\n",
       "      <td>Angola</td>\n",
       "      <td>54</td>\n",
       "      <td>120</td>\n",
       "      <td>0</td>\n",
       "      <td>6</td>\n",
       "      <td>2421</td>\n",
       "      <td>202</td>\n",
       "      <td>0</td>\n",
       "      <td>0</td>\n",
       "      <td>2</td>\n",
       "      <td>...</td>\n",
       "      <td>0</td>\n",
       "      <td>0</td>\n",
       "      <td>0</td>\n",
       "      <td>0</td>\n",
       "      <td>0</td>\n",
       "      <td>0</td>\n",
       "      <td>0</td>\n",
       "      <td>0</td>\n",
       "      <td>0</td>\n",
       "      <td>3643</td>\n",
       "    </tr>\n",
       "    <tr>\n",
       "      <th>150</th>\n",
       "      <td>Antigua and Barbuda</td>\n",
       "      <td>3</td>\n",
       "      <td>10</td>\n",
       "      <td>0</td>\n",
       "      <td>1</td>\n",
       "      <td>1987</td>\n",
       "      <td>0</td>\n",
       "      <td>0</td>\n",
       "      <td>0</td>\n",
       "      <td>0</td>\n",
       "      <td>...</td>\n",
       "      <td>0</td>\n",
       "      <td>0</td>\n",
       "      <td>0</td>\n",
       "      <td>0</td>\n",
       "      <td>0</td>\n",
       "      <td>0</td>\n",
       "      <td>0</td>\n",
       "      <td>0</td>\n",
       "      <td>0</td>\n",
       "      <td>2170</td>\n",
       "    </tr>\n",
       "    <tr>\n",
       "      <th>186</th>\n",
       "      <td>Argentina</td>\n",
       "      <td>51</td>\n",
       "      <td>777</td>\n",
       "      <td>2</td>\n",
       "      <td>67</td>\n",
       "      <td>202479</td>\n",
       "      <td>16</td>\n",
       "      <td>0</td>\n",
       "      <td>0</td>\n",
       "      <td>45</td>\n",
       "      <td>...</td>\n",
       "      <td>0</td>\n",
       "      <td>0</td>\n",
       "      <td>12</td>\n",
       "      <td>0</td>\n",
       "      <td>2</td>\n",
       "      <td>0</td>\n",
       "      <td>1</td>\n",
       "      <td>0</td>\n",
       "      <td>0</td>\n",
       "      <td>221902</td>\n",
       "    </tr>\n",
       "    <tr>\n",
       "      <th>97</th>\n",
       "      <td>Armenia</td>\n",
       "      <td>29</td>\n",
       "      <td>154</td>\n",
       "      <td>0</td>\n",
       "      <td>5</td>\n",
       "      <td>4970</td>\n",
       "      <td>2</td>\n",
       "      <td>0</td>\n",
       "      <td>0</td>\n",
       "      <td>4</td>\n",
       "      <td>...</td>\n",
       "      <td>0</td>\n",
       "      <td>0</td>\n",
       "      <td>0</td>\n",
       "      <td>0</td>\n",
       "      <td>0</td>\n",
       "      <td>0</td>\n",
       "      <td>0</td>\n",
       "      <td>0</td>\n",
       "      <td>0</td>\n",
       "      <td>6433</td>\n",
       "    </tr>\n",
       "    <tr>\n",
       "      <th>172</th>\n",
       "      <td>Australia</td>\n",
       "      <td>144</td>\n",
       "      <td>5758</td>\n",
       "      <td>0</td>\n",
       "      <td>58</td>\n",
       "      <td>4697</td>\n",
       "      <td>10</td>\n",
       "      <td>0</td>\n",
       "      <td>0</td>\n",
       "      <td>3</td>\n",
       "      <td>...</td>\n",
       "      <td>0</td>\n",
       "      <td>0</td>\n",
       "      <td>5</td>\n",
       "      <td>0</td>\n",
       "      <td>0</td>\n",
       "      <td>0</td>\n",
       "      <td>0</td>\n",
       "      <td>0</td>\n",
       "      <td>0</td>\n",
       "      <td>31825</td>\n",
       "    </tr>\n",
       "    <tr>\n",
       "      <th>98</th>\n",
       "      <td>Austria</td>\n",
       "      <td>31</td>\n",
       "      <td>327</td>\n",
       "      <td>0</td>\n",
       "      <td>16</td>\n",
       "      <td>1637</td>\n",
       "      <td>2</td>\n",
       "      <td>0</td>\n",
       "      <td>0</td>\n",
       "      <td>1</td>\n",
       "      <td>...</td>\n",
       "      <td>0</td>\n",
       "      <td>0</td>\n",
       "      <td>0</td>\n",
       "      <td>0</td>\n",
       "      <td>0</td>\n",
       "      <td>0</td>\n",
       "      <td>0</td>\n",
       "      <td>0</td>\n",
       "      <td>0</td>\n",
       "      <td>6189</td>\n",
       "    </tr>\n",
       "  </tbody>\n",
       "</table>\n",
       "<p>10 rows × 78 columns</p>\n",
       "</div>"
      ],
      "text/plain": [
       "        Fiscal Year 2022   A1    A2  A3  B1   B1/B2   B2  BBBCC  BBBCV  C1  \\\n",
       "54           Afghanistan    0     1   0   1     664    1      0      0   1   \n",
       "95               Albania   18   193   0  10   13991    0      0      0   0   \n",
       "0                Algeria   59   133   1   4   12208    0      0      0  16   \n",
       "96               Andorra    6     8   0   0       3    0      0      0   0   \n",
       "1                 Angola   54   120   0   6    2421  202      0      0   2   \n",
       "150  Antigua and Barbuda    3    10   0   1    1987    0      0      0   0   \n",
       "186            Argentina   51   777   2  67  202479   16      0      0  45   \n",
       "97               Armenia   29   154   0   5    4970    2      0      0   4   \n",
       "172            Australia  144  5758   0  58    4697   10      0      0   3   \n",
       "98               Austria   31   327   0  16    1637    2      0      0   1   \n",
       "\n",
       "     ...  T5  T6  TD  TN  U1  U2  U3  U4  U5  Grand Total  \n",
       "54   ...   0   0   0   0   0   0   0   0   0         1854  \n",
       "95   ...   0   0   0   0   0   0   0   0   0        16127  \n",
       "0    ...   0   0   1   0   0   0   0   0   0        13293  \n",
       "96   ...   0   0   0   0   0   0   0   0   0           53  \n",
       "1    ...   0   0   0   0   0   0   0   0   0         3643  \n",
       "150  ...   0   0   0   0   0   0   0   0   0         2170  \n",
       "186  ...   0   0  12   0   2   0   1   0   0       221902  \n",
       "97   ...   0   0   0   0   0   0   0   0   0         6433  \n",
       "172  ...   0   0   5   0   0   0   0   0   0        31825  \n",
       "98   ...   0   0   0   0   0   0   0   0   0         6189  \n",
       "\n",
       "[10 rows x 78 columns]"
      ]
     },
     "execution_count": 18,
     "metadata": {},
     "output_type": "execute_result"
    }
   ],
   "source": [
    "final_data.sort_values(by='Fiscal Year 2022', inplace=True)\n",
    "final_data.head(10)"
   ]
  },
  {
   "cell_type": "code",
   "execution_count": 19,
   "metadata": {},
   "outputs": [
    {
     "data": {
      "text/html": [
       "<div>\n",
       "<style scoped>\n",
       "    .dataframe tbody tr th:only-of-type {\n",
       "        vertical-align: middle;\n",
       "    }\n",
       "\n",
       "    .dataframe tbody tr th {\n",
       "        vertical-align: top;\n",
       "    }\n",
       "\n",
       "    .dataframe thead th {\n",
       "        text-align: right;\n",
       "    }\n",
       "</style>\n",
       "<table border=\"1\" class=\"dataframe\">\n",
       "  <thead>\n",
       "    <tr style=\"text-align: right;\">\n",
       "      <th></th>\n",
       "      <th>index</th>\n",
       "      <th>Fiscal Year 2022</th>\n",
       "      <th>A1</th>\n",
       "      <th>A2</th>\n",
       "      <th>A3</th>\n",
       "      <th>B1</th>\n",
       "      <th>B1/B2</th>\n",
       "      <th>B2</th>\n",
       "      <th>BBBCC</th>\n",
       "      <th>BBBCV</th>\n",
       "      <th>...</th>\n",
       "      <th>T5</th>\n",
       "      <th>T6</th>\n",
       "      <th>TD</th>\n",
       "      <th>TN</th>\n",
       "      <th>U1</th>\n",
       "      <th>U2</th>\n",
       "      <th>U3</th>\n",
       "      <th>U4</th>\n",
       "      <th>U5</th>\n",
       "      <th>Grand Total</th>\n",
       "    </tr>\n",
       "  </thead>\n",
       "  <tbody>\n",
       "    <tr>\n",
       "      <th>0</th>\n",
       "      <td>54</td>\n",
       "      <td>Afghanistan</td>\n",
       "      <td>0</td>\n",
       "      <td>1</td>\n",
       "      <td>0</td>\n",
       "      <td>1</td>\n",
       "      <td>664</td>\n",
       "      <td>1</td>\n",
       "      <td>0</td>\n",
       "      <td>0</td>\n",
       "      <td>...</td>\n",
       "      <td>0</td>\n",
       "      <td>0</td>\n",
       "      <td>0</td>\n",
       "      <td>0</td>\n",
       "      <td>0</td>\n",
       "      <td>0</td>\n",
       "      <td>0</td>\n",
       "      <td>0</td>\n",
       "      <td>0</td>\n",
       "      <td>1854</td>\n",
       "    </tr>\n",
       "    <tr>\n",
       "      <th>1</th>\n",
       "      <td>95</td>\n",
       "      <td>Albania</td>\n",
       "      <td>18</td>\n",
       "      <td>193</td>\n",
       "      <td>0</td>\n",
       "      <td>10</td>\n",
       "      <td>13991</td>\n",
       "      <td>0</td>\n",
       "      <td>0</td>\n",
       "      <td>0</td>\n",
       "      <td>...</td>\n",
       "      <td>0</td>\n",
       "      <td>0</td>\n",
       "      <td>0</td>\n",
       "      <td>0</td>\n",
       "      <td>0</td>\n",
       "      <td>0</td>\n",
       "      <td>0</td>\n",
       "      <td>0</td>\n",
       "      <td>0</td>\n",
       "      <td>16127</td>\n",
       "    </tr>\n",
       "    <tr>\n",
       "      <th>2</th>\n",
       "      <td>0</td>\n",
       "      <td>Algeria</td>\n",
       "      <td>59</td>\n",
       "      <td>133</td>\n",
       "      <td>1</td>\n",
       "      <td>4</td>\n",
       "      <td>12208</td>\n",
       "      <td>0</td>\n",
       "      <td>0</td>\n",
       "      <td>0</td>\n",
       "      <td>...</td>\n",
       "      <td>0</td>\n",
       "      <td>0</td>\n",
       "      <td>1</td>\n",
       "      <td>0</td>\n",
       "      <td>0</td>\n",
       "      <td>0</td>\n",
       "      <td>0</td>\n",
       "      <td>0</td>\n",
       "      <td>0</td>\n",
       "      <td>13293</td>\n",
       "    </tr>\n",
       "    <tr>\n",
       "      <th>3</th>\n",
       "      <td>96</td>\n",
       "      <td>Andorra</td>\n",
       "      <td>6</td>\n",
       "      <td>8</td>\n",
       "      <td>0</td>\n",
       "      <td>0</td>\n",
       "      <td>3</td>\n",
       "      <td>0</td>\n",
       "      <td>0</td>\n",
       "      <td>0</td>\n",
       "      <td>...</td>\n",
       "      <td>0</td>\n",
       "      <td>0</td>\n",
       "      <td>0</td>\n",
       "      <td>0</td>\n",
       "      <td>0</td>\n",
       "      <td>0</td>\n",
       "      <td>0</td>\n",
       "      <td>0</td>\n",
       "      <td>0</td>\n",
       "      <td>53</td>\n",
       "    </tr>\n",
       "    <tr>\n",
       "      <th>4</th>\n",
       "      <td>1</td>\n",
       "      <td>Angola</td>\n",
       "      <td>54</td>\n",
       "      <td>120</td>\n",
       "      <td>0</td>\n",
       "      <td>6</td>\n",
       "      <td>2421</td>\n",
       "      <td>202</td>\n",
       "      <td>0</td>\n",
       "      <td>0</td>\n",
       "      <td>...</td>\n",
       "      <td>0</td>\n",
       "      <td>0</td>\n",
       "      <td>0</td>\n",
       "      <td>0</td>\n",
       "      <td>0</td>\n",
       "      <td>0</td>\n",
       "      <td>0</td>\n",
       "      <td>0</td>\n",
       "      <td>0</td>\n",
       "      <td>3643</td>\n",
       "    </tr>\n",
       "    <tr>\n",
       "      <th>5</th>\n",
       "      <td>150</td>\n",
       "      <td>Antigua and Barbuda</td>\n",
       "      <td>3</td>\n",
       "      <td>10</td>\n",
       "      <td>0</td>\n",
       "      <td>1</td>\n",
       "      <td>1987</td>\n",
       "      <td>0</td>\n",
       "      <td>0</td>\n",
       "      <td>0</td>\n",
       "      <td>...</td>\n",
       "      <td>0</td>\n",
       "      <td>0</td>\n",
       "      <td>0</td>\n",
       "      <td>0</td>\n",
       "      <td>0</td>\n",
       "      <td>0</td>\n",
       "      <td>0</td>\n",
       "      <td>0</td>\n",
       "      <td>0</td>\n",
       "      <td>2170</td>\n",
       "    </tr>\n",
       "    <tr>\n",
       "      <th>6</th>\n",
       "      <td>186</td>\n",
       "      <td>Argentina</td>\n",
       "      <td>51</td>\n",
       "      <td>777</td>\n",
       "      <td>2</td>\n",
       "      <td>67</td>\n",
       "      <td>202479</td>\n",
       "      <td>16</td>\n",
       "      <td>0</td>\n",
       "      <td>0</td>\n",
       "      <td>...</td>\n",
       "      <td>0</td>\n",
       "      <td>0</td>\n",
       "      <td>12</td>\n",
       "      <td>0</td>\n",
       "      <td>2</td>\n",
       "      <td>0</td>\n",
       "      <td>1</td>\n",
       "      <td>0</td>\n",
       "      <td>0</td>\n",
       "      <td>221902</td>\n",
       "    </tr>\n",
       "    <tr>\n",
       "      <th>7</th>\n",
       "      <td>97</td>\n",
       "      <td>Armenia</td>\n",
       "      <td>29</td>\n",
       "      <td>154</td>\n",
       "      <td>0</td>\n",
       "      <td>5</td>\n",
       "      <td>4970</td>\n",
       "      <td>2</td>\n",
       "      <td>0</td>\n",
       "      <td>0</td>\n",
       "      <td>...</td>\n",
       "      <td>0</td>\n",
       "      <td>0</td>\n",
       "      <td>0</td>\n",
       "      <td>0</td>\n",
       "      <td>0</td>\n",
       "      <td>0</td>\n",
       "      <td>0</td>\n",
       "      <td>0</td>\n",
       "      <td>0</td>\n",
       "      <td>6433</td>\n",
       "    </tr>\n",
       "    <tr>\n",
       "      <th>8</th>\n",
       "      <td>172</td>\n",
       "      <td>Australia</td>\n",
       "      <td>144</td>\n",
       "      <td>5758</td>\n",
       "      <td>0</td>\n",
       "      <td>58</td>\n",
       "      <td>4697</td>\n",
       "      <td>10</td>\n",
       "      <td>0</td>\n",
       "      <td>0</td>\n",
       "      <td>...</td>\n",
       "      <td>0</td>\n",
       "      <td>0</td>\n",
       "      <td>5</td>\n",
       "      <td>0</td>\n",
       "      <td>0</td>\n",
       "      <td>0</td>\n",
       "      <td>0</td>\n",
       "      <td>0</td>\n",
       "      <td>0</td>\n",
       "      <td>31825</td>\n",
       "    </tr>\n",
       "    <tr>\n",
       "      <th>9</th>\n",
       "      <td>98</td>\n",
       "      <td>Austria</td>\n",
       "      <td>31</td>\n",
       "      <td>327</td>\n",
       "      <td>0</td>\n",
       "      <td>16</td>\n",
       "      <td>1637</td>\n",
       "      <td>2</td>\n",
       "      <td>0</td>\n",
       "      <td>0</td>\n",
       "      <td>...</td>\n",
       "      <td>0</td>\n",
       "      <td>0</td>\n",
       "      <td>0</td>\n",
       "      <td>0</td>\n",
       "      <td>0</td>\n",
       "      <td>0</td>\n",
       "      <td>0</td>\n",
       "      <td>0</td>\n",
       "      <td>0</td>\n",
       "      <td>6189</td>\n",
       "    </tr>\n",
       "  </tbody>\n",
       "</table>\n",
       "<p>10 rows × 79 columns</p>\n",
       "</div>"
      ],
      "text/plain": [
       "   index     Fiscal Year 2022   A1    A2  A3  B1   B1/B2   B2  BBBCC  BBBCV  \\\n",
       "0     54          Afghanistan    0     1   0   1     664    1      0      0   \n",
       "1     95              Albania   18   193   0  10   13991    0      0      0   \n",
       "2      0              Algeria   59   133   1   4   12208    0      0      0   \n",
       "3     96              Andorra    6     8   0   0       3    0      0      0   \n",
       "4      1               Angola   54   120   0   6    2421  202      0      0   \n",
       "5    150  Antigua and Barbuda    3    10   0   1    1987    0      0      0   \n",
       "6    186            Argentina   51   777   2  67  202479   16      0      0   \n",
       "7     97              Armenia   29   154   0   5    4970    2      0      0   \n",
       "8    172            Australia  144  5758   0  58    4697   10      0      0   \n",
       "9     98              Austria   31   327   0  16    1637    2      0      0   \n",
       "\n",
       "   ...  T5  T6  TD  TN  U1  U2  U3  U4  U5  Grand Total  \n",
       "0  ...   0   0   0   0   0   0   0   0   0         1854  \n",
       "1  ...   0   0   0   0   0   0   0   0   0        16127  \n",
       "2  ...   0   0   1   0   0   0   0   0   0        13293  \n",
       "3  ...   0   0   0   0   0   0   0   0   0           53  \n",
       "4  ...   0   0   0   0   0   0   0   0   0         3643  \n",
       "5  ...   0   0   0   0   0   0   0   0   0         2170  \n",
       "6  ...   0   0  12   0   2   0   1   0   0       221902  \n",
       "7  ...   0   0   0   0   0   0   0   0   0         6433  \n",
       "8  ...   0   0   5   0   0   0   0   0   0        31825  \n",
       "9  ...   0   0   0   0   0   0   0   0   0         6189  \n",
       "\n",
       "[10 rows x 79 columns]"
      ]
     },
     "execution_count": 19,
     "metadata": {},
     "output_type": "execute_result"
    }
   ],
   "source": [
    "final_data.reset_index(inplace=True)\n",
    "final_data.head(10)"
   ]
  },
  {
   "cell_type": "code",
   "execution_count": 20,
   "metadata": {},
   "outputs": [
    {
     "data": {
      "text/html": [
       "<div>\n",
       "<style scoped>\n",
       "    .dataframe tbody tr th:only-of-type {\n",
       "        vertical-align: middle;\n",
       "    }\n",
       "\n",
       "    .dataframe tbody tr th {\n",
       "        vertical-align: top;\n",
       "    }\n",
       "\n",
       "    .dataframe thead th {\n",
       "        text-align: right;\n",
       "    }\n",
       "</style>\n",
       "<table border=\"1\" class=\"dataframe\">\n",
       "  <thead>\n",
       "    <tr style=\"text-align: right;\">\n",
       "      <th></th>\n",
       "      <th>Fiscal Year 2022</th>\n",
       "      <th>A1</th>\n",
       "      <th>A2</th>\n",
       "      <th>A3</th>\n",
       "      <th>B1</th>\n",
       "      <th>B1/B2</th>\n",
       "      <th>B2</th>\n",
       "      <th>BBBCC</th>\n",
       "      <th>BBBCV</th>\n",
       "      <th>C1</th>\n",
       "      <th>...</th>\n",
       "      <th>T5</th>\n",
       "      <th>T6</th>\n",
       "      <th>TD</th>\n",
       "      <th>TN</th>\n",
       "      <th>U1</th>\n",
       "      <th>U2</th>\n",
       "      <th>U3</th>\n",
       "      <th>U4</th>\n",
       "      <th>U5</th>\n",
       "      <th>Grand Total</th>\n",
       "    </tr>\n",
       "  </thead>\n",
       "  <tbody>\n",
       "    <tr>\n",
       "      <th>0</th>\n",
       "      <td>Afghanistan</td>\n",
       "      <td>0</td>\n",
       "      <td>1</td>\n",
       "      <td>0</td>\n",
       "      <td>1</td>\n",
       "      <td>664</td>\n",
       "      <td>1</td>\n",
       "      <td>0</td>\n",
       "      <td>0</td>\n",
       "      <td>1</td>\n",
       "      <td>...</td>\n",
       "      <td>0</td>\n",
       "      <td>0</td>\n",
       "      <td>0</td>\n",
       "      <td>0</td>\n",
       "      <td>0</td>\n",
       "      <td>0</td>\n",
       "      <td>0</td>\n",
       "      <td>0</td>\n",
       "      <td>0</td>\n",
       "      <td>1854</td>\n",
       "    </tr>\n",
       "    <tr>\n",
       "      <th>1</th>\n",
       "      <td>Albania</td>\n",
       "      <td>18</td>\n",
       "      <td>193</td>\n",
       "      <td>0</td>\n",
       "      <td>10</td>\n",
       "      <td>13991</td>\n",
       "      <td>0</td>\n",
       "      <td>0</td>\n",
       "      <td>0</td>\n",
       "      <td>0</td>\n",
       "      <td>...</td>\n",
       "      <td>0</td>\n",
       "      <td>0</td>\n",
       "      <td>0</td>\n",
       "      <td>0</td>\n",
       "      <td>0</td>\n",
       "      <td>0</td>\n",
       "      <td>0</td>\n",
       "      <td>0</td>\n",
       "      <td>0</td>\n",
       "      <td>16127</td>\n",
       "    </tr>\n",
       "    <tr>\n",
       "      <th>2</th>\n",
       "      <td>Algeria</td>\n",
       "      <td>59</td>\n",
       "      <td>133</td>\n",
       "      <td>1</td>\n",
       "      <td>4</td>\n",
       "      <td>12208</td>\n",
       "      <td>0</td>\n",
       "      <td>0</td>\n",
       "      <td>0</td>\n",
       "      <td>16</td>\n",
       "      <td>...</td>\n",
       "      <td>0</td>\n",
       "      <td>0</td>\n",
       "      <td>1</td>\n",
       "      <td>0</td>\n",
       "      <td>0</td>\n",
       "      <td>0</td>\n",
       "      <td>0</td>\n",
       "      <td>0</td>\n",
       "      <td>0</td>\n",
       "      <td>13293</td>\n",
       "    </tr>\n",
       "    <tr>\n",
       "      <th>3</th>\n",
       "      <td>Andorra</td>\n",
       "      <td>6</td>\n",
       "      <td>8</td>\n",
       "      <td>0</td>\n",
       "      <td>0</td>\n",
       "      <td>3</td>\n",
       "      <td>0</td>\n",
       "      <td>0</td>\n",
       "      <td>0</td>\n",
       "      <td>0</td>\n",
       "      <td>...</td>\n",
       "      <td>0</td>\n",
       "      <td>0</td>\n",
       "      <td>0</td>\n",
       "      <td>0</td>\n",
       "      <td>0</td>\n",
       "      <td>0</td>\n",
       "      <td>0</td>\n",
       "      <td>0</td>\n",
       "      <td>0</td>\n",
       "      <td>53</td>\n",
       "    </tr>\n",
       "    <tr>\n",
       "      <th>4</th>\n",
       "      <td>Angola</td>\n",
       "      <td>54</td>\n",
       "      <td>120</td>\n",
       "      <td>0</td>\n",
       "      <td>6</td>\n",
       "      <td>2421</td>\n",
       "      <td>202</td>\n",
       "      <td>0</td>\n",
       "      <td>0</td>\n",
       "      <td>2</td>\n",
       "      <td>...</td>\n",
       "      <td>0</td>\n",
       "      <td>0</td>\n",
       "      <td>0</td>\n",
       "      <td>0</td>\n",
       "      <td>0</td>\n",
       "      <td>0</td>\n",
       "      <td>0</td>\n",
       "      <td>0</td>\n",
       "      <td>0</td>\n",
       "      <td>3643</td>\n",
       "    </tr>\n",
       "    <tr>\n",
       "      <th>5</th>\n",
       "      <td>Antigua and Barbuda</td>\n",
       "      <td>3</td>\n",
       "      <td>10</td>\n",
       "      <td>0</td>\n",
       "      <td>1</td>\n",
       "      <td>1987</td>\n",
       "      <td>0</td>\n",
       "      <td>0</td>\n",
       "      <td>0</td>\n",
       "      <td>0</td>\n",
       "      <td>...</td>\n",
       "      <td>0</td>\n",
       "      <td>0</td>\n",
       "      <td>0</td>\n",
       "      <td>0</td>\n",
       "      <td>0</td>\n",
       "      <td>0</td>\n",
       "      <td>0</td>\n",
       "      <td>0</td>\n",
       "      <td>0</td>\n",
       "      <td>2170</td>\n",
       "    </tr>\n",
       "    <tr>\n",
       "      <th>6</th>\n",
       "      <td>Argentina</td>\n",
       "      <td>51</td>\n",
       "      <td>777</td>\n",
       "      <td>2</td>\n",
       "      <td>67</td>\n",
       "      <td>202479</td>\n",
       "      <td>16</td>\n",
       "      <td>0</td>\n",
       "      <td>0</td>\n",
       "      <td>45</td>\n",
       "      <td>...</td>\n",
       "      <td>0</td>\n",
       "      <td>0</td>\n",
       "      <td>12</td>\n",
       "      <td>0</td>\n",
       "      <td>2</td>\n",
       "      <td>0</td>\n",
       "      <td>1</td>\n",
       "      <td>0</td>\n",
       "      <td>0</td>\n",
       "      <td>221902</td>\n",
       "    </tr>\n",
       "    <tr>\n",
       "      <th>7</th>\n",
       "      <td>Armenia</td>\n",
       "      <td>29</td>\n",
       "      <td>154</td>\n",
       "      <td>0</td>\n",
       "      <td>5</td>\n",
       "      <td>4970</td>\n",
       "      <td>2</td>\n",
       "      <td>0</td>\n",
       "      <td>0</td>\n",
       "      <td>4</td>\n",
       "      <td>...</td>\n",
       "      <td>0</td>\n",
       "      <td>0</td>\n",
       "      <td>0</td>\n",
       "      <td>0</td>\n",
       "      <td>0</td>\n",
       "      <td>0</td>\n",
       "      <td>0</td>\n",
       "      <td>0</td>\n",
       "      <td>0</td>\n",
       "      <td>6433</td>\n",
       "    </tr>\n",
       "    <tr>\n",
       "      <th>8</th>\n",
       "      <td>Australia</td>\n",
       "      <td>144</td>\n",
       "      <td>5758</td>\n",
       "      <td>0</td>\n",
       "      <td>58</td>\n",
       "      <td>4697</td>\n",
       "      <td>10</td>\n",
       "      <td>0</td>\n",
       "      <td>0</td>\n",
       "      <td>3</td>\n",
       "      <td>...</td>\n",
       "      <td>0</td>\n",
       "      <td>0</td>\n",
       "      <td>5</td>\n",
       "      <td>0</td>\n",
       "      <td>0</td>\n",
       "      <td>0</td>\n",
       "      <td>0</td>\n",
       "      <td>0</td>\n",
       "      <td>0</td>\n",
       "      <td>31825</td>\n",
       "    </tr>\n",
       "    <tr>\n",
       "      <th>9</th>\n",
       "      <td>Austria</td>\n",
       "      <td>31</td>\n",
       "      <td>327</td>\n",
       "      <td>0</td>\n",
       "      <td>16</td>\n",
       "      <td>1637</td>\n",
       "      <td>2</td>\n",
       "      <td>0</td>\n",
       "      <td>0</td>\n",
       "      <td>1</td>\n",
       "      <td>...</td>\n",
       "      <td>0</td>\n",
       "      <td>0</td>\n",
       "      <td>0</td>\n",
       "      <td>0</td>\n",
       "      <td>0</td>\n",
       "      <td>0</td>\n",
       "      <td>0</td>\n",
       "      <td>0</td>\n",
       "      <td>0</td>\n",
       "      <td>6189</td>\n",
       "    </tr>\n",
       "  </tbody>\n",
       "</table>\n",
       "<p>10 rows × 78 columns</p>\n",
       "</div>"
      ],
      "text/plain": [
       "      Fiscal Year 2022   A1    A2  A3  B1   B1/B2   B2  BBBCC  BBBCV  C1  ...  \\\n",
       "0          Afghanistan    0     1   0   1     664    1      0      0   1  ...   \n",
       "1              Albania   18   193   0  10   13991    0      0      0   0  ...   \n",
       "2              Algeria   59   133   1   4   12208    0      0      0  16  ...   \n",
       "3              Andorra    6     8   0   0       3    0      0      0   0  ...   \n",
       "4               Angola   54   120   0   6    2421  202      0      0   2  ...   \n",
       "5  Antigua and Barbuda    3    10   0   1    1987    0      0      0   0  ...   \n",
       "6            Argentina   51   777   2  67  202479   16      0      0  45  ...   \n",
       "7              Armenia   29   154   0   5    4970    2      0      0   4  ...   \n",
       "8            Australia  144  5758   0  58    4697   10      0      0   3  ...   \n",
       "9              Austria   31   327   0  16    1637    2      0      0   1  ...   \n",
       "\n",
       "   T5  T6  TD  TN  U1  U2  U3  U4  U5  Grand Total  \n",
       "0   0   0   0   0   0   0   0   0   0         1854  \n",
       "1   0   0   0   0   0   0   0   0   0        16127  \n",
       "2   0   0   1   0   0   0   0   0   0        13293  \n",
       "3   0   0   0   0   0   0   0   0   0           53  \n",
       "4   0   0   0   0   0   0   0   0   0         3643  \n",
       "5   0   0   0   0   0   0   0   0   0         2170  \n",
       "6   0   0  12   0   2   0   1   0   0       221902  \n",
       "7   0   0   0   0   0   0   0   0   0         6433  \n",
       "8   0   0   5   0   0   0   0   0   0        31825  \n",
       "9   0   0   0   0   0   0   0   0   0         6189  \n",
       "\n",
       "[10 rows x 78 columns]"
      ]
     },
     "execution_count": 20,
     "metadata": {},
     "output_type": "execute_result"
    }
   ],
   "source": [
    "final_data.drop('index', axis=1, inplace=True)\n",
    "final_data.head(10)"
   ]
  },
  {
   "cell_type": "code",
   "execution_count": 21,
   "metadata": {},
   "outputs": [
    {
     "data": {
      "text/html": [
       "<div>\n",
       "<style scoped>\n",
       "    .dataframe tbody tr th:only-of-type {\n",
       "        vertical-align: middle;\n",
       "    }\n",
       "\n",
       "    .dataframe tbody tr th {\n",
       "        vertical-align: top;\n",
       "    }\n",
       "\n",
       "    .dataframe thead th {\n",
       "        text-align: right;\n",
       "    }\n",
       "</style>\n",
       "<table border=\"1\" class=\"dataframe\">\n",
       "  <thead>\n",
       "    <tr style=\"text-align: right;\">\n",
       "      <th></th>\n",
       "      <th>Country</th>\n",
       "      <th>A1</th>\n",
       "      <th>A2</th>\n",
       "      <th>A3</th>\n",
       "      <th>B1</th>\n",
       "      <th>B1/B2</th>\n",
       "      <th>B2</th>\n",
       "      <th>BBBCC</th>\n",
       "      <th>BBBCV</th>\n",
       "      <th>C1</th>\n",
       "      <th>...</th>\n",
       "      <th>T5</th>\n",
       "      <th>T6</th>\n",
       "      <th>TD</th>\n",
       "      <th>TN</th>\n",
       "      <th>U1</th>\n",
       "      <th>U2</th>\n",
       "      <th>U3</th>\n",
       "      <th>U4</th>\n",
       "      <th>U5</th>\n",
       "      <th>Grand Total</th>\n",
       "    </tr>\n",
       "  </thead>\n",
       "  <tbody>\n",
       "    <tr>\n",
       "      <th>0</th>\n",
       "      <td>Afghanistan</td>\n",
       "      <td>0</td>\n",
       "      <td>1</td>\n",
       "      <td>0</td>\n",
       "      <td>1</td>\n",
       "      <td>664</td>\n",
       "      <td>1</td>\n",
       "      <td>0</td>\n",
       "      <td>0</td>\n",
       "      <td>1</td>\n",
       "      <td>...</td>\n",
       "      <td>0</td>\n",
       "      <td>0</td>\n",
       "      <td>0</td>\n",
       "      <td>0</td>\n",
       "      <td>0</td>\n",
       "      <td>0</td>\n",
       "      <td>0</td>\n",
       "      <td>0</td>\n",
       "      <td>0</td>\n",
       "      <td>1854</td>\n",
       "    </tr>\n",
       "    <tr>\n",
       "      <th>1</th>\n",
       "      <td>Albania</td>\n",
       "      <td>18</td>\n",
       "      <td>193</td>\n",
       "      <td>0</td>\n",
       "      <td>10</td>\n",
       "      <td>13991</td>\n",
       "      <td>0</td>\n",
       "      <td>0</td>\n",
       "      <td>0</td>\n",
       "      <td>0</td>\n",
       "      <td>...</td>\n",
       "      <td>0</td>\n",
       "      <td>0</td>\n",
       "      <td>0</td>\n",
       "      <td>0</td>\n",
       "      <td>0</td>\n",
       "      <td>0</td>\n",
       "      <td>0</td>\n",
       "      <td>0</td>\n",
       "      <td>0</td>\n",
       "      <td>16127</td>\n",
       "    </tr>\n",
       "    <tr>\n",
       "      <th>2</th>\n",
       "      <td>Algeria</td>\n",
       "      <td>59</td>\n",
       "      <td>133</td>\n",
       "      <td>1</td>\n",
       "      <td>4</td>\n",
       "      <td>12208</td>\n",
       "      <td>0</td>\n",
       "      <td>0</td>\n",
       "      <td>0</td>\n",
       "      <td>16</td>\n",
       "      <td>...</td>\n",
       "      <td>0</td>\n",
       "      <td>0</td>\n",
       "      <td>1</td>\n",
       "      <td>0</td>\n",
       "      <td>0</td>\n",
       "      <td>0</td>\n",
       "      <td>0</td>\n",
       "      <td>0</td>\n",
       "      <td>0</td>\n",
       "      <td>13293</td>\n",
       "    </tr>\n",
       "    <tr>\n",
       "      <th>3</th>\n",
       "      <td>Andorra</td>\n",
       "      <td>6</td>\n",
       "      <td>8</td>\n",
       "      <td>0</td>\n",
       "      <td>0</td>\n",
       "      <td>3</td>\n",
       "      <td>0</td>\n",
       "      <td>0</td>\n",
       "      <td>0</td>\n",
       "      <td>0</td>\n",
       "      <td>...</td>\n",
       "      <td>0</td>\n",
       "      <td>0</td>\n",
       "      <td>0</td>\n",
       "      <td>0</td>\n",
       "      <td>0</td>\n",
       "      <td>0</td>\n",
       "      <td>0</td>\n",
       "      <td>0</td>\n",
       "      <td>0</td>\n",
       "      <td>53</td>\n",
       "    </tr>\n",
       "    <tr>\n",
       "      <th>4</th>\n",
       "      <td>Angola</td>\n",
       "      <td>54</td>\n",
       "      <td>120</td>\n",
       "      <td>0</td>\n",
       "      <td>6</td>\n",
       "      <td>2421</td>\n",
       "      <td>202</td>\n",
       "      <td>0</td>\n",
       "      <td>0</td>\n",
       "      <td>2</td>\n",
       "      <td>...</td>\n",
       "      <td>0</td>\n",
       "      <td>0</td>\n",
       "      <td>0</td>\n",
       "      <td>0</td>\n",
       "      <td>0</td>\n",
       "      <td>0</td>\n",
       "      <td>0</td>\n",
       "      <td>0</td>\n",
       "      <td>0</td>\n",
       "      <td>3643</td>\n",
       "    </tr>\n",
       "    <tr>\n",
       "      <th>5</th>\n",
       "      <td>Antigua and Barbuda</td>\n",
       "      <td>3</td>\n",
       "      <td>10</td>\n",
       "      <td>0</td>\n",
       "      <td>1</td>\n",
       "      <td>1987</td>\n",
       "      <td>0</td>\n",
       "      <td>0</td>\n",
       "      <td>0</td>\n",
       "      <td>0</td>\n",
       "      <td>...</td>\n",
       "      <td>0</td>\n",
       "      <td>0</td>\n",
       "      <td>0</td>\n",
       "      <td>0</td>\n",
       "      <td>0</td>\n",
       "      <td>0</td>\n",
       "      <td>0</td>\n",
       "      <td>0</td>\n",
       "      <td>0</td>\n",
       "      <td>2170</td>\n",
       "    </tr>\n",
       "    <tr>\n",
       "      <th>6</th>\n",
       "      <td>Argentina</td>\n",
       "      <td>51</td>\n",
       "      <td>777</td>\n",
       "      <td>2</td>\n",
       "      <td>67</td>\n",
       "      <td>202479</td>\n",
       "      <td>16</td>\n",
       "      <td>0</td>\n",
       "      <td>0</td>\n",
       "      <td>45</td>\n",
       "      <td>...</td>\n",
       "      <td>0</td>\n",
       "      <td>0</td>\n",
       "      <td>12</td>\n",
       "      <td>0</td>\n",
       "      <td>2</td>\n",
       "      <td>0</td>\n",
       "      <td>1</td>\n",
       "      <td>0</td>\n",
       "      <td>0</td>\n",
       "      <td>221902</td>\n",
       "    </tr>\n",
       "    <tr>\n",
       "      <th>7</th>\n",
       "      <td>Armenia</td>\n",
       "      <td>29</td>\n",
       "      <td>154</td>\n",
       "      <td>0</td>\n",
       "      <td>5</td>\n",
       "      <td>4970</td>\n",
       "      <td>2</td>\n",
       "      <td>0</td>\n",
       "      <td>0</td>\n",
       "      <td>4</td>\n",
       "      <td>...</td>\n",
       "      <td>0</td>\n",
       "      <td>0</td>\n",
       "      <td>0</td>\n",
       "      <td>0</td>\n",
       "      <td>0</td>\n",
       "      <td>0</td>\n",
       "      <td>0</td>\n",
       "      <td>0</td>\n",
       "      <td>0</td>\n",
       "      <td>6433</td>\n",
       "    </tr>\n",
       "    <tr>\n",
       "      <th>8</th>\n",
       "      <td>Australia</td>\n",
       "      <td>144</td>\n",
       "      <td>5758</td>\n",
       "      <td>0</td>\n",
       "      <td>58</td>\n",
       "      <td>4697</td>\n",
       "      <td>10</td>\n",
       "      <td>0</td>\n",
       "      <td>0</td>\n",
       "      <td>3</td>\n",
       "      <td>...</td>\n",
       "      <td>0</td>\n",
       "      <td>0</td>\n",
       "      <td>5</td>\n",
       "      <td>0</td>\n",
       "      <td>0</td>\n",
       "      <td>0</td>\n",
       "      <td>0</td>\n",
       "      <td>0</td>\n",
       "      <td>0</td>\n",
       "      <td>31825</td>\n",
       "    </tr>\n",
       "    <tr>\n",
       "      <th>9</th>\n",
       "      <td>Austria</td>\n",
       "      <td>31</td>\n",
       "      <td>327</td>\n",
       "      <td>0</td>\n",
       "      <td>16</td>\n",
       "      <td>1637</td>\n",
       "      <td>2</td>\n",
       "      <td>0</td>\n",
       "      <td>0</td>\n",
       "      <td>1</td>\n",
       "      <td>...</td>\n",
       "      <td>0</td>\n",
       "      <td>0</td>\n",
       "      <td>0</td>\n",
       "      <td>0</td>\n",
       "      <td>0</td>\n",
       "      <td>0</td>\n",
       "      <td>0</td>\n",
       "      <td>0</td>\n",
       "      <td>0</td>\n",
       "      <td>6189</td>\n",
       "    </tr>\n",
       "  </tbody>\n",
       "</table>\n",
       "<p>10 rows × 78 columns</p>\n",
       "</div>"
      ],
      "text/plain": [
       "               Country   A1    A2  A3  B1   B1/B2   B2  BBBCC  BBBCV  C1  ...  \\\n",
       "0          Afghanistan    0     1   0   1     664    1      0      0   1  ...   \n",
       "1              Albania   18   193   0  10   13991    0      0      0   0  ...   \n",
       "2              Algeria   59   133   1   4   12208    0      0      0  16  ...   \n",
       "3              Andorra    6     8   0   0       3    0      0      0   0  ...   \n",
       "4               Angola   54   120   0   6    2421  202      0      0   2  ...   \n",
       "5  Antigua and Barbuda    3    10   0   1    1987    0      0      0   0  ...   \n",
       "6            Argentina   51   777   2  67  202479   16      0      0  45  ...   \n",
       "7              Armenia   29   154   0   5    4970    2      0      0   4  ...   \n",
       "8            Australia  144  5758   0  58    4697   10      0      0   3  ...   \n",
       "9              Austria   31   327   0  16    1637    2      0      0   1  ...   \n",
       "\n",
       "   T5  T6  TD  TN  U1  U2  U3  U4  U5  Grand Total  \n",
       "0   0   0   0   0   0   0   0   0   0         1854  \n",
       "1   0   0   0   0   0   0   0   0   0        16127  \n",
       "2   0   0   1   0   0   0   0   0   0        13293  \n",
       "3   0   0   0   0   0   0   0   0   0           53  \n",
       "4   0   0   0   0   0   0   0   0   0         3643  \n",
       "5   0   0   0   0   0   0   0   0   0         2170  \n",
       "6   0   0  12   0   2   0   1   0   0       221902  \n",
       "7   0   0   0   0   0   0   0   0   0         6433  \n",
       "8   0   0   5   0   0   0   0   0   0        31825  \n",
       "9   0   0   0   0   0   0   0   0   0         6189  \n",
       "\n",
       "[10 rows x 78 columns]"
      ]
     },
     "execution_count": 21,
     "metadata": {},
     "output_type": "execute_result"
    }
   ],
   "source": [
    "final_data.rename(columns={'Fiscal Year 2022' : 'Country'}, inplace=True)\n",
    "final_data.head(10)"
   ]
  },
  {
   "cell_type": "code",
   "execution_count": 22,
   "metadata": {},
   "outputs": [
    {
     "data": {
      "text/html": [
       "<div>\n",
       "<style scoped>\n",
       "    .dataframe tbody tr th:only-of-type {\n",
       "        vertical-align: middle;\n",
       "    }\n",
       "\n",
       "    .dataframe tbody tr th {\n",
       "        vertical-align: top;\n",
       "    }\n",
       "\n",
       "    .dataframe thead th {\n",
       "        text-align: right;\n",
       "    }\n",
       "</style>\n",
       "<table border=\"1\" class=\"dataframe\">\n",
       "  <thead>\n",
       "    <tr style=\"text-align: right;\">\n",
       "      <th></th>\n",
       "      <th>Country</th>\n",
       "      <th>A1</th>\n",
       "      <th>A2</th>\n",
       "      <th>A3</th>\n",
       "      <th>B1</th>\n",
       "      <th>B1/B2</th>\n",
       "      <th>B2</th>\n",
       "      <th>BBBCC</th>\n",
       "      <th>BBBCV</th>\n",
       "      <th>C1</th>\n",
       "      <th>...</th>\n",
       "      <th>T6</th>\n",
       "      <th>TD</th>\n",
       "      <th>TN</th>\n",
       "      <th>U1</th>\n",
       "      <th>U2</th>\n",
       "      <th>U3</th>\n",
       "      <th>U4</th>\n",
       "      <th>U5</th>\n",
       "      <th>Grand Total</th>\n",
       "      <th>Total NIVs Issued Worldwide Rank</th>\n",
       "    </tr>\n",
       "  </thead>\n",
       "  <tbody>\n",
       "    <tr>\n",
       "      <th>0</th>\n",
       "      <td>Afghanistan</td>\n",
       "      <td>0</td>\n",
       "      <td>1</td>\n",
       "      <td>0</td>\n",
       "      <td>1</td>\n",
       "      <td>664</td>\n",
       "      <td>1</td>\n",
       "      <td>0</td>\n",
       "      <td>0</td>\n",
       "      <td>1</td>\n",
       "      <td>...</td>\n",
       "      <td>0</td>\n",
       "      <td>0</td>\n",
       "      <td>0</td>\n",
       "      <td>0</td>\n",
       "      <td>0</td>\n",
       "      <td>0</td>\n",
       "      <td>0</td>\n",
       "      <td>0</td>\n",
       "      <td>1854</td>\n",
       "      <td>135.0</td>\n",
       "    </tr>\n",
       "    <tr>\n",
       "      <th>1</th>\n",
       "      <td>Albania</td>\n",
       "      <td>18</td>\n",
       "      <td>193</td>\n",
       "      <td>0</td>\n",
       "      <td>10</td>\n",
       "      <td>13991</td>\n",
       "      <td>0</td>\n",
       "      <td>0</td>\n",
       "      <td>0</td>\n",
       "      <td>0</td>\n",
       "      <td>...</td>\n",
       "      <td>0</td>\n",
       "      <td>0</td>\n",
       "      <td>0</td>\n",
       "      <td>0</td>\n",
       "      <td>0</td>\n",
       "      <td>0</td>\n",
       "      <td>0</td>\n",
       "      <td>0</td>\n",
       "      <td>16127</td>\n",
       "      <td>55.0</td>\n",
       "    </tr>\n",
       "    <tr>\n",
       "      <th>2</th>\n",
       "      <td>Algeria</td>\n",
       "      <td>59</td>\n",
       "      <td>133</td>\n",
       "      <td>1</td>\n",
       "      <td>4</td>\n",
       "      <td>12208</td>\n",
       "      <td>0</td>\n",
       "      <td>0</td>\n",
       "      <td>0</td>\n",
       "      <td>16</td>\n",
       "      <td>...</td>\n",
       "      <td>0</td>\n",
       "      <td>1</td>\n",
       "      <td>0</td>\n",
       "      <td>0</td>\n",
       "      <td>0</td>\n",
       "      <td>0</td>\n",
       "      <td>0</td>\n",
       "      <td>0</td>\n",
       "      <td>13293</td>\n",
       "      <td>64.0</td>\n",
       "    </tr>\n",
       "    <tr>\n",
       "      <th>3</th>\n",
       "      <td>Andorra</td>\n",
       "      <td>6</td>\n",
       "      <td>8</td>\n",
       "      <td>0</td>\n",
       "      <td>0</td>\n",
       "      <td>3</td>\n",
       "      <td>0</td>\n",
       "      <td>0</td>\n",
       "      <td>0</td>\n",
       "      <td>0</td>\n",
       "      <td>...</td>\n",
       "      <td>0</td>\n",
       "      <td>0</td>\n",
       "      <td>0</td>\n",
       "      <td>0</td>\n",
       "      <td>0</td>\n",
       "      <td>0</td>\n",
       "      <td>0</td>\n",
       "      <td>0</td>\n",
       "      <td>53</td>\n",
       "      <td>189.5</td>\n",
       "    </tr>\n",
       "    <tr>\n",
       "      <th>4</th>\n",
       "      <td>Angola</td>\n",
       "      <td>54</td>\n",
       "      <td>120</td>\n",
       "      <td>0</td>\n",
       "      <td>6</td>\n",
       "      <td>2421</td>\n",
       "      <td>202</td>\n",
       "      <td>0</td>\n",
       "      <td>0</td>\n",
       "      <td>2</td>\n",
       "      <td>...</td>\n",
       "      <td>0</td>\n",
       "      <td>0</td>\n",
       "      <td>0</td>\n",
       "      <td>0</td>\n",
       "      <td>0</td>\n",
       "      <td>0</td>\n",
       "      <td>0</td>\n",
       "      <td>0</td>\n",
       "      <td>3643</td>\n",
       "      <td>118.0</td>\n",
       "    </tr>\n",
       "    <tr>\n",
       "      <th>5</th>\n",
       "      <td>Antigua and Barbuda</td>\n",
       "      <td>3</td>\n",
       "      <td>10</td>\n",
       "      <td>0</td>\n",
       "      <td>1</td>\n",
       "      <td>1987</td>\n",
       "      <td>0</td>\n",
       "      <td>0</td>\n",
       "      <td>0</td>\n",
       "      <td>0</td>\n",
       "      <td>...</td>\n",
       "      <td>0</td>\n",
       "      <td>0</td>\n",
       "      <td>0</td>\n",
       "      <td>0</td>\n",
       "      <td>0</td>\n",
       "      <td>0</td>\n",
       "      <td>0</td>\n",
       "      <td>0</td>\n",
       "      <td>2170</td>\n",
       "      <td>132.0</td>\n",
       "    </tr>\n",
       "    <tr>\n",
       "      <th>6</th>\n",
       "      <td>Argentina</td>\n",
       "      <td>51</td>\n",
       "      <td>777</td>\n",
       "      <td>2</td>\n",
       "      <td>67</td>\n",
       "      <td>202479</td>\n",
       "      <td>16</td>\n",
       "      <td>0</td>\n",
       "      <td>0</td>\n",
       "      <td>45</td>\n",
       "      <td>...</td>\n",
       "      <td>0</td>\n",
       "      <td>12</td>\n",
       "      <td>0</td>\n",
       "      <td>2</td>\n",
       "      <td>0</td>\n",
       "      <td>1</td>\n",
       "      <td>0</td>\n",
       "      <td>0</td>\n",
       "      <td>221902</td>\n",
       "      <td>4.0</td>\n",
       "    </tr>\n",
       "    <tr>\n",
       "      <th>7</th>\n",
       "      <td>Armenia</td>\n",
       "      <td>29</td>\n",
       "      <td>154</td>\n",
       "      <td>0</td>\n",
       "      <td>5</td>\n",
       "      <td>4970</td>\n",
       "      <td>2</td>\n",
       "      <td>0</td>\n",
       "      <td>0</td>\n",
       "      <td>4</td>\n",
       "      <td>...</td>\n",
       "      <td>0</td>\n",
       "      <td>0</td>\n",
       "      <td>0</td>\n",
       "      <td>0</td>\n",
       "      <td>0</td>\n",
       "      <td>0</td>\n",
       "      <td>0</td>\n",
       "      <td>0</td>\n",
       "      <td>6433</td>\n",
       "      <td>92.0</td>\n",
       "    </tr>\n",
       "    <tr>\n",
       "      <th>8</th>\n",
       "      <td>Australia</td>\n",
       "      <td>144</td>\n",
       "      <td>5758</td>\n",
       "      <td>0</td>\n",
       "      <td>58</td>\n",
       "      <td>4697</td>\n",
       "      <td>10</td>\n",
       "      <td>0</td>\n",
       "      <td>0</td>\n",
       "      <td>3</td>\n",
       "      <td>...</td>\n",
       "      <td>0</td>\n",
       "      <td>5</td>\n",
       "      <td>0</td>\n",
       "      <td>0</td>\n",
       "      <td>0</td>\n",
       "      <td>0</td>\n",
       "      <td>0</td>\n",
       "      <td>0</td>\n",
       "      <td>31825</td>\n",
       "      <td>36.0</td>\n",
       "    </tr>\n",
       "    <tr>\n",
       "      <th>9</th>\n",
       "      <td>Austria</td>\n",
       "      <td>31</td>\n",
       "      <td>327</td>\n",
       "      <td>0</td>\n",
       "      <td>16</td>\n",
       "      <td>1637</td>\n",
       "      <td>2</td>\n",
       "      <td>0</td>\n",
       "      <td>0</td>\n",
       "      <td>1</td>\n",
       "      <td>...</td>\n",
       "      <td>0</td>\n",
       "      <td>0</td>\n",
       "      <td>0</td>\n",
       "      <td>0</td>\n",
       "      <td>0</td>\n",
       "      <td>0</td>\n",
       "      <td>0</td>\n",
       "      <td>0</td>\n",
       "      <td>6189</td>\n",
       "      <td>97.0</td>\n",
       "    </tr>\n",
       "  </tbody>\n",
       "</table>\n",
       "<p>10 rows × 79 columns</p>\n",
       "</div>"
      ],
      "text/plain": [
       "               Country   A1    A2  A3  B1   B1/B2   B2  BBBCC  BBBCV  C1  ...  \\\n",
       "0          Afghanistan    0     1   0   1     664    1      0      0   1  ...   \n",
       "1              Albania   18   193   0  10   13991    0      0      0   0  ...   \n",
       "2              Algeria   59   133   1   4   12208    0      0      0  16  ...   \n",
       "3              Andorra    6     8   0   0       3    0      0      0   0  ...   \n",
       "4               Angola   54   120   0   6    2421  202      0      0   2  ...   \n",
       "5  Antigua and Barbuda    3    10   0   1    1987    0      0      0   0  ...   \n",
       "6            Argentina   51   777   2  67  202479   16      0      0  45  ...   \n",
       "7              Armenia   29   154   0   5    4970    2      0      0   4  ...   \n",
       "8            Australia  144  5758   0  58    4697   10      0      0   3  ...   \n",
       "9              Austria   31   327   0  16    1637    2      0      0   1  ...   \n",
       "\n",
       "   T6  TD  TN  U1  U2  U3  U4  U5  Grand Total  \\\n",
       "0   0   0   0   0   0   0   0   0         1854   \n",
       "1   0   0   0   0   0   0   0   0        16127   \n",
       "2   0   1   0   0   0   0   0   0        13293   \n",
       "3   0   0   0   0   0   0   0   0           53   \n",
       "4   0   0   0   0   0   0   0   0         3643   \n",
       "5   0   0   0   0   0   0   0   0         2170   \n",
       "6   0  12   0   2   0   1   0   0       221902   \n",
       "7   0   0   0   0   0   0   0   0         6433   \n",
       "8   0   5   0   0   0   0   0   0        31825   \n",
       "9   0   0   0   0   0   0   0   0         6189   \n",
       "\n",
       "   Total NIVs Issued Worldwide Rank  \n",
       "0                             135.0  \n",
       "1                              55.0  \n",
       "2                              64.0  \n",
       "3                             189.5  \n",
       "4                             118.0  \n",
       "5                             132.0  \n",
       "6                               4.0  \n",
       "7                              92.0  \n",
       "8                              36.0  \n",
       "9                              97.0  \n",
       "\n",
       "[10 rows x 79 columns]"
      ]
     },
     "execution_count": 22,
     "metadata": {},
     "output_type": "execute_result"
    }
   ],
   "source": [
    "final_data['Total NIVs Issued Worldwide Rank'] = final_data['Grand Total'].rank(ascending=False)\n",
    "final_data.head(10)"
   ]
  },
  {
   "cell_type": "code",
   "execution_count": 23,
   "metadata": {},
   "outputs": [
    {
     "data": {
      "text/html": [
       "<div>\n",
       "<style scoped>\n",
       "    .dataframe tbody tr th:only-of-type {\n",
       "        vertical-align: middle;\n",
       "    }\n",
       "\n",
       "    .dataframe tbody tr th {\n",
       "        vertical-align: top;\n",
       "    }\n",
       "\n",
       "    .dataframe thead th {\n",
       "        text-align: right;\n",
       "    }\n",
       "</style>\n",
       "<table border=\"1\" class=\"dataframe\">\n",
       "  <thead>\n",
       "    <tr style=\"text-align: right;\">\n",
       "      <th></th>\n",
       "      <th>Country</th>\n",
       "      <th>A1</th>\n",
       "      <th>A2</th>\n",
       "      <th>A3</th>\n",
       "      <th>B1</th>\n",
       "      <th>B1/B2</th>\n",
       "      <th>B2</th>\n",
       "      <th>BBBCC</th>\n",
       "      <th>BBBCV</th>\n",
       "      <th>C1</th>\n",
       "      <th>...</th>\n",
       "      <th>T6</th>\n",
       "      <th>TD</th>\n",
       "      <th>TN</th>\n",
       "      <th>U1</th>\n",
       "      <th>U2</th>\n",
       "      <th>U3</th>\n",
       "      <th>U4</th>\n",
       "      <th>U5</th>\n",
       "      <th>Grand Total</th>\n",
       "      <th>Total NIVs Issued Worldwide Rank</th>\n",
       "    </tr>\n",
       "  </thead>\n",
       "  <tbody>\n",
       "    <tr>\n",
       "      <th>116</th>\n",
       "      <td>Mexico</td>\n",
       "      <td>307</td>\n",
       "      <td>1760</td>\n",
       "      <td>7</td>\n",
       "      <td>3122</td>\n",
       "      <td>11547</td>\n",
       "      <td>90</td>\n",
       "      <td>1182329</td>\n",
       "      <td>62153</td>\n",
       "      <td>43</td>\n",
       "      <td>...</td>\n",
       "      <td>1</td>\n",
       "      <td>15761</td>\n",
       "      <td>33330</td>\n",
       "      <td>97</td>\n",
       "      <td>50</td>\n",
       "      <td>441</td>\n",
       "      <td>7</td>\n",
       "      <td>5</td>\n",
       "      <td>1728613</td>\n",
       "      <td>1.0</td>\n",
       "    </tr>\n",
       "    <tr>\n",
       "      <th>79</th>\n",
       "      <td>India</td>\n",
       "      <td>121</td>\n",
       "      <td>1460</td>\n",
       "      <td>130</td>\n",
       "      <td>533</td>\n",
       "      <td>264515</td>\n",
       "      <td>114</td>\n",
       "      <td>0</td>\n",
       "      <td>0</td>\n",
       "      <td>239</td>\n",
       "      <td>...</td>\n",
       "      <td>0</td>\n",
       "      <td>113</td>\n",
       "      <td>0</td>\n",
       "      <td>10</td>\n",
       "      <td>25</td>\n",
       "      <td>48</td>\n",
       "      <td>0</td>\n",
       "      <td>0</td>\n",
       "      <td>764966</td>\n",
       "      <td>2.0</td>\n",
       "    </tr>\n",
       "    <tr>\n",
       "      <th>23</th>\n",
       "      <td>Brazil</td>\n",
       "      <td>212</td>\n",
       "      <td>3368</td>\n",
       "      <td>6</td>\n",
       "      <td>2300</td>\n",
       "      <td>633019</td>\n",
       "      <td>32</td>\n",
       "      <td>0</td>\n",
       "      <td>0</td>\n",
       "      <td>180</td>\n",
       "      <td>...</td>\n",
       "      <td>0</td>\n",
       "      <td>26</td>\n",
       "      <td>0</td>\n",
       "      <td>1</td>\n",
       "      <td>0</td>\n",
       "      <td>4</td>\n",
       "      <td>0</td>\n",
       "      <td>0</td>\n",
       "      <td>695575</td>\n",
       "      <td>3.0</td>\n",
       "    </tr>\n",
       "    <tr>\n",
       "      <th>6</th>\n",
       "      <td>Argentina</td>\n",
       "      <td>51</td>\n",
       "      <td>777</td>\n",
       "      <td>2</td>\n",
       "      <td>67</td>\n",
       "      <td>202479</td>\n",
       "      <td>16</td>\n",
       "      <td>0</td>\n",
       "      <td>0</td>\n",
       "      <td>45</td>\n",
       "      <td>...</td>\n",
       "      <td>0</td>\n",
       "      <td>12</td>\n",
       "      <td>0</td>\n",
       "      <td>2</td>\n",
       "      <td>0</td>\n",
       "      <td>1</td>\n",
       "      <td>0</td>\n",
       "      <td>0</td>\n",
       "      <td>221902</td>\n",
       "      <td>4.0</td>\n",
       "    </tr>\n",
       "    <tr>\n",
       "      <th>143</th>\n",
       "      <td>Philippines</td>\n",
       "      <td>89</td>\n",
       "      <td>1519</td>\n",
       "      <td>261</td>\n",
       "      <td>3603</td>\n",
       "      <td>86496</td>\n",
       "      <td>55</td>\n",
       "      <td>0</td>\n",
       "      <td>0</td>\n",
       "      <td>1322</td>\n",
       "      <td>...</td>\n",
       "      <td>9</td>\n",
       "      <td>20</td>\n",
       "      <td>0</td>\n",
       "      <td>0</td>\n",
       "      <td>0</td>\n",
       "      <td>4</td>\n",
       "      <td>0</td>\n",
       "      <td>0</td>\n",
       "      <td>194983</td>\n",
       "      <td>5.0</td>\n",
       "    </tr>\n",
       "    <tr>\n",
       "      <th>51</th>\n",
       "      <td>Ecuador</td>\n",
       "      <td>89</td>\n",
       "      <td>492</td>\n",
       "      <td>6</td>\n",
       "      <td>190</td>\n",
       "      <td>176325</td>\n",
       "      <td>13</td>\n",
       "      <td>0</td>\n",
       "      <td>0</td>\n",
       "      <td>20</td>\n",
       "      <td>...</td>\n",
       "      <td>0</td>\n",
       "      <td>9</td>\n",
       "      <td>0</td>\n",
       "      <td>3</td>\n",
       "      <td>9</td>\n",
       "      <td>125</td>\n",
       "      <td>1</td>\n",
       "      <td>4</td>\n",
       "      <td>187107</td>\n",
       "      <td>6.0</td>\n",
       "    </tr>\n",
       "    <tr>\n",
       "      <th>36</th>\n",
       "      <td>China - mainland</td>\n",
       "      <td>298</td>\n",
       "      <td>124</td>\n",
       "      <td>3</td>\n",
       "      <td>1218</td>\n",
       "      <td>68869</td>\n",
       "      <td>141</td>\n",
       "      <td>0</td>\n",
       "      <td>0</td>\n",
       "      <td>221</td>\n",
       "      <td>...</td>\n",
       "      <td>0</td>\n",
       "      <td>76</td>\n",
       "      <td>0</td>\n",
       "      <td>3</td>\n",
       "      <td>3</td>\n",
       "      <td>4</td>\n",
       "      <td>0</td>\n",
       "      <td>0</td>\n",
       "      <td>161189</td>\n",
       "      <td>7.0</td>\n",
       "    </tr>\n",
       "    <tr>\n",
       "      <th>37</th>\n",
       "      <td>Colombia</td>\n",
       "      <td>118</td>\n",
       "      <td>3944</td>\n",
       "      <td>9</td>\n",
       "      <td>175</td>\n",
       "      <td>126332</td>\n",
       "      <td>12</td>\n",
       "      <td>0</td>\n",
       "      <td>0</td>\n",
       "      <td>154</td>\n",
       "      <td>...</td>\n",
       "      <td>0</td>\n",
       "      <td>62</td>\n",
       "      <td>1</td>\n",
       "      <td>1</td>\n",
       "      <td>0</td>\n",
       "      <td>5</td>\n",
       "      <td>0</td>\n",
       "      <td>0</td>\n",
       "      <td>161063</td>\n",
       "      <td>8.0</td>\n",
       "    </tr>\n",
       "    <tr>\n",
       "      <th>84</th>\n",
       "      <td>Israel</td>\n",
       "      <td>181</td>\n",
       "      <td>2839</td>\n",
       "      <td>1</td>\n",
       "      <td>7</td>\n",
       "      <td>125309</td>\n",
       "      <td>1929</td>\n",
       "      <td>0</td>\n",
       "      <td>0</td>\n",
       "      <td>2</td>\n",
       "      <td>...</td>\n",
       "      <td>0</td>\n",
       "      <td>0</td>\n",
       "      <td>0</td>\n",
       "      <td>1</td>\n",
       "      <td>0</td>\n",
       "      <td>2</td>\n",
       "      <td>0</td>\n",
       "      <td>0</td>\n",
       "      <td>141032</td>\n",
       "      <td>9.0</td>\n",
       "    </tr>\n",
       "    <tr>\n",
       "      <th>196</th>\n",
       "      <td>Vietnam</td>\n",
       "      <td>226</td>\n",
       "      <td>477</td>\n",
       "      <td>0</td>\n",
       "      <td>49</td>\n",
       "      <td>77659</td>\n",
       "      <td>122</td>\n",
       "      <td>0</td>\n",
       "      <td>0</td>\n",
       "      <td>91</td>\n",
       "      <td>...</td>\n",
       "      <td>0</td>\n",
       "      <td>7</td>\n",
       "      <td>0</td>\n",
       "      <td>0</td>\n",
       "      <td>0</td>\n",
       "      <td>0</td>\n",
       "      <td>0</td>\n",
       "      <td>0</td>\n",
       "      <td>96674</td>\n",
       "      <td>10.0</td>\n",
       "    </tr>\n",
       "  </tbody>\n",
       "</table>\n",
       "<p>10 rows × 79 columns</p>\n",
       "</div>"
      ],
      "text/plain": [
       "              Country   A1    A2   A3    B1   B1/B2    B2    BBBCC  BBBCV  \\\n",
       "116            Mexico  307  1760    7  3122   11547    90  1182329  62153   \n",
       "79              India  121  1460  130   533  264515   114        0      0   \n",
       "23             Brazil  212  3368    6  2300  633019    32        0      0   \n",
       "6           Argentina   51   777    2    67  202479    16        0      0   \n",
       "143       Philippines   89  1519  261  3603   86496    55        0      0   \n",
       "51            Ecuador   89   492    6   190  176325    13        0      0   \n",
       "36   China - mainland  298   124    3  1218   68869   141        0      0   \n",
       "37           Colombia  118  3944    9   175  126332    12        0      0   \n",
       "84             Israel  181  2839    1     7  125309  1929        0      0   \n",
       "196           Vietnam  226   477    0    49   77659   122        0      0   \n",
       "\n",
       "       C1  ...  T6     TD     TN  U1  U2   U3  U4  U5  Grand Total  \\\n",
       "116    43  ...   1  15761  33330  97  50  441   7   5      1728613   \n",
       "79    239  ...   0    113      0  10  25   48   0   0       764966   \n",
       "23    180  ...   0     26      0   1   0    4   0   0       695575   \n",
       "6      45  ...   0     12      0   2   0    1   0   0       221902   \n",
       "143  1322  ...   9     20      0   0   0    4   0   0       194983   \n",
       "51     20  ...   0      9      0   3   9  125   1   4       187107   \n",
       "36    221  ...   0     76      0   3   3    4   0   0       161189   \n",
       "37    154  ...   0     62      1   1   0    5   0   0       161063   \n",
       "84      2  ...   0      0      0   1   0    2   0   0       141032   \n",
       "196    91  ...   0      7      0   0   0    0   0   0        96674   \n",
       "\n",
       "     Total NIVs Issued Worldwide Rank  \n",
       "116                               1.0  \n",
       "79                                2.0  \n",
       "23                                3.0  \n",
       "6                                 4.0  \n",
       "143                               5.0  \n",
       "51                                6.0  \n",
       "36                                7.0  \n",
       "37                                8.0  \n",
       "84                                9.0  \n",
       "196                              10.0  \n",
       "\n",
       "[10 rows x 79 columns]"
      ]
     },
     "execution_count": 23,
     "metadata": {},
     "output_type": "execute_result"
    }
   ],
   "source": [
    "top_10_worldwide = final_data.sort_values(by='Total NIVs Issued Worldwide Rank')[:10]\n",
    "top_10_worldwide"
   ]
  },
  {
   "cell_type": "code",
   "execution_count": 24,
   "metadata": {},
   "outputs": [
    {
     "data": {
      "text/html": [
       "<div>\n",
       "<style scoped>\n",
       "    .dataframe tbody tr th:only-of-type {\n",
       "        vertical-align: middle;\n",
       "    }\n",
       "\n",
       "    .dataframe tbody tr th {\n",
       "        vertical-align: top;\n",
       "    }\n",
       "\n",
       "    .dataframe thead th {\n",
       "        text-align: right;\n",
       "    }\n",
       "</style>\n",
       "<table border=\"1\" class=\"dataframe\">\n",
       "  <thead>\n",
       "    <tr style=\"text-align: right;\">\n",
       "      <th></th>\n",
       "      <th>Country</th>\n",
       "      <th>A1</th>\n",
       "      <th>A2</th>\n",
       "      <th>A3</th>\n",
       "      <th>B1</th>\n",
       "      <th>B1/B2</th>\n",
       "      <th>B2</th>\n",
       "      <th>BBBCC</th>\n",
       "      <th>BBBCV</th>\n",
       "      <th>C1</th>\n",
       "      <th>...</th>\n",
       "      <th>TD</th>\n",
       "      <th>TN</th>\n",
       "      <th>U1</th>\n",
       "      <th>U2</th>\n",
       "      <th>U3</th>\n",
       "      <th>U4</th>\n",
       "      <th>U5</th>\n",
       "      <th>Grand Total</th>\n",
       "      <th>Total NIVs Issued Worldwide Rank</th>\n",
       "      <th>Total F1s Issued Worldwide Rank</th>\n",
       "    </tr>\n",
       "  </thead>\n",
       "  <tbody>\n",
       "    <tr>\n",
       "      <th>79</th>\n",
       "      <td>India</td>\n",
       "      <td>121</td>\n",
       "      <td>1460</td>\n",
       "      <td>130</td>\n",
       "      <td>533</td>\n",
       "      <td>264515</td>\n",
       "      <td>114</td>\n",
       "      <td>0</td>\n",
       "      <td>0</td>\n",
       "      <td>239</td>\n",
       "      <td>...</td>\n",
       "      <td>113</td>\n",
       "      <td>0</td>\n",
       "      <td>10</td>\n",
       "      <td>25</td>\n",
       "      <td>48</td>\n",
       "      <td>0</td>\n",
       "      <td>0</td>\n",
       "      <td>764966</td>\n",
       "      <td>2.0</td>\n",
       "      <td>1.0</td>\n",
       "    </tr>\n",
       "    <tr>\n",
       "      <th>36</th>\n",
       "      <td>China - mainland</td>\n",
       "      <td>298</td>\n",
       "      <td>124</td>\n",
       "      <td>3</td>\n",
       "      <td>1218</td>\n",
       "      <td>68869</td>\n",
       "      <td>141</td>\n",
       "      <td>0</td>\n",
       "      <td>0</td>\n",
       "      <td>221</td>\n",
       "      <td>...</td>\n",
       "      <td>76</td>\n",
       "      <td>0</td>\n",
       "      <td>3</td>\n",
       "      <td>3</td>\n",
       "      <td>4</td>\n",
       "      <td>0</td>\n",
       "      <td>0</td>\n",
       "      <td>161189</td>\n",
       "      <td>7.0</td>\n",
       "      <td>2.0</td>\n",
       "    </tr>\n",
       "    <tr>\n",
       "      <th>93</th>\n",
       "      <td>Korea, South</td>\n",
       "      <td>295</td>\n",
       "      <td>2675</td>\n",
       "      <td>0</td>\n",
       "      <td>6</td>\n",
       "      <td>5708</td>\n",
       "      <td>0</td>\n",
       "      <td>0</td>\n",
       "      <td>0</td>\n",
       "      <td>4</td>\n",
       "      <td>...</td>\n",
       "      <td>29</td>\n",
       "      <td>0</td>\n",
       "      <td>1</td>\n",
       "      <td>0</td>\n",
       "      <td>0</td>\n",
       "      <td>0</td>\n",
       "      <td>0</td>\n",
       "      <td>59564</td>\n",
       "      <td>19.0</td>\n",
       "      <td>3.0</td>\n",
       "    </tr>\n",
       "    <tr>\n",
       "      <th>196</th>\n",
       "      <td>Vietnam</td>\n",
       "      <td>226</td>\n",
       "      <td>477</td>\n",
       "      <td>0</td>\n",
       "      <td>49</td>\n",
       "      <td>77659</td>\n",
       "      <td>122</td>\n",
       "      <td>0</td>\n",
       "      <td>0</td>\n",
       "      <td>91</td>\n",
       "      <td>...</td>\n",
       "      <td>7</td>\n",
       "      <td>0</td>\n",
       "      <td>0</td>\n",
       "      <td>0</td>\n",
       "      <td>0</td>\n",
       "      <td>0</td>\n",
       "      <td>0</td>\n",
       "      <td>96674</td>\n",
       "      <td>10.0</td>\n",
       "      <td>4.0</td>\n",
       "    </tr>\n",
       "    <tr>\n",
       "      <th>87</th>\n",
       "      <td>Japan</td>\n",
       "      <td>242</td>\n",
       "      <td>4516</td>\n",
       "      <td>2</td>\n",
       "      <td>142</td>\n",
       "      <td>3237</td>\n",
       "      <td>2</td>\n",
       "      <td>0</td>\n",
       "      <td>0</td>\n",
       "      <td>5</td>\n",
       "      <td>...</td>\n",
       "      <td>14</td>\n",
       "      <td>0</td>\n",
       "      <td>0</td>\n",
       "      <td>0</td>\n",
       "      <td>0</td>\n",
       "      <td>0</td>\n",
       "      <td>0</td>\n",
       "      <td>58554</td>\n",
       "      <td>21.0</td>\n",
       "      <td>5.0</td>\n",
       "    </tr>\n",
       "    <tr>\n",
       "      <th>23</th>\n",
       "      <td>Brazil</td>\n",
       "      <td>212</td>\n",
       "      <td>3368</td>\n",
       "      <td>6</td>\n",
       "      <td>2300</td>\n",
       "      <td>633019</td>\n",
       "      <td>32</td>\n",
       "      <td>0</td>\n",
       "      <td>0</td>\n",
       "      <td>180</td>\n",
       "      <td>...</td>\n",
       "      <td>26</td>\n",
       "      <td>0</td>\n",
       "      <td>1</td>\n",
       "      <td>0</td>\n",
       "      <td>4</td>\n",
       "      <td>0</td>\n",
       "      <td>0</td>\n",
       "      <td>695575</td>\n",
       "      <td>3.0</td>\n",
       "      <td>6.0</td>\n",
       "    </tr>\n",
       "    <tr>\n",
       "      <th>116</th>\n",
       "      <td>Mexico</td>\n",
       "      <td>307</td>\n",
       "      <td>1760</td>\n",
       "      <td>7</td>\n",
       "      <td>3122</td>\n",
       "      <td>11547</td>\n",
       "      <td>90</td>\n",
       "      <td>1182329</td>\n",
       "      <td>62153</td>\n",
       "      <td>43</td>\n",
       "      <td>...</td>\n",
       "      <td>15761</td>\n",
       "      <td>33330</td>\n",
       "      <td>97</td>\n",
       "      <td>50</td>\n",
       "      <td>441</td>\n",
       "      <td>7</td>\n",
       "      <td>5</td>\n",
       "      <td>1728613</td>\n",
       "      <td>1.0</td>\n",
       "      <td>7.0</td>\n",
       "    </tr>\n",
       "    <tr>\n",
       "      <th>13</th>\n",
       "      <td>Bangladesh</td>\n",
       "      <td>32</td>\n",
       "      <td>1221</td>\n",
       "      <td>14</td>\n",
       "      <td>70</td>\n",
       "      <td>15335</td>\n",
       "      <td>3</td>\n",
       "      <td>0</td>\n",
       "      <td>0</td>\n",
       "      <td>14</td>\n",
       "      <td>...</td>\n",
       "      <td>10</td>\n",
       "      <td>0</td>\n",
       "      <td>1</td>\n",
       "      <td>1</td>\n",
       "      <td>1</td>\n",
       "      <td>0</td>\n",
       "      <td>0</td>\n",
       "      <td>29202</td>\n",
       "      <td>38.0</td>\n",
       "      <td>8.0</td>\n",
       "    </tr>\n",
       "    <tr>\n",
       "      <th>131</th>\n",
       "      <td>Nigeria</td>\n",
       "      <td>134</td>\n",
       "      <td>1212</td>\n",
       "      <td>0</td>\n",
       "      <td>51</td>\n",
       "      <td>68975</td>\n",
       "      <td>21</td>\n",
       "      <td>0</td>\n",
       "      <td>0</td>\n",
       "      <td>18</td>\n",
       "      <td>...</td>\n",
       "      <td>4</td>\n",
       "      <td>0</td>\n",
       "      <td>0</td>\n",
       "      <td>0</td>\n",
       "      <td>0</td>\n",
       "      <td>0</td>\n",
       "      <td>0</td>\n",
       "      <td>84557</td>\n",
       "      <td>12.0</td>\n",
       "      <td>9.0</td>\n",
       "    </tr>\n",
       "    <tr>\n",
       "      <th>65</th>\n",
       "      <td>Germany</td>\n",
       "      <td>193</td>\n",
       "      <td>1315</td>\n",
       "      <td>1</td>\n",
       "      <td>73</td>\n",
       "      <td>11767</td>\n",
       "      <td>4</td>\n",
       "      <td>0</td>\n",
       "      <td>0</td>\n",
       "      <td>4</td>\n",
       "      <td>...</td>\n",
       "      <td>15</td>\n",
       "      <td>0</td>\n",
       "      <td>0</td>\n",
       "      <td>0</td>\n",
       "      <td>0</td>\n",
       "      <td>0</td>\n",
       "      <td>0</td>\n",
       "      <td>56026</td>\n",
       "      <td>22.0</td>\n",
       "      <td>10.0</td>\n",
       "    </tr>\n",
       "  </tbody>\n",
       "</table>\n",
       "<p>10 rows × 80 columns</p>\n",
       "</div>"
      ],
      "text/plain": [
       "              Country   A1    A2   A3    B1   B1/B2   B2    BBBCC  BBBCV   C1  \\\n",
       "79              India  121  1460  130   533  264515  114        0      0  239   \n",
       "36   China - mainland  298   124    3  1218   68869  141        0      0  221   \n",
       "93       Korea, South  295  2675    0     6    5708    0        0      0    4   \n",
       "196           Vietnam  226   477    0    49   77659  122        0      0   91   \n",
       "87              Japan  242  4516    2   142    3237    2        0      0    5   \n",
       "23             Brazil  212  3368    6  2300  633019   32        0      0  180   \n",
       "116            Mexico  307  1760    7  3122   11547   90  1182329  62153   43   \n",
       "13         Bangladesh   32  1221   14    70   15335    3        0      0   14   \n",
       "131           Nigeria  134  1212    0    51   68975   21        0      0   18   \n",
       "65            Germany  193  1315    1    73   11767    4        0      0    4   \n",
       "\n",
       "     ...     TD     TN  U1  U2   U3  U4  U5  Grand Total  \\\n",
       "79   ...    113      0  10  25   48   0   0       764966   \n",
       "36   ...     76      0   3   3    4   0   0       161189   \n",
       "93   ...     29      0   1   0    0   0   0        59564   \n",
       "196  ...      7      0   0   0    0   0   0        96674   \n",
       "87   ...     14      0   0   0    0   0   0        58554   \n",
       "23   ...     26      0   1   0    4   0   0       695575   \n",
       "116  ...  15761  33330  97  50  441   7   5      1728613   \n",
       "13   ...     10      0   1   1    1   0   0        29202   \n",
       "131  ...      4      0   0   0    0   0   0        84557   \n",
       "65   ...     15      0   0   0    0   0   0        56026   \n",
       "\n",
       "     Total NIVs Issued Worldwide Rank  Total F1s Issued Worldwide Rank  \n",
       "79                                2.0                              1.0  \n",
       "36                                7.0                              2.0  \n",
       "93                               19.0                              3.0  \n",
       "196                              10.0                              4.0  \n",
       "87                               21.0                              5.0  \n",
       "23                                3.0                              6.0  \n",
       "116                               1.0                              7.0  \n",
       "13                               38.0                              8.0  \n",
       "131                              12.0                              9.0  \n",
       "65                               22.0                             10.0  \n",
       "\n",
       "[10 rows x 80 columns]"
      ]
     },
     "execution_count": 24,
     "metadata": {},
     "output_type": "execute_result"
    }
   ],
   "source": [
    "final_data['Total F1s Issued Worldwide Rank'] = final_data['F1'].rank(ascending=False)\n",
    "top_10_f1_worldwide = final_data.sort_values(by='Total F1s Issued Worldwide Rank')[:10]\n",
    "top_10_f1_worldwide"
   ]
  },
  {
   "cell_type": "code",
   "execution_count": 25,
   "metadata": {},
   "outputs": [
    {
     "data": {
      "text/html": [
       "<div>\n",
       "<style scoped>\n",
       "    .dataframe tbody tr th:only-of-type {\n",
       "        vertical-align: middle;\n",
       "    }\n",
       "\n",
       "    .dataframe tbody tr th {\n",
       "        vertical-align: top;\n",
       "    }\n",
       "\n",
       "    .dataframe thead th {\n",
       "        text-align: right;\n",
       "    }\n",
       "</style>\n",
       "<table border=\"1\" class=\"dataframe\">\n",
       "  <thead>\n",
       "    <tr style=\"text-align: right;\">\n",
       "      <th></th>\n",
       "      <th>Country</th>\n",
       "      <th>F1</th>\n",
       "      <th>Total F1s Issued Worldwide Rank</th>\n",
       "    </tr>\n",
       "  </thead>\n",
       "  <tbody>\n",
       "    <tr>\n",
       "      <th>79</th>\n",
       "      <td>India</td>\n",
       "      <td>115115</td>\n",
       "      <td>1.0</td>\n",
       "    </tr>\n",
       "    <tr>\n",
       "      <th>36</th>\n",
       "      <td>China - mainland</td>\n",
       "      <td>61894</td>\n",
       "      <td>2.0</td>\n",
       "    </tr>\n",
       "    <tr>\n",
       "      <th>93</th>\n",
       "      <td>Korea, South</td>\n",
       "      <td>18066</td>\n",
       "      <td>3.0</td>\n",
       "    </tr>\n",
       "    <tr>\n",
       "      <th>196</th>\n",
       "      <td>Vietnam</td>\n",
       "      <td>12330</td>\n",
       "      <td>4.0</td>\n",
       "    </tr>\n",
       "    <tr>\n",
       "      <th>87</th>\n",
       "      <td>Japan</td>\n",
       "      <td>11460</td>\n",
       "      <td>5.0</td>\n",
       "    </tr>\n",
       "    <tr>\n",
       "      <th>23</th>\n",
       "      <td>Brazil</td>\n",
       "      <td>9806</td>\n",
       "      <td>6.0</td>\n",
       "    </tr>\n",
       "    <tr>\n",
       "      <th>116</th>\n",
       "      <td>Mexico</td>\n",
       "      <td>7766</td>\n",
       "      <td>7.0</td>\n",
       "    </tr>\n",
       "    <tr>\n",
       "      <th>13</th>\n",
       "      <td>Bangladesh</td>\n",
       "      <td>7754</td>\n",
       "      <td>8.0</td>\n",
       "    </tr>\n",
       "    <tr>\n",
       "      <th>131</th>\n",
       "      <td>Nigeria</td>\n",
       "      <td>7547</td>\n",
       "      <td>9.0</td>\n",
       "    </tr>\n",
       "    <tr>\n",
       "      <th>65</th>\n",
       "      <td>Germany</td>\n",
       "      <td>7248</td>\n",
       "      <td>10.0</td>\n",
       "    </tr>\n",
       "  </tbody>\n",
       "</table>\n",
       "</div>"
      ],
      "text/plain": [
       "              Country      F1  Total F1s Issued Worldwide Rank\n",
       "79              India  115115                              1.0\n",
       "36   China - mainland   61894                              2.0\n",
       "93       Korea, South   18066                              3.0\n",
       "196           Vietnam   12330                              4.0\n",
       "87              Japan   11460                              5.0\n",
       "23             Brazil    9806                              6.0\n",
       "116            Mexico    7766                              7.0\n",
       "13         Bangladesh    7754                              8.0\n",
       "131           Nigeria    7547                              9.0\n",
       "65            Germany    7248                             10.0"
      ]
     },
     "execution_count": 25,
     "metadata": {},
     "output_type": "execute_result"
    }
   ],
   "source": [
    "top_10_f1_worldwide[['Country', 'F1', 'Total F1s Issued Worldwide Rank']]"
   ]
  },
  {
   "cell_type": "code",
   "execution_count": 26,
   "metadata": {},
   "outputs": [
    {
     "data": {
      "application/vnd.plotly.v1+json": {
       "config": {
        "plotlyServerURL": "https://plot.ly"
       },
       "data": [
        {
         "type": "bar",
         "x": [
          "India",
          "China - mainland",
          "Korea, South",
          "Vietnam",
          "Japan",
          "Brazil",
          "Mexico",
          "Bangladesh",
          "Nigeria",
          "Germany"
         ],
         "y": [
          115115,
          61894,
          18066,
          12330,
          11460,
          9806,
          7766,
          7754,
          7547,
          7248
         ]
        }
       ],
       "layout": {
        "template": {
         "data": {
          "bar": [
           {
            "error_x": {
             "color": "#2a3f5f"
            },
            "error_y": {
             "color": "#2a3f5f"
            },
            "marker": {
             "line": {
              "color": "#E5ECF6",
              "width": 0.5
             },
             "pattern": {
              "fillmode": "overlay",
              "size": 10,
              "solidity": 0.2
             }
            },
            "type": "bar"
           }
          ],
          "barpolar": [
           {
            "marker": {
             "line": {
              "color": "#E5ECF6",
              "width": 0.5
             },
             "pattern": {
              "fillmode": "overlay",
              "size": 10,
              "solidity": 0.2
             }
            },
            "type": "barpolar"
           }
          ],
          "carpet": [
           {
            "aaxis": {
             "endlinecolor": "#2a3f5f",
             "gridcolor": "white",
             "linecolor": "white",
             "minorgridcolor": "white",
             "startlinecolor": "#2a3f5f"
            },
            "baxis": {
             "endlinecolor": "#2a3f5f",
             "gridcolor": "white",
             "linecolor": "white",
             "minorgridcolor": "white",
             "startlinecolor": "#2a3f5f"
            },
            "type": "carpet"
           }
          ],
          "choropleth": [
           {
            "colorbar": {
             "outlinewidth": 0,
             "ticks": ""
            },
            "type": "choropleth"
           }
          ],
          "contour": [
           {
            "colorbar": {
             "outlinewidth": 0,
             "ticks": ""
            },
            "colorscale": [
             [
              0,
              "#0d0887"
             ],
             [
              0.1111111111111111,
              "#46039f"
             ],
             [
              0.2222222222222222,
              "#7201a8"
             ],
             [
              0.3333333333333333,
              "#9c179e"
             ],
             [
              0.4444444444444444,
              "#bd3786"
             ],
             [
              0.5555555555555556,
              "#d8576b"
             ],
             [
              0.6666666666666666,
              "#ed7953"
             ],
             [
              0.7777777777777778,
              "#fb9f3a"
             ],
             [
              0.8888888888888888,
              "#fdca26"
             ],
             [
              1,
              "#f0f921"
             ]
            ],
            "type": "contour"
           }
          ],
          "contourcarpet": [
           {
            "colorbar": {
             "outlinewidth": 0,
             "ticks": ""
            },
            "type": "contourcarpet"
           }
          ],
          "heatmap": [
           {
            "colorbar": {
             "outlinewidth": 0,
             "ticks": ""
            },
            "colorscale": [
             [
              0,
              "#0d0887"
             ],
             [
              0.1111111111111111,
              "#46039f"
             ],
             [
              0.2222222222222222,
              "#7201a8"
             ],
             [
              0.3333333333333333,
              "#9c179e"
             ],
             [
              0.4444444444444444,
              "#bd3786"
             ],
             [
              0.5555555555555556,
              "#d8576b"
             ],
             [
              0.6666666666666666,
              "#ed7953"
             ],
             [
              0.7777777777777778,
              "#fb9f3a"
             ],
             [
              0.8888888888888888,
              "#fdca26"
             ],
             [
              1,
              "#f0f921"
             ]
            ],
            "type": "heatmap"
           }
          ],
          "heatmapgl": [
           {
            "colorbar": {
             "outlinewidth": 0,
             "ticks": ""
            },
            "colorscale": [
             [
              0,
              "#0d0887"
             ],
             [
              0.1111111111111111,
              "#46039f"
             ],
             [
              0.2222222222222222,
              "#7201a8"
             ],
             [
              0.3333333333333333,
              "#9c179e"
             ],
             [
              0.4444444444444444,
              "#bd3786"
             ],
             [
              0.5555555555555556,
              "#d8576b"
             ],
             [
              0.6666666666666666,
              "#ed7953"
             ],
             [
              0.7777777777777778,
              "#fb9f3a"
             ],
             [
              0.8888888888888888,
              "#fdca26"
             ],
             [
              1,
              "#f0f921"
             ]
            ],
            "type": "heatmapgl"
           }
          ],
          "histogram": [
           {
            "marker": {
             "pattern": {
              "fillmode": "overlay",
              "size": 10,
              "solidity": 0.2
             }
            },
            "type": "histogram"
           }
          ],
          "histogram2d": [
           {
            "colorbar": {
             "outlinewidth": 0,
             "ticks": ""
            },
            "colorscale": [
             [
              0,
              "#0d0887"
             ],
             [
              0.1111111111111111,
              "#46039f"
             ],
             [
              0.2222222222222222,
              "#7201a8"
             ],
             [
              0.3333333333333333,
              "#9c179e"
             ],
             [
              0.4444444444444444,
              "#bd3786"
             ],
             [
              0.5555555555555556,
              "#d8576b"
             ],
             [
              0.6666666666666666,
              "#ed7953"
             ],
             [
              0.7777777777777778,
              "#fb9f3a"
             ],
             [
              0.8888888888888888,
              "#fdca26"
             ],
             [
              1,
              "#f0f921"
             ]
            ],
            "type": "histogram2d"
           }
          ],
          "histogram2dcontour": [
           {
            "colorbar": {
             "outlinewidth": 0,
             "ticks": ""
            },
            "colorscale": [
             [
              0,
              "#0d0887"
             ],
             [
              0.1111111111111111,
              "#46039f"
             ],
             [
              0.2222222222222222,
              "#7201a8"
             ],
             [
              0.3333333333333333,
              "#9c179e"
             ],
             [
              0.4444444444444444,
              "#bd3786"
             ],
             [
              0.5555555555555556,
              "#d8576b"
             ],
             [
              0.6666666666666666,
              "#ed7953"
             ],
             [
              0.7777777777777778,
              "#fb9f3a"
             ],
             [
              0.8888888888888888,
              "#fdca26"
             ],
             [
              1,
              "#f0f921"
             ]
            ],
            "type": "histogram2dcontour"
           }
          ],
          "mesh3d": [
           {
            "colorbar": {
             "outlinewidth": 0,
             "ticks": ""
            },
            "type": "mesh3d"
           }
          ],
          "parcoords": [
           {
            "line": {
             "colorbar": {
              "outlinewidth": 0,
              "ticks": ""
             }
            },
            "type": "parcoords"
           }
          ],
          "pie": [
           {
            "automargin": true,
            "type": "pie"
           }
          ],
          "scatter": [
           {
            "fillpattern": {
             "fillmode": "overlay",
             "size": 10,
             "solidity": 0.2
            },
            "type": "scatter"
           }
          ],
          "scatter3d": [
           {
            "line": {
             "colorbar": {
              "outlinewidth": 0,
              "ticks": ""
             }
            },
            "marker": {
             "colorbar": {
              "outlinewidth": 0,
              "ticks": ""
             }
            },
            "type": "scatter3d"
           }
          ],
          "scattercarpet": [
           {
            "marker": {
             "colorbar": {
              "outlinewidth": 0,
              "ticks": ""
             }
            },
            "type": "scattercarpet"
           }
          ],
          "scattergeo": [
           {
            "marker": {
             "colorbar": {
              "outlinewidth": 0,
              "ticks": ""
             }
            },
            "type": "scattergeo"
           }
          ],
          "scattergl": [
           {
            "marker": {
             "colorbar": {
              "outlinewidth": 0,
              "ticks": ""
             }
            },
            "type": "scattergl"
           }
          ],
          "scattermapbox": [
           {
            "marker": {
             "colorbar": {
              "outlinewidth": 0,
              "ticks": ""
             }
            },
            "type": "scattermapbox"
           }
          ],
          "scatterpolar": [
           {
            "marker": {
             "colorbar": {
              "outlinewidth": 0,
              "ticks": ""
             }
            },
            "type": "scatterpolar"
           }
          ],
          "scatterpolargl": [
           {
            "marker": {
             "colorbar": {
              "outlinewidth": 0,
              "ticks": ""
             }
            },
            "type": "scatterpolargl"
           }
          ],
          "scatterternary": [
           {
            "marker": {
             "colorbar": {
              "outlinewidth": 0,
              "ticks": ""
             }
            },
            "type": "scatterternary"
           }
          ],
          "surface": [
           {
            "colorbar": {
             "outlinewidth": 0,
             "ticks": ""
            },
            "colorscale": [
             [
              0,
              "#0d0887"
             ],
             [
              0.1111111111111111,
              "#46039f"
             ],
             [
              0.2222222222222222,
              "#7201a8"
             ],
             [
              0.3333333333333333,
              "#9c179e"
             ],
             [
              0.4444444444444444,
              "#bd3786"
             ],
             [
              0.5555555555555556,
              "#d8576b"
             ],
             [
              0.6666666666666666,
              "#ed7953"
             ],
             [
              0.7777777777777778,
              "#fb9f3a"
             ],
             [
              0.8888888888888888,
              "#fdca26"
             ],
             [
              1,
              "#f0f921"
             ]
            ],
            "type": "surface"
           }
          ],
          "table": [
           {
            "cells": {
             "fill": {
              "color": "#EBF0F8"
             },
             "line": {
              "color": "white"
             }
            },
            "header": {
             "fill": {
              "color": "#C8D4E3"
             },
             "line": {
              "color": "white"
             }
            },
            "type": "table"
           }
          ]
         },
         "layout": {
          "annotationdefaults": {
           "arrowcolor": "#2a3f5f",
           "arrowhead": 0,
           "arrowwidth": 1
          },
          "autotypenumbers": "strict",
          "coloraxis": {
           "colorbar": {
            "outlinewidth": 0,
            "ticks": ""
           }
          },
          "colorscale": {
           "diverging": [
            [
             0,
             "#8e0152"
            ],
            [
             0.1,
             "#c51b7d"
            ],
            [
             0.2,
             "#de77ae"
            ],
            [
             0.3,
             "#f1b6da"
            ],
            [
             0.4,
             "#fde0ef"
            ],
            [
             0.5,
             "#f7f7f7"
            ],
            [
             0.6,
             "#e6f5d0"
            ],
            [
             0.7,
             "#b8e186"
            ],
            [
             0.8,
             "#7fbc41"
            ],
            [
             0.9,
             "#4d9221"
            ],
            [
             1,
             "#276419"
            ]
           ],
           "sequential": [
            [
             0,
             "#0d0887"
            ],
            [
             0.1111111111111111,
             "#46039f"
            ],
            [
             0.2222222222222222,
             "#7201a8"
            ],
            [
             0.3333333333333333,
             "#9c179e"
            ],
            [
             0.4444444444444444,
             "#bd3786"
            ],
            [
             0.5555555555555556,
             "#d8576b"
            ],
            [
             0.6666666666666666,
             "#ed7953"
            ],
            [
             0.7777777777777778,
             "#fb9f3a"
            ],
            [
             0.8888888888888888,
             "#fdca26"
            ],
            [
             1,
             "#f0f921"
            ]
           ],
           "sequentialminus": [
            [
             0,
             "#0d0887"
            ],
            [
             0.1111111111111111,
             "#46039f"
            ],
            [
             0.2222222222222222,
             "#7201a8"
            ],
            [
             0.3333333333333333,
             "#9c179e"
            ],
            [
             0.4444444444444444,
             "#bd3786"
            ],
            [
             0.5555555555555556,
             "#d8576b"
            ],
            [
             0.6666666666666666,
             "#ed7953"
            ],
            [
             0.7777777777777778,
             "#fb9f3a"
            ],
            [
             0.8888888888888888,
             "#fdca26"
            ],
            [
             1,
             "#f0f921"
            ]
           ]
          },
          "colorway": [
           "#636efa",
           "#EF553B",
           "#00cc96",
           "#ab63fa",
           "#FFA15A",
           "#19d3f3",
           "#FF6692",
           "#B6E880",
           "#FF97FF",
           "#FECB52"
          ],
          "font": {
           "color": "#2a3f5f"
          },
          "geo": {
           "bgcolor": "white",
           "lakecolor": "white",
           "landcolor": "#E5ECF6",
           "showlakes": true,
           "showland": true,
           "subunitcolor": "white"
          },
          "hoverlabel": {
           "align": "left"
          },
          "hovermode": "closest",
          "mapbox": {
           "style": "light"
          },
          "paper_bgcolor": "white",
          "plot_bgcolor": "#E5ECF6",
          "polar": {
           "angularaxis": {
            "gridcolor": "white",
            "linecolor": "white",
            "ticks": ""
           },
           "bgcolor": "#E5ECF6",
           "radialaxis": {
            "gridcolor": "white",
            "linecolor": "white",
            "ticks": ""
           }
          },
          "scene": {
           "xaxis": {
            "backgroundcolor": "#E5ECF6",
            "gridcolor": "white",
            "gridwidth": 2,
            "linecolor": "white",
            "showbackground": true,
            "ticks": "",
            "zerolinecolor": "white"
           },
           "yaxis": {
            "backgroundcolor": "#E5ECF6",
            "gridcolor": "white",
            "gridwidth": 2,
            "linecolor": "white",
            "showbackground": true,
            "ticks": "",
            "zerolinecolor": "white"
           },
           "zaxis": {
            "backgroundcolor": "#E5ECF6",
            "gridcolor": "white",
            "gridwidth": 2,
            "linecolor": "white",
            "showbackground": true,
            "ticks": "",
            "zerolinecolor": "white"
           }
          },
          "shapedefaults": {
           "line": {
            "color": "#2a3f5f"
           }
          },
          "ternary": {
           "aaxis": {
            "gridcolor": "white",
            "linecolor": "white",
            "ticks": ""
           },
           "baxis": {
            "gridcolor": "white",
            "linecolor": "white",
            "ticks": ""
           },
           "bgcolor": "#E5ECF6",
           "caxis": {
            "gridcolor": "white",
            "linecolor": "white",
            "ticks": ""
           }
          },
          "title": {
           "x": 0.05
          },
          "xaxis": {
           "automargin": true,
           "gridcolor": "white",
           "linecolor": "white",
           "ticks": "",
           "title": {
            "standoff": 15
           },
           "zerolinecolor": "white",
           "zerolinewidth": 2
          },
          "yaxis": {
           "automargin": true,
           "gridcolor": "white",
           "linecolor": "white",
           "ticks": "",
           "title": {
            "standoff": 15
           },
           "zerolinecolor": "white",
           "zerolinewidth": 2
          }
         }
        },
        "title": {
         "text": "Countries with most F-1 visas issued worldwide in Fiscal Year 2022"
        },
        "xaxis": {
         "title": {
          "text": "Country"
         }
        },
        "yaxis": {
         "title": {
          "text": "Number of visas issued"
         }
        }
       }
      }
     },
     "metadata": {},
     "output_type": "display_data"
    }
   ],
   "source": [
    "fig = go.Figure()\n",
    "fig.add_bar(x=top_10_f1_worldwide['Country'], y=top_10_f1_worldwide['F1'])\n",
    "fig.layout.title = 'Countries with most F-1 visas issued worldwide in Fiscal Year 2022' # type: ignore\n",
    "fig.layout.xaxis.title = 'Country' # type: ignore\n",
    "fig.layout.yaxis.title = 'Number of visas issued' # type: ignore\n",
    "fig.show()"
   ]
  },
  {
   "cell_type": "code",
   "execution_count": 27,
   "metadata": {},
   "outputs": [
    {
     "data": {
      "application/vnd.plotly.v1+json": {
       "config": {
        "plotlyServerURL": "https://plot.ly"
       },
       "data": [
        {
         "alignmentgroup": "True",
         "hovertemplate": "F1=%{x}<br>Country=%{y}<extra></extra>",
         "legendgroup": "",
         "marker": {
          "color": "#636efa",
          "pattern": {
           "shape": ""
          }
         },
         "name": "",
         "offsetgroup": "",
         "orientation": "h",
         "showlegend": false,
         "textposition": "auto",
         "type": "bar",
         "x": [
          115115,
          61894,
          18066,
          12330,
          11460,
          9806,
          7766,
          7754,
          7547,
          7248,
          7038,
          7025,
          6913,
          6175,
          5957,
          5518,
          4862,
          4839,
          3567,
          3540
         ],
         "xaxis": "x",
         "y": [
          "India",
          "China - mainland",
          "Korea, South",
          "Vietnam",
          "Japan",
          "Brazil",
          "Mexico",
          "Bangladesh",
          "Nigeria",
          "Germany",
          "Colombia",
          "France",
          "Taiwan",
          "Nepal",
          "Italy",
          "Spain",
          "Great Britain and Northern Ireland",
          "Saudi Arabia",
          "Iran",
          "Pakistan"
         ],
         "yaxis": "y"
        }
       ],
       "layout": {
        "barmode": "relative",
        "height": 750,
        "legend": {
         "tracegroupgap": 0
        },
        "template": {
         "data": {
          "bar": [
           {
            "error_x": {
             "color": "#2a3f5f"
            },
            "error_y": {
             "color": "#2a3f5f"
            },
            "marker": {
             "line": {
              "color": "#E5ECF6",
              "width": 0.5
             },
             "pattern": {
              "fillmode": "overlay",
              "size": 10,
              "solidity": 0.2
             }
            },
            "type": "bar"
           }
          ],
          "barpolar": [
           {
            "marker": {
             "line": {
              "color": "#E5ECF6",
              "width": 0.5
             },
             "pattern": {
              "fillmode": "overlay",
              "size": 10,
              "solidity": 0.2
             }
            },
            "type": "barpolar"
           }
          ],
          "carpet": [
           {
            "aaxis": {
             "endlinecolor": "#2a3f5f",
             "gridcolor": "white",
             "linecolor": "white",
             "minorgridcolor": "white",
             "startlinecolor": "#2a3f5f"
            },
            "baxis": {
             "endlinecolor": "#2a3f5f",
             "gridcolor": "white",
             "linecolor": "white",
             "minorgridcolor": "white",
             "startlinecolor": "#2a3f5f"
            },
            "type": "carpet"
           }
          ],
          "choropleth": [
           {
            "colorbar": {
             "outlinewidth": 0,
             "ticks": ""
            },
            "type": "choropleth"
           }
          ],
          "contour": [
           {
            "colorbar": {
             "outlinewidth": 0,
             "ticks": ""
            },
            "colorscale": [
             [
              0,
              "#0d0887"
             ],
             [
              0.1111111111111111,
              "#46039f"
             ],
             [
              0.2222222222222222,
              "#7201a8"
             ],
             [
              0.3333333333333333,
              "#9c179e"
             ],
             [
              0.4444444444444444,
              "#bd3786"
             ],
             [
              0.5555555555555556,
              "#d8576b"
             ],
             [
              0.6666666666666666,
              "#ed7953"
             ],
             [
              0.7777777777777778,
              "#fb9f3a"
             ],
             [
              0.8888888888888888,
              "#fdca26"
             ],
             [
              1,
              "#f0f921"
             ]
            ],
            "type": "contour"
           }
          ],
          "contourcarpet": [
           {
            "colorbar": {
             "outlinewidth": 0,
             "ticks": ""
            },
            "type": "contourcarpet"
           }
          ],
          "heatmap": [
           {
            "colorbar": {
             "outlinewidth": 0,
             "ticks": ""
            },
            "colorscale": [
             [
              0,
              "#0d0887"
             ],
             [
              0.1111111111111111,
              "#46039f"
             ],
             [
              0.2222222222222222,
              "#7201a8"
             ],
             [
              0.3333333333333333,
              "#9c179e"
             ],
             [
              0.4444444444444444,
              "#bd3786"
             ],
             [
              0.5555555555555556,
              "#d8576b"
             ],
             [
              0.6666666666666666,
              "#ed7953"
             ],
             [
              0.7777777777777778,
              "#fb9f3a"
             ],
             [
              0.8888888888888888,
              "#fdca26"
             ],
             [
              1,
              "#f0f921"
             ]
            ],
            "type": "heatmap"
           }
          ],
          "heatmapgl": [
           {
            "colorbar": {
             "outlinewidth": 0,
             "ticks": ""
            },
            "colorscale": [
             [
              0,
              "#0d0887"
             ],
             [
              0.1111111111111111,
              "#46039f"
             ],
             [
              0.2222222222222222,
              "#7201a8"
             ],
             [
              0.3333333333333333,
              "#9c179e"
             ],
             [
              0.4444444444444444,
              "#bd3786"
             ],
             [
              0.5555555555555556,
              "#d8576b"
             ],
             [
              0.6666666666666666,
              "#ed7953"
             ],
             [
              0.7777777777777778,
              "#fb9f3a"
             ],
             [
              0.8888888888888888,
              "#fdca26"
             ],
             [
              1,
              "#f0f921"
             ]
            ],
            "type": "heatmapgl"
           }
          ],
          "histogram": [
           {
            "marker": {
             "pattern": {
              "fillmode": "overlay",
              "size": 10,
              "solidity": 0.2
             }
            },
            "type": "histogram"
           }
          ],
          "histogram2d": [
           {
            "colorbar": {
             "outlinewidth": 0,
             "ticks": ""
            },
            "colorscale": [
             [
              0,
              "#0d0887"
             ],
             [
              0.1111111111111111,
              "#46039f"
             ],
             [
              0.2222222222222222,
              "#7201a8"
             ],
             [
              0.3333333333333333,
              "#9c179e"
             ],
             [
              0.4444444444444444,
              "#bd3786"
             ],
             [
              0.5555555555555556,
              "#d8576b"
             ],
             [
              0.6666666666666666,
              "#ed7953"
             ],
             [
              0.7777777777777778,
              "#fb9f3a"
             ],
             [
              0.8888888888888888,
              "#fdca26"
             ],
             [
              1,
              "#f0f921"
             ]
            ],
            "type": "histogram2d"
           }
          ],
          "histogram2dcontour": [
           {
            "colorbar": {
             "outlinewidth": 0,
             "ticks": ""
            },
            "colorscale": [
             [
              0,
              "#0d0887"
             ],
             [
              0.1111111111111111,
              "#46039f"
             ],
             [
              0.2222222222222222,
              "#7201a8"
             ],
             [
              0.3333333333333333,
              "#9c179e"
             ],
             [
              0.4444444444444444,
              "#bd3786"
             ],
             [
              0.5555555555555556,
              "#d8576b"
             ],
             [
              0.6666666666666666,
              "#ed7953"
             ],
             [
              0.7777777777777778,
              "#fb9f3a"
             ],
             [
              0.8888888888888888,
              "#fdca26"
             ],
             [
              1,
              "#f0f921"
             ]
            ],
            "type": "histogram2dcontour"
           }
          ],
          "mesh3d": [
           {
            "colorbar": {
             "outlinewidth": 0,
             "ticks": ""
            },
            "type": "mesh3d"
           }
          ],
          "parcoords": [
           {
            "line": {
             "colorbar": {
              "outlinewidth": 0,
              "ticks": ""
             }
            },
            "type": "parcoords"
           }
          ],
          "pie": [
           {
            "automargin": true,
            "type": "pie"
           }
          ],
          "scatter": [
           {
            "fillpattern": {
             "fillmode": "overlay",
             "size": 10,
             "solidity": 0.2
            },
            "type": "scatter"
           }
          ],
          "scatter3d": [
           {
            "line": {
             "colorbar": {
              "outlinewidth": 0,
              "ticks": ""
             }
            },
            "marker": {
             "colorbar": {
              "outlinewidth": 0,
              "ticks": ""
             }
            },
            "type": "scatter3d"
           }
          ],
          "scattercarpet": [
           {
            "marker": {
             "colorbar": {
              "outlinewidth": 0,
              "ticks": ""
             }
            },
            "type": "scattercarpet"
           }
          ],
          "scattergeo": [
           {
            "marker": {
             "colorbar": {
              "outlinewidth": 0,
              "ticks": ""
             }
            },
            "type": "scattergeo"
           }
          ],
          "scattergl": [
           {
            "marker": {
             "colorbar": {
              "outlinewidth": 0,
              "ticks": ""
             }
            },
            "type": "scattergl"
           }
          ],
          "scattermapbox": [
           {
            "marker": {
             "colorbar": {
              "outlinewidth": 0,
              "ticks": ""
             }
            },
            "type": "scattermapbox"
           }
          ],
          "scatterpolar": [
           {
            "marker": {
             "colorbar": {
              "outlinewidth": 0,
              "ticks": ""
             }
            },
            "type": "scatterpolar"
           }
          ],
          "scatterpolargl": [
           {
            "marker": {
             "colorbar": {
              "outlinewidth": 0,
              "ticks": ""
             }
            },
            "type": "scatterpolargl"
           }
          ],
          "scatterternary": [
           {
            "marker": {
             "colorbar": {
              "outlinewidth": 0,
              "ticks": ""
             }
            },
            "type": "scatterternary"
           }
          ],
          "surface": [
           {
            "colorbar": {
             "outlinewidth": 0,
             "ticks": ""
            },
            "colorscale": [
             [
              0,
              "#0d0887"
             ],
             [
              0.1111111111111111,
              "#46039f"
             ],
             [
              0.2222222222222222,
              "#7201a8"
             ],
             [
              0.3333333333333333,
              "#9c179e"
             ],
             [
              0.4444444444444444,
              "#bd3786"
             ],
             [
              0.5555555555555556,
              "#d8576b"
             ],
             [
              0.6666666666666666,
              "#ed7953"
             ],
             [
              0.7777777777777778,
              "#fb9f3a"
             ],
             [
              0.8888888888888888,
              "#fdca26"
             ],
             [
              1,
              "#f0f921"
             ]
            ],
            "type": "surface"
           }
          ],
          "table": [
           {
            "cells": {
             "fill": {
              "color": "#EBF0F8"
             },
             "line": {
              "color": "white"
             }
            },
            "header": {
             "fill": {
              "color": "#C8D4E3"
             },
             "line": {
              "color": "white"
             }
            },
            "type": "table"
           }
          ]
         },
         "layout": {
          "annotationdefaults": {
           "arrowcolor": "#2a3f5f",
           "arrowhead": 0,
           "arrowwidth": 1
          },
          "autotypenumbers": "strict",
          "coloraxis": {
           "colorbar": {
            "outlinewidth": 0,
            "ticks": ""
           }
          },
          "colorscale": {
           "diverging": [
            [
             0,
             "#8e0152"
            ],
            [
             0.1,
             "#c51b7d"
            ],
            [
             0.2,
             "#de77ae"
            ],
            [
             0.3,
             "#f1b6da"
            ],
            [
             0.4,
             "#fde0ef"
            ],
            [
             0.5,
             "#f7f7f7"
            ],
            [
             0.6,
             "#e6f5d0"
            ],
            [
             0.7,
             "#b8e186"
            ],
            [
             0.8,
             "#7fbc41"
            ],
            [
             0.9,
             "#4d9221"
            ],
            [
             1,
             "#276419"
            ]
           ],
           "sequential": [
            [
             0,
             "#0d0887"
            ],
            [
             0.1111111111111111,
             "#46039f"
            ],
            [
             0.2222222222222222,
             "#7201a8"
            ],
            [
             0.3333333333333333,
             "#9c179e"
            ],
            [
             0.4444444444444444,
             "#bd3786"
            ],
            [
             0.5555555555555556,
             "#d8576b"
            ],
            [
             0.6666666666666666,
             "#ed7953"
            ],
            [
             0.7777777777777778,
             "#fb9f3a"
            ],
            [
             0.8888888888888888,
             "#fdca26"
            ],
            [
             1,
             "#f0f921"
            ]
           ],
           "sequentialminus": [
            [
             0,
             "#0d0887"
            ],
            [
             0.1111111111111111,
             "#46039f"
            ],
            [
             0.2222222222222222,
             "#7201a8"
            ],
            [
             0.3333333333333333,
             "#9c179e"
            ],
            [
             0.4444444444444444,
             "#bd3786"
            ],
            [
             0.5555555555555556,
             "#d8576b"
            ],
            [
             0.6666666666666666,
             "#ed7953"
            ],
            [
             0.7777777777777778,
             "#fb9f3a"
            ],
            [
             0.8888888888888888,
             "#fdca26"
            ],
            [
             1,
             "#f0f921"
            ]
           ]
          },
          "colorway": [
           "#636efa",
           "#EF553B",
           "#00cc96",
           "#ab63fa",
           "#FFA15A",
           "#19d3f3",
           "#FF6692",
           "#B6E880",
           "#FF97FF",
           "#FECB52"
          ],
          "font": {
           "color": "#2a3f5f"
          },
          "geo": {
           "bgcolor": "white",
           "lakecolor": "white",
           "landcolor": "#E5ECF6",
           "showlakes": true,
           "showland": true,
           "subunitcolor": "white"
          },
          "hoverlabel": {
           "align": "left"
          },
          "hovermode": "closest",
          "mapbox": {
           "style": "light"
          },
          "paper_bgcolor": "white",
          "plot_bgcolor": "#E5ECF6",
          "polar": {
           "angularaxis": {
            "gridcolor": "white",
            "linecolor": "white",
            "ticks": ""
           },
           "bgcolor": "#E5ECF6",
           "radialaxis": {
            "gridcolor": "white",
            "linecolor": "white",
            "ticks": ""
           }
          },
          "scene": {
           "xaxis": {
            "backgroundcolor": "#E5ECF6",
            "gridcolor": "white",
            "gridwidth": 2,
            "linecolor": "white",
            "showbackground": true,
            "ticks": "",
            "zerolinecolor": "white"
           },
           "yaxis": {
            "backgroundcolor": "#E5ECF6",
            "gridcolor": "white",
            "gridwidth": 2,
            "linecolor": "white",
            "showbackground": true,
            "ticks": "",
            "zerolinecolor": "white"
           },
           "zaxis": {
            "backgroundcolor": "#E5ECF6",
            "gridcolor": "white",
            "gridwidth": 2,
            "linecolor": "white",
            "showbackground": true,
            "ticks": "",
            "zerolinecolor": "white"
           }
          },
          "shapedefaults": {
           "line": {
            "color": "#2a3f5f"
           }
          },
          "ternary": {
           "aaxis": {
            "gridcolor": "white",
            "linecolor": "white",
            "ticks": ""
           },
           "baxis": {
            "gridcolor": "white",
            "linecolor": "white",
            "ticks": ""
           },
           "bgcolor": "#E5ECF6",
           "caxis": {
            "gridcolor": "white",
            "linecolor": "white",
            "ticks": ""
           }
          },
          "title": {
           "x": 0.05
          },
          "xaxis": {
           "automargin": true,
           "gridcolor": "white",
           "linecolor": "white",
           "ticks": "",
           "title": {
            "standoff": 15
           },
           "zerolinecolor": "white",
           "zerolinewidth": 2
          },
          "yaxis": {
           "automargin": true,
           "gridcolor": "white",
           "linecolor": "white",
           "ticks": "",
           "title": {
            "standoff": 15
           },
           "zerolinecolor": "white",
           "zerolinewidth": 2
          }
         }
        },
        "title": {
         "text": "Top 20 Countries by F-1 visas issued (Fiscal Year 2022)"
        },
        "xaxis": {
         "anchor": "y",
         "domain": [
          0,
          1
         ],
         "title": {
          "text": "F1"
         }
        },
        "yaxis": {
         "anchor": "x",
         "domain": [
          0,
          1
         ],
         "title": {
          "text": "Country"
         }
        }
       }
      }
     },
     "metadata": {},
     "output_type": "display_data"
    }
   ],
   "source": [
    "top_50_f1 = final_data.sort_values(by='Total F1s Issued Worldwide Rank')[:20]\n",
    "px.bar(data_frame=top_50_f1,\n",
    "       x='F1',\n",
    "       y='Country',\n",
    "       orientation='h',\n",
    "       title='Top 20 Countries by F-1 visas issued (Fiscal Year 2022)',\n",
    "       height=750)"
   ]
  },
  {
   "cell_type": "code",
   "execution_count": 28,
   "metadata": {},
   "outputs": [
    {
     "data": {
      "application/vnd.plotly.v1+json": {
       "config": {
        "plotlyServerURL": "https://plot.ly"
       },
       "data": [
        {
         "alignmentgroup": "True",
         "hovertemplate": "F1=%{text}<br>Country=%{y}<extra></extra>",
         "legendgroup": "",
         "marker": {
          "color": "blue",
          "pattern": {
           "shape": ""
          }
         },
         "name": "",
         "offsetgroup": "",
         "orientation": "h",
         "showlegend": false,
         "text": [
          115115,
          61894,
          18066,
          12330,
          11460,
          9806,
          7766,
          7754,
          7547,
          7248,
          7038,
          7025,
          6913,
          6175,
          5957,
          5518,
          4862,
          4839,
          3567,
          3540
         ],
         "textposition": "outside",
         "type": "bar",
         "x": [
          115115,
          61894,
          18066,
          12330,
          11460,
          9806,
          7766,
          7754,
          7547,
          7248,
          7038,
          7025,
          6913,
          6175,
          5957,
          5518,
          4862,
          4839,
          3567,
          3540
         ],
         "xaxis": "x",
         "y": [
          "India",
          "China - mainland",
          "Korea, South",
          "Vietnam",
          "Japan",
          "Brazil",
          "Mexico",
          "Bangladesh",
          "Nigeria",
          "Germany",
          "Colombia",
          "France",
          "Taiwan",
          "Nepal",
          "Italy",
          "Spain",
          "Great Britain and Northern Ireland",
          "Saudi Arabia",
          "Iran",
          "Pakistan"
         ],
         "yaxis": "y"
        }
       ],
       "layout": {
        "barmode": "relative",
        "height": 750,
        "legend": {
         "tracegroupgap": 0
        },
        "template": {
         "data": {
          "bar": [
           {
            "error_x": {
             "color": "#2a3f5f"
            },
            "error_y": {
             "color": "#2a3f5f"
            },
            "marker": {
             "line": {
              "color": "#E5ECF6",
              "width": 0.5
             },
             "pattern": {
              "fillmode": "overlay",
              "size": 10,
              "solidity": 0.2
             }
            },
            "type": "bar"
           }
          ],
          "barpolar": [
           {
            "marker": {
             "line": {
              "color": "#E5ECF6",
              "width": 0.5
             },
             "pattern": {
              "fillmode": "overlay",
              "size": 10,
              "solidity": 0.2
             }
            },
            "type": "barpolar"
           }
          ],
          "carpet": [
           {
            "aaxis": {
             "endlinecolor": "#2a3f5f",
             "gridcolor": "white",
             "linecolor": "white",
             "minorgridcolor": "white",
             "startlinecolor": "#2a3f5f"
            },
            "baxis": {
             "endlinecolor": "#2a3f5f",
             "gridcolor": "white",
             "linecolor": "white",
             "minorgridcolor": "white",
             "startlinecolor": "#2a3f5f"
            },
            "type": "carpet"
           }
          ],
          "choropleth": [
           {
            "colorbar": {
             "outlinewidth": 0,
             "ticks": ""
            },
            "type": "choropleth"
           }
          ],
          "contour": [
           {
            "colorbar": {
             "outlinewidth": 0,
             "ticks": ""
            },
            "colorscale": [
             [
              0,
              "#0d0887"
             ],
             [
              0.1111111111111111,
              "#46039f"
             ],
             [
              0.2222222222222222,
              "#7201a8"
             ],
             [
              0.3333333333333333,
              "#9c179e"
             ],
             [
              0.4444444444444444,
              "#bd3786"
             ],
             [
              0.5555555555555556,
              "#d8576b"
             ],
             [
              0.6666666666666666,
              "#ed7953"
             ],
             [
              0.7777777777777778,
              "#fb9f3a"
             ],
             [
              0.8888888888888888,
              "#fdca26"
             ],
             [
              1,
              "#f0f921"
             ]
            ],
            "type": "contour"
           }
          ],
          "contourcarpet": [
           {
            "colorbar": {
             "outlinewidth": 0,
             "ticks": ""
            },
            "type": "contourcarpet"
           }
          ],
          "heatmap": [
           {
            "colorbar": {
             "outlinewidth": 0,
             "ticks": ""
            },
            "colorscale": [
             [
              0,
              "#0d0887"
             ],
             [
              0.1111111111111111,
              "#46039f"
             ],
             [
              0.2222222222222222,
              "#7201a8"
             ],
             [
              0.3333333333333333,
              "#9c179e"
             ],
             [
              0.4444444444444444,
              "#bd3786"
             ],
             [
              0.5555555555555556,
              "#d8576b"
             ],
             [
              0.6666666666666666,
              "#ed7953"
             ],
             [
              0.7777777777777778,
              "#fb9f3a"
             ],
             [
              0.8888888888888888,
              "#fdca26"
             ],
             [
              1,
              "#f0f921"
             ]
            ],
            "type": "heatmap"
           }
          ],
          "heatmapgl": [
           {
            "colorbar": {
             "outlinewidth": 0,
             "ticks": ""
            },
            "colorscale": [
             [
              0,
              "#0d0887"
             ],
             [
              0.1111111111111111,
              "#46039f"
             ],
             [
              0.2222222222222222,
              "#7201a8"
             ],
             [
              0.3333333333333333,
              "#9c179e"
             ],
             [
              0.4444444444444444,
              "#bd3786"
             ],
             [
              0.5555555555555556,
              "#d8576b"
             ],
             [
              0.6666666666666666,
              "#ed7953"
             ],
             [
              0.7777777777777778,
              "#fb9f3a"
             ],
             [
              0.8888888888888888,
              "#fdca26"
             ],
             [
              1,
              "#f0f921"
             ]
            ],
            "type": "heatmapgl"
           }
          ],
          "histogram": [
           {
            "marker": {
             "pattern": {
              "fillmode": "overlay",
              "size": 10,
              "solidity": 0.2
             }
            },
            "type": "histogram"
           }
          ],
          "histogram2d": [
           {
            "colorbar": {
             "outlinewidth": 0,
             "ticks": ""
            },
            "colorscale": [
             [
              0,
              "#0d0887"
             ],
             [
              0.1111111111111111,
              "#46039f"
             ],
             [
              0.2222222222222222,
              "#7201a8"
             ],
             [
              0.3333333333333333,
              "#9c179e"
             ],
             [
              0.4444444444444444,
              "#bd3786"
             ],
             [
              0.5555555555555556,
              "#d8576b"
             ],
             [
              0.6666666666666666,
              "#ed7953"
             ],
             [
              0.7777777777777778,
              "#fb9f3a"
             ],
             [
              0.8888888888888888,
              "#fdca26"
             ],
             [
              1,
              "#f0f921"
             ]
            ],
            "type": "histogram2d"
           }
          ],
          "histogram2dcontour": [
           {
            "colorbar": {
             "outlinewidth": 0,
             "ticks": ""
            },
            "colorscale": [
             [
              0,
              "#0d0887"
             ],
             [
              0.1111111111111111,
              "#46039f"
             ],
             [
              0.2222222222222222,
              "#7201a8"
             ],
             [
              0.3333333333333333,
              "#9c179e"
             ],
             [
              0.4444444444444444,
              "#bd3786"
             ],
             [
              0.5555555555555556,
              "#d8576b"
             ],
             [
              0.6666666666666666,
              "#ed7953"
             ],
             [
              0.7777777777777778,
              "#fb9f3a"
             ],
             [
              0.8888888888888888,
              "#fdca26"
             ],
             [
              1,
              "#f0f921"
             ]
            ],
            "type": "histogram2dcontour"
           }
          ],
          "mesh3d": [
           {
            "colorbar": {
             "outlinewidth": 0,
             "ticks": ""
            },
            "type": "mesh3d"
           }
          ],
          "parcoords": [
           {
            "line": {
             "colorbar": {
              "outlinewidth": 0,
              "ticks": ""
             }
            },
            "type": "parcoords"
           }
          ],
          "pie": [
           {
            "automargin": true,
            "type": "pie"
           }
          ],
          "scatter": [
           {
            "fillpattern": {
             "fillmode": "overlay",
             "size": 10,
             "solidity": 0.2
            },
            "type": "scatter"
           }
          ],
          "scatter3d": [
           {
            "line": {
             "colorbar": {
              "outlinewidth": 0,
              "ticks": ""
             }
            },
            "marker": {
             "colorbar": {
              "outlinewidth": 0,
              "ticks": ""
             }
            },
            "type": "scatter3d"
           }
          ],
          "scattercarpet": [
           {
            "marker": {
             "colorbar": {
              "outlinewidth": 0,
              "ticks": ""
             }
            },
            "type": "scattercarpet"
           }
          ],
          "scattergeo": [
           {
            "marker": {
             "colorbar": {
              "outlinewidth": 0,
              "ticks": ""
             }
            },
            "type": "scattergeo"
           }
          ],
          "scattergl": [
           {
            "marker": {
             "colorbar": {
              "outlinewidth": 0,
              "ticks": ""
             }
            },
            "type": "scattergl"
           }
          ],
          "scattermapbox": [
           {
            "marker": {
             "colorbar": {
              "outlinewidth": 0,
              "ticks": ""
             }
            },
            "type": "scattermapbox"
           }
          ],
          "scatterpolar": [
           {
            "marker": {
             "colorbar": {
              "outlinewidth": 0,
              "ticks": ""
             }
            },
            "type": "scatterpolar"
           }
          ],
          "scatterpolargl": [
           {
            "marker": {
             "colorbar": {
              "outlinewidth": 0,
              "ticks": ""
             }
            },
            "type": "scatterpolargl"
           }
          ],
          "scatterternary": [
           {
            "marker": {
             "colorbar": {
              "outlinewidth": 0,
              "ticks": ""
             }
            },
            "type": "scatterternary"
           }
          ],
          "surface": [
           {
            "colorbar": {
             "outlinewidth": 0,
             "ticks": ""
            },
            "colorscale": [
             [
              0,
              "#0d0887"
             ],
             [
              0.1111111111111111,
              "#46039f"
             ],
             [
              0.2222222222222222,
              "#7201a8"
             ],
             [
              0.3333333333333333,
              "#9c179e"
             ],
             [
              0.4444444444444444,
              "#bd3786"
             ],
             [
              0.5555555555555556,
              "#d8576b"
             ],
             [
              0.6666666666666666,
              "#ed7953"
             ],
             [
              0.7777777777777778,
              "#fb9f3a"
             ],
             [
              0.8888888888888888,
              "#fdca26"
             ],
             [
              1,
              "#f0f921"
             ]
            ],
            "type": "surface"
           }
          ],
          "table": [
           {
            "cells": {
             "fill": {
              "color": "#EBF0F8"
             },
             "line": {
              "color": "white"
             }
            },
            "header": {
             "fill": {
              "color": "#C8D4E3"
             },
             "line": {
              "color": "white"
             }
            },
            "type": "table"
           }
          ]
         },
         "layout": {
          "annotationdefaults": {
           "arrowcolor": "#2a3f5f",
           "arrowhead": 0,
           "arrowwidth": 1
          },
          "autotypenumbers": "strict",
          "coloraxis": {
           "colorbar": {
            "outlinewidth": 0,
            "ticks": ""
           }
          },
          "colorscale": {
           "diverging": [
            [
             0,
             "#8e0152"
            ],
            [
             0.1,
             "#c51b7d"
            ],
            [
             0.2,
             "#de77ae"
            ],
            [
             0.3,
             "#f1b6da"
            ],
            [
             0.4,
             "#fde0ef"
            ],
            [
             0.5,
             "#f7f7f7"
            ],
            [
             0.6,
             "#e6f5d0"
            ],
            [
             0.7,
             "#b8e186"
            ],
            [
             0.8,
             "#7fbc41"
            ],
            [
             0.9,
             "#4d9221"
            ],
            [
             1,
             "#276419"
            ]
           ],
           "sequential": [
            [
             0,
             "#0d0887"
            ],
            [
             0.1111111111111111,
             "#46039f"
            ],
            [
             0.2222222222222222,
             "#7201a8"
            ],
            [
             0.3333333333333333,
             "#9c179e"
            ],
            [
             0.4444444444444444,
             "#bd3786"
            ],
            [
             0.5555555555555556,
             "#d8576b"
            ],
            [
             0.6666666666666666,
             "#ed7953"
            ],
            [
             0.7777777777777778,
             "#fb9f3a"
            ],
            [
             0.8888888888888888,
             "#fdca26"
            ],
            [
             1,
             "#f0f921"
            ]
           ],
           "sequentialminus": [
            [
             0,
             "#0d0887"
            ],
            [
             0.1111111111111111,
             "#46039f"
            ],
            [
             0.2222222222222222,
             "#7201a8"
            ],
            [
             0.3333333333333333,
             "#9c179e"
            ],
            [
             0.4444444444444444,
             "#bd3786"
            ],
            [
             0.5555555555555556,
             "#d8576b"
            ],
            [
             0.6666666666666666,
             "#ed7953"
            ],
            [
             0.7777777777777778,
             "#fb9f3a"
            ],
            [
             0.8888888888888888,
             "#fdca26"
            ],
            [
             1,
             "#f0f921"
            ]
           ]
          },
          "colorway": [
           "#636efa",
           "#EF553B",
           "#00cc96",
           "#ab63fa",
           "#FFA15A",
           "#19d3f3",
           "#FF6692",
           "#B6E880",
           "#FF97FF",
           "#FECB52"
          ],
          "font": {
           "color": "#2a3f5f"
          },
          "geo": {
           "bgcolor": "white",
           "lakecolor": "white",
           "landcolor": "#E5ECF6",
           "showlakes": true,
           "showland": true,
           "subunitcolor": "white"
          },
          "hoverlabel": {
           "align": "left"
          },
          "hovermode": "closest",
          "mapbox": {
           "style": "light"
          },
          "paper_bgcolor": "white",
          "plot_bgcolor": "#E5ECF6",
          "polar": {
           "angularaxis": {
            "gridcolor": "white",
            "linecolor": "white",
            "ticks": ""
           },
           "bgcolor": "#E5ECF6",
           "radialaxis": {
            "gridcolor": "white",
            "linecolor": "white",
            "ticks": ""
           }
          },
          "scene": {
           "xaxis": {
            "backgroundcolor": "#E5ECF6",
            "gridcolor": "white",
            "gridwidth": 2,
            "linecolor": "white",
            "showbackground": true,
            "ticks": "",
            "zerolinecolor": "white"
           },
           "yaxis": {
            "backgroundcolor": "#E5ECF6",
            "gridcolor": "white",
            "gridwidth": 2,
            "linecolor": "white",
            "showbackground": true,
            "ticks": "",
            "zerolinecolor": "white"
           },
           "zaxis": {
            "backgroundcolor": "#E5ECF6",
            "gridcolor": "white",
            "gridwidth": 2,
            "linecolor": "white",
            "showbackground": true,
            "ticks": "",
            "zerolinecolor": "white"
           }
          },
          "shapedefaults": {
           "line": {
            "color": "#2a3f5f"
           }
          },
          "ternary": {
           "aaxis": {
            "gridcolor": "white",
            "linecolor": "white",
            "ticks": ""
           },
           "baxis": {
            "gridcolor": "white",
            "linecolor": "white",
            "ticks": ""
           },
           "bgcolor": "#E5ECF6",
           "caxis": {
            "gridcolor": "white",
            "linecolor": "white",
            "ticks": ""
           }
          },
          "title": {
           "x": 0.05
          },
          "xaxis": {
           "automargin": true,
           "gridcolor": "white",
           "linecolor": "white",
           "ticks": "",
           "title": {
            "standoff": 15
           },
           "zerolinecolor": "white",
           "zerolinewidth": 2
          },
          "yaxis": {
           "automargin": true,
           "gridcolor": "white",
           "linecolor": "white",
           "ticks": "",
           "title": {
            "standoff": 15
           },
           "zerolinecolor": "white",
           "zerolinewidth": 2
          }
         }
        },
        "title": {
         "text": "Top 20 Countries by F-1 visas issued (Fiscal Year 2022)"
        },
        "uniformtext": {
         "minsize": 4,
         "mode": "hide"
        },
        "xaxis": {
         "anchor": "y",
         "domain": [
          0,
          1
         ],
         "title": {
          "text": "F1"
         }
        },
        "yaxis": {
         "anchor": "x",
         "domain": [
          0,
          1
         ],
         "title": {
          "text": "Country"
         }
        }
       }
      }
     },
     "metadata": {},
     "output_type": "display_data"
    }
   ],
   "source": [
    "fig = px.bar(data_frame=top_50_f1,\n",
    "             x='F1',\n",
    "             y='Country',\n",
    "             orientation='h',\n",
    "             color_discrete_sequence=['blue'],\n",
    "             title='Top 20 Countries by F-1 visas issued (Fiscal Year 2022)',\n",
    "             text='F1',\n",
    "             height=750)\n",
    "fig.update_traces(textposition='outside')\n",
    "fig.update_layout(uniformtext_minsize=4, uniformtext_mode='hide')\n",
    "fig.show()"
   ]
  },
  {
   "cell_type": "code",
   "execution_count": 55,
   "metadata": {},
   "outputs": [
    {
     "data": {
      "application/vnd.plotly.v1+json": {
       "config": {
        "plotlyServerURL": "https://plot.ly"
       },
       "data": [
        {
         "orientation": "h",
         "type": "bar",
         "x": [
          115115,
          61894,
          18066,
          12330,
          11460,
          9806,
          7766,
          7754,
          7547,
          7248,
          7038,
          7025,
          6913,
          6175,
          5957,
          5518,
          4862,
          4839,
          3567,
          3540
         ],
         "y": [
          "India",
          "China - mainland",
          "Korea, South",
          "Vietnam",
          "Japan",
          "Brazil",
          "Mexico",
          "Bangladesh",
          "Nigeria",
          "Germany",
          "Colombia",
          "France",
          "Taiwan",
          "Nepal",
          "Italy",
          "Spain",
          "Great Britain and Northern Ireland",
          "Saudi Arabia",
          "Iran",
          "Pakistan"
         ]
        }
       ],
       "layout": {
        "hoverlabel": {
         "font": {
          "family": "Times New Roman"
         }
        },
        "template": {
         "data": {
          "bar": [
           {
            "error_x": {
             "color": "#2a3f5f"
            },
            "error_y": {
             "color": "#2a3f5f"
            },
            "marker": {
             "line": {
              "color": "#E5ECF6",
              "width": 0.5
             },
             "pattern": {
              "fillmode": "overlay",
              "size": 10,
              "solidity": 0.2
             }
            },
            "type": "bar"
           }
          ],
          "barpolar": [
           {
            "marker": {
             "line": {
              "color": "#E5ECF6",
              "width": 0.5
             },
             "pattern": {
              "fillmode": "overlay",
              "size": 10,
              "solidity": 0.2
             }
            },
            "type": "barpolar"
           }
          ],
          "carpet": [
           {
            "aaxis": {
             "endlinecolor": "#2a3f5f",
             "gridcolor": "white",
             "linecolor": "white",
             "minorgridcolor": "white",
             "startlinecolor": "#2a3f5f"
            },
            "baxis": {
             "endlinecolor": "#2a3f5f",
             "gridcolor": "white",
             "linecolor": "white",
             "minorgridcolor": "white",
             "startlinecolor": "#2a3f5f"
            },
            "type": "carpet"
           }
          ],
          "choropleth": [
           {
            "colorbar": {
             "outlinewidth": 0,
             "ticks": ""
            },
            "type": "choropleth"
           }
          ],
          "contour": [
           {
            "colorbar": {
             "outlinewidth": 0,
             "ticks": ""
            },
            "colorscale": [
             [
              0,
              "#0d0887"
             ],
             [
              0.1111111111111111,
              "#46039f"
             ],
             [
              0.2222222222222222,
              "#7201a8"
             ],
             [
              0.3333333333333333,
              "#9c179e"
             ],
             [
              0.4444444444444444,
              "#bd3786"
             ],
             [
              0.5555555555555556,
              "#d8576b"
             ],
             [
              0.6666666666666666,
              "#ed7953"
             ],
             [
              0.7777777777777778,
              "#fb9f3a"
             ],
             [
              0.8888888888888888,
              "#fdca26"
             ],
             [
              1,
              "#f0f921"
             ]
            ],
            "type": "contour"
           }
          ],
          "contourcarpet": [
           {
            "colorbar": {
             "outlinewidth": 0,
             "ticks": ""
            },
            "type": "contourcarpet"
           }
          ],
          "heatmap": [
           {
            "colorbar": {
             "outlinewidth": 0,
             "ticks": ""
            },
            "colorscale": [
             [
              0,
              "#0d0887"
             ],
             [
              0.1111111111111111,
              "#46039f"
             ],
             [
              0.2222222222222222,
              "#7201a8"
             ],
             [
              0.3333333333333333,
              "#9c179e"
             ],
             [
              0.4444444444444444,
              "#bd3786"
             ],
             [
              0.5555555555555556,
              "#d8576b"
             ],
             [
              0.6666666666666666,
              "#ed7953"
             ],
             [
              0.7777777777777778,
              "#fb9f3a"
             ],
             [
              0.8888888888888888,
              "#fdca26"
             ],
             [
              1,
              "#f0f921"
             ]
            ],
            "type": "heatmap"
           }
          ],
          "heatmapgl": [
           {
            "colorbar": {
             "outlinewidth": 0,
             "ticks": ""
            },
            "colorscale": [
             [
              0,
              "#0d0887"
             ],
             [
              0.1111111111111111,
              "#46039f"
             ],
             [
              0.2222222222222222,
              "#7201a8"
             ],
             [
              0.3333333333333333,
              "#9c179e"
             ],
             [
              0.4444444444444444,
              "#bd3786"
             ],
             [
              0.5555555555555556,
              "#d8576b"
             ],
             [
              0.6666666666666666,
              "#ed7953"
             ],
             [
              0.7777777777777778,
              "#fb9f3a"
             ],
             [
              0.8888888888888888,
              "#fdca26"
             ],
             [
              1,
              "#f0f921"
             ]
            ],
            "type": "heatmapgl"
           }
          ],
          "histogram": [
           {
            "marker": {
             "pattern": {
              "fillmode": "overlay",
              "size": 10,
              "solidity": 0.2
             }
            },
            "type": "histogram"
           }
          ],
          "histogram2d": [
           {
            "colorbar": {
             "outlinewidth": 0,
             "ticks": ""
            },
            "colorscale": [
             [
              0,
              "#0d0887"
             ],
             [
              0.1111111111111111,
              "#46039f"
             ],
             [
              0.2222222222222222,
              "#7201a8"
             ],
             [
              0.3333333333333333,
              "#9c179e"
             ],
             [
              0.4444444444444444,
              "#bd3786"
             ],
             [
              0.5555555555555556,
              "#d8576b"
             ],
             [
              0.6666666666666666,
              "#ed7953"
             ],
             [
              0.7777777777777778,
              "#fb9f3a"
             ],
             [
              0.8888888888888888,
              "#fdca26"
             ],
             [
              1,
              "#f0f921"
             ]
            ],
            "type": "histogram2d"
           }
          ],
          "histogram2dcontour": [
           {
            "colorbar": {
             "outlinewidth": 0,
             "ticks": ""
            },
            "colorscale": [
             [
              0,
              "#0d0887"
             ],
             [
              0.1111111111111111,
              "#46039f"
             ],
             [
              0.2222222222222222,
              "#7201a8"
             ],
             [
              0.3333333333333333,
              "#9c179e"
             ],
             [
              0.4444444444444444,
              "#bd3786"
             ],
             [
              0.5555555555555556,
              "#d8576b"
             ],
             [
              0.6666666666666666,
              "#ed7953"
             ],
             [
              0.7777777777777778,
              "#fb9f3a"
             ],
             [
              0.8888888888888888,
              "#fdca26"
             ],
             [
              1,
              "#f0f921"
             ]
            ],
            "type": "histogram2dcontour"
           }
          ],
          "mesh3d": [
           {
            "colorbar": {
             "outlinewidth": 0,
             "ticks": ""
            },
            "type": "mesh3d"
           }
          ],
          "parcoords": [
           {
            "line": {
             "colorbar": {
              "outlinewidth": 0,
              "ticks": ""
             }
            },
            "type": "parcoords"
           }
          ],
          "pie": [
           {
            "automargin": true,
            "type": "pie"
           }
          ],
          "scatter": [
           {
            "fillpattern": {
             "fillmode": "overlay",
             "size": 10,
             "solidity": 0.2
            },
            "type": "scatter"
           }
          ],
          "scatter3d": [
           {
            "line": {
             "colorbar": {
              "outlinewidth": 0,
              "ticks": ""
             }
            },
            "marker": {
             "colorbar": {
              "outlinewidth": 0,
              "ticks": ""
             }
            },
            "type": "scatter3d"
           }
          ],
          "scattercarpet": [
           {
            "marker": {
             "colorbar": {
              "outlinewidth": 0,
              "ticks": ""
             }
            },
            "type": "scattercarpet"
           }
          ],
          "scattergeo": [
           {
            "marker": {
             "colorbar": {
              "outlinewidth": 0,
              "ticks": ""
             }
            },
            "type": "scattergeo"
           }
          ],
          "scattergl": [
           {
            "marker": {
             "colorbar": {
              "outlinewidth": 0,
              "ticks": ""
             }
            },
            "type": "scattergl"
           }
          ],
          "scattermapbox": [
           {
            "marker": {
             "colorbar": {
              "outlinewidth": 0,
              "ticks": ""
             }
            },
            "type": "scattermapbox"
           }
          ],
          "scatterpolar": [
           {
            "marker": {
             "colorbar": {
              "outlinewidth": 0,
              "ticks": ""
             }
            },
            "type": "scatterpolar"
           }
          ],
          "scatterpolargl": [
           {
            "marker": {
             "colorbar": {
              "outlinewidth": 0,
              "ticks": ""
             }
            },
            "type": "scatterpolargl"
           }
          ],
          "scatterternary": [
           {
            "marker": {
             "colorbar": {
              "outlinewidth": 0,
              "ticks": ""
             }
            },
            "type": "scatterternary"
           }
          ],
          "surface": [
           {
            "colorbar": {
             "outlinewidth": 0,
             "ticks": ""
            },
            "colorscale": [
             [
              0,
              "#0d0887"
             ],
             [
              0.1111111111111111,
              "#46039f"
             ],
             [
              0.2222222222222222,
              "#7201a8"
             ],
             [
              0.3333333333333333,
              "#9c179e"
             ],
             [
              0.4444444444444444,
              "#bd3786"
             ],
             [
              0.5555555555555556,
              "#d8576b"
             ],
             [
              0.6666666666666666,
              "#ed7953"
             ],
             [
              0.7777777777777778,
              "#fb9f3a"
             ],
             [
              0.8888888888888888,
              "#fdca26"
             ],
             [
              1,
              "#f0f921"
             ]
            ],
            "type": "surface"
           }
          ],
          "table": [
           {
            "cells": {
             "fill": {
              "color": "#EBF0F8"
             },
             "line": {
              "color": "white"
             }
            },
            "header": {
             "fill": {
              "color": "#C8D4E3"
             },
             "line": {
              "color": "white"
             }
            },
            "type": "table"
           }
          ]
         },
         "layout": {
          "annotationdefaults": {
           "arrowcolor": "#2a3f5f",
           "arrowhead": 0,
           "arrowwidth": 1
          },
          "autotypenumbers": "strict",
          "coloraxis": {
           "colorbar": {
            "outlinewidth": 0,
            "ticks": ""
           }
          },
          "colorscale": {
           "diverging": [
            [
             0,
             "#8e0152"
            ],
            [
             0.1,
             "#c51b7d"
            ],
            [
             0.2,
             "#de77ae"
            ],
            [
             0.3,
             "#f1b6da"
            ],
            [
             0.4,
             "#fde0ef"
            ],
            [
             0.5,
             "#f7f7f7"
            ],
            [
             0.6,
             "#e6f5d0"
            ],
            [
             0.7,
             "#b8e186"
            ],
            [
             0.8,
             "#7fbc41"
            ],
            [
             0.9,
             "#4d9221"
            ],
            [
             1,
             "#276419"
            ]
           ],
           "sequential": [
            [
             0,
             "#0d0887"
            ],
            [
             0.1111111111111111,
             "#46039f"
            ],
            [
             0.2222222222222222,
             "#7201a8"
            ],
            [
             0.3333333333333333,
             "#9c179e"
            ],
            [
             0.4444444444444444,
             "#bd3786"
            ],
            [
             0.5555555555555556,
             "#d8576b"
            ],
            [
             0.6666666666666666,
             "#ed7953"
            ],
            [
             0.7777777777777778,
             "#fb9f3a"
            ],
            [
             0.8888888888888888,
             "#fdca26"
            ],
            [
             1,
             "#f0f921"
            ]
           ],
           "sequentialminus": [
            [
             0,
             "#0d0887"
            ],
            [
             0.1111111111111111,
             "#46039f"
            ],
            [
             0.2222222222222222,
             "#7201a8"
            ],
            [
             0.3333333333333333,
             "#9c179e"
            ],
            [
             0.4444444444444444,
             "#bd3786"
            ],
            [
             0.5555555555555556,
             "#d8576b"
            ],
            [
             0.6666666666666666,
             "#ed7953"
            ],
            [
             0.7777777777777778,
             "#fb9f3a"
            ],
            [
             0.8888888888888888,
             "#fdca26"
            ],
            [
             1,
             "#f0f921"
            ]
           ]
          },
          "colorway": [
           "#636efa",
           "#EF553B",
           "#00cc96",
           "#ab63fa",
           "#FFA15A",
           "#19d3f3",
           "#FF6692",
           "#B6E880",
           "#FF97FF",
           "#FECB52"
          ],
          "font": {
           "color": "#2a3f5f"
          },
          "geo": {
           "bgcolor": "white",
           "lakecolor": "white",
           "landcolor": "#E5ECF6",
           "showlakes": true,
           "showland": true,
           "subunitcolor": "white"
          },
          "hoverlabel": {
           "align": "left"
          },
          "hovermode": "closest",
          "mapbox": {
           "style": "light"
          },
          "paper_bgcolor": "white",
          "plot_bgcolor": "#E5ECF6",
          "polar": {
           "angularaxis": {
            "gridcolor": "white",
            "linecolor": "white",
            "ticks": ""
           },
           "bgcolor": "#E5ECF6",
           "radialaxis": {
            "gridcolor": "white",
            "linecolor": "white",
            "ticks": ""
           }
          },
          "scene": {
           "xaxis": {
            "backgroundcolor": "#E5ECF6",
            "gridcolor": "white",
            "gridwidth": 2,
            "linecolor": "white",
            "showbackground": true,
            "ticks": "",
            "zerolinecolor": "white"
           },
           "yaxis": {
            "backgroundcolor": "#E5ECF6",
            "gridcolor": "white",
            "gridwidth": 2,
            "linecolor": "white",
            "showbackground": true,
            "ticks": "",
            "zerolinecolor": "white"
           },
           "zaxis": {
            "backgroundcolor": "#E5ECF6",
            "gridcolor": "white",
            "gridwidth": 2,
            "linecolor": "white",
            "showbackground": true,
            "ticks": "",
            "zerolinecolor": "white"
           }
          },
          "shapedefaults": {
           "line": {
            "color": "#2a3f5f"
           }
          },
          "ternary": {
           "aaxis": {
            "gridcolor": "white",
            "linecolor": "white",
            "ticks": ""
           },
           "baxis": {
            "gridcolor": "white",
            "linecolor": "white",
            "ticks": ""
           },
           "bgcolor": "#E5ECF6",
           "caxis": {
            "gridcolor": "white",
            "linecolor": "white",
            "ticks": ""
           }
          },
          "title": {
           "x": 0.05
          },
          "xaxis": {
           "automargin": true,
           "gridcolor": "white",
           "linecolor": "white",
           "ticks": "",
           "title": {
            "standoff": 15
           },
           "zerolinecolor": "white",
           "zerolinewidth": 2
          },
          "yaxis": {
           "automargin": true,
           "gridcolor": "white",
           "linecolor": "white",
           "ticks": "",
           "title": {
            "standoff": 15
           },
           "zerolinecolor": "white",
           "zerolinewidth": 2
          }
         }
        },
        "title": {
         "font": {
          "family": "Times New Roman"
         },
         "text": "Top 20 countries by F1 visas issued (Fiscal Year 2022)"
        },
        "yaxis": {
         "categoryorder": "total ascending",
         "tickangle": 0,
         "tickfont": {
          "size": 6
         },
         "ticklabelstep": 1,
         "tickmode": "auto"
        }
       }
      }
     },
     "metadata": {},
     "output_type": "display_data"
    }
   ],
   "source": [
    "final_data['F1 Students as Percentage of Total'] = round(final_data['F1'] / final_data['Grand Total'] * 100, 2)\n",
    "fig = go.Figure(go.Bar(\n",
    "       x=top_50_f1['F1'],\n",
    "       y=top_50_f1['Country'],\n",
    "       orientation='h',\n",
    "       )\n",
    ")\n",
    "fig.update_layout(title='Top 20 countries by F1 visas issued (Fiscal Year 2022)',\n",
    "                  yaxis=dict(categoryorder='total ascending',\n",
    "                             tickmode='auto',\n",
    "                             tickangle=0,\n",
    "                             ticklabelstep=1),\n",
    "                             titlefont={'family': 'Times New Roman'})\n",
    "fig.layout.yaxis.tickfont.size = 6 # type: ignore\n",
    "fig.layout.hoverlabel.font.family = 'Times New Roman' # type: ignore\n",
    "fig.show()"
   ]
  },
  {
   "cell_type": "code",
   "execution_count": 30,
   "metadata": {},
   "outputs": [],
   "source": [
    "# create a dictionary with key-value pairs as continents and a list of countries in each continent for further analysis\n",
    "continents = {\n",
    "    'Africa': ['Algeria', 'Angola', 'Benin', 'Botswana', 'Burkina Faso', 'Burundi', 'Cameroon', 'Cape Verde', 'Central African Republic', 'Chad', 'Comoros', 'Congo, Dem. Rep. of the (Congo Kinshasa)', 'Congo, Rep. of the (Congo Brazzaville)', 'Cote d\\'Ivoire', 'Djibouti', 'Egypt', 'Equatorial Guinea', 'Eritrea', 'Ethiopia', 'Gabon', 'Gambia, The', 'Ghana', 'Guinea', 'Guinea-Bissau', 'Kenya', 'Lesotho', 'Liberia', 'Libya', 'Madagascar', 'Malawi', 'Mali', 'Mauritania', 'Mauritius', 'Morocco', 'Mozambique', 'Namibia', 'Niger', 'Nigeria', 'Rwanda', 'Sao Tome and Principe', 'Senegal', 'Seychelles', 'Sierra Leone', 'Somalia', 'South Africa', 'Sudan', 'Swaziland', 'Tanzania', 'Togo', 'Tunisia', 'Uganda', 'Zambia', 'Zimbabwe'], \n",
    "    'Asia': ['Afghanistan', 'Bahrain', 'Bangladesh', 'Bhutan', 'Brunei', 'Burma', 'Cambodia', 'China - mainland', 'Hong Kong S.A.R.', 'India', 'Indonesia', 'Iran', 'Iraq', 'Israel', 'Japan', 'Jordan', 'Kazakhstan', 'Korea, North', 'Korea, South', 'Kuwait', 'Laos', 'Lebanon', 'Macau S.A.R.', 'Malaysia', 'Maldives', 'Mongolia', 'Nepal', 'Oman', 'Pakistan', 'Palestinian Authority Travel Document', 'Philippines', 'Qatar', 'Saudi Arabia', 'Singapore', 'Sri Lanka', 'Syria', 'Taiwan', 'Thailand', 'Timor-Leste', 'United Arab Emirates', 'Vietnam', 'Yemen'], \n",
    "    'Europe': ['Albania', 'Andorra', 'Armenia', 'Austria', 'Azerbaijan', 'Belarus', 'Belgium', 'Bosnia and Herzegovina', 'Bulgaria', 'Croatia', 'Cyprus', 'Czech Republic', 'Denmark', 'Estonia', 'Finland', 'France', 'Georgia', 'Germany', 'Great Britain and Northern Ireland', 'Greece', 'Hungary', 'Iceland', 'Ireland', 'Italy', 'Kazakhstan', 'Kosovo', 'Kyrgyzstan', 'Latvia', 'Liechtenstein', 'Lithuania', 'Luxembourg', 'Malta', 'Moldova', 'Monaco', 'Montenegro', 'Netherlands', 'North Macedonia', 'Norway', 'Poland', 'Portugal', 'Romania', 'Russia', 'San Marino', 'Serbia', 'Slovakia', 'Slovenia', 'Spain', 'Sweden', 'Switzerland', 'Tajikistan', 'Turkey', 'Turkmenistan', 'Ukraine', 'Uzbekistan', 'Vatican City'],\n",
    "    'North America': ['Antigua and Barbuda', 'Bahamas, The', 'Barbados', 'Belize', 'Canada', 'Costa Rica', 'Cuba', 'Dominica', 'Dominican Republic', 'El Salvador', 'Grenada', 'Guatemala', 'Haiti', 'Honduras', 'Jamaica', 'Mexico', 'Nicaragua', 'Panama', 'Saint Kitts and Nevis', 'Saint Lucia', 'Saint Vincent and the Grenadines', 'Trinidad and Tobago'],\n",
    "    'Oceania': ['Australia', 'Fiji', 'Kiribati', 'Marshall Islands', 'Micronesia, Federated States of', 'Nauru', 'New Zealand', 'Palau', 'Papua New Guinea', 'Samoa', 'Solomon Islands', 'Tonga', 'Tuvalu', 'Vanuatu'],\n",
    "    'South America': ['Argentina', 'Bolivia', 'Brazil', 'Chile', 'Colombia', 'Ecuador', 'Guyana', 'Paraguay', 'Peru', 'Suriname', 'Uruguay', 'Venezuela'],\n",
    "    'Unknown': ['No Nationality', 'United Nations Laissez-Passer']\n",
    "}"
   ]
  },
  {
   "cell_type": "code",
   "execution_count": 31,
   "metadata": {},
   "outputs": [
    {
     "data": {
      "text/html": [
       "<div>\n",
       "<style scoped>\n",
       "    .dataframe tbody tr th:only-of-type {\n",
       "        vertical-align: middle;\n",
       "    }\n",
       "\n",
       "    .dataframe tbody tr th {\n",
       "        vertical-align: top;\n",
       "    }\n",
       "\n",
       "    .dataframe thead th {\n",
       "        text-align: right;\n",
       "    }\n",
       "</style>\n",
       "<table border=\"1\" class=\"dataframe\">\n",
       "  <thead>\n",
       "    <tr style=\"text-align: right;\">\n",
       "      <th></th>\n",
       "      <th>Country</th>\n",
       "      <th>A1</th>\n",
       "      <th>A2</th>\n",
       "      <th>A3</th>\n",
       "      <th>B1</th>\n",
       "      <th>B1/B2</th>\n",
       "      <th>B2</th>\n",
       "      <th>BBBCC</th>\n",
       "      <th>BBBCV</th>\n",
       "      <th>C1</th>\n",
       "      <th>...</th>\n",
       "      <th>U1</th>\n",
       "      <th>U2</th>\n",
       "      <th>U3</th>\n",
       "      <th>U4</th>\n",
       "      <th>U5</th>\n",
       "      <th>Grand Total</th>\n",
       "      <th>Total NIVs Issued Worldwide Rank</th>\n",
       "      <th>Total F1s Issued Worldwide Rank</th>\n",
       "      <th>F1 Students as Percentage of Total</th>\n",
       "      <th>Total H1-Bs Issued Worldwide Rank</th>\n",
       "    </tr>\n",
       "  </thead>\n",
       "  <tbody>\n",
       "    <tr>\n",
       "      <th>79</th>\n",
       "      <td>India</td>\n",
       "      <td>121</td>\n",
       "      <td>1460</td>\n",
       "      <td>130</td>\n",
       "      <td>533</td>\n",
       "      <td>264515</td>\n",
       "      <td>114</td>\n",
       "      <td>0</td>\n",
       "      <td>0</td>\n",
       "      <td>239</td>\n",
       "      <td>...</td>\n",
       "      <td>10</td>\n",
       "      <td>25</td>\n",
       "      <td>48</td>\n",
       "      <td>0</td>\n",
       "      <td>0</td>\n",
       "      <td>764966</td>\n",
       "      <td>2.0</td>\n",
       "      <td>1.0</td>\n",
       "      <td>15.05</td>\n",
       "      <td>1.0</td>\n",
       "    </tr>\n",
       "    <tr>\n",
       "      <th>36</th>\n",
       "      <td>China - mainland</td>\n",
       "      <td>298</td>\n",
       "      <td>124</td>\n",
       "      <td>3</td>\n",
       "      <td>1218</td>\n",
       "      <td>68869</td>\n",
       "      <td>141</td>\n",
       "      <td>0</td>\n",
       "      <td>0</td>\n",
       "      <td>221</td>\n",
       "      <td>...</td>\n",
       "      <td>3</td>\n",
       "      <td>3</td>\n",
       "      <td>4</td>\n",
       "      <td>0</td>\n",
       "      <td>0</td>\n",
       "      <td>161189</td>\n",
       "      <td>7.0</td>\n",
       "      <td>2.0</td>\n",
       "      <td>38.40</td>\n",
       "      <td>2.0</td>\n",
       "    </tr>\n",
       "    <tr>\n",
       "      <th>143</th>\n",
       "      <td>Philippines</td>\n",
       "      <td>89</td>\n",
       "      <td>1519</td>\n",
       "      <td>261</td>\n",
       "      <td>3603</td>\n",
       "      <td>86496</td>\n",
       "      <td>55</td>\n",
       "      <td>0</td>\n",
       "      <td>0</td>\n",
       "      <td>1322</td>\n",
       "      <td>...</td>\n",
       "      <td>0</td>\n",
       "      <td>0</td>\n",
       "      <td>4</td>\n",
       "      <td>0</td>\n",
       "      <td>0</td>\n",
       "      <td>194983</td>\n",
       "      <td>5.0</td>\n",
       "      <td>46.0</td>\n",
       "      <td>0.63</td>\n",
       "      <td>3.0</td>\n",
       "    </tr>\n",
       "    <tr>\n",
       "      <th>93</th>\n",
       "      <td>Korea, South</td>\n",
       "      <td>295</td>\n",
       "      <td>2675</td>\n",
       "      <td>0</td>\n",
       "      <td>6</td>\n",
       "      <td>5708</td>\n",
       "      <td>0</td>\n",
       "      <td>0</td>\n",
       "      <td>0</td>\n",
       "      <td>4</td>\n",
       "      <td>...</td>\n",
       "      <td>1</td>\n",
       "      <td>0</td>\n",
       "      <td>0</td>\n",
       "      <td>0</td>\n",
       "      <td>0</td>\n",
       "      <td>59564</td>\n",
       "      <td>19.0</td>\n",
       "      <td>3.0</td>\n",
       "      <td>30.33</td>\n",
       "      <td>4.0</td>\n",
       "    </tr>\n",
       "    <tr>\n",
       "      <th>116</th>\n",
       "      <td>Mexico</td>\n",
       "      <td>307</td>\n",
       "      <td>1760</td>\n",
       "      <td>7</td>\n",
       "      <td>3122</td>\n",
       "      <td>11547</td>\n",
       "      <td>90</td>\n",
       "      <td>1182329</td>\n",
       "      <td>62153</td>\n",
       "      <td>43</td>\n",
       "      <td>...</td>\n",
       "      <td>97</td>\n",
       "      <td>50</td>\n",
       "      <td>441</td>\n",
       "      <td>7</td>\n",
       "      <td>5</td>\n",
       "      <td>1728613</td>\n",
       "      <td>1.0</td>\n",
       "      <td>7.0</td>\n",
       "      <td>0.45</td>\n",
       "      <td>5.0</td>\n",
       "    </tr>\n",
       "    <tr>\n",
       "      <th>23</th>\n",
       "      <td>Brazil</td>\n",
       "      <td>212</td>\n",
       "      <td>3368</td>\n",
       "      <td>6</td>\n",
       "      <td>2300</td>\n",
       "      <td>633019</td>\n",
       "      <td>32</td>\n",
       "      <td>0</td>\n",
       "      <td>0</td>\n",
       "      <td>180</td>\n",
       "      <td>...</td>\n",
       "      <td>1</td>\n",
       "      <td>0</td>\n",
       "      <td>4</td>\n",
       "      <td>0</td>\n",
       "      <td>0</td>\n",
       "      <td>695575</td>\n",
       "      <td>3.0</td>\n",
       "      <td>6.0</td>\n",
       "      <td>1.41</td>\n",
       "      <td>6.0</td>\n",
       "    </tr>\n",
       "    <tr>\n",
       "      <th>67</th>\n",
       "      <td>Great Britain and Northern Ireland</td>\n",
       "      <td>167</td>\n",
       "      <td>4750</td>\n",
       "      <td>4</td>\n",
       "      <td>1043</td>\n",
       "      <td>16962</td>\n",
       "      <td>66</td>\n",
       "      <td>0</td>\n",
       "      <td>0</td>\n",
       "      <td>6</td>\n",
       "      <td>...</td>\n",
       "      <td>0</td>\n",
       "      <td>0</td>\n",
       "      <td>0</td>\n",
       "      <td>0</td>\n",
       "      <td>0</td>\n",
       "      <td>77759</td>\n",
       "      <td>14.0</td>\n",
       "      <td>17.0</td>\n",
       "      <td>6.25</td>\n",
       "      <td>7.0</td>\n",
       "    </tr>\n",
       "    <tr>\n",
       "      <th>61</th>\n",
       "      <td>France</td>\n",
       "      <td>170</td>\n",
       "      <td>1105</td>\n",
       "      <td>6</td>\n",
       "      <td>118</td>\n",
       "      <td>4938</td>\n",
       "      <td>3</td>\n",
       "      <td>0</td>\n",
       "      <td>0</td>\n",
       "      <td>7</td>\n",
       "      <td>...</td>\n",
       "      <td>0</td>\n",
       "      <td>0</td>\n",
       "      <td>0</td>\n",
       "      <td>0</td>\n",
       "      <td>0</td>\n",
       "      <td>43712</td>\n",
       "      <td>29.0</td>\n",
       "      <td>12.0</td>\n",
       "      <td>16.07</td>\n",
       "      <td>8.0</td>\n",
       "    </tr>\n",
       "    <tr>\n",
       "      <th>175</th>\n",
       "      <td>Taiwan</td>\n",
       "      <td>0</td>\n",
       "      <td>2</td>\n",
       "      <td>0</td>\n",
       "      <td>30</td>\n",
       "      <td>6398</td>\n",
       "      <td>1</td>\n",
       "      <td>0</td>\n",
       "      <td>0</td>\n",
       "      <td>2</td>\n",
       "      <td>...</td>\n",
       "      <td>0</td>\n",
       "      <td>0</td>\n",
       "      <td>0</td>\n",
       "      <td>0</td>\n",
       "      <td>0</td>\n",
       "      <td>25534</td>\n",
       "      <td>42.0</td>\n",
       "      <td>13.0</td>\n",
       "      <td>27.07</td>\n",
       "      <td>9.0</td>\n",
       "    </tr>\n",
       "    <tr>\n",
       "      <th>136</th>\n",
       "      <td>Pakistan</td>\n",
       "      <td>119</td>\n",
       "      <td>1249</td>\n",
       "      <td>21</td>\n",
       "      <td>65</td>\n",
       "      <td>58152</td>\n",
       "      <td>23</td>\n",
       "      <td>0</td>\n",
       "      <td>0</td>\n",
       "      <td>31</td>\n",
       "      <td>...</td>\n",
       "      <td>0</td>\n",
       "      <td>2</td>\n",
       "      <td>5</td>\n",
       "      <td>0</td>\n",
       "      <td>0</td>\n",
       "      <td>72082</td>\n",
       "      <td>17.0</td>\n",
       "      <td>20.0</td>\n",
       "      <td>4.91</td>\n",
       "      <td>10.0</td>\n",
       "    </tr>\n",
       "  </tbody>\n",
       "</table>\n",
       "<p>10 rows × 82 columns</p>\n",
       "</div>"
      ],
      "text/plain": [
       "                                Country   A1    A2   A3    B1   B1/B2   B2  \\\n",
       "79                                India  121  1460  130   533  264515  114   \n",
       "36                     China - mainland  298   124    3  1218   68869  141   \n",
       "143                         Philippines   89  1519  261  3603   86496   55   \n",
       "93                         Korea, South  295  2675    0     6    5708    0   \n",
       "116                              Mexico  307  1760    7  3122   11547   90   \n",
       "23                               Brazil  212  3368    6  2300  633019   32   \n",
       "67   Great Britain and Northern Ireland  167  4750    4  1043   16962   66   \n",
       "61                               France  170  1105    6   118    4938    3   \n",
       "175                              Taiwan    0     2    0    30    6398    1   \n",
       "136                            Pakistan  119  1249   21    65   58152   23   \n",
       "\n",
       "       BBBCC  BBBCV    C1  ...  U1  U2   U3  U4  U5  Grand Total  \\\n",
       "79         0      0   239  ...  10  25   48   0   0       764966   \n",
       "36         0      0   221  ...   3   3    4   0   0       161189   \n",
       "143        0      0  1322  ...   0   0    4   0   0       194983   \n",
       "93         0      0     4  ...   1   0    0   0   0        59564   \n",
       "116  1182329  62153    43  ...  97  50  441   7   5      1728613   \n",
       "23         0      0   180  ...   1   0    4   0   0       695575   \n",
       "67         0      0     6  ...   0   0    0   0   0        77759   \n",
       "61         0      0     7  ...   0   0    0   0   0        43712   \n",
       "175        0      0     2  ...   0   0    0   0   0        25534   \n",
       "136        0      0    31  ...   0   2    5   0   0        72082   \n",
       "\n",
       "     Total NIVs Issued Worldwide Rank  Total F1s Issued Worldwide Rank  \\\n",
       "79                                2.0                              1.0   \n",
       "36                                7.0                              2.0   \n",
       "143                               5.0                             46.0   \n",
       "93                               19.0                              3.0   \n",
       "116                               1.0                              7.0   \n",
       "23                                3.0                              6.0   \n",
       "67                               14.0                             17.0   \n",
       "61                               29.0                             12.0   \n",
       "175                              42.0                             13.0   \n",
       "136                              17.0                             20.0   \n",
       "\n",
       "     F1 Students as Percentage of Total  Total H1-Bs Issued Worldwide Rank  \n",
       "79                                15.05                                1.0  \n",
       "36                                38.40                                2.0  \n",
       "143                                0.63                                3.0  \n",
       "93                                30.33                                4.0  \n",
       "116                                0.45                                5.0  \n",
       "23                                 1.41                                6.0  \n",
       "67                                 6.25                                7.0  \n",
       "61                                16.07                                8.0  \n",
       "175                               27.07                                9.0  \n",
       "136                                4.91                               10.0  \n",
       "\n",
       "[10 rows x 82 columns]"
      ]
     },
     "execution_count": 31,
     "metadata": {},
     "output_type": "execute_result"
    }
   ],
   "source": [
    "# let's see which 10 countries had the most recipients of H1-B visas in 2022\n",
    "final_data['Total H1-Bs Issued Worldwide Rank'] = final_data['H1B'].rank(ascending=False)\n",
    "top_10_h1b_worldwide = final_data.sort_values(by='Total H1-Bs Issued Worldwide Rank')[:10]\n",
    "top_10_h1b_worldwide"
   ]
  },
  {
   "cell_type": "code",
   "execution_count": 32,
   "metadata": {},
   "outputs": [
    {
     "data": {
      "application/vnd.plotly.v1+json": {
       "config": {
        "plotlyServerURL": "https://plot.ly"
       },
       "data": [
        {
         "marker": {
          "color": "green"
         },
         "orientation": "h",
         "type": "bar",
         "x": [
          166271,
          6070,
          2151,
          2140,
          2069,
          1999,
          1706,
          1342,
          1228,
          1104
         ],
         "y": [
          "India",
          "China - mainland",
          "Philippines",
          "Korea, South",
          "Mexico",
          "Brazil",
          "Great Britain and Northern Ireland",
          "France",
          "Taiwan",
          "Pakistan"
         ]
        }
       ],
       "layout": {
        "hoverlabel": {
         "font": {
          "family": "Times New Roman"
         }
        },
        "template": {
         "data": {
          "bar": [
           {
            "error_x": {
             "color": "#2a3f5f"
            },
            "error_y": {
             "color": "#2a3f5f"
            },
            "marker": {
             "line": {
              "color": "#E5ECF6",
              "width": 0.5
             },
             "pattern": {
              "fillmode": "overlay",
              "size": 10,
              "solidity": 0.2
             }
            },
            "type": "bar"
           }
          ],
          "barpolar": [
           {
            "marker": {
             "line": {
              "color": "#E5ECF6",
              "width": 0.5
             },
             "pattern": {
              "fillmode": "overlay",
              "size": 10,
              "solidity": 0.2
             }
            },
            "type": "barpolar"
           }
          ],
          "carpet": [
           {
            "aaxis": {
             "endlinecolor": "#2a3f5f",
             "gridcolor": "white",
             "linecolor": "white",
             "minorgridcolor": "white",
             "startlinecolor": "#2a3f5f"
            },
            "baxis": {
             "endlinecolor": "#2a3f5f",
             "gridcolor": "white",
             "linecolor": "white",
             "minorgridcolor": "white",
             "startlinecolor": "#2a3f5f"
            },
            "type": "carpet"
           }
          ],
          "choropleth": [
           {
            "colorbar": {
             "outlinewidth": 0,
             "ticks": ""
            },
            "type": "choropleth"
           }
          ],
          "contour": [
           {
            "colorbar": {
             "outlinewidth": 0,
             "ticks": ""
            },
            "colorscale": [
             [
              0,
              "#0d0887"
             ],
             [
              0.1111111111111111,
              "#46039f"
             ],
             [
              0.2222222222222222,
              "#7201a8"
             ],
             [
              0.3333333333333333,
              "#9c179e"
             ],
             [
              0.4444444444444444,
              "#bd3786"
             ],
             [
              0.5555555555555556,
              "#d8576b"
             ],
             [
              0.6666666666666666,
              "#ed7953"
             ],
             [
              0.7777777777777778,
              "#fb9f3a"
             ],
             [
              0.8888888888888888,
              "#fdca26"
             ],
             [
              1,
              "#f0f921"
             ]
            ],
            "type": "contour"
           }
          ],
          "contourcarpet": [
           {
            "colorbar": {
             "outlinewidth": 0,
             "ticks": ""
            },
            "type": "contourcarpet"
           }
          ],
          "heatmap": [
           {
            "colorbar": {
             "outlinewidth": 0,
             "ticks": ""
            },
            "colorscale": [
             [
              0,
              "#0d0887"
             ],
             [
              0.1111111111111111,
              "#46039f"
             ],
             [
              0.2222222222222222,
              "#7201a8"
             ],
             [
              0.3333333333333333,
              "#9c179e"
             ],
             [
              0.4444444444444444,
              "#bd3786"
             ],
             [
              0.5555555555555556,
              "#d8576b"
             ],
             [
              0.6666666666666666,
              "#ed7953"
             ],
             [
              0.7777777777777778,
              "#fb9f3a"
             ],
             [
              0.8888888888888888,
              "#fdca26"
             ],
             [
              1,
              "#f0f921"
             ]
            ],
            "type": "heatmap"
           }
          ],
          "heatmapgl": [
           {
            "colorbar": {
             "outlinewidth": 0,
             "ticks": ""
            },
            "colorscale": [
             [
              0,
              "#0d0887"
             ],
             [
              0.1111111111111111,
              "#46039f"
             ],
             [
              0.2222222222222222,
              "#7201a8"
             ],
             [
              0.3333333333333333,
              "#9c179e"
             ],
             [
              0.4444444444444444,
              "#bd3786"
             ],
             [
              0.5555555555555556,
              "#d8576b"
             ],
             [
              0.6666666666666666,
              "#ed7953"
             ],
             [
              0.7777777777777778,
              "#fb9f3a"
             ],
             [
              0.8888888888888888,
              "#fdca26"
             ],
             [
              1,
              "#f0f921"
             ]
            ],
            "type": "heatmapgl"
           }
          ],
          "histogram": [
           {
            "marker": {
             "pattern": {
              "fillmode": "overlay",
              "size": 10,
              "solidity": 0.2
             }
            },
            "type": "histogram"
           }
          ],
          "histogram2d": [
           {
            "colorbar": {
             "outlinewidth": 0,
             "ticks": ""
            },
            "colorscale": [
             [
              0,
              "#0d0887"
             ],
             [
              0.1111111111111111,
              "#46039f"
             ],
             [
              0.2222222222222222,
              "#7201a8"
             ],
             [
              0.3333333333333333,
              "#9c179e"
             ],
             [
              0.4444444444444444,
              "#bd3786"
             ],
             [
              0.5555555555555556,
              "#d8576b"
             ],
             [
              0.6666666666666666,
              "#ed7953"
             ],
             [
              0.7777777777777778,
              "#fb9f3a"
             ],
             [
              0.8888888888888888,
              "#fdca26"
             ],
             [
              1,
              "#f0f921"
             ]
            ],
            "type": "histogram2d"
           }
          ],
          "histogram2dcontour": [
           {
            "colorbar": {
             "outlinewidth": 0,
             "ticks": ""
            },
            "colorscale": [
             [
              0,
              "#0d0887"
             ],
             [
              0.1111111111111111,
              "#46039f"
             ],
             [
              0.2222222222222222,
              "#7201a8"
             ],
             [
              0.3333333333333333,
              "#9c179e"
             ],
             [
              0.4444444444444444,
              "#bd3786"
             ],
             [
              0.5555555555555556,
              "#d8576b"
             ],
             [
              0.6666666666666666,
              "#ed7953"
             ],
             [
              0.7777777777777778,
              "#fb9f3a"
             ],
             [
              0.8888888888888888,
              "#fdca26"
             ],
             [
              1,
              "#f0f921"
             ]
            ],
            "type": "histogram2dcontour"
           }
          ],
          "mesh3d": [
           {
            "colorbar": {
             "outlinewidth": 0,
             "ticks": ""
            },
            "type": "mesh3d"
           }
          ],
          "parcoords": [
           {
            "line": {
             "colorbar": {
              "outlinewidth": 0,
              "ticks": ""
             }
            },
            "type": "parcoords"
           }
          ],
          "pie": [
           {
            "automargin": true,
            "type": "pie"
           }
          ],
          "scatter": [
           {
            "fillpattern": {
             "fillmode": "overlay",
             "size": 10,
             "solidity": 0.2
            },
            "type": "scatter"
           }
          ],
          "scatter3d": [
           {
            "line": {
             "colorbar": {
              "outlinewidth": 0,
              "ticks": ""
             }
            },
            "marker": {
             "colorbar": {
              "outlinewidth": 0,
              "ticks": ""
             }
            },
            "type": "scatter3d"
           }
          ],
          "scattercarpet": [
           {
            "marker": {
             "colorbar": {
              "outlinewidth": 0,
              "ticks": ""
             }
            },
            "type": "scattercarpet"
           }
          ],
          "scattergeo": [
           {
            "marker": {
             "colorbar": {
              "outlinewidth": 0,
              "ticks": ""
             }
            },
            "type": "scattergeo"
           }
          ],
          "scattergl": [
           {
            "marker": {
             "colorbar": {
              "outlinewidth": 0,
              "ticks": ""
             }
            },
            "type": "scattergl"
           }
          ],
          "scattermapbox": [
           {
            "marker": {
             "colorbar": {
              "outlinewidth": 0,
              "ticks": ""
             }
            },
            "type": "scattermapbox"
           }
          ],
          "scatterpolar": [
           {
            "marker": {
             "colorbar": {
              "outlinewidth": 0,
              "ticks": ""
             }
            },
            "type": "scatterpolar"
           }
          ],
          "scatterpolargl": [
           {
            "marker": {
             "colorbar": {
              "outlinewidth": 0,
              "ticks": ""
             }
            },
            "type": "scatterpolargl"
           }
          ],
          "scatterternary": [
           {
            "marker": {
             "colorbar": {
              "outlinewidth": 0,
              "ticks": ""
             }
            },
            "type": "scatterternary"
           }
          ],
          "surface": [
           {
            "colorbar": {
             "outlinewidth": 0,
             "ticks": ""
            },
            "colorscale": [
             [
              0,
              "#0d0887"
             ],
             [
              0.1111111111111111,
              "#46039f"
             ],
             [
              0.2222222222222222,
              "#7201a8"
             ],
             [
              0.3333333333333333,
              "#9c179e"
             ],
             [
              0.4444444444444444,
              "#bd3786"
             ],
             [
              0.5555555555555556,
              "#d8576b"
             ],
             [
              0.6666666666666666,
              "#ed7953"
             ],
             [
              0.7777777777777778,
              "#fb9f3a"
             ],
             [
              0.8888888888888888,
              "#fdca26"
             ],
             [
              1,
              "#f0f921"
             ]
            ],
            "type": "surface"
           }
          ],
          "table": [
           {
            "cells": {
             "fill": {
              "color": "#EBF0F8"
             },
             "line": {
              "color": "white"
             }
            },
            "header": {
             "fill": {
              "color": "#C8D4E3"
             },
             "line": {
              "color": "white"
             }
            },
            "type": "table"
           }
          ]
         },
         "layout": {
          "annotationdefaults": {
           "arrowcolor": "#2a3f5f",
           "arrowhead": 0,
           "arrowwidth": 1
          },
          "autotypenumbers": "strict",
          "coloraxis": {
           "colorbar": {
            "outlinewidth": 0,
            "ticks": ""
           }
          },
          "colorscale": {
           "diverging": [
            [
             0,
             "#8e0152"
            ],
            [
             0.1,
             "#c51b7d"
            ],
            [
             0.2,
             "#de77ae"
            ],
            [
             0.3,
             "#f1b6da"
            ],
            [
             0.4,
             "#fde0ef"
            ],
            [
             0.5,
             "#f7f7f7"
            ],
            [
             0.6,
             "#e6f5d0"
            ],
            [
             0.7,
             "#b8e186"
            ],
            [
             0.8,
             "#7fbc41"
            ],
            [
             0.9,
             "#4d9221"
            ],
            [
             1,
             "#276419"
            ]
           ],
           "sequential": [
            [
             0,
             "#0d0887"
            ],
            [
             0.1111111111111111,
             "#46039f"
            ],
            [
             0.2222222222222222,
             "#7201a8"
            ],
            [
             0.3333333333333333,
             "#9c179e"
            ],
            [
             0.4444444444444444,
             "#bd3786"
            ],
            [
             0.5555555555555556,
             "#d8576b"
            ],
            [
             0.6666666666666666,
             "#ed7953"
            ],
            [
             0.7777777777777778,
             "#fb9f3a"
            ],
            [
             0.8888888888888888,
             "#fdca26"
            ],
            [
             1,
             "#f0f921"
            ]
           ],
           "sequentialminus": [
            [
             0,
             "#0d0887"
            ],
            [
             0.1111111111111111,
             "#46039f"
            ],
            [
             0.2222222222222222,
             "#7201a8"
            ],
            [
             0.3333333333333333,
             "#9c179e"
            ],
            [
             0.4444444444444444,
             "#bd3786"
            ],
            [
             0.5555555555555556,
             "#d8576b"
            ],
            [
             0.6666666666666666,
             "#ed7953"
            ],
            [
             0.7777777777777778,
             "#fb9f3a"
            ],
            [
             0.8888888888888888,
             "#fdca26"
            ],
            [
             1,
             "#f0f921"
            ]
           ]
          },
          "colorway": [
           "#636efa",
           "#EF553B",
           "#00cc96",
           "#ab63fa",
           "#FFA15A",
           "#19d3f3",
           "#FF6692",
           "#B6E880",
           "#FF97FF",
           "#FECB52"
          ],
          "font": {
           "color": "#2a3f5f"
          },
          "geo": {
           "bgcolor": "white",
           "lakecolor": "white",
           "landcolor": "#E5ECF6",
           "showlakes": true,
           "showland": true,
           "subunitcolor": "white"
          },
          "hoverlabel": {
           "align": "left"
          },
          "hovermode": "closest",
          "mapbox": {
           "style": "light"
          },
          "paper_bgcolor": "white",
          "plot_bgcolor": "#E5ECF6",
          "polar": {
           "angularaxis": {
            "gridcolor": "white",
            "linecolor": "white",
            "ticks": ""
           },
           "bgcolor": "#E5ECF6",
           "radialaxis": {
            "gridcolor": "white",
            "linecolor": "white",
            "ticks": ""
           }
          },
          "scene": {
           "xaxis": {
            "backgroundcolor": "#E5ECF6",
            "gridcolor": "white",
            "gridwidth": 2,
            "linecolor": "white",
            "showbackground": true,
            "ticks": "",
            "zerolinecolor": "white"
           },
           "yaxis": {
            "backgroundcolor": "#E5ECF6",
            "gridcolor": "white",
            "gridwidth": 2,
            "linecolor": "white",
            "showbackground": true,
            "ticks": "",
            "zerolinecolor": "white"
           },
           "zaxis": {
            "backgroundcolor": "#E5ECF6",
            "gridcolor": "white",
            "gridwidth": 2,
            "linecolor": "white",
            "showbackground": true,
            "ticks": "",
            "zerolinecolor": "white"
           }
          },
          "shapedefaults": {
           "line": {
            "color": "#2a3f5f"
           }
          },
          "ternary": {
           "aaxis": {
            "gridcolor": "white",
            "linecolor": "white",
            "ticks": ""
           },
           "baxis": {
            "gridcolor": "white",
            "linecolor": "white",
            "ticks": ""
           },
           "bgcolor": "#E5ECF6",
           "caxis": {
            "gridcolor": "white",
            "linecolor": "white",
            "ticks": ""
           }
          },
          "title": {
           "x": 0.05
          },
          "xaxis": {
           "automargin": true,
           "gridcolor": "white",
           "linecolor": "white",
           "ticks": "",
           "title": {
            "standoff": 15
           },
           "zerolinecolor": "white",
           "zerolinewidth": 2
          },
          "yaxis": {
           "automargin": true,
           "gridcolor": "white",
           "linecolor": "white",
           "ticks": "",
           "title": {
            "standoff": 15
           },
           "zerolinecolor": "white",
           "zerolinewidth": 2
          }
         }
        },
        "title": {
         "font": {
          "family": "Times New Roman"
         },
         "text": "Top 10 countries by H1-B visas issued (Fiscal Year 2022)"
        },
        "xaxis": {
         "title": {
          "text": "Number of visas issued"
         }
        },
        "yaxis": {
         "categoryorder": "total ascending",
         "tickangle": 0,
         "tickfont": {
          "size": 6
         },
         "ticklabelstep": 1,
         "title": {
          "text": "Country"
         }
        }
       }
      }
     },
     "metadata": {},
     "output_type": "display_data"
    }
   ],
   "source": [
    "# Let's plot a bar graph of the countries that had the most recipients of H1-B visas in 2022\n",
    "fig = go.Figure(go.Bar(\n",
    "    x=top_10_h1b_worldwide['H1B'],\n",
    "    y=top_10_h1b_worldwide['Country'],\n",
    "    orientation='h',\n",
    "    marker_color='green')\n",
    ")\n",
    "\n",
    "# update graph appearance by creating a title, displaying it ascending from the top down, adjusting text angle next to the bars\n",
    "# adjust how far apart the y-axis labels are\n",
    "# adjust font family of the title\n",
    "fig.update_layout(\n",
    "    title='Top 10 countries by H1-B visas issued (Fiscal Year 2022)',\n",
    "    xaxis=dict(title='Number of visas issued'),\n",
    "    yaxis=dict(\n",
    "        categoryorder='total ascending',\n",
    "        tickangle=0,\n",
    "        ticklabelstep=1,\n",
    "        title='Country'),\n",
    "    titlefont={'family': 'Times New Roman'}\n",
    ")\n",
    "\n",
    "# make font smaller on the y-axis using tickfont.size so that all country names are printed out\n",
    "# change text family of the hover label to Times New Roman\n",
    "fig.layout.yaxis.tickfont.size = 6 # type: ignore\n",
    "fig.layout.hoverlabel.font.family = 'Times New Roman' # type: ignore\n",
    "fig.show()"
   ]
  },
  {
   "cell_type": "code",
   "execution_count": 33,
   "metadata": {},
   "outputs": [
    {
     "data": {
      "application/vnd.plotly.v1+json": {
       "config": {
        "plotlyServerURL": "https://plot.ly"
       },
       "data": [
        {
         "marker": {
          "color": "red"
         },
         "orientation": "v",
         "type": "bar",
         "x": [
          "Mexico",
          "India",
          "Brazil",
          "Argentina",
          "Philippines",
          "Ecuador",
          "China - mainland",
          "Colombia",
          "Israel",
          "Vietnam"
         ],
         "y": [
          1728613,
          764966,
          695575,
          221902,
          194983,
          187107,
          161189,
          161063,
          141032,
          96674
         ]
        }
       ],
       "layout": {
        "hoverlabel": {
         "font": {
          "family": "Times New Roman"
         }
        },
        "template": {
         "data": {
          "bar": [
           {
            "error_x": {
             "color": "#2a3f5f"
            },
            "error_y": {
             "color": "#2a3f5f"
            },
            "marker": {
             "line": {
              "color": "#E5ECF6",
              "width": 0.5
             },
             "pattern": {
              "fillmode": "overlay",
              "size": 10,
              "solidity": 0.2
             }
            },
            "type": "bar"
           }
          ],
          "barpolar": [
           {
            "marker": {
             "line": {
              "color": "#E5ECF6",
              "width": 0.5
             },
             "pattern": {
              "fillmode": "overlay",
              "size": 10,
              "solidity": 0.2
             }
            },
            "type": "barpolar"
           }
          ],
          "carpet": [
           {
            "aaxis": {
             "endlinecolor": "#2a3f5f",
             "gridcolor": "white",
             "linecolor": "white",
             "minorgridcolor": "white",
             "startlinecolor": "#2a3f5f"
            },
            "baxis": {
             "endlinecolor": "#2a3f5f",
             "gridcolor": "white",
             "linecolor": "white",
             "minorgridcolor": "white",
             "startlinecolor": "#2a3f5f"
            },
            "type": "carpet"
           }
          ],
          "choropleth": [
           {
            "colorbar": {
             "outlinewidth": 0,
             "ticks": ""
            },
            "type": "choropleth"
           }
          ],
          "contour": [
           {
            "colorbar": {
             "outlinewidth": 0,
             "ticks": ""
            },
            "colorscale": [
             [
              0,
              "#0d0887"
             ],
             [
              0.1111111111111111,
              "#46039f"
             ],
             [
              0.2222222222222222,
              "#7201a8"
             ],
             [
              0.3333333333333333,
              "#9c179e"
             ],
             [
              0.4444444444444444,
              "#bd3786"
             ],
             [
              0.5555555555555556,
              "#d8576b"
             ],
             [
              0.6666666666666666,
              "#ed7953"
             ],
             [
              0.7777777777777778,
              "#fb9f3a"
             ],
             [
              0.8888888888888888,
              "#fdca26"
             ],
             [
              1,
              "#f0f921"
             ]
            ],
            "type": "contour"
           }
          ],
          "contourcarpet": [
           {
            "colorbar": {
             "outlinewidth": 0,
             "ticks": ""
            },
            "type": "contourcarpet"
           }
          ],
          "heatmap": [
           {
            "colorbar": {
             "outlinewidth": 0,
             "ticks": ""
            },
            "colorscale": [
             [
              0,
              "#0d0887"
             ],
             [
              0.1111111111111111,
              "#46039f"
             ],
             [
              0.2222222222222222,
              "#7201a8"
             ],
             [
              0.3333333333333333,
              "#9c179e"
             ],
             [
              0.4444444444444444,
              "#bd3786"
             ],
             [
              0.5555555555555556,
              "#d8576b"
             ],
             [
              0.6666666666666666,
              "#ed7953"
             ],
             [
              0.7777777777777778,
              "#fb9f3a"
             ],
             [
              0.8888888888888888,
              "#fdca26"
             ],
             [
              1,
              "#f0f921"
             ]
            ],
            "type": "heatmap"
           }
          ],
          "heatmapgl": [
           {
            "colorbar": {
             "outlinewidth": 0,
             "ticks": ""
            },
            "colorscale": [
             [
              0,
              "#0d0887"
             ],
             [
              0.1111111111111111,
              "#46039f"
             ],
             [
              0.2222222222222222,
              "#7201a8"
             ],
             [
              0.3333333333333333,
              "#9c179e"
             ],
             [
              0.4444444444444444,
              "#bd3786"
             ],
             [
              0.5555555555555556,
              "#d8576b"
             ],
             [
              0.6666666666666666,
              "#ed7953"
             ],
             [
              0.7777777777777778,
              "#fb9f3a"
             ],
             [
              0.8888888888888888,
              "#fdca26"
             ],
             [
              1,
              "#f0f921"
             ]
            ],
            "type": "heatmapgl"
           }
          ],
          "histogram": [
           {
            "marker": {
             "pattern": {
              "fillmode": "overlay",
              "size": 10,
              "solidity": 0.2
             }
            },
            "type": "histogram"
           }
          ],
          "histogram2d": [
           {
            "colorbar": {
             "outlinewidth": 0,
             "ticks": ""
            },
            "colorscale": [
             [
              0,
              "#0d0887"
             ],
             [
              0.1111111111111111,
              "#46039f"
             ],
             [
              0.2222222222222222,
              "#7201a8"
             ],
             [
              0.3333333333333333,
              "#9c179e"
             ],
             [
              0.4444444444444444,
              "#bd3786"
             ],
             [
              0.5555555555555556,
              "#d8576b"
             ],
             [
              0.6666666666666666,
              "#ed7953"
             ],
             [
              0.7777777777777778,
              "#fb9f3a"
             ],
             [
              0.8888888888888888,
              "#fdca26"
             ],
             [
              1,
              "#f0f921"
             ]
            ],
            "type": "histogram2d"
           }
          ],
          "histogram2dcontour": [
           {
            "colorbar": {
             "outlinewidth": 0,
             "ticks": ""
            },
            "colorscale": [
             [
              0,
              "#0d0887"
             ],
             [
              0.1111111111111111,
              "#46039f"
             ],
             [
              0.2222222222222222,
              "#7201a8"
             ],
             [
              0.3333333333333333,
              "#9c179e"
             ],
             [
              0.4444444444444444,
              "#bd3786"
             ],
             [
              0.5555555555555556,
              "#d8576b"
             ],
             [
              0.6666666666666666,
              "#ed7953"
             ],
             [
              0.7777777777777778,
              "#fb9f3a"
             ],
             [
              0.8888888888888888,
              "#fdca26"
             ],
             [
              1,
              "#f0f921"
             ]
            ],
            "type": "histogram2dcontour"
           }
          ],
          "mesh3d": [
           {
            "colorbar": {
             "outlinewidth": 0,
             "ticks": ""
            },
            "type": "mesh3d"
           }
          ],
          "parcoords": [
           {
            "line": {
             "colorbar": {
              "outlinewidth": 0,
              "ticks": ""
             }
            },
            "type": "parcoords"
           }
          ],
          "pie": [
           {
            "automargin": true,
            "type": "pie"
           }
          ],
          "scatter": [
           {
            "fillpattern": {
             "fillmode": "overlay",
             "size": 10,
             "solidity": 0.2
            },
            "type": "scatter"
           }
          ],
          "scatter3d": [
           {
            "line": {
             "colorbar": {
              "outlinewidth": 0,
              "ticks": ""
             }
            },
            "marker": {
             "colorbar": {
              "outlinewidth": 0,
              "ticks": ""
             }
            },
            "type": "scatter3d"
           }
          ],
          "scattercarpet": [
           {
            "marker": {
             "colorbar": {
              "outlinewidth": 0,
              "ticks": ""
             }
            },
            "type": "scattercarpet"
           }
          ],
          "scattergeo": [
           {
            "marker": {
             "colorbar": {
              "outlinewidth": 0,
              "ticks": ""
             }
            },
            "type": "scattergeo"
           }
          ],
          "scattergl": [
           {
            "marker": {
             "colorbar": {
              "outlinewidth": 0,
              "ticks": ""
             }
            },
            "type": "scattergl"
           }
          ],
          "scattermapbox": [
           {
            "marker": {
             "colorbar": {
              "outlinewidth": 0,
              "ticks": ""
             }
            },
            "type": "scattermapbox"
           }
          ],
          "scatterpolar": [
           {
            "marker": {
             "colorbar": {
              "outlinewidth": 0,
              "ticks": ""
             }
            },
            "type": "scatterpolar"
           }
          ],
          "scatterpolargl": [
           {
            "marker": {
             "colorbar": {
              "outlinewidth": 0,
              "ticks": ""
             }
            },
            "type": "scatterpolargl"
           }
          ],
          "scatterternary": [
           {
            "marker": {
             "colorbar": {
              "outlinewidth": 0,
              "ticks": ""
             }
            },
            "type": "scatterternary"
           }
          ],
          "surface": [
           {
            "colorbar": {
             "outlinewidth": 0,
             "ticks": ""
            },
            "colorscale": [
             [
              0,
              "#0d0887"
             ],
             [
              0.1111111111111111,
              "#46039f"
             ],
             [
              0.2222222222222222,
              "#7201a8"
             ],
             [
              0.3333333333333333,
              "#9c179e"
             ],
             [
              0.4444444444444444,
              "#bd3786"
             ],
             [
              0.5555555555555556,
              "#d8576b"
             ],
             [
              0.6666666666666666,
              "#ed7953"
             ],
             [
              0.7777777777777778,
              "#fb9f3a"
             ],
             [
              0.8888888888888888,
              "#fdca26"
             ],
             [
              1,
              "#f0f921"
             ]
            ],
            "type": "surface"
           }
          ],
          "table": [
           {
            "cells": {
             "fill": {
              "color": "#EBF0F8"
             },
             "line": {
              "color": "white"
             }
            },
            "header": {
             "fill": {
              "color": "#C8D4E3"
             },
             "line": {
              "color": "white"
             }
            },
            "type": "table"
           }
          ]
         },
         "layout": {
          "annotationdefaults": {
           "arrowcolor": "#2a3f5f",
           "arrowhead": 0,
           "arrowwidth": 1
          },
          "autotypenumbers": "strict",
          "coloraxis": {
           "colorbar": {
            "outlinewidth": 0,
            "ticks": ""
           }
          },
          "colorscale": {
           "diverging": [
            [
             0,
             "#8e0152"
            ],
            [
             0.1,
             "#c51b7d"
            ],
            [
             0.2,
             "#de77ae"
            ],
            [
             0.3,
             "#f1b6da"
            ],
            [
             0.4,
             "#fde0ef"
            ],
            [
             0.5,
             "#f7f7f7"
            ],
            [
             0.6,
             "#e6f5d0"
            ],
            [
             0.7,
             "#b8e186"
            ],
            [
             0.8,
             "#7fbc41"
            ],
            [
             0.9,
             "#4d9221"
            ],
            [
             1,
             "#276419"
            ]
           ],
           "sequential": [
            [
             0,
             "#0d0887"
            ],
            [
             0.1111111111111111,
             "#46039f"
            ],
            [
             0.2222222222222222,
             "#7201a8"
            ],
            [
             0.3333333333333333,
             "#9c179e"
            ],
            [
             0.4444444444444444,
             "#bd3786"
            ],
            [
             0.5555555555555556,
             "#d8576b"
            ],
            [
             0.6666666666666666,
             "#ed7953"
            ],
            [
             0.7777777777777778,
             "#fb9f3a"
            ],
            [
             0.8888888888888888,
             "#fdca26"
            ],
            [
             1,
             "#f0f921"
            ]
           ],
           "sequentialminus": [
            [
             0,
             "#0d0887"
            ],
            [
             0.1111111111111111,
             "#46039f"
            ],
            [
             0.2222222222222222,
             "#7201a8"
            ],
            [
             0.3333333333333333,
             "#9c179e"
            ],
            [
             0.4444444444444444,
             "#bd3786"
            ],
            [
             0.5555555555555556,
             "#d8576b"
            ],
            [
             0.6666666666666666,
             "#ed7953"
            ],
            [
             0.7777777777777778,
             "#fb9f3a"
            ],
            [
             0.8888888888888888,
             "#fdca26"
            ],
            [
             1,
             "#f0f921"
            ]
           ]
          },
          "colorway": [
           "#636efa",
           "#EF553B",
           "#00cc96",
           "#ab63fa",
           "#FFA15A",
           "#19d3f3",
           "#FF6692",
           "#B6E880",
           "#FF97FF",
           "#FECB52"
          ],
          "font": {
           "color": "#2a3f5f"
          },
          "geo": {
           "bgcolor": "white",
           "lakecolor": "white",
           "landcolor": "#E5ECF6",
           "showlakes": true,
           "showland": true,
           "subunitcolor": "white"
          },
          "hoverlabel": {
           "align": "left"
          },
          "hovermode": "closest",
          "mapbox": {
           "style": "light"
          },
          "paper_bgcolor": "white",
          "plot_bgcolor": "#E5ECF6",
          "polar": {
           "angularaxis": {
            "gridcolor": "white",
            "linecolor": "white",
            "ticks": ""
           },
           "bgcolor": "#E5ECF6",
           "radialaxis": {
            "gridcolor": "white",
            "linecolor": "white",
            "ticks": ""
           }
          },
          "scene": {
           "xaxis": {
            "backgroundcolor": "#E5ECF6",
            "gridcolor": "white",
            "gridwidth": 2,
            "linecolor": "white",
            "showbackground": true,
            "ticks": "",
            "zerolinecolor": "white"
           },
           "yaxis": {
            "backgroundcolor": "#E5ECF6",
            "gridcolor": "white",
            "gridwidth": 2,
            "linecolor": "white",
            "showbackground": true,
            "ticks": "",
            "zerolinecolor": "white"
           },
           "zaxis": {
            "backgroundcolor": "#E5ECF6",
            "gridcolor": "white",
            "gridwidth": 2,
            "linecolor": "white",
            "showbackground": true,
            "ticks": "",
            "zerolinecolor": "white"
           }
          },
          "shapedefaults": {
           "line": {
            "color": "#2a3f5f"
           }
          },
          "ternary": {
           "aaxis": {
            "gridcolor": "white",
            "linecolor": "white",
            "ticks": ""
           },
           "baxis": {
            "gridcolor": "white",
            "linecolor": "white",
            "ticks": ""
           },
           "bgcolor": "#E5ECF6",
           "caxis": {
            "gridcolor": "white",
            "linecolor": "white",
            "ticks": ""
           }
          },
          "title": {
           "x": 0.05
          },
          "xaxis": {
           "automargin": true,
           "gridcolor": "white",
           "linecolor": "white",
           "ticks": "",
           "title": {
            "standoff": 15
           },
           "zerolinecolor": "white",
           "zerolinewidth": 2
          },
          "yaxis": {
           "automargin": true,
           "gridcolor": "white",
           "linecolor": "white",
           "ticks": "",
           "title": {
            "standoff": 15
           },
           "zerolinecolor": "white",
           "zerolinewidth": 2
          }
         }
        },
        "title": {
         "font": {
          "family": "Times New Roman"
         },
         "text": "Top 10 countries by nonimmigrant visas issued (Fiscal Year 2022)"
        },
        "xaxis": {
         "title": {
          "text": "Country"
         }
        },
        "yaxis": {
         "categoryorder": "total ascending",
         "tickangle": 0,
         "tickfont": {
          "size": 6
         },
         "ticklabelstep": 1,
         "title": {
          "text": "Number of visas issued"
         }
        }
       }
      }
     },
     "metadata": {},
     "output_type": "display_data"
    }
   ],
   "source": [
    "# Let's plot a bar graph of the countries that had the most recipients of H1-B visas in 2022\n",
    "fig = go.Figure(go.Bar(\n",
    "    x=top_10_worldwide['Country'],\n",
    "    y=top_10_worldwide['Grand Total'],\n",
    "    orientation='v',\n",
    "    marker_color='red')\n",
    ")\n",
    "\n",
    "# update graph appearance by creating a title, displaying it ascending from the top down, adjusting text angle next to the bars\n",
    "# adjust how far apart the y-axis labels are\n",
    "# adjust font family of the title\n",
    "fig.update_layout(\n",
    "    title='Top 10 countries by nonimmigrant visas issued (Fiscal Year 2022)',\n",
    "    xaxis=dict(title='Country'),\n",
    "    yaxis=dict(\n",
    "        categoryorder='total ascending',\n",
    "        tickangle=0,\n",
    "        ticklabelstep=1,\n",
    "        title='Number of visas issued'),\n",
    "    titlefont={'family': 'Times New Roman'}\n",
    ")\n",
    "\n",
    "# make font smaller on the y-axis using tickfont.size so that all country names are printed out\n",
    "# change text family of the hover label to Times New Roman\n",
    "fig.layout.yaxis.tickfont.size = 6 # type: ignore\n",
    "fig.layout.hoverlabel.font.family = 'Times New Roman' # type: ignore\n",
    "fig.show()"
   ]
  },
  {
   "cell_type": "code",
   "execution_count": 34,
   "metadata": {},
   "outputs": [],
   "source": [
    "total_nivs_issued = final_data['Grand Total'].sum()\n",
    "total_f1s_issued = final_data['F1'].sum()\n",
    "total_h1bs_issued = final_data['H1B'].sum()"
   ]
  },
  {
   "cell_type": "code",
   "execution_count": 35,
   "metadata": {},
   "outputs": [
    {
     "name": "stdout",
     "output_type": "stream",
     "text": [
      "6.03% of all nonimmigrant visas issued in 2022 were F1 visas.\n",
      "3.02% of all nonimmigrant visas issued in 2022 were H1-B visas.\n"
     ]
    }
   ],
   "source": [
    "print(f\"{total_f1s_issued / total_nivs_issued * 100:.2f}% of all nonimmigrant visas issued in 2022 were F1 visas.\")\n",
    "print(f\"{total_h1bs_issued / total_nivs_issued * 100:.2f}% of all nonimmigrant visas issued in 2022 were H1-B visas.\")"
   ]
  },
  {
   "cell_type": "code",
   "execution_count": 36,
   "metadata": {},
   "outputs": [
    {
     "name": "stdout",
     "output_type": "stream",
     "text": [
      "India: 21.74%\n",
      "China - mainland: 3.77%\n",
      "Philippines: 1.10%\n",
      "Korea, South: 3.59%\n",
      "Mexico: 0.12%\n",
      "Brazil: 0.29%\n",
      "Great Britain and Northern Ireland: 2.19%\n",
      "France: 3.07%\n",
      "Taiwan: 4.81%\n",
      "Pakistan: 1.53%\n"
     ]
    }
   ],
   "source": [
    "# for top 10 countries in H1-B data, what share of the total visas granted to them were H1-B visas?\n",
    "for x in top_10_h1b_worldwide['Country']:\n",
    "    print(f\"{x}: {final_data[final_data['Country'] == x]['H1B'].values[0] / final_data[final_data['Country'] == x]['Grand Total'].values[0] * 100:.2f}%\")"
   ]
  },
  {
   "cell_type": "code",
   "execution_count": 37,
   "metadata": {},
   "outputs": [
    {
     "name": "stdout",
     "output_type": "stream",
     "text": [
      "Afghanistan: 1.02%\n",
      "Albania: 0.33%\n",
      "Algeria: 0.14%\n",
      "Andorra: 1.89%\n",
      "Angola: 0.25%\n",
      "Antigua and Barbuda: 0.37%\n",
      "Argentina: 0.18%\n",
      "Armenia: 0.44%\n",
      "Australia: 1.63%\n",
      "Austria: 1.79%\n",
      "Azerbaijan: 0.71%\n",
      "Bahamas, The: 0.69%\n",
      "Bahrain: 0.34%\n",
      "Bangladesh: 0.99%\n",
      "Barbados: 0.33%\n",
      "Belarus: 0.45%\n",
      "Belgium: 1.61%\n",
      "Belize: 0.03%\n",
      "Benin: 0.22%\n",
      "Bhutan: 1.11%\n",
      "Bolivia: 0.25%\n",
      "Bosnia-Herzegovina: 0.52%\n",
      "Botswana: 0.99%\n",
      "Brazil: 0.29%\n",
      "Brunei: 0.45%\n",
      "Bulgaria: 0.36%\n",
      "Burkina Faso: 0.30%\n",
      "Burma: 0.21%\n",
      "Burundi: 0.35%\n",
      "Cabo Verde: 0.19%\n",
      "Cambodia: 0.16%\n",
      "Cameroon: 0.80%\n",
      "Canada: 0.50%\n",
      "Central African Republic: 0.00%\n",
      "Chad: 0.42%\n",
      "Chile: 1.97%\n",
      "China - mainland: 3.77%\n",
      "Colombia: 0.57%\n",
      "Comoros: 0.00%\n",
      "Congo, Democratic Republic of the: 0.38%\n",
      "Congo, Republic of the: 0.00%\n",
      "Costa Rica: 0.34%\n",
      "Cote d'Ivoire: 0.55%\n",
      "Croatia: 1.21%\n",
      "Cuba: 0.10%\n",
      "Cyprus: 0.95%\n",
      "Czech Republic: 1.58%\n",
      "Denmark: 1.04%\n",
      "Djibouti: 0.00%\n",
      "Dominica: 0.81%\n",
      "Dominican Republic: 0.20%\n",
      "Ecuador: 0.12%\n",
      "Egypt: 0.69%\n",
      "El Salvador: 0.21%\n",
      "Equatorial Guinea: 0.19%\n",
      "Eritrea: 0.12%\n",
      "Estonia: 1.12%\n",
      "Eswatini: 0.75%\n",
      "Ethiopia: 0.43%\n",
      "Fiji: 0.09%\n",
      "Finland: 1.51%\n",
      "France: 3.07%\n",
      "Gabon: 0.08%\n",
      "Gambia, The: 0.32%\n",
      "Georgia: 0.91%\n",
      "Germany: 1.76%\n",
      "Ghana: 1.13%\n",
      "Great Britain and Northern Ireland: 2.19%\n",
      "Greece: 8.95%\n",
      "Grenada: 0.72%\n",
      "Guatemala: 0.12%\n",
      "Guinea: 0.00%\n",
      "Guinea-Bissau: 0.00%\n",
      "Guyana: 0.17%\n",
      "Haiti: 0.08%\n",
      "Honduras: 0.20%\n",
      "Hong Kong S.A.R.: 0.56%\n",
      "Hungary: 1.62%\n",
      "Iceland: 1.87%\n",
      "India: 21.74%\n",
      "Indonesia: 0.29%\n",
      "Iran: 0.81%\n",
      "Iraq: 0.62%\n",
      "Ireland: 3.58%\n",
      "Israel: 0.23%\n",
      "Italy: 3.21%\n",
      "Jamaica: 0.68%\n",
      "Japan: 1.09%\n",
      "Jordan: 1.30%\n",
      "Kazakhstan: 0.37%\n",
      "Kenya: 1.97%\n",
      "Kiribati: 0.00%\n",
      "Korea, North: 0.00%\n",
      "Korea, South: 3.59%\n",
      "Kosovo: 0.18%\n",
      "Kuwait: 0.10%\n",
      "Kyrgyzstan: 0.45%\n",
      "Laos: 0.00%\n",
      "Latvia: 1.29%\n",
      "Lebanon: 1.55%\n",
      "Lesotho: 0.44%\n",
      "Liberia: 0.00%\n",
      "Libya: 1.39%\n",
      "Liechtenstein: 3.77%\n",
      "Lithuania: 1.69%\n",
      "Luxembourg: 1.77%\n",
      "Macau S.A.R.: 1.86%\n",
      "Madagascar: 0.51%\n",
      "Malawi: 0.47%\n",
      "Malaysia: 1.34%\n",
      "Maldives: 0.00%\n",
      "Mali: 0.23%\n",
      "Malta: 2.33%\n",
      "Marshall Islands: 0.00%\n",
      "Mauritania: 0.74%\n",
      "Mauritius: 1.01%\n",
      "Mexico: 0.12%\n",
      "Micronesia: 0.00%\n",
      "Moldova: 0.33%\n",
      "Monaco: 2.63%\n",
      "Mongolia: 0.62%\n",
      "Montenegro: 0.26%\n",
      "Morocco: 0.38%\n",
      "Mozambique: 0.33%\n",
      "Namibia: 0.15%\n",
      "Nauru: 0.00%\n",
      "Nepal: 2.21%\n",
      "Netherlands: 1.78%\n",
      "New Zealand: 2.37%\n",
      "Nicaragua: 0.20%\n",
      "Niger: 0.50%\n",
      "Nigeria: 0.70%\n",
      "No Nationality: 0.24%\n",
      "North Macedonia: 0.37%\n",
      "Norway: 0.82%\n",
      "Oman: 0.13%\n",
      "Pakistan: 1.53%\n",
      "Palau: 0.00%\n",
      "Palestinian Authority Travel Document: 0.41%\n",
      "Panama: 0.24%\n",
      "Papua New Guinea: 0.00%\n",
      "Paraguay: 0.24%\n",
      "Peru: 0.39%\n",
      "Philippines: 1.10%\n",
      "Poland: 1.41%\n",
      "Portugal: 3.10%\n",
      "Qatar: 0.03%\n",
      "Romania: 0.21%\n",
      "Russia: 0.78%\n",
      "Rwanda: 1.78%\n",
      "Saint Kitts and Nevis: 0.72%\n",
      "Saint Lucia: 0.73%\n",
      "Saint Vincent and the Grenadines: 0.27%\n",
      "Samoa: 0.00%\n",
      "San Marino: 0.00%\n",
      "Sao Tome and Principe: 0.00%\n",
      "Saudi Arabia: 0.28%\n",
      "Senegal: 0.60%\n",
      "Serbia: 0.74%\n",
      "Seychelles: 0.00%\n",
      "Sierra Leone: 0.06%\n",
      "Singapore: 5.21%\n",
      "Slovakia: 1.64%\n",
      "Slovenia: 3.12%\n",
      "Solomon Islands: 1.37%\n",
      "Somalia: 0.00%\n",
      "South Africa: 0.46%\n",
      "South Sudan: 0.00%\n",
      "Spain: 2.87%\n",
      "Sri Lanka: 1.38%\n",
      "Sudan: 1.43%\n",
      "Suriname: 0.10%\n",
      "Sweden: 1.62%\n",
      "Switzerland: 1.48%\n",
      "Syria: 0.67%\n",
      "Taiwan: 4.81%\n",
      "Tajikistan: 0.41%\n",
      "Tanzania: 0.63%\n",
      "Thailand: 0.48%\n",
      "Timor-Leste: 0.00%\n",
      "Togo: 0.40%\n",
      "Tonga: 0.00%\n",
      "Trinidad and Tobago: 0.44%\n",
      "Tunisia: 0.76%\n",
      "Turkey: 1.00%\n",
      "Turkmenistan: 1.97%\n",
      "Tuvalu: 0.00%\n",
      "Uganda: 0.60%\n",
      "Ukraine: 0.55%\n",
      "United Arab Emirates: 0.01%\n",
      "United Nations Laissez-Passer: 0.00%\n",
      "Uruguay: 0.22%\n",
      "Uzbekistan: 0.22%\n",
      "Vanuatu: 0.00%\n",
      "Vatican City: 0.00%\n",
      "Venezuela: 0.66%\n",
      "Vietnam: 0.49%\n",
      "Yemen: 0.22%\n",
      "Zambia: 0.27%\n",
      "Zimbabwe: 0.90%\n"
     ]
    }
   ],
   "source": [
    "# for all countries, what share of the total visas granted to them were H1-B visas?\n",
    "for x in final_data['Country']:\n",
    "    print(f\"{x}: {final_data[final_data['Country'] == x]['H1B'].values[0] / final_data[final_data['Country'] == x]['Grand Total'].values[0] * 100:.2f}%\")"
   ]
  },
  {
   "cell_type": "code",
   "execution_count": 40,
   "metadata": {},
   "outputs": [
    {
     "name": "stdout",
     "output_type": "stream",
     "text": [
      "Afghanistan: 20.77%\n",
      "Albania: 3.45%\n",
      "Algeria: 1.95%\n",
      "Andorra: 24.53%\n",
      "Angola: 10.71%\n",
      "Antigua and Barbuda: 3.64%\n",
      "Argentina: 0.88%\n",
      "Armenia: 5.92%\n",
      "Australia: 5.54%\n",
      "Austria: 10.20%\n",
      "Azerbaijan: 11.60%\n",
      "Bahamas, The: 9.21%\n",
      "Bahrain: 2.24%\n",
      "Bangladesh: 26.55%\n",
      "Barbados: 2.28%\n",
      "Belarus: 4.65%\n",
      "Belgium: 9.02%\n",
      "Belize: 1.98%\n",
      "Benin: 11.83%\n",
      "Bhutan: 24.17%\n",
      "Bolivia: 2.00%\n",
      "Bosnia-Herzegovina: 1.98%\n",
      "Botswana: 8.66%\n",
      "Brazil: 1.41%\n",
      "Brunei: 5.41%\n",
      "Bulgaria: 1.60%\n",
      "Burkina Faso: 9.02%\n",
      "Burma: 29.13%\n",
      "Burundi: 15.64%\n",
      "Cabo Verde: 1.74%\n",
      "Cambodia: 8.12%\n",
      "Cameroon: 7.34%\n",
      "Canada: 1.84%\n",
      "Central African Republic: 4.09%\n",
      "Chad: 7.68%\n",
      "Chile: 16.50%\n",
      "China - mainland: 38.40%\n",
      "Colombia: 4.37%\n",
      "Comoros: 2.61%\n",
      "Congo, Democratic Republic of the: 17.93%\n",
      "Congo, Republic of the: 8.21%\n",
      "Costa Rica: 0.99%\n",
      "Cote d'Ivoire: 9.12%\n",
      "Croatia: 4.82%\n",
      "Cuba: 2.90%\n",
      "Cyprus: 4.89%\n",
      "Czech Republic: 8.48%\n",
      "Denmark: 12.54%\n",
      "Djibouti: 1.51%\n",
      "Dominica: 6.03%\n",
      "Dominican Republic: 1.89%\n",
      "Ecuador: 1.01%\n",
      "Egypt: 2.55%\n",
      "El Salvador: 0.89%\n",
      "Equatorial Guinea: 17.31%\n",
      "Eritrea: 18.87%\n",
      "Estonia: 6.07%\n",
      "Eswatini: 8.94%\n",
      "Ethiopia: 12.23%\n",
      "Fiji: 0.81%\n",
      "Finland: 9.13%\n",
      "France: 16.07%\n",
      "Gabon: 9.01%\n",
      "Gambia, The: 10.16%\n",
      "Georgia: 9.44%\n",
      "Germany: 12.94%\n",
      "Ghana: 16.24%\n",
      "Great Britain and Northern Ireland: 6.25%\n",
      "Greece: 15.44%\n",
      "Grenada: 4.06%\n",
      "Guatemala: 1.10%\n",
      "Guinea: 2.22%\n",
      "Guinea-Bissau: 3.20%\n",
      "Guyana: 1.61%\n",
      "Haiti: 1.76%\n",
      "Honduras: 1.99%\n",
      "Hong Kong S.A.R.: 9.46%\n",
      "Hungary: 5.38%\n",
      "Iceland: 13.99%\n",
      "India: 15.05%\n",
      "Indonesia: 2.52%\n",
      "Iran: 34.23%\n",
      "Iraq: 3.52%\n",
      "Ireland: 5.20%\n",
      "Israel: 0.80%\n",
      "Italy: 17.53%\n",
      "Jamaica: 2.32%\n",
      "Japan: 19.57%\n",
      "Jordan: 5.78%\n",
      "Kazakhstan: 5.97%\n",
      "Kenya: 6.82%\n",
      "Kiribati: 5.83%\n",
      "Korea, North: 4.76%\n",
      "Korea, South: 30.33%\n",
      "Kosovo: 1.64%\n",
      "Kuwait: 8.66%\n",
      "Kyrgyzstan: 14.38%\n",
      "Laos: 3.99%\n",
      "Latvia: 5.37%\n",
      "Lebanon: 3.25%\n",
      "Lesotho: 7.96%\n",
      "Liberia: 9.97%\n",
      "Libya: 14.05%\n",
      "Liechtenstein: 24.53%\n",
      "Lithuania: 7.99%\n",
      "Luxembourg: 13.67%\n",
      "Macau S.A.R.: 34.98%\n",
      "Madagascar: 5.48%\n",
      "Malawi: 9.17%\n",
      "Malaysia: 4.85%\n",
      "Maldives: 2.77%\n",
      "Mali: 3.67%\n",
      "Malta: 11.08%\n",
      "Marshall Islands: 0.00%\n",
      "Mauritania: 3.82%\n",
      "Mauritius: 3.14%\n",
      "Mexico: 0.45%\n",
      "Micronesia: 0.00%\n",
      "Moldova: 1.91%\n",
      "Monaco: 15.79%\n",
      "Mongolia: 10.94%\n",
      "Montenegro: 2.23%\n",
      "Morocco: 3.67%\n",
      "Mozambique: 8.34%\n",
      "Namibia: 4.35%\n",
      "Nauru: 0.00%\n",
      "Nepal: 22.25%\n",
      "Netherlands: 13.60%\n",
      "New Zealand: 9.57%\n",
      "Nicaragua: 1.34%\n",
      "Niger: 13.40%\n",
      "Nigeria: 8.93%\n",
      "No Nationality: 6.42%\n",
      "North Macedonia: 1.97%\n",
      "Norway: 24.65%\n",
      "Oman: 11.06%\n",
      "Pakistan: 4.91%\n",
      "Palau: 0.00%\n",
      "Palestinian Authority Travel Document: 3.84%\n",
      "Panama: 5.08%\n",
      "Papua New Guinea: 8.55%\n",
      "Paraguay: 2.67%\n",
      "Peru: 3.62%\n",
      "Philippines: 0.63%\n",
      "Poland: 5.19%\n",
      "Portugal: 9.81%\n",
      "Qatar: 2.63%\n",
      "Romania: 0.94%\n",
      "Russia: 7.29%\n",
      "Rwanda: 17.82%\n",
      "Saint Kitts and Nevis: 4.04%\n",
      "Saint Lucia: 3.14%\n",
      "Saint Vincent and the Grenadines: 2.69%\n",
      "Samoa: 0.89%\n",
      "San Marino: 25.00%\n",
      "Sao Tome and Principe: 3.03%\n",
      "Saudi Arabia: 9.17%\n",
      "Senegal: 6.56%\n",
      "Serbia: 6.38%\n",
      "Seychelles: 7.75%\n",
      "Sierra Leone: 5.91%\n",
      "Singapore: 18.29%\n",
      "Slovakia: 8.60%\n",
      "Slovenia: 9.97%\n",
      "Solomon Islands: 1.37%\n",
      "Somalia: 20.10%\n",
      "South Africa: 2.98%\n",
      "South Sudan: 11.92%\n",
      "Spain: 16.95%\n",
      "Sri Lanka: 8.05%\n",
      "Sudan: 7.65%\n",
      "Suriname: 0.31%\n",
      "Sweden: 19.82%\n",
      "Switzerland: 22.90%\n",
      "Syria: 5.40%\n",
      "Taiwan: 27.07%\n",
      "Tajikistan: 4.62%\n",
      "Tanzania: 10.61%\n",
      "Thailand: 4.97%\n",
      "Timor-Leste: 3.85%\n",
      "Togo: 6.59%\n",
      "Tonga: 4.35%\n",
      "Trinidad and Tobago: 2.09%\n",
      "Tunisia: 8.59%\n",
      "Turkey: 4.37%\n",
      "Turkmenistan: 23.99%\n",
      "Tuvalu: 0.00%\n",
      "Uganda: 11.27%\n",
      "Ukraine: 4.44%\n",
      "United Arab Emirates: 2.92%\n",
      "United Nations Laissez-Passer: 0.00%\n",
      "Uruguay: 0.76%\n",
      "Uzbekistan: 9.17%\n",
      "Vanuatu: 1.47%\n",
      "Vatican City: 0.00%\n",
      "Venezuela: 3.15%\n",
      "Vietnam: 12.75%\n",
      "Yemen: 15.73%\n",
      "Zambia: 5.45%\n",
      "Zimbabwe: 7.64%\n"
     ]
    }
   ],
   "source": [
    "# for all countries, what share of the total visas granted to them were F1 visas?\n",
    "for x in final_data['Country']:\n",
    "    print(f\"{x}: {final_data[final_data['Country'] == x]['F1'].values[0] / final_data[final_data['Country'] == x]['Grand Total'].values[0] * 100:.2f}%\")"
   ]
  },
  {
   "cell_type": "code",
   "execution_count": 42,
   "metadata": {},
   "outputs": [
    {
     "name": "stdout",
     "output_type": "stream",
     "text": [
      "Afghanistan: 35.81%\n",
      "Albania: 86.76%\n",
      "Algeria: 91.84%\n",
      "Andorra: 5.66%\n",
      "Angola: 66.46%\n",
      "Antigua and Barbuda: 91.57%\n",
      "Argentina: 91.25%\n",
      "Armenia: 77.26%\n",
      "Australia: 14.76%\n",
      "Austria: 26.45%\n",
      "Azerbaijan: 63.67%\n",
      "Bahamas, The: 83.74%\n",
      "Bahrain: 76.57%\n",
      "Bangladesh: 52.51%\n",
      "Barbados: 88.25%\n",
      "Belarus: 66.02%\n",
      "Belgium: 22.86%\n",
      "Belize: 90.96%\n",
      "Benin: 69.74%\n",
      "Bhutan: 30.83%\n",
      "Bolivia: 93.98%\n",
      "Bosnia-Herzegovina: 66.14%\n",
      "Botswana: 61.44%\n",
      "Brazil: 91.01%\n",
      "Brunei: 13.96%\n",
      "Bulgaria: 67.56%\n",
      "Burkina Faso: 77.34%\n",
      "Burma: 13.48%\n",
      "Burundi: 59.86%\n",
      "Cabo Verde: 83.61%\n",
      "Cambodia: 79.91%\n",
      "Cameroon: 76.52%\n",
      "Canada: 1.49%\n",
      "Central African Republic: 30.91%\n",
      "Chad: 58.68%\n",
      "Chile: 6.10%\n",
      "China - mainland: 42.73%\n",
      "Colombia: 78.44%\n",
      "Comoros: 22.61%\n",
      "Congo, Democratic Republic of the: 61.51%\n",
      "Congo, Republic of the: 0.86%\n",
      "Costa Rica: 92.52%\n",
      "Cote d'Ivoire: 74.89%\n",
      "Croatia: 30.33%\n",
      "Cuba: 41.49%\n",
      "Cyprus: 82.59%\n",
      "Czech Republic: 22.70%\n",
      "Denmark: 16.09%\n",
      "Djibouti: 48.68%\n",
      "Dominica: 83.53%\n",
      "Dominican Republic: 80.86%\n",
      "Ecuador: 94.24%\n",
      "Egypt: 81.99%\n",
      "El Salvador: 81.47%\n",
      "Equatorial Guinea: 59.98%\n",
      "Eritrea: 64.70%\n",
      "Estonia: 15.64%\n",
      "Eswatini: 58.27%\n",
      "Ethiopia: 70.03%\n",
      "Fiji: 67.74%\n",
      "Finland: 7.07%\n",
      "France: 11.30%\n",
      "Gabon: 69.06%\n",
      "Gambia, The: 23.91%\n",
      "Georgia: 37.92%\n",
      "Germany: 21.00%\n",
      "Ghana: 64.06%\n",
      "Great Britain and Northern Ireland: 21.81%\n",
      "Greece: 12.04%\n",
      "Grenada: 76.76%\n",
      "Guatemala: 80.80%\n",
      "Guinea: 82.96%\n",
      "Guinea-Bissau: 34.40%\n",
      "Guyana: 85.62%\n",
      "Haiti: 86.86%\n",
      "Honduras: 79.41%\n",
      "Hong Kong S.A.R.: 82.19%\n",
      "Hungary: 34.76%\n",
      "Iceland: 33.79%\n",
      "India: 34.58%\n",
      "Indonesia: 61.95%\n",
      "Iran: 40.88%\n",
      "Iraq: 62.50%\n",
      "Ireland: 8.69%\n",
      "Israel: 88.85%\n",
      "Italy: 14.74%\n",
      "Jamaica: 44.56%\n",
      "Japan: 5.53%\n",
      "Jordan: 71.85%\n",
      "Kazakhstan: 69.75%\n",
      "Kenya: 66.79%\n",
      "Kiribati: 13.33%\n",
      "Korea, North: 0.00%\n",
      "Korea, South: 9.58%\n",
      "Kosovo: 81.53%\n",
      "Kuwait: 86.69%\n",
      "Kyrgyzstan: 62.93%\n",
      "Laos: 59.83%\n",
      "Latvia: 16.44%\n",
      "Lebanon: 82.18%\n",
      "Lesotho: 33.63%\n",
      "Liberia: 50.15%\n",
      "Libya: 39.50%\n",
      "Liechtenstein: 11.32%\n",
      "Lithuania: 16.75%\n",
      "Luxembourg: 24.05%\n",
      "Macau S.A.R.: 58.82%\n",
      "Madagascar: 39.53%\n",
      "Malawi: 58.52%\n",
      "Malaysia: 69.41%\n",
      "Maldives: 34.46%\n",
      "Mali: 74.51%\n",
      "Malta: 27.11%\n",
      "Marshall Islands: 23.08%\n",
      "Mauritania: 58.38%\n",
      "Mauritius: 40.50%\n",
      "Mexico: 0.67%\n",
      "Micronesia: 0.00%\n",
      "Moldova: 69.51%\n",
      "Monaco: 5.26%\n",
      "Mongolia: 49.87%\n",
      "Montenegro: 44.00%\n",
      "Morocco: 83.95%\n",
      "Mozambique: 20.34%\n",
      "Namibia: 70.40%\n",
      "Nauru: 0.00%\n",
      "Nepal: 65.61%\n",
      "Netherlands: 18.14%\n",
      "New Zealand: 23.06%\n",
      "Nicaragua: 83.28%\n",
      "Niger: 46.15%\n",
      "Nigeria: 81.57%\n",
      "No Nationality: 68.54%\n",
      "North Macedonia: 71.37%\n",
      "Norway: 19.13%\n",
      "Oman: 69.63%\n",
      "Pakistan: 80.67%\n",
      "Palau: 20.00%\n",
      "Palestinian Authority Travel Document: 89.10%\n",
      "Panama: 80.39%\n",
      "Papua New Guinea: 49.85%\n",
      "Paraguay: 75.32%\n",
      "Peru: 78.41%\n",
      "Philippines: 44.36%\n",
      "Poland: 31.54%\n",
      "Portugal: 24.39%\n",
      "Qatar: 80.15%\n",
      "Romania: 64.56%\n",
      "Russia: 69.73%\n",
      "Rwanda: 56.34%\n",
      "Saint Kitts and Nevis: 91.26%\n",
      "Saint Lucia: 77.95%\n",
      "Saint Vincent and the Grenadines: 64.47%\n",
      "Samoa: 57.04%\n",
      "San Marino: 10.00%\n",
      "Sao Tome and Principe: 33.33%\n",
      "Saudi Arabia: 70.69%\n",
      "Senegal: 71.96%\n",
      "Serbia: 58.52%\n",
      "Seychelles: 44.37%\n",
      "Sierra Leone: 62.69%\n",
      "Singapore: 6.49%\n",
      "Slovakia: 15.64%\n",
      "Slovenia: 26.79%\n",
      "Solomon Islands: 32.88%\n",
      "Somalia: 38.28%\n",
      "South Africa: 51.22%\n",
      "South Sudan: 14.85%\n",
      "Spain: 9.58%\n",
      "Sri Lanka: 68.19%\n",
      "Sudan: 67.50%\n",
      "Suriname: 95.08%\n",
      "Sweden: 13.04%\n",
      "Switzerland: 26.56%\n",
      "Syria: 80.93%\n",
      "Taiwan: 25.06%\n",
      "Tajikistan: 71.58%\n",
      "Tanzania: 65.65%\n",
      "Thailand: 69.53%\n",
      "Timor-Leste: 10.10%\n",
      "Togo: 66.91%\n",
      "Tonga: 58.06%\n",
      "Trinidad and Tobago: 91.29%\n",
      "Tunisia: 65.24%\n",
      "Turkey: 68.43%\n",
      "Turkmenistan: 44.69%\n",
      "Tuvalu: 20.00%\n",
      "Uganda: 68.19%\n",
      "Ukraine: 62.83%\n",
      "United Arab Emirates: 84.80%\n",
      "United Nations Laissez-Passer: 0.00%\n",
      "Uruguay: 94.22%\n",
      "Uzbekistan: 68.38%\n",
      "Vanuatu: 62.50%\n",
      "Vatican City: 20.69%\n",
      "Venezuela: 84.28%\n",
      "Vietnam: 80.33%\n",
      "Yemen: 68.88%\n",
      "Zambia: 72.32%\n",
      "Zimbabwe: 35.32%\n"
     ]
    }
   ],
   "source": [
    "# for all countries, what share of the total visas granted to them were B1/B2 visas?\n",
    "for x in final_data['Country']:\n",
    "    print(f\"{x}: {final_data[final_data['Country'] == x]['B1/B2'].values[0] / final_data[final_data['Country'] == x]['Grand Total'].values[0] * 100:.2f}%\")"
   ]
  },
  {
   "cell_type": "code",
   "execution_count": 43,
   "metadata": {},
   "outputs": [
    {
     "name": "stdout",
     "output_type": "stream",
     "text": [
      "Afghanistan: 4.75%\n",
      "Albania: 4.01%\n",
      "Algeria: 1.53%\n",
      "Andorra: 20.75%\n",
      "Angola: 1.13%\n",
      "Antigua and Barbuda: 1.01%\n",
      "Argentina: 3.34%\n",
      "Armenia: 4.65%\n",
      "Australia: 5.87%\n",
      "Austria: 25.37%\n",
      "Azerbaijan: 5.30%\n",
      "Bahamas, The: 0.55%\n",
      "Bahrain: 1.65%\n",
      "Bangladesh: 1.41%\n",
      "Barbados: 0.41%\n",
      "Belarus: 4.71%\n",
      "Belgium: 14.61%\n",
      "Belize: 0.51%\n",
      "Benin: 2.76%\n",
      "Bhutan: 7.22%\n",
      "Bolivia: 1.44%\n",
      "Bosnia-Herzegovina: 9.55%\n",
      "Botswana: 4.50%\n",
      "Brazil: 1.70%\n",
      "Brunei: 14.41%\n",
      "Bulgaria: 16.01%\n",
      "Burkina Faso: 1.53%\n",
      "Burma: 2.97%\n",
      "Burundi: 2.22%\n",
      "Cabo Verde: 0.87%\n",
      "Cambodia: 2.59%\n",
      "Cameroon: 2.84%\n",
      "Canada: 0.78%\n",
      "Central African Republic: 5.45%\n",
      "Chad: 2.31%\n",
      "Chile: 22.87%\n",
      "China - mainland: 4.23%\n",
      "Colombia: 7.07%\n",
      "Comoros: 8.70%\n",
      "Congo, Democratic Republic of the: 1.25%\n",
      "Congo, Republic of the: 1.53%\n",
      "Costa Rica: 0.66%\n",
      "Cote d'Ivoire: 1.87%\n",
      "Croatia: 27.68%\n",
      "Cuba: 1.17%\n",
      "Cyprus: 2.23%\n",
      "Czech Republic: 28.62%\n",
      "Denmark: 23.39%\n",
      "Djibouti: 4.53%\n",
      "Dominica: 1.29%\n",
      "Dominican Republic: 11.16%\n",
      "Ecuador: 3.07%\n",
      "Egypt: 3.26%\n",
      "El Salvador: 0.76%\n",
      "Equatorial Guinea: 1.04%\n",
      "Eritrea: 1.27%\n",
      "Estonia: 28.25%\n",
      "Eswatini: 6.56%\n",
      "Ethiopia: 1.62%\n",
      "Fiji: 2.94%\n",
      "Finland: 16.20%\n",
      "France: 25.99%\n",
      "Gabon: 1.17%\n",
      "Gambia, The: 1.89%\n",
      "Georgia: 13.90%\n",
      "Germany: 27.70%\n",
      "Ghana: 2.63%\n",
      "Great Britain and Northern Ireland: 17.09%\n",
      "Greece: 12.21%\n",
      "Grenada: 1.14%\n",
      "Guatemala: 0.46%\n",
      "Guinea: 1.32%\n",
      "Guinea-Bissau: 7.20%\n",
      "Guyana: 0.77%\n",
      "Haiti: 0.93%\n",
      "Honduras: 1.07%\n",
      "Hong Kong S.A.R.: 2.63%\n",
      "Hungary: 25.52%\n",
      "Iceland: 5.00%\n",
      "India: 1.38%\n",
      "Indonesia: 2.18%\n",
      "Iran: 7.34%\n",
      "Iraq: 5.82%\n",
      "Ireland: 46.92%\n",
      "Israel: 2.29%\n",
      "Italy: 26.90%\n",
      "Jamaica: 13.04%\n",
      "Japan: 9.00%\n",
      "Jordan: 6.78%\n",
      "Kazakhstan: 14.40%\n",
      "Kenya: 2.94%\n",
      "Kiribati: 20.00%\n",
      "Korea, North: 0.00%\n",
      "Korea, South: 14.75%\n",
      "Kosovo: 6.67%\n",
      "Kuwait: 0.37%\n",
      "Kyrgyzstan: 7.39%\n",
      "Laos: 5.05%\n",
      "Latvia: 15.79%\n",
      "Lebanon: 3.80%\n",
      "Lesotho: 13.72%\n",
      "Liberia: 5.44%\n",
      "Libya: 6.75%\n",
      "Liechtenstein: 13.21%\n",
      "Lithuania: 28.12%\n",
      "Luxembourg: 13.16%\n",
      "Macau S.A.R.: 2.17%\n",
      "Madagascar: 5.11%\n",
      "Malawi: 4.59%\n",
      "Malaysia: 5.94%\n",
      "Maldives: 7.08%\n",
      "Mali: 4.01%\n",
      "Malta: 8.16%\n",
      "Marshall Islands: 0.00%\n",
      "Mauritania: 4.26%\n",
      "Mauritius: 5.04%\n",
      "Mexico: 0.84%\n",
      "Micronesia: 11.11%\n",
      "Moldova: 13.37%\n",
      "Monaco: 2.63%\n",
      "Mongolia: 18.20%\n",
      "Montenegro: 18.02%\n",
      "Morocco: 2.56%\n",
      "Mozambique: 5.35%\n",
      "Namibia: 6.48%\n",
      "Nauru: 3.45%\n",
      "Nepal: 1.70%\n",
      "Netherlands: 21.05%\n",
      "New Zealand: 10.34%\n",
      "Nicaragua: 0.99%\n",
      "Niger: 2.60%\n",
      "Nigeria: 1.33%\n",
      "No Nationality: 2.03%\n",
      "North Macedonia: 9.48%\n",
      "Norway: 13.52%\n",
      "Oman: 0.56%\n",
      "Pakistan: 3.73%\n",
      "Palau: 0.00%\n",
      "Palestinian Authority Travel Document: 2.87%\n",
      "Panama: 1.14%\n",
      "Papua New Guinea: 5.90%\n",
      "Paraguay: 15.34%\n",
      "Peru: 8.80%\n",
      "Philippines: 2.18%\n",
      "Poland: 20.06%\n",
      "Portugal: 9.99%\n",
      "Qatar: 0.57%\n",
      "Romania: 14.49%\n",
      "Russia: 3.31%\n",
      "Rwanda: 4.94%\n",
      "Saint Kitts and Nevis: 0.55%\n",
      "Saint Lucia: 0.82%\n",
      "Saint Vincent and the Grenadines: 0.54%\n",
      "Samoa: 6.60%\n",
      "San Marino: 15.00%\n",
      "Sao Tome and Principe: 18.18%\n",
      "Saudi Arabia: 1.10%\n",
      "Senegal: 3.05%\n",
      "Serbia: 4.64%\n",
      "Seychelles: 6.34%\n",
      "Sierra Leone: 2.07%\n",
      "Singapore: 9.43%\n",
      "Slovakia: 43.04%\n",
      "Slovenia: 17.03%\n",
      "Solomon Islands: 10.96%\n",
      "Somalia: 1.91%\n",
      "South Africa: 5.73%\n",
      "South Sudan: 7.43%\n",
      "Spain: 38.45%\n",
      "Sri Lanka: 1.61%\n",
      "Sudan: 4.15%\n",
      "Suriname: 0.85%\n",
      "Sweden: 16.72%\n",
      "Switzerland: 14.63%\n",
      "Syria: 2.14%\n",
      "Taiwan: 7.44%\n",
      "Tajikistan: 10.06%\n",
      "Tanzania: 5.42%\n",
      "Thailand: 15.66%\n",
      "Timor-Leste: 21.63%\n",
      "Togo: 2.57%\n",
      "Tonga: 22.76%\n",
      "Trinidad and Tobago: 0.64%\n",
      "Tunisia: 5.27%\n",
      "Turkey: 13.52%\n",
      "Turkmenistan: 8.32%\n",
      "Tuvalu: 2.50%\n",
      "Uganda: 3.19%\n",
      "Ukraine: 3.52%\n",
      "United Arab Emirates: 0.33%\n",
      "United Nations Laissez-Passer: 0.00%\n",
      "Uruguay: 1.04%\n",
      "Uzbekistan: 11.90%\n",
      "Vanuatu: 1.47%\n",
      "Vatican City: 0.00%\n",
      "Venezuela: 0.86%\n",
      "Vietnam: 0.82%\n",
      "Yemen: 1.42%\n",
      "Zambia: 3.25%\n",
      "Zimbabwe: 4.18%\n"
     ]
    }
   ],
   "source": [
    "# for all countries, what share of the total visas granted to them were J1 visas?\n",
    "for x in final_data['Country']:\n",
    "    print(f\"{x}: {final_data[final_data['Country'] == x]['J1'].values[0] / final_data[final_data['Country'] == x]['Grand Total'].values[0] * 100:.2f}%\")"
   ]
  },
  {
   "cell_type": "code",
   "execution_count": 51,
   "metadata": {},
   "outputs": [
    {
     "data": {
      "text/html": [
       "<div>\n",
       "<style scoped>\n",
       "    .dataframe tbody tr th:only-of-type {\n",
       "        vertical-align: middle;\n",
       "    }\n",
       "\n",
       "    .dataframe tbody tr th {\n",
       "        vertical-align: top;\n",
       "    }\n",
       "\n",
       "    .dataframe thead th {\n",
       "        text-align: right;\n",
       "    }\n",
       "</style>\n",
       "<table border=\"1\" class=\"dataframe\">\n",
       "  <thead>\n",
       "    <tr style=\"text-align: right;\">\n",
       "      <th></th>\n",
       "      <th>Country</th>\n",
       "      <th>A1</th>\n",
       "      <th>A2</th>\n",
       "      <th>A3</th>\n",
       "      <th>B1</th>\n",
       "      <th>B1/B2</th>\n",
       "      <th>B2</th>\n",
       "      <th>BBBCC</th>\n",
       "      <th>BBBCV</th>\n",
       "      <th>C1</th>\n",
       "      <th>...</th>\n",
       "      <th>U2</th>\n",
       "      <th>U3</th>\n",
       "      <th>U4</th>\n",
       "      <th>U5</th>\n",
       "      <th>Grand Total</th>\n",
       "      <th>Total NIVs Issued Worldwide Rank</th>\n",
       "      <th>Total F1s Issued Worldwide Rank</th>\n",
       "      <th>F1 Students as Percentage of Total</th>\n",
       "      <th>Total H1-Bs Issued Worldwide Rank</th>\n",
       "      <th>Continent</th>\n",
       "    </tr>\n",
       "  </thead>\n",
       "  <tbody>\n",
       "    <tr>\n",
       "      <th>0</th>\n",
       "      <td>Afghanistan</td>\n",
       "      <td>0</td>\n",
       "      <td>1</td>\n",
       "      <td>0</td>\n",
       "      <td>1</td>\n",
       "      <td>664</td>\n",
       "      <td>1</td>\n",
       "      <td>0</td>\n",
       "      <td>0</td>\n",
       "      <td>1</td>\n",
       "      <td>...</td>\n",
       "      <td>0</td>\n",
       "      <td>0</td>\n",
       "      <td>0</td>\n",
       "      <td>0</td>\n",
       "      <td>1854</td>\n",
       "      <td>135.0</td>\n",
       "      <td>91.0</td>\n",
       "      <td>20.77</td>\n",
       "      <td>111.0</td>\n",
       "      <td>[Asia]</td>\n",
       "    </tr>\n",
       "    <tr>\n",
       "      <th>1</th>\n",
       "      <td>Albania</td>\n",
       "      <td>18</td>\n",
       "      <td>193</td>\n",
       "      <td>0</td>\n",
       "      <td>10</td>\n",
       "      <td>13991</td>\n",
       "      <td>0</td>\n",
       "      <td>0</td>\n",
       "      <td>0</td>\n",
       "      <td>0</td>\n",
       "      <td>...</td>\n",
       "      <td>0</td>\n",
       "      <td>0</td>\n",
       "      <td>0</td>\n",
       "      <td>0</td>\n",
       "      <td>16127</td>\n",
       "      <td>55.0</td>\n",
       "      <td>78.0</td>\n",
       "      <td>3.45</td>\n",
       "      <td>75.0</td>\n",
       "      <td>[Europe]</td>\n",
       "    </tr>\n",
       "    <tr>\n",
       "      <th>2</th>\n",
       "      <td>Algeria</td>\n",
       "      <td>59</td>\n",
       "      <td>133</td>\n",
       "      <td>1</td>\n",
       "      <td>4</td>\n",
       "      <td>12208</td>\n",
       "      <td>0</td>\n",
       "      <td>0</td>\n",
       "      <td>0</td>\n",
       "      <td>16</td>\n",
       "      <td>...</td>\n",
       "      <td>0</td>\n",
       "      <td>0</td>\n",
       "      <td>0</td>\n",
       "      <td>0</td>\n",
       "      <td>13293</td>\n",
       "      <td>64.0</td>\n",
       "      <td>101.0</td>\n",
       "      <td>1.95</td>\n",
       "      <td>113.5</td>\n",
       "      <td>[Africa]</td>\n",
       "    </tr>\n",
       "    <tr>\n",
       "      <th>3</th>\n",
       "      <td>Andorra</td>\n",
       "      <td>6</td>\n",
       "      <td>8</td>\n",
       "      <td>0</td>\n",
       "      <td>0</td>\n",
       "      <td>3</td>\n",
       "      <td>0</td>\n",
       "      <td>0</td>\n",
       "      <td>0</td>\n",
       "      <td>0</td>\n",
       "      <td>...</td>\n",
       "      <td>0</td>\n",
       "      <td>0</td>\n",
       "      <td>0</td>\n",
       "      <td>0</td>\n",
       "      <td>53</td>\n",
       "      <td>189.5</td>\n",
       "      <td>176.5</td>\n",
       "      <td>24.53</td>\n",
       "      <td>169.0</td>\n",
       "      <td>[Europe]</td>\n",
       "    </tr>\n",
       "    <tr>\n",
       "      <th>4</th>\n",
       "      <td>Angola</td>\n",
       "      <td>54</td>\n",
       "      <td>120</td>\n",
       "      <td>0</td>\n",
       "      <td>6</td>\n",
       "      <td>2421</td>\n",
       "      <td>202</td>\n",
       "      <td>0</td>\n",
       "      <td>0</td>\n",
       "      <td>2</td>\n",
       "      <td>...</td>\n",
       "      <td>0</td>\n",
       "      <td>0</td>\n",
       "      <td>0</td>\n",
       "      <td>0</td>\n",
       "      <td>3643</td>\n",
       "      <td>118.0</td>\n",
       "      <td>90.0</td>\n",
       "      <td>10.71</td>\n",
       "      <td>133.0</td>\n",
       "      <td>[Africa]</td>\n",
       "    </tr>\n",
       "    <tr>\n",
       "      <th>5</th>\n",
       "      <td>Antigua and Barbuda</td>\n",
       "      <td>3</td>\n",
       "      <td>10</td>\n",
       "      <td>0</td>\n",
       "      <td>1</td>\n",
       "      <td>1987</td>\n",
       "      <td>0</td>\n",
       "      <td>0</td>\n",
       "      <td>0</td>\n",
       "      <td>0</td>\n",
       "      <td>...</td>\n",
       "      <td>0</td>\n",
       "      <td>0</td>\n",
       "      <td>0</td>\n",
       "      <td>0</td>\n",
       "      <td>2170</td>\n",
       "      <td>132.0</td>\n",
       "      <td>151.0</td>\n",
       "      <td>3.64</td>\n",
       "      <td>135.5</td>\n",
       "      <td>[North America]</td>\n",
       "    </tr>\n",
       "    <tr>\n",
       "      <th>6</th>\n",
       "      <td>Argentina</td>\n",
       "      <td>51</td>\n",
       "      <td>777</td>\n",
       "      <td>2</td>\n",
       "      <td>67</td>\n",
       "      <td>202479</td>\n",
       "      <td>16</td>\n",
       "      <td>0</td>\n",
       "      <td>0</td>\n",
       "      <td>45</td>\n",
       "      <td>...</td>\n",
       "      <td>0</td>\n",
       "      <td>1</td>\n",
       "      <td>0</td>\n",
       "      <td>0</td>\n",
       "      <td>221902</td>\n",
       "      <td>4.0</td>\n",
       "      <td>31.0</td>\n",
       "      <td>0.88</td>\n",
       "      <td>24.0</td>\n",
       "      <td>[South America]</td>\n",
       "    </tr>\n",
       "    <tr>\n",
       "      <th>7</th>\n",
       "      <td>Armenia</td>\n",
       "      <td>29</td>\n",
       "      <td>154</td>\n",
       "      <td>0</td>\n",
       "      <td>5</td>\n",
       "      <td>4970</td>\n",
       "      <td>2</td>\n",
       "      <td>0</td>\n",
       "      <td>0</td>\n",
       "      <td>4</td>\n",
       "      <td>...</td>\n",
       "      <td>0</td>\n",
       "      <td>0</td>\n",
       "      <td>0</td>\n",
       "      <td>0</td>\n",
       "      <td>6433</td>\n",
       "      <td>92.0</td>\n",
       "      <td>92.0</td>\n",
       "      <td>5.92</td>\n",
       "      <td>98.5</td>\n",
       "      <td>[Europe]</td>\n",
       "    </tr>\n",
       "    <tr>\n",
       "      <th>8</th>\n",
       "      <td>Australia</td>\n",
       "      <td>144</td>\n",
       "      <td>5758</td>\n",
       "      <td>0</td>\n",
       "      <td>58</td>\n",
       "      <td>4697</td>\n",
       "      <td>10</td>\n",
       "      <td>0</td>\n",
       "      <td>0</td>\n",
       "      <td>3</td>\n",
       "      <td>...</td>\n",
       "      <td>0</td>\n",
       "      <td>0</td>\n",
       "      <td>0</td>\n",
       "      <td>0</td>\n",
       "      <td>31825</td>\n",
       "      <td>36.0</td>\n",
       "      <td>37.0</td>\n",
       "      <td>5.54</td>\n",
       "      <td>21.0</td>\n",
       "      <td>[Oceania]</td>\n",
       "    </tr>\n",
       "    <tr>\n",
       "      <th>9</th>\n",
       "      <td>Austria</td>\n",
       "      <td>31</td>\n",
       "      <td>327</td>\n",
       "      <td>0</td>\n",
       "      <td>16</td>\n",
       "      <td>1637</td>\n",
       "      <td>2</td>\n",
       "      <td>0</td>\n",
       "      <td>0</td>\n",
       "      <td>1</td>\n",
       "      <td>...</td>\n",
       "      <td>0</td>\n",
       "      <td>0</td>\n",
       "      <td>0</td>\n",
       "      <td>0</td>\n",
       "      <td>6189</td>\n",
       "      <td>97.0</td>\n",
       "      <td>73.0</td>\n",
       "      <td>10.20</td>\n",
       "      <td>57.0</td>\n",
       "      <td>[Europe]</td>\n",
       "    </tr>\n",
       "  </tbody>\n",
       "</table>\n",
       "<p>10 rows × 83 columns</p>\n",
       "</div>"
      ],
      "text/plain": [
       "               Country   A1    A2  A3  B1   B1/B2   B2  BBBCC  BBBCV  C1  ...  \\\n",
       "0          Afghanistan    0     1   0   1     664    1      0      0   1  ...   \n",
       "1              Albania   18   193   0  10   13991    0      0      0   0  ...   \n",
       "2              Algeria   59   133   1   4   12208    0      0      0  16  ...   \n",
       "3              Andorra    6     8   0   0       3    0      0      0   0  ...   \n",
       "4               Angola   54   120   0   6    2421  202      0      0   2  ...   \n",
       "5  Antigua and Barbuda    3    10   0   1    1987    0      0      0   0  ...   \n",
       "6            Argentina   51   777   2  67  202479   16      0      0  45  ...   \n",
       "7              Armenia   29   154   0   5    4970    2      0      0   4  ...   \n",
       "8            Australia  144  5758   0  58    4697   10      0      0   3  ...   \n",
       "9              Austria   31   327   0  16    1637    2      0      0   1  ...   \n",
       "\n",
       "   U2  U3  U4  U5  Grand Total  Total NIVs Issued Worldwide Rank  \\\n",
       "0   0   0   0   0         1854                             135.0   \n",
       "1   0   0   0   0        16127                              55.0   \n",
       "2   0   0   0   0        13293                              64.0   \n",
       "3   0   0   0   0           53                             189.5   \n",
       "4   0   0   0   0         3643                             118.0   \n",
       "5   0   0   0   0         2170                             132.0   \n",
       "6   0   1   0   0       221902                               4.0   \n",
       "7   0   0   0   0         6433                              92.0   \n",
       "8   0   0   0   0        31825                              36.0   \n",
       "9   0   0   0   0         6189                              97.0   \n",
       "\n",
       "   Total F1s Issued Worldwide Rank  F1 Students as Percentage of Total  \\\n",
       "0                             91.0                               20.77   \n",
       "1                             78.0                                3.45   \n",
       "2                            101.0                                1.95   \n",
       "3                            176.5                               24.53   \n",
       "4                             90.0                               10.71   \n",
       "5                            151.0                                3.64   \n",
       "6                             31.0                                0.88   \n",
       "7                             92.0                                5.92   \n",
       "8                             37.0                                5.54   \n",
       "9                             73.0                               10.20   \n",
       "\n",
       "   Total H1-Bs Issued Worldwide Rank        Continent  \n",
       "0                              111.0           [Asia]  \n",
       "1                               75.0         [Europe]  \n",
       "2                              113.5         [Africa]  \n",
       "3                              169.0         [Europe]  \n",
       "4                              133.0         [Africa]  \n",
       "5                              135.5  [North America]  \n",
       "6                               24.0  [South America]  \n",
       "7                               98.5         [Europe]  \n",
       "8                               21.0        [Oceania]  \n",
       "9                               57.0         [Europe]  \n",
       "\n",
       "[10 rows x 83 columns]"
      ]
     },
     "execution_count": 51,
     "metadata": {},
     "output_type": "execute_result"
    }
   ],
   "source": [
    "# let's make a new column for the continent each country is in\n",
    "final_data['Continent'] = final_data['Country'].apply(lambda x: [k for k, v in continents.items() if x in v])\n",
    "final_data.head(10)"
   ]
  },
  {
   "cell_type": "code",
   "execution_count": 47,
   "metadata": {},
   "outputs": [
    {
     "data": {
      "text/plain": [
       "list"
      ]
     },
     "execution_count": 47,
     "metadata": {},
     "output_type": "execute_result"
    }
   ],
   "source": [
    "type(final_data['Continent'].values[0])"
   ]
  },
  {
   "cell_type": "code",
   "execution_count": 48,
   "metadata": {},
   "outputs": [
    {
     "data": {
      "text/plain": [
       "'0               [Asia]\\n1             [Europe]\\n2             [Africa]\\n3             [Europe]\\n4             [Africa]\\n            ...       \\n195    [South America]\\n196             [Asia]\\n197             [Asia]\\n198           [Africa]\\n199           [Africa]\\nName: Continent, Length: 200, dtype: object'"
      ]
     },
     "execution_count": 48,
     "metadata": {},
     "output_type": "execute_result"
    }
   ],
   "source": [
    "str(final_data['Continent'])"
   ]
  },
  {
   "cell_type": "code",
   "execution_count": 49,
   "metadata": {},
   "outputs": [
    {
     "data": {
      "text/html": [
       "<div>\n",
       "<style scoped>\n",
       "    .dataframe tbody tr th:only-of-type {\n",
       "        vertical-align: middle;\n",
       "    }\n",
       "\n",
       "    .dataframe tbody tr th {\n",
       "        vertical-align: top;\n",
       "    }\n",
       "\n",
       "    .dataframe thead th {\n",
       "        text-align: right;\n",
       "    }\n",
       "</style>\n",
       "<table border=\"1\" class=\"dataframe\">\n",
       "  <thead>\n",
       "    <tr style=\"text-align: right;\">\n",
       "      <th></th>\n",
       "      <th>Country</th>\n",
       "      <th>A1</th>\n",
       "      <th>A2</th>\n",
       "      <th>A3</th>\n",
       "      <th>B1</th>\n",
       "      <th>B1/B2</th>\n",
       "      <th>B2</th>\n",
       "      <th>BBBCC</th>\n",
       "      <th>BBBCV</th>\n",
       "      <th>C1</th>\n",
       "      <th>...</th>\n",
       "      <th>U2</th>\n",
       "      <th>U3</th>\n",
       "      <th>U4</th>\n",
       "      <th>U5</th>\n",
       "      <th>Grand Total</th>\n",
       "      <th>Total NIVs Issued Worldwide Rank</th>\n",
       "      <th>Total F1s Issued Worldwide Rank</th>\n",
       "      <th>F1 Students as Percentage of Total</th>\n",
       "      <th>Total H1-Bs Issued Worldwide Rank</th>\n",
       "      <th>Continent</th>\n",
       "    </tr>\n",
       "  </thead>\n",
       "  <tbody>\n",
       "    <tr>\n",
       "      <th>0</th>\n",
       "      <td>Afghanistan</td>\n",
       "      <td>0</td>\n",
       "      <td>1</td>\n",
       "      <td>0</td>\n",
       "      <td>1</td>\n",
       "      <td>664</td>\n",
       "      <td>1</td>\n",
       "      <td>0</td>\n",
       "      <td>0</td>\n",
       "      <td>1</td>\n",
       "      <td>...</td>\n",
       "      <td>0</td>\n",
       "      <td>0</td>\n",
       "      <td>0</td>\n",
       "      <td>0</td>\n",
       "      <td>1854</td>\n",
       "      <td>135.0</td>\n",
       "      <td>91.0</td>\n",
       "      <td>20.77</td>\n",
       "      <td>111.0</td>\n",
       "      <td>[Asia]</td>\n",
       "    </tr>\n",
       "    <tr>\n",
       "      <th>1</th>\n",
       "      <td>Albania</td>\n",
       "      <td>18</td>\n",
       "      <td>193</td>\n",
       "      <td>0</td>\n",
       "      <td>10</td>\n",
       "      <td>13991</td>\n",
       "      <td>0</td>\n",
       "      <td>0</td>\n",
       "      <td>0</td>\n",
       "      <td>0</td>\n",
       "      <td>...</td>\n",
       "      <td>0</td>\n",
       "      <td>0</td>\n",
       "      <td>0</td>\n",
       "      <td>0</td>\n",
       "      <td>16127</td>\n",
       "      <td>55.0</td>\n",
       "      <td>78.0</td>\n",
       "      <td>3.45</td>\n",
       "      <td>75.0</td>\n",
       "      <td>[Europe]</td>\n",
       "    </tr>\n",
       "    <tr>\n",
       "      <th>2</th>\n",
       "      <td>Algeria</td>\n",
       "      <td>59</td>\n",
       "      <td>133</td>\n",
       "      <td>1</td>\n",
       "      <td>4</td>\n",
       "      <td>12208</td>\n",
       "      <td>0</td>\n",
       "      <td>0</td>\n",
       "      <td>0</td>\n",
       "      <td>16</td>\n",
       "      <td>...</td>\n",
       "      <td>0</td>\n",
       "      <td>0</td>\n",
       "      <td>0</td>\n",
       "      <td>0</td>\n",
       "      <td>13293</td>\n",
       "      <td>64.0</td>\n",
       "      <td>101.0</td>\n",
       "      <td>1.95</td>\n",
       "      <td>113.5</td>\n",
       "      <td>[Africa]</td>\n",
       "    </tr>\n",
       "    <tr>\n",
       "      <th>3</th>\n",
       "      <td>Andorra</td>\n",
       "      <td>6</td>\n",
       "      <td>8</td>\n",
       "      <td>0</td>\n",
       "      <td>0</td>\n",
       "      <td>3</td>\n",
       "      <td>0</td>\n",
       "      <td>0</td>\n",
       "      <td>0</td>\n",
       "      <td>0</td>\n",
       "      <td>...</td>\n",
       "      <td>0</td>\n",
       "      <td>0</td>\n",
       "      <td>0</td>\n",
       "      <td>0</td>\n",
       "      <td>53</td>\n",
       "      <td>189.5</td>\n",
       "      <td>176.5</td>\n",
       "      <td>24.53</td>\n",
       "      <td>169.0</td>\n",
       "      <td>[Europe]</td>\n",
       "    </tr>\n",
       "    <tr>\n",
       "      <th>4</th>\n",
       "      <td>Angola</td>\n",
       "      <td>54</td>\n",
       "      <td>120</td>\n",
       "      <td>0</td>\n",
       "      <td>6</td>\n",
       "      <td>2421</td>\n",
       "      <td>202</td>\n",
       "      <td>0</td>\n",
       "      <td>0</td>\n",
       "      <td>2</td>\n",
       "      <td>...</td>\n",
       "      <td>0</td>\n",
       "      <td>0</td>\n",
       "      <td>0</td>\n",
       "      <td>0</td>\n",
       "      <td>3643</td>\n",
       "      <td>118.0</td>\n",
       "      <td>90.0</td>\n",
       "      <td>10.71</td>\n",
       "      <td>133.0</td>\n",
       "      <td>[Africa]</td>\n",
       "    </tr>\n",
       "    <tr>\n",
       "      <th>5</th>\n",
       "      <td>Antigua and Barbuda</td>\n",
       "      <td>3</td>\n",
       "      <td>10</td>\n",
       "      <td>0</td>\n",
       "      <td>1</td>\n",
       "      <td>1987</td>\n",
       "      <td>0</td>\n",
       "      <td>0</td>\n",
       "      <td>0</td>\n",
       "      <td>0</td>\n",
       "      <td>...</td>\n",
       "      <td>0</td>\n",
       "      <td>0</td>\n",
       "      <td>0</td>\n",
       "      <td>0</td>\n",
       "      <td>2170</td>\n",
       "      <td>132.0</td>\n",
       "      <td>151.0</td>\n",
       "      <td>3.64</td>\n",
       "      <td>135.5</td>\n",
       "      <td>[North America]</td>\n",
       "    </tr>\n",
       "    <tr>\n",
       "      <th>6</th>\n",
       "      <td>Argentina</td>\n",
       "      <td>51</td>\n",
       "      <td>777</td>\n",
       "      <td>2</td>\n",
       "      <td>67</td>\n",
       "      <td>202479</td>\n",
       "      <td>16</td>\n",
       "      <td>0</td>\n",
       "      <td>0</td>\n",
       "      <td>45</td>\n",
       "      <td>...</td>\n",
       "      <td>0</td>\n",
       "      <td>1</td>\n",
       "      <td>0</td>\n",
       "      <td>0</td>\n",
       "      <td>221902</td>\n",
       "      <td>4.0</td>\n",
       "      <td>31.0</td>\n",
       "      <td>0.88</td>\n",
       "      <td>24.0</td>\n",
       "      <td>[South America]</td>\n",
       "    </tr>\n",
       "    <tr>\n",
       "      <th>7</th>\n",
       "      <td>Armenia</td>\n",
       "      <td>29</td>\n",
       "      <td>154</td>\n",
       "      <td>0</td>\n",
       "      <td>5</td>\n",
       "      <td>4970</td>\n",
       "      <td>2</td>\n",
       "      <td>0</td>\n",
       "      <td>0</td>\n",
       "      <td>4</td>\n",
       "      <td>...</td>\n",
       "      <td>0</td>\n",
       "      <td>0</td>\n",
       "      <td>0</td>\n",
       "      <td>0</td>\n",
       "      <td>6433</td>\n",
       "      <td>92.0</td>\n",
       "      <td>92.0</td>\n",
       "      <td>5.92</td>\n",
       "      <td>98.5</td>\n",
       "      <td>[Europe]</td>\n",
       "    </tr>\n",
       "    <tr>\n",
       "      <th>8</th>\n",
       "      <td>Australia</td>\n",
       "      <td>144</td>\n",
       "      <td>5758</td>\n",
       "      <td>0</td>\n",
       "      <td>58</td>\n",
       "      <td>4697</td>\n",
       "      <td>10</td>\n",
       "      <td>0</td>\n",
       "      <td>0</td>\n",
       "      <td>3</td>\n",
       "      <td>...</td>\n",
       "      <td>0</td>\n",
       "      <td>0</td>\n",
       "      <td>0</td>\n",
       "      <td>0</td>\n",
       "      <td>31825</td>\n",
       "      <td>36.0</td>\n",
       "      <td>37.0</td>\n",
       "      <td>5.54</td>\n",
       "      <td>21.0</td>\n",
       "      <td>[Oceania]</td>\n",
       "    </tr>\n",
       "    <tr>\n",
       "      <th>9</th>\n",
       "      <td>Austria</td>\n",
       "      <td>31</td>\n",
       "      <td>327</td>\n",
       "      <td>0</td>\n",
       "      <td>16</td>\n",
       "      <td>1637</td>\n",
       "      <td>2</td>\n",
       "      <td>0</td>\n",
       "      <td>0</td>\n",
       "      <td>1</td>\n",
       "      <td>...</td>\n",
       "      <td>0</td>\n",
       "      <td>0</td>\n",
       "      <td>0</td>\n",
       "      <td>0</td>\n",
       "      <td>6189</td>\n",
       "      <td>97.0</td>\n",
       "      <td>73.0</td>\n",
       "      <td>10.20</td>\n",
       "      <td>57.0</td>\n",
       "      <td>[Europe]</td>\n",
       "    </tr>\n",
       "  </tbody>\n",
       "</table>\n",
       "<p>10 rows × 83 columns</p>\n",
       "</div>"
      ],
      "text/plain": [
       "               Country   A1    A2  A3  B1   B1/B2   B2  BBBCC  BBBCV  C1  ...  \\\n",
       "0          Afghanistan    0     1   0   1     664    1      0      0   1  ...   \n",
       "1              Albania   18   193   0  10   13991    0      0      0   0  ...   \n",
       "2              Algeria   59   133   1   4   12208    0      0      0  16  ...   \n",
       "3              Andorra    6     8   0   0       3    0      0      0   0  ...   \n",
       "4               Angola   54   120   0   6    2421  202      0      0   2  ...   \n",
       "5  Antigua and Barbuda    3    10   0   1    1987    0      0      0   0  ...   \n",
       "6            Argentina   51   777   2  67  202479   16      0      0  45  ...   \n",
       "7              Armenia   29   154   0   5    4970    2      0      0   4  ...   \n",
       "8            Australia  144  5758   0  58    4697   10      0      0   3  ...   \n",
       "9              Austria   31   327   0  16    1637    2      0      0   1  ...   \n",
       "\n",
       "   U2  U3  U4  U5  Grand Total  Total NIVs Issued Worldwide Rank  \\\n",
       "0   0   0   0   0         1854                             135.0   \n",
       "1   0   0   0   0        16127                              55.0   \n",
       "2   0   0   0   0        13293                              64.0   \n",
       "3   0   0   0   0           53                             189.5   \n",
       "4   0   0   0   0         3643                             118.0   \n",
       "5   0   0   0   0         2170                             132.0   \n",
       "6   0   1   0   0       221902                               4.0   \n",
       "7   0   0   0   0         6433                              92.0   \n",
       "8   0   0   0   0        31825                              36.0   \n",
       "9   0   0   0   0         6189                              97.0   \n",
       "\n",
       "   Total F1s Issued Worldwide Rank  F1 Students as Percentage of Total  \\\n",
       "0                             91.0                               20.77   \n",
       "1                             78.0                                3.45   \n",
       "2                            101.0                                1.95   \n",
       "3                            176.5                               24.53   \n",
       "4                             90.0                               10.71   \n",
       "5                            151.0                                3.64   \n",
       "6                             31.0                                0.88   \n",
       "7                             92.0                                5.92   \n",
       "8                             37.0                                5.54   \n",
       "9                             73.0                               10.20   \n",
       "\n",
       "   Total H1-Bs Issued Worldwide Rank        Continent  \n",
       "0                              111.0           [Asia]  \n",
       "1                               75.0         [Europe]  \n",
       "2                              113.5         [Africa]  \n",
       "3                              169.0         [Europe]  \n",
       "4                              133.0         [Africa]  \n",
       "5                              135.5  [North America]  \n",
       "6                               24.0  [South America]  \n",
       "7                               98.5         [Europe]  \n",
       "8                               21.0        [Oceania]  \n",
       "9                               57.0         [Europe]  \n",
       "\n",
       "[10 rows x 83 columns]"
      ]
     },
     "execution_count": 49,
     "metadata": {},
     "output_type": "execute_result"
    }
   ],
   "source": [
    "final_data.head(10)"
   ]
  },
  {
   "cell_type": "code",
   "execution_count": 54,
   "metadata": {},
   "outputs": [
    {
     "data": {
      "application/vnd.plotly.v1+json": {
       "config": {
        "plotlyServerURL": "https://plot.ly"
       },
       "data": [
        {
         "coloraxis": "coloraxis",
         "geo": "geo",
         "hovertemplate": "<b>%{hovertext}</b><br><br>Country=%{location}<br>H1B Students as Percentage of Total Visas Per Country=%{z}<extra></extra>",
         "hovertext": [
          "Afghanistan",
          "Albania",
          "Algeria",
          "Andorra",
          "Angola",
          "Antigua and Barbuda",
          "Argentina",
          "Armenia",
          "Australia",
          "Austria",
          "Azerbaijan",
          "Bahamas, The",
          "Bahrain",
          "Bangladesh",
          "Barbados",
          "Belarus",
          "Belgium",
          "Belize",
          "Benin",
          "Bhutan",
          "Bolivia",
          "Bosnia-Herzegovina",
          "Botswana",
          "Brazil",
          "Brunei",
          "Bulgaria",
          "Burkina Faso",
          "Burma",
          "Burundi",
          "Cabo Verde",
          "Cambodia",
          "Cameroon",
          "Canada",
          "Central African Republic",
          "Chad",
          "Chile",
          "China - mainland",
          "Colombia",
          "Comoros",
          "Congo, Democratic Republic of the",
          "Congo, Republic of the",
          "Costa Rica",
          "Cote d'Ivoire",
          "Croatia",
          "Cuba",
          "Cyprus",
          "Czech Republic",
          "Denmark",
          "Djibouti",
          "Dominica",
          "Dominican Republic",
          "Ecuador",
          "Egypt",
          "El Salvador",
          "Equatorial Guinea",
          "Eritrea",
          "Estonia",
          "Eswatini",
          "Ethiopia",
          "Fiji",
          "Finland",
          "France",
          "Gabon",
          "Gambia, The",
          "Georgia",
          "Germany",
          "Ghana",
          "Great Britain and Northern Ireland",
          "Greece",
          "Grenada",
          "Guatemala",
          "Guinea",
          "Guinea-Bissau",
          "Guyana",
          "Haiti",
          "Honduras",
          "Hong Kong S.A.R.",
          "Hungary",
          "Iceland",
          "India",
          "Indonesia",
          "Iran",
          "Iraq",
          "Ireland",
          "Israel",
          "Italy",
          "Jamaica",
          "Japan",
          "Jordan",
          "Kazakhstan",
          "Kenya",
          "Kiribati",
          "Korea, North",
          "Korea, South",
          "Kosovo",
          "Kuwait",
          "Kyrgyzstan",
          "Laos",
          "Latvia",
          "Lebanon",
          "Lesotho",
          "Liberia",
          "Libya",
          "Liechtenstein",
          "Lithuania",
          "Luxembourg",
          "Macau S.A.R.",
          "Madagascar",
          "Malawi",
          "Malaysia",
          "Maldives",
          "Mali",
          "Malta",
          "Marshall Islands",
          "Mauritania",
          "Mauritius",
          "Mexico",
          "Micronesia",
          "Moldova",
          "Monaco",
          "Mongolia",
          "Montenegro",
          "Morocco",
          "Mozambique",
          "Namibia",
          "Nauru",
          "Nepal",
          "Netherlands",
          "New Zealand",
          "Nicaragua",
          "Niger",
          "Nigeria",
          "No Nationality",
          "North Macedonia",
          "Norway",
          "Oman",
          "Pakistan",
          "Palau",
          "Palestinian Authority Travel Document",
          "Panama",
          "Papua New Guinea",
          "Paraguay",
          "Peru",
          "Philippines",
          "Poland",
          "Portugal",
          "Qatar",
          "Romania",
          "Russia",
          "Rwanda",
          "Saint Kitts and Nevis",
          "Saint Lucia",
          "Saint Vincent and the Grenadines",
          "Samoa",
          "San Marino",
          "Sao Tome and Principe",
          "Saudi Arabia",
          "Senegal",
          "Serbia",
          "Seychelles",
          "Sierra Leone",
          "Singapore",
          "Slovakia",
          "Slovenia",
          "Solomon Islands",
          "Somalia",
          "South Africa",
          "South Sudan",
          "Spain",
          "Sri Lanka",
          "Sudan",
          "Suriname",
          "Sweden",
          "Switzerland",
          "Syria",
          "Taiwan",
          "Tajikistan",
          "Tanzania",
          "Thailand",
          "Timor-Leste",
          "Togo",
          "Tonga",
          "Trinidad and Tobago",
          "Tunisia",
          "Turkey",
          "Turkmenistan",
          "Tuvalu",
          "Uganda",
          "Ukraine",
          "United Arab Emirates",
          "United Nations Laissez-Passer",
          "Uruguay",
          "Uzbekistan",
          "Vanuatu",
          "Vatican City",
          "Venezuela",
          "Vietnam",
          "Yemen",
          "Zambia",
          "Zimbabwe"
         ],
         "locationmode": "country names",
         "locations": [
          "Afghanistan",
          "Albania",
          "Algeria",
          "Andorra",
          "Angola",
          "Antigua and Barbuda",
          "Argentina",
          "Armenia",
          "Australia",
          "Austria",
          "Azerbaijan",
          "Bahamas, The",
          "Bahrain",
          "Bangladesh",
          "Barbados",
          "Belarus",
          "Belgium",
          "Belize",
          "Benin",
          "Bhutan",
          "Bolivia",
          "Bosnia-Herzegovina",
          "Botswana",
          "Brazil",
          "Brunei",
          "Bulgaria",
          "Burkina Faso",
          "Burma",
          "Burundi",
          "Cabo Verde",
          "Cambodia",
          "Cameroon",
          "Canada",
          "Central African Republic",
          "Chad",
          "Chile",
          "China - mainland",
          "Colombia",
          "Comoros",
          "Congo, Democratic Republic of the",
          "Congo, Republic of the",
          "Costa Rica",
          "Cote d'Ivoire",
          "Croatia",
          "Cuba",
          "Cyprus",
          "Czech Republic",
          "Denmark",
          "Djibouti",
          "Dominica",
          "Dominican Republic",
          "Ecuador",
          "Egypt",
          "El Salvador",
          "Equatorial Guinea",
          "Eritrea",
          "Estonia",
          "Eswatini",
          "Ethiopia",
          "Fiji",
          "Finland",
          "France",
          "Gabon",
          "Gambia, The",
          "Georgia",
          "Germany",
          "Ghana",
          "Great Britain and Northern Ireland",
          "Greece",
          "Grenada",
          "Guatemala",
          "Guinea",
          "Guinea-Bissau",
          "Guyana",
          "Haiti",
          "Honduras",
          "Hong Kong S.A.R.",
          "Hungary",
          "Iceland",
          "India",
          "Indonesia",
          "Iran",
          "Iraq",
          "Ireland",
          "Israel",
          "Italy",
          "Jamaica",
          "Japan",
          "Jordan",
          "Kazakhstan",
          "Kenya",
          "Kiribati",
          "Korea, North",
          "Korea, South",
          "Kosovo",
          "Kuwait",
          "Kyrgyzstan",
          "Laos",
          "Latvia",
          "Lebanon",
          "Lesotho",
          "Liberia",
          "Libya",
          "Liechtenstein",
          "Lithuania",
          "Luxembourg",
          "Macau S.A.R.",
          "Madagascar",
          "Malawi",
          "Malaysia",
          "Maldives",
          "Mali",
          "Malta",
          "Marshall Islands",
          "Mauritania",
          "Mauritius",
          "Mexico",
          "Micronesia",
          "Moldova",
          "Monaco",
          "Mongolia",
          "Montenegro",
          "Morocco",
          "Mozambique",
          "Namibia",
          "Nauru",
          "Nepal",
          "Netherlands",
          "New Zealand",
          "Nicaragua",
          "Niger",
          "Nigeria",
          "No Nationality",
          "North Macedonia",
          "Norway",
          "Oman",
          "Pakistan",
          "Palau",
          "Palestinian Authority Travel Document",
          "Panama",
          "Papua New Guinea",
          "Paraguay",
          "Peru",
          "Philippines",
          "Poland",
          "Portugal",
          "Qatar",
          "Romania",
          "Russia",
          "Rwanda",
          "Saint Kitts and Nevis",
          "Saint Lucia",
          "Saint Vincent and the Grenadines",
          "Samoa",
          "San Marino",
          "Sao Tome and Principe",
          "Saudi Arabia",
          "Senegal",
          "Serbia",
          "Seychelles",
          "Sierra Leone",
          "Singapore",
          "Slovakia",
          "Slovenia",
          "Solomon Islands",
          "Somalia",
          "South Africa",
          "South Sudan",
          "Spain",
          "Sri Lanka",
          "Sudan",
          "Suriname",
          "Sweden",
          "Switzerland",
          "Syria",
          "Taiwan",
          "Tajikistan",
          "Tanzania",
          "Thailand",
          "Timor-Leste",
          "Togo",
          "Tonga",
          "Trinidad and Tobago",
          "Tunisia",
          "Turkey",
          "Turkmenistan",
          "Tuvalu",
          "Uganda",
          "Ukraine",
          "United Arab Emirates",
          "United Nations Laissez-Passer",
          "Uruguay",
          "Uzbekistan",
          "Vanuatu",
          "Vatican City",
          "Venezuela",
          "Vietnam",
          "Yemen",
          "Zambia",
          "Zimbabwe"
         ],
         "name": "",
         "type": "choropleth",
         "z": [
          1.02,
          0.33,
          0.14,
          1.89,
          0.25,
          0.37,
          0.18,
          0.44,
          1.63,
          1.79,
          0.71,
          0.69,
          0.34,
          0.99,
          0.33,
          0.45,
          1.61,
          0.03,
          0.22,
          1.11,
          0.25,
          0.52,
          0.99,
          0.29,
          0.45,
          0.36,
          0.3,
          0.21,
          0.35,
          0.19,
          0.16,
          0.8,
          0.5,
          0,
          0.42,
          1.97,
          3.77,
          0.57,
          0,
          0.38,
          0,
          0.34,
          0.55,
          1.21,
          0.1,
          0.95,
          1.58,
          1.04,
          0,
          0.81,
          0.2,
          0.12,
          0.69,
          0.21,
          0.19,
          0.12,
          1.12,
          0.75,
          0.43,
          0.09,
          1.51,
          3.07,
          0.08,
          0.32,
          0.91,
          1.76,
          1.13,
          2.19,
          8.95,
          0.72,
          0.12,
          0,
          0,
          0.17,
          0.08,
          0.2,
          0.56,
          1.62,
          1.87,
          21.74,
          0.29,
          0.81,
          0.62,
          3.58,
          0.23,
          3.21,
          0.68,
          1.09,
          1.3,
          0.37,
          1.97,
          0,
          0,
          3.59,
          0.18,
          0.1,
          0.45,
          0,
          1.29,
          1.55,
          0.44,
          0,
          1.39,
          3.77,
          1.69,
          1.77,
          1.86,
          0.51,
          0.47,
          1.34,
          0,
          0.23,
          2.33,
          0,
          0.74,
          1.01,
          0.12,
          0,
          0.33,
          2.63,
          0.62,
          0.26,
          0.38,
          0.33,
          0.15,
          0,
          2.21,
          1.78,
          2.37,
          0.2,
          0.5,
          0.7,
          0.24,
          0.37,
          0.82,
          0.13,
          1.53,
          0,
          0.41,
          0.24,
          0,
          0.24,
          0.39,
          1.1,
          1.41,
          3.1,
          0.03,
          0.21,
          0.78,
          1.78,
          0.72,
          0.73,
          0.27,
          0,
          0,
          0,
          0.28,
          0.6,
          0.74,
          0,
          0.06,
          5.21,
          1.64,
          3.12,
          1.37,
          0,
          0.46,
          0,
          2.87,
          1.38,
          1.43,
          0.1,
          1.62,
          1.48,
          0.67,
          4.81,
          0.41,
          0.63,
          0.48,
          0,
          0.4,
          0,
          0.44,
          0.76,
          1,
          1.97,
          0,
          0.6,
          0.55,
          0.01,
          0,
          0.22,
          0.22,
          0,
          0,
          0.66,
          0.49,
          0.22,
          0.27,
          0.9
         ]
        }
       ],
       "layout": {
        "coloraxis": {
         "colorbar": {
          "title": {
           "text": "H1B Students as Percentage of Total Visas Per Country"
          }
         },
         "colorscale": [
          [
           0,
           "#440154"
          ],
          [
           0.1111111111111111,
           "#482878"
          ],
          [
           0.2222222222222222,
           "#3e4989"
          ],
          [
           0.3333333333333333,
           "#31688e"
          ],
          [
           0.4444444444444444,
           "#26828e"
          ],
          [
           0.5555555555555556,
           "#1f9e89"
          ],
          [
           0.6666666666666666,
           "#35b779"
          ],
          [
           0.7777777777777778,
           "#6ece58"
          ],
          [
           0.8888888888888888,
           "#b5de2b"
          ],
          [
           1,
           "#fde725"
          ]
         ]
        },
        "geo": {
         "center": {},
         "domain": {
          "x": [
           0,
           1
          ],
          "y": [
           0,
           1
          ]
         },
         "projection": {
          "type": "natural earth"
         }
        },
        "legend": {
         "tracegroupgap": 0
        },
        "template": {
         "data": {
          "bar": [
           {
            "error_x": {
             "color": "#2a3f5f"
            },
            "error_y": {
             "color": "#2a3f5f"
            },
            "marker": {
             "line": {
              "color": "#E5ECF6",
              "width": 0.5
             },
             "pattern": {
              "fillmode": "overlay",
              "size": 10,
              "solidity": 0.2
             }
            },
            "type": "bar"
           }
          ],
          "barpolar": [
           {
            "marker": {
             "line": {
              "color": "#E5ECF6",
              "width": 0.5
             },
             "pattern": {
              "fillmode": "overlay",
              "size": 10,
              "solidity": 0.2
             }
            },
            "type": "barpolar"
           }
          ],
          "carpet": [
           {
            "aaxis": {
             "endlinecolor": "#2a3f5f",
             "gridcolor": "white",
             "linecolor": "white",
             "minorgridcolor": "white",
             "startlinecolor": "#2a3f5f"
            },
            "baxis": {
             "endlinecolor": "#2a3f5f",
             "gridcolor": "white",
             "linecolor": "white",
             "minorgridcolor": "white",
             "startlinecolor": "#2a3f5f"
            },
            "type": "carpet"
           }
          ],
          "choropleth": [
           {
            "colorbar": {
             "outlinewidth": 0,
             "ticks": ""
            },
            "type": "choropleth"
           }
          ],
          "contour": [
           {
            "colorbar": {
             "outlinewidth": 0,
             "ticks": ""
            },
            "colorscale": [
             [
              0,
              "#0d0887"
             ],
             [
              0.1111111111111111,
              "#46039f"
             ],
             [
              0.2222222222222222,
              "#7201a8"
             ],
             [
              0.3333333333333333,
              "#9c179e"
             ],
             [
              0.4444444444444444,
              "#bd3786"
             ],
             [
              0.5555555555555556,
              "#d8576b"
             ],
             [
              0.6666666666666666,
              "#ed7953"
             ],
             [
              0.7777777777777778,
              "#fb9f3a"
             ],
             [
              0.8888888888888888,
              "#fdca26"
             ],
             [
              1,
              "#f0f921"
             ]
            ],
            "type": "contour"
           }
          ],
          "contourcarpet": [
           {
            "colorbar": {
             "outlinewidth": 0,
             "ticks": ""
            },
            "type": "contourcarpet"
           }
          ],
          "heatmap": [
           {
            "colorbar": {
             "outlinewidth": 0,
             "ticks": ""
            },
            "colorscale": [
             [
              0,
              "#0d0887"
             ],
             [
              0.1111111111111111,
              "#46039f"
             ],
             [
              0.2222222222222222,
              "#7201a8"
             ],
             [
              0.3333333333333333,
              "#9c179e"
             ],
             [
              0.4444444444444444,
              "#bd3786"
             ],
             [
              0.5555555555555556,
              "#d8576b"
             ],
             [
              0.6666666666666666,
              "#ed7953"
             ],
             [
              0.7777777777777778,
              "#fb9f3a"
             ],
             [
              0.8888888888888888,
              "#fdca26"
             ],
             [
              1,
              "#f0f921"
             ]
            ],
            "type": "heatmap"
           }
          ],
          "heatmapgl": [
           {
            "colorbar": {
             "outlinewidth": 0,
             "ticks": ""
            },
            "colorscale": [
             [
              0,
              "#0d0887"
             ],
             [
              0.1111111111111111,
              "#46039f"
             ],
             [
              0.2222222222222222,
              "#7201a8"
             ],
             [
              0.3333333333333333,
              "#9c179e"
             ],
             [
              0.4444444444444444,
              "#bd3786"
             ],
             [
              0.5555555555555556,
              "#d8576b"
             ],
             [
              0.6666666666666666,
              "#ed7953"
             ],
             [
              0.7777777777777778,
              "#fb9f3a"
             ],
             [
              0.8888888888888888,
              "#fdca26"
             ],
             [
              1,
              "#f0f921"
             ]
            ],
            "type": "heatmapgl"
           }
          ],
          "histogram": [
           {
            "marker": {
             "pattern": {
              "fillmode": "overlay",
              "size": 10,
              "solidity": 0.2
             }
            },
            "type": "histogram"
           }
          ],
          "histogram2d": [
           {
            "colorbar": {
             "outlinewidth": 0,
             "ticks": ""
            },
            "colorscale": [
             [
              0,
              "#0d0887"
             ],
             [
              0.1111111111111111,
              "#46039f"
             ],
             [
              0.2222222222222222,
              "#7201a8"
             ],
             [
              0.3333333333333333,
              "#9c179e"
             ],
             [
              0.4444444444444444,
              "#bd3786"
             ],
             [
              0.5555555555555556,
              "#d8576b"
             ],
             [
              0.6666666666666666,
              "#ed7953"
             ],
             [
              0.7777777777777778,
              "#fb9f3a"
             ],
             [
              0.8888888888888888,
              "#fdca26"
             ],
             [
              1,
              "#f0f921"
             ]
            ],
            "type": "histogram2d"
           }
          ],
          "histogram2dcontour": [
           {
            "colorbar": {
             "outlinewidth": 0,
             "ticks": ""
            },
            "colorscale": [
             [
              0,
              "#0d0887"
             ],
             [
              0.1111111111111111,
              "#46039f"
             ],
             [
              0.2222222222222222,
              "#7201a8"
             ],
             [
              0.3333333333333333,
              "#9c179e"
             ],
             [
              0.4444444444444444,
              "#bd3786"
             ],
             [
              0.5555555555555556,
              "#d8576b"
             ],
             [
              0.6666666666666666,
              "#ed7953"
             ],
             [
              0.7777777777777778,
              "#fb9f3a"
             ],
             [
              0.8888888888888888,
              "#fdca26"
             ],
             [
              1,
              "#f0f921"
             ]
            ],
            "type": "histogram2dcontour"
           }
          ],
          "mesh3d": [
           {
            "colorbar": {
             "outlinewidth": 0,
             "ticks": ""
            },
            "type": "mesh3d"
           }
          ],
          "parcoords": [
           {
            "line": {
             "colorbar": {
              "outlinewidth": 0,
              "ticks": ""
             }
            },
            "type": "parcoords"
           }
          ],
          "pie": [
           {
            "automargin": true,
            "type": "pie"
           }
          ],
          "scatter": [
           {
            "fillpattern": {
             "fillmode": "overlay",
             "size": 10,
             "solidity": 0.2
            },
            "type": "scatter"
           }
          ],
          "scatter3d": [
           {
            "line": {
             "colorbar": {
              "outlinewidth": 0,
              "ticks": ""
             }
            },
            "marker": {
             "colorbar": {
              "outlinewidth": 0,
              "ticks": ""
             }
            },
            "type": "scatter3d"
           }
          ],
          "scattercarpet": [
           {
            "marker": {
             "colorbar": {
              "outlinewidth": 0,
              "ticks": ""
             }
            },
            "type": "scattercarpet"
           }
          ],
          "scattergeo": [
           {
            "marker": {
             "colorbar": {
              "outlinewidth": 0,
              "ticks": ""
             }
            },
            "type": "scattergeo"
           }
          ],
          "scattergl": [
           {
            "marker": {
             "colorbar": {
              "outlinewidth": 0,
              "ticks": ""
             }
            },
            "type": "scattergl"
           }
          ],
          "scattermapbox": [
           {
            "marker": {
             "colorbar": {
              "outlinewidth": 0,
              "ticks": ""
             }
            },
            "type": "scattermapbox"
           }
          ],
          "scatterpolar": [
           {
            "marker": {
             "colorbar": {
              "outlinewidth": 0,
              "ticks": ""
             }
            },
            "type": "scatterpolar"
           }
          ],
          "scatterpolargl": [
           {
            "marker": {
             "colorbar": {
              "outlinewidth": 0,
              "ticks": ""
             }
            },
            "type": "scatterpolargl"
           }
          ],
          "scatterternary": [
           {
            "marker": {
             "colorbar": {
              "outlinewidth": 0,
              "ticks": ""
             }
            },
            "type": "scatterternary"
           }
          ],
          "surface": [
           {
            "colorbar": {
             "outlinewidth": 0,
             "ticks": ""
            },
            "colorscale": [
             [
              0,
              "#0d0887"
             ],
             [
              0.1111111111111111,
              "#46039f"
             ],
             [
              0.2222222222222222,
              "#7201a8"
             ],
             [
              0.3333333333333333,
              "#9c179e"
             ],
             [
              0.4444444444444444,
              "#bd3786"
             ],
             [
              0.5555555555555556,
              "#d8576b"
             ],
             [
              0.6666666666666666,
              "#ed7953"
             ],
             [
              0.7777777777777778,
              "#fb9f3a"
             ],
             [
              0.8888888888888888,
              "#fdca26"
             ],
             [
              1,
              "#f0f921"
             ]
            ],
            "type": "surface"
           }
          ],
          "table": [
           {
            "cells": {
             "fill": {
              "color": "#EBF0F8"
             },
             "line": {
              "color": "white"
             }
            },
            "header": {
             "fill": {
              "color": "#C8D4E3"
             },
             "line": {
              "color": "white"
             }
            },
            "type": "table"
           }
          ]
         },
         "layout": {
          "annotationdefaults": {
           "arrowcolor": "#2a3f5f",
           "arrowhead": 0,
           "arrowwidth": 1
          },
          "autotypenumbers": "strict",
          "coloraxis": {
           "colorbar": {
            "outlinewidth": 0,
            "ticks": ""
           }
          },
          "colorscale": {
           "diverging": [
            [
             0,
             "#8e0152"
            ],
            [
             0.1,
             "#c51b7d"
            ],
            [
             0.2,
             "#de77ae"
            ],
            [
             0.3,
             "#f1b6da"
            ],
            [
             0.4,
             "#fde0ef"
            ],
            [
             0.5,
             "#f7f7f7"
            ],
            [
             0.6,
             "#e6f5d0"
            ],
            [
             0.7,
             "#b8e186"
            ],
            [
             0.8,
             "#7fbc41"
            ],
            [
             0.9,
             "#4d9221"
            ],
            [
             1,
             "#276419"
            ]
           ],
           "sequential": [
            [
             0,
             "#0d0887"
            ],
            [
             0.1111111111111111,
             "#46039f"
            ],
            [
             0.2222222222222222,
             "#7201a8"
            ],
            [
             0.3333333333333333,
             "#9c179e"
            ],
            [
             0.4444444444444444,
             "#bd3786"
            ],
            [
             0.5555555555555556,
             "#d8576b"
            ],
            [
             0.6666666666666666,
             "#ed7953"
            ],
            [
             0.7777777777777778,
             "#fb9f3a"
            ],
            [
             0.8888888888888888,
             "#fdca26"
            ],
            [
             1,
             "#f0f921"
            ]
           ],
           "sequentialminus": [
            [
             0,
             "#0d0887"
            ],
            [
             0.1111111111111111,
             "#46039f"
            ],
            [
             0.2222222222222222,
             "#7201a8"
            ],
            [
             0.3333333333333333,
             "#9c179e"
            ],
            [
             0.4444444444444444,
             "#bd3786"
            ],
            [
             0.5555555555555556,
             "#d8576b"
            ],
            [
             0.6666666666666666,
             "#ed7953"
            ],
            [
             0.7777777777777778,
             "#fb9f3a"
            ],
            [
             0.8888888888888888,
             "#fdca26"
            ],
            [
             1,
             "#f0f921"
            ]
           ]
          },
          "colorway": [
           "#636efa",
           "#EF553B",
           "#00cc96",
           "#ab63fa",
           "#FFA15A",
           "#19d3f3",
           "#FF6692",
           "#B6E880",
           "#FF97FF",
           "#FECB52"
          ],
          "font": {
           "color": "#2a3f5f"
          },
          "geo": {
           "bgcolor": "white",
           "lakecolor": "white",
           "landcolor": "#E5ECF6",
           "showlakes": true,
           "showland": true,
           "subunitcolor": "white"
          },
          "hoverlabel": {
           "align": "left"
          },
          "hovermode": "closest",
          "mapbox": {
           "style": "light"
          },
          "paper_bgcolor": "white",
          "plot_bgcolor": "#E5ECF6",
          "polar": {
           "angularaxis": {
            "gridcolor": "white",
            "linecolor": "white",
            "ticks": ""
           },
           "bgcolor": "#E5ECF6",
           "radialaxis": {
            "gridcolor": "white",
            "linecolor": "white",
            "ticks": ""
           }
          },
          "scene": {
           "xaxis": {
            "backgroundcolor": "#E5ECF6",
            "gridcolor": "white",
            "gridwidth": 2,
            "linecolor": "white",
            "showbackground": true,
            "ticks": "",
            "zerolinecolor": "white"
           },
           "yaxis": {
            "backgroundcolor": "#E5ECF6",
            "gridcolor": "white",
            "gridwidth": 2,
            "linecolor": "white",
            "showbackground": true,
            "ticks": "",
            "zerolinecolor": "white"
           },
           "zaxis": {
            "backgroundcolor": "#E5ECF6",
            "gridcolor": "white",
            "gridwidth": 2,
            "linecolor": "white",
            "showbackground": true,
            "ticks": "",
            "zerolinecolor": "white"
           }
          },
          "shapedefaults": {
           "line": {
            "color": "#2a3f5f"
           }
          },
          "ternary": {
           "aaxis": {
            "gridcolor": "white",
            "linecolor": "white",
            "ticks": ""
           },
           "baxis": {
            "gridcolor": "white",
            "linecolor": "white",
            "ticks": ""
           },
           "bgcolor": "#E5ECF6",
           "caxis": {
            "gridcolor": "white",
            "linecolor": "white",
            "ticks": ""
           }
          },
          "title": {
           "x": 0.05
          },
          "xaxis": {
           "automargin": true,
           "gridcolor": "white",
           "linecolor": "white",
           "ticks": "",
           "title": {
            "standoff": 15
           },
           "zerolinecolor": "white",
           "zerolinewidth": 2
          },
          "yaxis": {
           "automargin": true,
           "gridcolor": "white",
           "linecolor": "white",
           "ticks": "",
           "title": {
            "standoff": 15
           },
           "zerolinecolor": "white",
           "zerolinewidth": 2
          }
         }
        },
        "title": {
         "text": "Percentage of H1-B visas issued by country (Fiscal Year 2022)"
        }
       }
      }
     },
     "metadata": {},
     "output_type": "display_data"
    }
   ],
   "source": [
    "# let's make a plot for the countries percentages of H1-B visas issued\n",
    "\n",
    "final_data['H1B Students as Percentage of Total Visas Per Country'] = round(final_data['H1B'] / final_data['Grand Total'] * 100, 2)\n",
    "\n",
    "fig = px.choropleth(data_frame=final_data,\n",
    "                    locations='Country',\n",
    "                    locationmode='country names',\n",
    "                    color='H1B Students as Percentage of Total Visas Per Country',\n",
    "                    hover_name='Country',\n",
    "                    title='Percentage of H1-B visas issued by country (Fiscal Year 2022)',\n",
    "                    color_continuous_scale='Viridis',\n",
    "                    projection='natural earth')\n",
    "\n",
    "fig.show()\n"
   ]
  },
  {
   "cell_type": "code",
   "execution_count": 57,
   "metadata": {},
   "outputs": [
    {
     "data": {
      "application/vnd.plotly.v1+json": {
       "config": {
        "plotlyServerURL": "https://plot.ly"
       },
       "data": [
        {
         "coloraxis": "coloraxis",
         "geo": "geo",
         "hovertemplate": "<b>%{hovertext}</b><br><br>Country=%{location}<br>F1 Students as Percentage of Total F1 Visas=%{z}<extra></extra>",
         "hovertext": [
          "Afghanistan",
          "Albania",
          "Algeria",
          "Andorra",
          "Angola",
          "Antigua and Barbuda",
          "Argentina",
          "Armenia",
          "Australia",
          "Austria",
          "Azerbaijan",
          "Bahamas, The",
          "Bahrain",
          "Bangladesh",
          "Barbados",
          "Belarus",
          "Belgium",
          "Belize",
          "Benin",
          "Bhutan",
          "Bolivia",
          "Bosnia-Herzegovina",
          "Botswana",
          "Brazil",
          "Brunei",
          "Bulgaria",
          "Burkina Faso",
          "Burma",
          "Burundi",
          "Cabo Verde",
          "Cambodia",
          "Cameroon",
          "Canada",
          "Central African Republic",
          "Chad",
          "Chile",
          "China - mainland",
          "Colombia",
          "Comoros",
          "Congo, Democratic Republic of the",
          "Congo, Republic of the",
          "Costa Rica",
          "Cote d'Ivoire",
          "Croatia",
          "Cuba",
          "Cyprus",
          "Czech Republic",
          "Denmark",
          "Djibouti",
          "Dominica",
          "Dominican Republic",
          "Ecuador",
          "Egypt",
          "El Salvador",
          "Equatorial Guinea",
          "Eritrea",
          "Estonia",
          "Eswatini",
          "Ethiopia",
          "Fiji",
          "Finland",
          "France",
          "Gabon",
          "Gambia, The",
          "Georgia",
          "Germany",
          "Ghana",
          "Great Britain and Northern Ireland",
          "Greece",
          "Grenada",
          "Guatemala",
          "Guinea",
          "Guinea-Bissau",
          "Guyana",
          "Haiti",
          "Honduras",
          "Hong Kong S.A.R.",
          "Hungary",
          "Iceland",
          "India",
          "Indonesia",
          "Iran",
          "Iraq",
          "Ireland",
          "Israel",
          "Italy",
          "Jamaica",
          "Japan",
          "Jordan",
          "Kazakhstan",
          "Kenya",
          "Kiribati",
          "Korea, North",
          "Korea, South",
          "Kosovo",
          "Kuwait",
          "Kyrgyzstan",
          "Laos",
          "Latvia",
          "Lebanon",
          "Lesotho",
          "Liberia",
          "Libya",
          "Liechtenstein",
          "Lithuania",
          "Luxembourg",
          "Macau S.A.R.",
          "Madagascar",
          "Malawi",
          "Malaysia",
          "Maldives",
          "Mali",
          "Malta",
          "Marshall Islands",
          "Mauritania",
          "Mauritius",
          "Mexico",
          "Micronesia",
          "Moldova",
          "Monaco",
          "Mongolia",
          "Montenegro",
          "Morocco",
          "Mozambique",
          "Namibia",
          "Nauru",
          "Nepal",
          "Netherlands",
          "New Zealand",
          "Nicaragua",
          "Niger",
          "Nigeria",
          "No Nationality",
          "North Macedonia",
          "Norway",
          "Oman",
          "Pakistan",
          "Palau",
          "Palestinian Authority Travel Document",
          "Panama",
          "Papua New Guinea",
          "Paraguay",
          "Peru",
          "Philippines",
          "Poland",
          "Portugal",
          "Qatar",
          "Romania",
          "Russia",
          "Rwanda",
          "Saint Kitts and Nevis",
          "Saint Lucia",
          "Saint Vincent and the Grenadines",
          "Samoa",
          "San Marino",
          "Sao Tome and Principe",
          "Saudi Arabia",
          "Senegal",
          "Serbia",
          "Seychelles",
          "Sierra Leone",
          "Singapore",
          "Slovakia",
          "Slovenia",
          "Solomon Islands",
          "Somalia",
          "South Africa",
          "South Sudan",
          "Spain",
          "Sri Lanka",
          "Sudan",
          "Suriname",
          "Sweden",
          "Switzerland",
          "Syria",
          "Taiwan",
          "Tajikistan",
          "Tanzania",
          "Thailand",
          "Timor-Leste",
          "Togo",
          "Tonga",
          "Trinidad and Tobago",
          "Tunisia",
          "Turkey",
          "Turkmenistan",
          "Tuvalu",
          "Uganda",
          "Ukraine",
          "United Arab Emirates",
          "United Nations Laissez-Passer",
          "Uruguay",
          "Uzbekistan",
          "Vanuatu",
          "Vatican City",
          "Venezuela",
          "Vietnam",
          "Yemen",
          "Zambia",
          "Zimbabwe"
         ],
         "locationmode": "country names",
         "locations": [
          "Afghanistan",
          "Albania",
          "Algeria",
          "Andorra",
          "Angola",
          "Antigua and Barbuda",
          "Argentina",
          "Armenia",
          "Australia",
          "Austria",
          "Azerbaijan",
          "Bahamas, The",
          "Bahrain",
          "Bangladesh",
          "Barbados",
          "Belarus",
          "Belgium",
          "Belize",
          "Benin",
          "Bhutan",
          "Bolivia",
          "Bosnia-Herzegovina",
          "Botswana",
          "Brazil",
          "Brunei",
          "Bulgaria",
          "Burkina Faso",
          "Burma",
          "Burundi",
          "Cabo Verde",
          "Cambodia",
          "Cameroon",
          "Canada",
          "Central African Republic",
          "Chad",
          "Chile",
          "China - mainland",
          "Colombia",
          "Comoros",
          "Congo, Democratic Republic of the",
          "Congo, Republic of the",
          "Costa Rica",
          "Cote d'Ivoire",
          "Croatia",
          "Cuba",
          "Cyprus",
          "Czech Republic",
          "Denmark",
          "Djibouti",
          "Dominica",
          "Dominican Republic",
          "Ecuador",
          "Egypt",
          "El Salvador",
          "Equatorial Guinea",
          "Eritrea",
          "Estonia",
          "Eswatini",
          "Ethiopia",
          "Fiji",
          "Finland",
          "France",
          "Gabon",
          "Gambia, The",
          "Georgia",
          "Germany",
          "Ghana",
          "Great Britain and Northern Ireland",
          "Greece",
          "Grenada",
          "Guatemala",
          "Guinea",
          "Guinea-Bissau",
          "Guyana",
          "Haiti",
          "Honduras",
          "Hong Kong S.A.R.",
          "Hungary",
          "Iceland",
          "India",
          "Indonesia",
          "Iran",
          "Iraq",
          "Ireland",
          "Israel",
          "Italy",
          "Jamaica",
          "Japan",
          "Jordan",
          "Kazakhstan",
          "Kenya",
          "Kiribati",
          "Korea, North",
          "Korea, South",
          "Kosovo",
          "Kuwait",
          "Kyrgyzstan",
          "Laos",
          "Latvia",
          "Lebanon",
          "Lesotho",
          "Liberia",
          "Libya",
          "Liechtenstein",
          "Lithuania",
          "Luxembourg",
          "Macau S.A.R.",
          "Madagascar",
          "Malawi",
          "Malaysia",
          "Maldives",
          "Mali",
          "Malta",
          "Marshall Islands",
          "Mauritania",
          "Mauritius",
          "Mexico",
          "Micronesia",
          "Moldova",
          "Monaco",
          "Mongolia",
          "Montenegro",
          "Morocco",
          "Mozambique",
          "Namibia",
          "Nauru",
          "Nepal",
          "Netherlands",
          "New Zealand",
          "Nicaragua",
          "Niger",
          "Nigeria",
          "No Nationality",
          "North Macedonia",
          "Norway",
          "Oman",
          "Pakistan",
          "Palau",
          "Palestinian Authority Travel Document",
          "Panama",
          "Papua New Guinea",
          "Paraguay",
          "Peru",
          "Philippines",
          "Poland",
          "Portugal",
          "Qatar",
          "Romania",
          "Russia",
          "Rwanda",
          "Saint Kitts and Nevis",
          "Saint Lucia",
          "Saint Vincent and the Grenadines",
          "Samoa",
          "San Marino",
          "Sao Tome and Principe",
          "Saudi Arabia",
          "Senegal",
          "Serbia",
          "Seychelles",
          "Sierra Leone",
          "Singapore",
          "Slovakia",
          "Slovenia",
          "Solomon Islands",
          "Somalia",
          "South Africa",
          "South Sudan",
          "Spain",
          "Sri Lanka",
          "Sudan",
          "Suriname",
          "Sweden",
          "Switzerland",
          "Syria",
          "Taiwan",
          "Tajikistan",
          "Tanzania",
          "Thailand",
          "Timor-Leste",
          "Togo",
          "Tonga",
          "Trinidad and Tobago",
          "Tunisia",
          "Turkey",
          "Turkmenistan",
          "Tuvalu",
          "Uganda",
          "Ukraine",
          "United Arab Emirates",
          "United Nations Laissez-Passer",
          "Uruguay",
          "Uzbekistan",
          "Vanuatu",
          "Vatican City",
          "Venezuela",
          "Vietnam",
          "Yemen",
          "Zambia",
          "Zimbabwe"
         ],
         "name": "",
         "type": "choropleth",
         "z": [
          0.09,
          0.14,
          0.06,
          0,
          0.09,
          0.02,
          0.47,
          0.09,
          0.43,
          0.15,
          0.16,
          0.29,
          0.02,
          1.89,
          0.04,
          0.07,
          0.18,
          0.04,
          0.04,
          0.02,
          0.14,
          0.03,
          0.03,
          2.39,
          0,
          0.05,
          0.07,
          0.47,
          0.03,
          0.01,
          0.14,
          0.13,
          0.03,
          0,
          0.02,
          0.57,
          15.05,
          1.71,
          0,
          0.28,
          0.02,
          0.13,
          0.11,
          0.05,
          0.02,
          0.04,
          0.1,
          0.22,
          0,
          0.02,
          0.37,
          0.46,
          0.33,
          0.09,
          0.04,
          0.04,
          0.02,
          0.01,
          0.47,
          0.01,
          0.09,
          1.71,
          0.03,
          0.04,
          0.1,
          1.76,
          0.81,
          1.18,
          0.23,
          0.02,
          0.17,
          0.01,
          0,
          0.03,
          0.06,
          0.22,
          0.47,
          0.09,
          0.05,
          28,
          0.57,
          0.87,
          0.04,
          0.19,
          0.27,
          1.45,
          0.32,
          2.79,
          0.32,
          0.3,
          0.27,
          0,
          0,
          4.39,
          0.02,
          0.39,
          0.17,
          0.02,
          0.03,
          0.14,
          0,
          0.03,
          0.05,
          0,
          0.05,
          0.01,
          0.03,
          0.03,
          0.04,
          0.3,
          0,
          0.02,
          0.01,
          0,
          0.01,
          0.02,
          1.89,
          0,
          0.02,
          0,
          0.2,
          0.04,
          0.17,
          0.03,
          0.01,
          0,
          1.5,
          0.43,
          0.15,
          0.06,
          0.04,
          1.84,
          0.02,
          0.02,
          0.39,
          0.1,
          0.86,
          0,
          0.07,
          0.23,
          0.01,
          0.06,
          0.64,
          0.3,
          0.19,
          0.16,
          0.04,
          0.08,
          0.76,
          0.11,
          0.02,
          0.02,
          0.01,
          0,
          0,
          0,
          1.18,
          0.07,
          0.24,
          0,
          0.04,
          0.44,
          0.06,
          0.02,
          0,
          0.01,
          0.36,
          0.02,
          1.34,
          0.21,
          0.06,
          0,
          0.49,
          0.49,
          0.05,
          1.68,
          0.02,
          0.16,
          0.72,
          0,
          0.02,
          0,
          0.13,
          0.13,
          0.77,
          0.05,
          0,
          0.21,
          0.32,
          0.11,
          0,
          0.04,
          0.24,
          0,
          0,
          0.25,
          3,
          0.1,
          0.05,
          0.21
         ]
        }
       ],
       "layout": {
        "coloraxis": {
         "colorbar": {
          "title": {
           "text": "F1 Students as Percentage of Total F1 Visas"
          }
         },
         "colorscale": [
          [
           0,
           "#440154"
          ],
          [
           0.1111111111111111,
           "#482878"
          ],
          [
           0.2222222222222222,
           "#3e4989"
          ],
          [
           0.3333333333333333,
           "#31688e"
          ],
          [
           0.4444444444444444,
           "#26828e"
          ],
          [
           0.5555555555555556,
           "#1f9e89"
          ],
          [
           0.6666666666666666,
           "#35b779"
          ],
          [
           0.7777777777777778,
           "#6ece58"
          ],
          [
           0.8888888888888888,
           "#b5de2b"
          ],
          [
           1,
           "#fde725"
          ]
         ]
        },
        "geo": {
         "center": {},
         "domain": {
          "x": [
           0,
           1
          ],
          "y": [
           0,
           1
          ]
         },
         "projection": {
          "type": "natural earth"
         }
        },
        "legend": {
         "tracegroupgap": 0
        },
        "template": {
         "data": {
          "bar": [
           {
            "error_x": {
             "color": "#2a3f5f"
            },
            "error_y": {
             "color": "#2a3f5f"
            },
            "marker": {
             "line": {
              "color": "#E5ECF6",
              "width": 0.5
             },
             "pattern": {
              "fillmode": "overlay",
              "size": 10,
              "solidity": 0.2
             }
            },
            "type": "bar"
           }
          ],
          "barpolar": [
           {
            "marker": {
             "line": {
              "color": "#E5ECF6",
              "width": 0.5
             },
             "pattern": {
              "fillmode": "overlay",
              "size": 10,
              "solidity": 0.2
             }
            },
            "type": "barpolar"
           }
          ],
          "carpet": [
           {
            "aaxis": {
             "endlinecolor": "#2a3f5f",
             "gridcolor": "white",
             "linecolor": "white",
             "minorgridcolor": "white",
             "startlinecolor": "#2a3f5f"
            },
            "baxis": {
             "endlinecolor": "#2a3f5f",
             "gridcolor": "white",
             "linecolor": "white",
             "minorgridcolor": "white",
             "startlinecolor": "#2a3f5f"
            },
            "type": "carpet"
           }
          ],
          "choropleth": [
           {
            "colorbar": {
             "outlinewidth": 0,
             "ticks": ""
            },
            "type": "choropleth"
           }
          ],
          "contour": [
           {
            "colorbar": {
             "outlinewidth": 0,
             "ticks": ""
            },
            "colorscale": [
             [
              0,
              "#0d0887"
             ],
             [
              0.1111111111111111,
              "#46039f"
             ],
             [
              0.2222222222222222,
              "#7201a8"
             ],
             [
              0.3333333333333333,
              "#9c179e"
             ],
             [
              0.4444444444444444,
              "#bd3786"
             ],
             [
              0.5555555555555556,
              "#d8576b"
             ],
             [
              0.6666666666666666,
              "#ed7953"
             ],
             [
              0.7777777777777778,
              "#fb9f3a"
             ],
             [
              0.8888888888888888,
              "#fdca26"
             ],
             [
              1,
              "#f0f921"
             ]
            ],
            "type": "contour"
           }
          ],
          "contourcarpet": [
           {
            "colorbar": {
             "outlinewidth": 0,
             "ticks": ""
            },
            "type": "contourcarpet"
           }
          ],
          "heatmap": [
           {
            "colorbar": {
             "outlinewidth": 0,
             "ticks": ""
            },
            "colorscale": [
             [
              0,
              "#0d0887"
             ],
             [
              0.1111111111111111,
              "#46039f"
             ],
             [
              0.2222222222222222,
              "#7201a8"
             ],
             [
              0.3333333333333333,
              "#9c179e"
             ],
             [
              0.4444444444444444,
              "#bd3786"
             ],
             [
              0.5555555555555556,
              "#d8576b"
             ],
             [
              0.6666666666666666,
              "#ed7953"
             ],
             [
              0.7777777777777778,
              "#fb9f3a"
             ],
             [
              0.8888888888888888,
              "#fdca26"
             ],
             [
              1,
              "#f0f921"
             ]
            ],
            "type": "heatmap"
           }
          ],
          "heatmapgl": [
           {
            "colorbar": {
             "outlinewidth": 0,
             "ticks": ""
            },
            "colorscale": [
             [
              0,
              "#0d0887"
             ],
             [
              0.1111111111111111,
              "#46039f"
             ],
             [
              0.2222222222222222,
              "#7201a8"
             ],
             [
              0.3333333333333333,
              "#9c179e"
             ],
             [
              0.4444444444444444,
              "#bd3786"
             ],
             [
              0.5555555555555556,
              "#d8576b"
             ],
             [
              0.6666666666666666,
              "#ed7953"
             ],
             [
              0.7777777777777778,
              "#fb9f3a"
             ],
             [
              0.8888888888888888,
              "#fdca26"
             ],
             [
              1,
              "#f0f921"
             ]
            ],
            "type": "heatmapgl"
           }
          ],
          "histogram": [
           {
            "marker": {
             "pattern": {
              "fillmode": "overlay",
              "size": 10,
              "solidity": 0.2
             }
            },
            "type": "histogram"
           }
          ],
          "histogram2d": [
           {
            "colorbar": {
             "outlinewidth": 0,
             "ticks": ""
            },
            "colorscale": [
             [
              0,
              "#0d0887"
             ],
             [
              0.1111111111111111,
              "#46039f"
             ],
             [
              0.2222222222222222,
              "#7201a8"
             ],
             [
              0.3333333333333333,
              "#9c179e"
             ],
             [
              0.4444444444444444,
              "#bd3786"
             ],
             [
              0.5555555555555556,
              "#d8576b"
             ],
             [
              0.6666666666666666,
              "#ed7953"
             ],
             [
              0.7777777777777778,
              "#fb9f3a"
             ],
             [
              0.8888888888888888,
              "#fdca26"
             ],
             [
              1,
              "#f0f921"
             ]
            ],
            "type": "histogram2d"
           }
          ],
          "histogram2dcontour": [
           {
            "colorbar": {
             "outlinewidth": 0,
             "ticks": ""
            },
            "colorscale": [
             [
              0,
              "#0d0887"
             ],
             [
              0.1111111111111111,
              "#46039f"
             ],
             [
              0.2222222222222222,
              "#7201a8"
             ],
             [
              0.3333333333333333,
              "#9c179e"
             ],
             [
              0.4444444444444444,
              "#bd3786"
             ],
             [
              0.5555555555555556,
              "#d8576b"
             ],
             [
              0.6666666666666666,
              "#ed7953"
             ],
             [
              0.7777777777777778,
              "#fb9f3a"
             ],
             [
              0.8888888888888888,
              "#fdca26"
             ],
             [
              1,
              "#f0f921"
             ]
            ],
            "type": "histogram2dcontour"
           }
          ],
          "mesh3d": [
           {
            "colorbar": {
             "outlinewidth": 0,
             "ticks": ""
            },
            "type": "mesh3d"
           }
          ],
          "parcoords": [
           {
            "line": {
             "colorbar": {
              "outlinewidth": 0,
              "ticks": ""
             }
            },
            "type": "parcoords"
           }
          ],
          "pie": [
           {
            "automargin": true,
            "type": "pie"
           }
          ],
          "scatter": [
           {
            "fillpattern": {
             "fillmode": "overlay",
             "size": 10,
             "solidity": 0.2
            },
            "type": "scatter"
           }
          ],
          "scatter3d": [
           {
            "line": {
             "colorbar": {
              "outlinewidth": 0,
              "ticks": ""
             }
            },
            "marker": {
             "colorbar": {
              "outlinewidth": 0,
              "ticks": ""
             }
            },
            "type": "scatter3d"
           }
          ],
          "scattercarpet": [
           {
            "marker": {
             "colorbar": {
              "outlinewidth": 0,
              "ticks": ""
             }
            },
            "type": "scattercarpet"
           }
          ],
          "scattergeo": [
           {
            "marker": {
             "colorbar": {
              "outlinewidth": 0,
              "ticks": ""
             }
            },
            "type": "scattergeo"
           }
          ],
          "scattergl": [
           {
            "marker": {
             "colorbar": {
              "outlinewidth": 0,
              "ticks": ""
             }
            },
            "type": "scattergl"
           }
          ],
          "scattermapbox": [
           {
            "marker": {
             "colorbar": {
              "outlinewidth": 0,
              "ticks": ""
             }
            },
            "type": "scattermapbox"
           }
          ],
          "scatterpolar": [
           {
            "marker": {
             "colorbar": {
              "outlinewidth": 0,
              "ticks": ""
             }
            },
            "type": "scatterpolar"
           }
          ],
          "scatterpolargl": [
           {
            "marker": {
             "colorbar": {
              "outlinewidth": 0,
              "ticks": ""
             }
            },
            "type": "scatterpolargl"
           }
          ],
          "scatterternary": [
           {
            "marker": {
             "colorbar": {
              "outlinewidth": 0,
              "ticks": ""
             }
            },
            "type": "scatterternary"
           }
          ],
          "surface": [
           {
            "colorbar": {
             "outlinewidth": 0,
             "ticks": ""
            },
            "colorscale": [
             [
              0,
              "#0d0887"
             ],
             [
              0.1111111111111111,
              "#46039f"
             ],
             [
              0.2222222222222222,
              "#7201a8"
             ],
             [
              0.3333333333333333,
              "#9c179e"
             ],
             [
              0.4444444444444444,
              "#bd3786"
             ],
             [
              0.5555555555555556,
              "#d8576b"
             ],
             [
              0.6666666666666666,
              "#ed7953"
             ],
             [
              0.7777777777777778,
              "#fb9f3a"
             ],
             [
              0.8888888888888888,
              "#fdca26"
             ],
             [
              1,
              "#f0f921"
             ]
            ],
            "type": "surface"
           }
          ],
          "table": [
           {
            "cells": {
             "fill": {
              "color": "#EBF0F8"
             },
             "line": {
              "color": "white"
             }
            },
            "header": {
             "fill": {
              "color": "#C8D4E3"
             },
             "line": {
              "color": "white"
             }
            },
            "type": "table"
           }
          ]
         },
         "layout": {
          "annotationdefaults": {
           "arrowcolor": "#2a3f5f",
           "arrowhead": 0,
           "arrowwidth": 1
          },
          "autotypenumbers": "strict",
          "coloraxis": {
           "colorbar": {
            "outlinewidth": 0,
            "ticks": ""
           }
          },
          "colorscale": {
           "diverging": [
            [
             0,
             "#8e0152"
            ],
            [
             0.1,
             "#c51b7d"
            ],
            [
             0.2,
             "#de77ae"
            ],
            [
             0.3,
             "#f1b6da"
            ],
            [
             0.4,
             "#fde0ef"
            ],
            [
             0.5,
             "#f7f7f7"
            ],
            [
             0.6,
             "#e6f5d0"
            ],
            [
             0.7,
             "#b8e186"
            ],
            [
             0.8,
             "#7fbc41"
            ],
            [
             0.9,
             "#4d9221"
            ],
            [
             1,
             "#276419"
            ]
           ],
           "sequential": [
            [
             0,
             "#0d0887"
            ],
            [
             0.1111111111111111,
             "#46039f"
            ],
            [
             0.2222222222222222,
             "#7201a8"
            ],
            [
             0.3333333333333333,
             "#9c179e"
            ],
            [
             0.4444444444444444,
             "#bd3786"
            ],
            [
             0.5555555555555556,
             "#d8576b"
            ],
            [
             0.6666666666666666,
             "#ed7953"
            ],
            [
             0.7777777777777778,
             "#fb9f3a"
            ],
            [
             0.8888888888888888,
             "#fdca26"
            ],
            [
             1,
             "#f0f921"
            ]
           ],
           "sequentialminus": [
            [
             0,
             "#0d0887"
            ],
            [
             0.1111111111111111,
             "#46039f"
            ],
            [
             0.2222222222222222,
             "#7201a8"
            ],
            [
             0.3333333333333333,
             "#9c179e"
            ],
            [
             0.4444444444444444,
             "#bd3786"
            ],
            [
             0.5555555555555556,
             "#d8576b"
            ],
            [
             0.6666666666666666,
             "#ed7953"
            ],
            [
             0.7777777777777778,
             "#fb9f3a"
            ],
            [
             0.8888888888888888,
             "#fdca26"
            ],
            [
             1,
             "#f0f921"
            ]
           ]
          },
          "colorway": [
           "#636efa",
           "#EF553B",
           "#00cc96",
           "#ab63fa",
           "#FFA15A",
           "#19d3f3",
           "#FF6692",
           "#B6E880",
           "#FF97FF",
           "#FECB52"
          ],
          "font": {
           "color": "#2a3f5f"
          },
          "geo": {
           "bgcolor": "white",
           "lakecolor": "white",
           "landcolor": "#E5ECF6",
           "showlakes": true,
           "showland": true,
           "subunitcolor": "white"
          },
          "hoverlabel": {
           "align": "left"
          },
          "hovermode": "closest",
          "mapbox": {
           "style": "light"
          },
          "paper_bgcolor": "white",
          "plot_bgcolor": "#E5ECF6",
          "polar": {
           "angularaxis": {
            "gridcolor": "white",
            "linecolor": "white",
            "ticks": ""
           },
           "bgcolor": "#E5ECF6",
           "radialaxis": {
            "gridcolor": "white",
            "linecolor": "white",
            "ticks": ""
           }
          },
          "scene": {
           "xaxis": {
            "backgroundcolor": "#E5ECF6",
            "gridcolor": "white",
            "gridwidth": 2,
            "linecolor": "white",
            "showbackground": true,
            "ticks": "",
            "zerolinecolor": "white"
           },
           "yaxis": {
            "backgroundcolor": "#E5ECF6",
            "gridcolor": "white",
            "gridwidth": 2,
            "linecolor": "white",
            "showbackground": true,
            "ticks": "",
            "zerolinecolor": "white"
           },
           "zaxis": {
            "backgroundcolor": "#E5ECF6",
            "gridcolor": "white",
            "gridwidth": 2,
            "linecolor": "white",
            "showbackground": true,
            "ticks": "",
            "zerolinecolor": "white"
           }
          },
          "shapedefaults": {
           "line": {
            "color": "#2a3f5f"
           }
          },
          "ternary": {
           "aaxis": {
            "gridcolor": "white",
            "linecolor": "white",
            "ticks": ""
           },
           "baxis": {
            "gridcolor": "white",
            "linecolor": "white",
            "ticks": ""
           },
           "bgcolor": "#E5ECF6",
           "caxis": {
            "gridcolor": "white",
            "linecolor": "white",
            "ticks": ""
           }
          },
          "title": {
           "x": 0.05
          },
          "xaxis": {
           "automargin": true,
           "gridcolor": "white",
           "linecolor": "white",
           "ticks": "",
           "title": {
            "standoff": 15
           },
           "zerolinecolor": "white",
           "zerolinewidth": 2
          },
          "yaxis": {
           "automargin": true,
           "gridcolor": "white",
           "linecolor": "white",
           "ticks": "",
           "title": {
            "standoff": 15
           },
           "zerolinecolor": "white",
           "zerolinewidth": 2
          }
         }
        },
        "title": {
         "text": "Percentage of F1 visas issued by country (Fiscal Year 2022)"
        }
       }
      }
     },
     "metadata": {},
     "output_type": "display_data"
    }
   ],
   "source": [
    "# let's find out which countries take up the most percentage of F1 visas issued\n",
    "final_data['F1 Students as Percentage of Total F1 Visas'] = round(final_data['F1'] / total_f1s_issued * 100, 2)\n",
    "\n",
    "fig = px.choropleth(data_frame=final_data,\n",
    "                    locations='Country',\n",
    "                    locationmode='country names',\n",
    "                    color='F1 Students as Percentage of Total F1 Visas',\n",
    "                    hover_name='Country',\n",
    "                    title='Percentage of F1 visas issued by country (Fiscal Year 2022)',\n",
    "                    color_continuous_scale='Viridis',\n",
    "                    projection='natural earth')\n",
    "\n",
    "fig.show()"
   ]
  },
  {
   "cell_type": "code",
   "execution_count": 77,
   "metadata": {},
   "outputs": [
    {
     "data": {
      "application/vnd.plotly.v1+json": {
       "config": {
        "plotlyServerURL": "https://plot.ly"
       },
       "data": [
        {
         "marker": {
          "color": "blue"
         },
         "type": "bar",
         "x": [
          "Afghanistan",
          "Albania",
          "Algeria",
          "Andorra",
          "Angola",
          "Antigua and Barbuda",
          "Argentina",
          "Armenia",
          "Australia",
          "Austria",
          "Azerbaijan",
          "Bahamas, The",
          "Bahrain",
          "Bangladesh",
          "Barbados",
          "Belarus",
          "Belgium",
          "Belize",
          "Benin",
          "Bhutan",
          "Bolivia",
          "Bosnia-Herzegovina",
          "Botswana",
          "Brazil",
          "Brunei",
          "Bulgaria",
          "Burkina Faso",
          "Burma",
          "Burundi",
          "Cabo Verde",
          "Cambodia",
          "Cameroon",
          "Canada",
          "Central African Republic",
          "Chad",
          "Chile",
          "China - mainland",
          "Colombia",
          "Comoros",
          "Congo, Democratic Republic of the",
          "Congo, Republic of the",
          "Costa Rica",
          "Cote d'Ivoire",
          "Croatia",
          "Cuba",
          "Cyprus",
          "Czech Republic",
          "Denmark",
          "Djibouti",
          "Dominica",
          "Dominican Republic",
          "Ecuador",
          "Egypt",
          "El Salvador",
          "Equatorial Guinea",
          "Eritrea",
          "Estonia",
          "Eswatini",
          "Ethiopia",
          "Fiji",
          "Finland",
          "France",
          "Gabon",
          "Gambia, The",
          "Georgia",
          "Germany",
          "Ghana",
          "Great Britain and Northern Ireland",
          "Greece",
          "Grenada",
          "Guatemala",
          "Guinea",
          "Guinea-Bissau",
          "Guyana",
          "Haiti",
          "Honduras",
          "Hong Kong S.A.R.",
          "Hungary",
          "Iceland",
          "India",
          "Indonesia",
          "Iran",
          "Iraq",
          "Ireland",
          "Israel",
          "Italy",
          "Jamaica",
          "Japan",
          "Jordan",
          "Kazakhstan",
          "Kenya",
          "Kiribati",
          "Korea, North",
          "Korea, South",
          "Kosovo",
          "Kuwait",
          "Kyrgyzstan",
          "Laos",
          "Latvia",
          "Lebanon",
          "Lesotho",
          "Liberia",
          "Libya",
          "Liechtenstein",
          "Lithuania",
          "Luxembourg",
          "Macau S.A.R.",
          "Madagascar",
          "Malawi",
          "Malaysia",
          "Maldives",
          "Mali",
          "Malta",
          "Marshall Islands",
          "Mauritania",
          "Mauritius",
          "Mexico",
          "Micronesia",
          "Moldova",
          "Monaco",
          "Mongolia",
          "Montenegro",
          "Morocco",
          "Mozambique",
          "Namibia",
          "Nauru",
          "Nepal",
          "Netherlands",
          "New Zealand",
          "Nicaragua",
          "Niger",
          "Nigeria",
          "No Nationality",
          "North Macedonia",
          "Norway",
          "Oman",
          "Pakistan",
          "Palau",
          "Palestinian Authority Travel Document",
          "Panama",
          "Papua New Guinea",
          "Paraguay",
          "Peru",
          "Philippines",
          "Poland",
          "Portugal",
          "Qatar",
          "Romania",
          "Russia",
          "Rwanda",
          "Saint Kitts and Nevis",
          "Saint Lucia",
          "Saint Vincent and the Grenadines",
          "Samoa",
          "San Marino",
          "Sao Tome and Principe",
          "Saudi Arabia",
          "Senegal",
          "Serbia",
          "Seychelles",
          "Sierra Leone",
          "Singapore",
          "Slovakia",
          "Slovenia",
          "Solomon Islands",
          "Somalia",
          "South Africa",
          "South Sudan",
          "Spain",
          "Sri Lanka",
          "Sudan",
          "Suriname",
          "Sweden",
          "Switzerland",
          "Syria",
          "Taiwan",
          "Tajikistan",
          "Tanzania",
          "Thailand",
          "Timor-Leste",
          "Togo",
          "Tonga",
          "Trinidad and Tobago",
          "Tunisia",
          "Turkey",
          "Turkmenistan",
          "Tuvalu",
          "Uganda",
          "Ukraine",
          "United Arab Emirates",
          "United Nations Laissez-Passer",
          "Uruguay",
          "Uzbekistan",
          "Vanuatu",
          "Vatican City",
          "Venezuela",
          "Vietnam",
          "Yemen",
          "Zambia",
          "Zimbabwe"
         ],
         "y": [
          0.09,
          0.14,
          0.06,
          0,
          0.09,
          0.02,
          0.47,
          0.09,
          0.43,
          0.15,
          0.16,
          0.29,
          0.02,
          1.89,
          0.04,
          0.07,
          0.18,
          0.04,
          0.04,
          0.02,
          0.14,
          0.03,
          0.03,
          2.39,
          0,
          0.05,
          0.07,
          0.47,
          0.03,
          0.01,
          0.14,
          0.13,
          0.03,
          0,
          0.02,
          0.57,
          15.05,
          1.71,
          0,
          0.28,
          0.02,
          0.13,
          0.11,
          0.05,
          0.02,
          0.04,
          0.1,
          0.22,
          0,
          0.02,
          0.37,
          0.46,
          0.33,
          0.09,
          0.04,
          0.04,
          0.02,
          0.01,
          0.47,
          0.01,
          0.09,
          1.71,
          0.03,
          0.04,
          0.1,
          1.76,
          0.81,
          1.18,
          0.23,
          0.02,
          0.17,
          0.01,
          0,
          0.03,
          0.06,
          0.22,
          0.47,
          0.09,
          0.05,
          28,
          0.57,
          0.87,
          0.04,
          0.19,
          0.27,
          1.45,
          0.32,
          2.79,
          0.32,
          0.3,
          0.27,
          0,
          0,
          4.39,
          0.02,
          0.39,
          0.17,
          0.02,
          0.03,
          0.14,
          0,
          0.03,
          0.05,
          0,
          0.05,
          0.01,
          0.03,
          0.03,
          0.04,
          0.3,
          0,
          0.02,
          0.01,
          0,
          0.01,
          0.02,
          1.89,
          0,
          0.02,
          0,
          0.2,
          0.04,
          0.17,
          0.03,
          0.01,
          0,
          1.5,
          0.43,
          0.15,
          0.06,
          0.04,
          1.84,
          0.02,
          0.02,
          0.39,
          0.1,
          0.86,
          0,
          0.07,
          0.23,
          0.01,
          0.06,
          0.64,
          0.3,
          0.19,
          0.16,
          0.04,
          0.08,
          0.76,
          0.11,
          0.02,
          0.02,
          0.01,
          0,
          0,
          0,
          1.18,
          0.07,
          0.24,
          0,
          0.04,
          0.44,
          0.06,
          0.02,
          0,
          0.01,
          0.36,
          0.02,
          1.34,
          0.21,
          0.06,
          0,
          0.49,
          0.49,
          0.05,
          1.68,
          0.02,
          0.16,
          0.72,
          0,
          0.02,
          0,
          0.13,
          0.13,
          0.77,
          0.05,
          0,
          0.21,
          0.32,
          0.11,
          0,
          0.04,
          0.24,
          0,
          0,
          0.25,
          3,
          0.1,
          0.05,
          0.21
         ]
        }
       ],
       "layout": {
        "template": {
         "data": {
          "bar": [
           {
            "error_x": {
             "color": "#2a3f5f"
            },
            "error_y": {
             "color": "#2a3f5f"
            },
            "marker": {
             "line": {
              "color": "#E5ECF6",
              "width": 0.5
             },
             "pattern": {
              "fillmode": "overlay",
              "size": 10,
              "solidity": 0.2
             }
            },
            "type": "bar"
           }
          ],
          "barpolar": [
           {
            "marker": {
             "line": {
              "color": "#E5ECF6",
              "width": 0.5
             },
             "pattern": {
              "fillmode": "overlay",
              "size": 10,
              "solidity": 0.2
             }
            },
            "type": "barpolar"
           }
          ],
          "carpet": [
           {
            "aaxis": {
             "endlinecolor": "#2a3f5f",
             "gridcolor": "white",
             "linecolor": "white",
             "minorgridcolor": "white",
             "startlinecolor": "#2a3f5f"
            },
            "baxis": {
             "endlinecolor": "#2a3f5f",
             "gridcolor": "white",
             "linecolor": "white",
             "minorgridcolor": "white",
             "startlinecolor": "#2a3f5f"
            },
            "type": "carpet"
           }
          ],
          "choropleth": [
           {
            "colorbar": {
             "outlinewidth": 0,
             "ticks": ""
            },
            "type": "choropleth"
           }
          ],
          "contour": [
           {
            "colorbar": {
             "outlinewidth": 0,
             "ticks": ""
            },
            "colorscale": [
             [
              0,
              "#0d0887"
             ],
             [
              0.1111111111111111,
              "#46039f"
             ],
             [
              0.2222222222222222,
              "#7201a8"
             ],
             [
              0.3333333333333333,
              "#9c179e"
             ],
             [
              0.4444444444444444,
              "#bd3786"
             ],
             [
              0.5555555555555556,
              "#d8576b"
             ],
             [
              0.6666666666666666,
              "#ed7953"
             ],
             [
              0.7777777777777778,
              "#fb9f3a"
             ],
             [
              0.8888888888888888,
              "#fdca26"
             ],
             [
              1,
              "#f0f921"
             ]
            ],
            "type": "contour"
           }
          ],
          "contourcarpet": [
           {
            "colorbar": {
             "outlinewidth": 0,
             "ticks": ""
            },
            "type": "contourcarpet"
           }
          ],
          "heatmap": [
           {
            "colorbar": {
             "outlinewidth": 0,
             "ticks": ""
            },
            "colorscale": [
             [
              0,
              "#0d0887"
             ],
             [
              0.1111111111111111,
              "#46039f"
             ],
             [
              0.2222222222222222,
              "#7201a8"
             ],
             [
              0.3333333333333333,
              "#9c179e"
             ],
             [
              0.4444444444444444,
              "#bd3786"
             ],
             [
              0.5555555555555556,
              "#d8576b"
             ],
             [
              0.6666666666666666,
              "#ed7953"
             ],
             [
              0.7777777777777778,
              "#fb9f3a"
             ],
             [
              0.8888888888888888,
              "#fdca26"
             ],
             [
              1,
              "#f0f921"
             ]
            ],
            "type": "heatmap"
           }
          ],
          "heatmapgl": [
           {
            "colorbar": {
             "outlinewidth": 0,
             "ticks": ""
            },
            "colorscale": [
             [
              0,
              "#0d0887"
             ],
             [
              0.1111111111111111,
              "#46039f"
             ],
             [
              0.2222222222222222,
              "#7201a8"
             ],
             [
              0.3333333333333333,
              "#9c179e"
             ],
             [
              0.4444444444444444,
              "#bd3786"
             ],
             [
              0.5555555555555556,
              "#d8576b"
             ],
             [
              0.6666666666666666,
              "#ed7953"
             ],
             [
              0.7777777777777778,
              "#fb9f3a"
             ],
             [
              0.8888888888888888,
              "#fdca26"
             ],
             [
              1,
              "#f0f921"
             ]
            ],
            "type": "heatmapgl"
           }
          ],
          "histogram": [
           {
            "marker": {
             "pattern": {
              "fillmode": "overlay",
              "size": 10,
              "solidity": 0.2
             }
            },
            "type": "histogram"
           }
          ],
          "histogram2d": [
           {
            "colorbar": {
             "outlinewidth": 0,
             "ticks": ""
            },
            "colorscale": [
             [
              0,
              "#0d0887"
             ],
             [
              0.1111111111111111,
              "#46039f"
             ],
             [
              0.2222222222222222,
              "#7201a8"
             ],
             [
              0.3333333333333333,
              "#9c179e"
             ],
             [
              0.4444444444444444,
              "#bd3786"
             ],
             [
              0.5555555555555556,
              "#d8576b"
             ],
             [
              0.6666666666666666,
              "#ed7953"
             ],
             [
              0.7777777777777778,
              "#fb9f3a"
             ],
             [
              0.8888888888888888,
              "#fdca26"
             ],
             [
              1,
              "#f0f921"
             ]
            ],
            "type": "histogram2d"
           }
          ],
          "histogram2dcontour": [
           {
            "colorbar": {
             "outlinewidth": 0,
             "ticks": ""
            },
            "colorscale": [
             [
              0,
              "#0d0887"
             ],
             [
              0.1111111111111111,
              "#46039f"
             ],
             [
              0.2222222222222222,
              "#7201a8"
             ],
             [
              0.3333333333333333,
              "#9c179e"
             ],
             [
              0.4444444444444444,
              "#bd3786"
             ],
             [
              0.5555555555555556,
              "#d8576b"
             ],
             [
              0.6666666666666666,
              "#ed7953"
             ],
             [
              0.7777777777777778,
              "#fb9f3a"
             ],
             [
              0.8888888888888888,
              "#fdca26"
             ],
             [
              1,
              "#f0f921"
             ]
            ],
            "type": "histogram2dcontour"
           }
          ],
          "mesh3d": [
           {
            "colorbar": {
             "outlinewidth": 0,
             "ticks": ""
            },
            "type": "mesh3d"
           }
          ],
          "parcoords": [
           {
            "line": {
             "colorbar": {
              "outlinewidth": 0,
              "ticks": ""
             }
            },
            "type": "parcoords"
           }
          ],
          "pie": [
           {
            "automargin": true,
            "type": "pie"
           }
          ],
          "scatter": [
           {
            "fillpattern": {
             "fillmode": "overlay",
             "size": 10,
             "solidity": 0.2
            },
            "type": "scatter"
           }
          ],
          "scatter3d": [
           {
            "line": {
             "colorbar": {
              "outlinewidth": 0,
              "ticks": ""
             }
            },
            "marker": {
             "colorbar": {
              "outlinewidth": 0,
              "ticks": ""
             }
            },
            "type": "scatter3d"
           }
          ],
          "scattercarpet": [
           {
            "marker": {
             "colorbar": {
              "outlinewidth": 0,
              "ticks": ""
             }
            },
            "type": "scattercarpet"
           }
          ],
          "scattergeo": [
           {
            "marker": {
             "colorbar": {
              "outlinewidth": 0,
              "ticks": ""
             }
            },
            "type": "scattergeo"
           }
          ],
          "scattergl": [
           {
            "marker": {
             "colorbar": {
              "outlinewidth": 0,
              "ticks": ""
             }
            },
            "type": "scattergl"
           }
          ],
          "scattermapbox": [
           {
            "marker": {
             "colorbar": {
              "outlinewidth": 0,
              "ticks": ""
             }
            },
            "type": "scattermapbox"
           }
          ],
          "scatterpolar": [
           {
            "marker": {
             "colorbar": {
              "outlinewidth": 0,
              "ticks": ""
             }
            },
            "type": "scatterpolar"
           }
          ],
          "scatterpolargl": [
           {
            "marker": {
             "colorbar": {
              "outlinewidth": 0,
              "ticks": ""
             }
            },
            "type": "scatterpolargl"
           }
          ],
          "scatterternary": [
           {
            "marker": {
             "colorbar": {
              "outlinewidth": 0,
              "ticks": ""
             }
            },
            "type": "scatterternary"
           }
          ],
          "surface": [
           {
            "colorbar": {
             "outlinewidth": 0,
             "ticks": ""
            },
            "colorscale": [
             [
              0,
              "#0d0887"
             ],
             [
              0.1111111111111111,
              "#46039f"
             ],
             [
              0.2222222222222222,
              "#7201a8"
             ],
             [
              0.3333333333333333,
              "#9c179e"
             ],
             [
              0.4444444444444444,
              "#bd3786"
             ],
             [
              0.5555555555555556,
              "#d8576b"
             ],
             [
              0.6666666666666666,
              "#ed7953"
             ],
             [
              0.7777777777777778,
              "#fb9f3a"
             ],
             [
              0.8888888888888888,
              "#fdca26"
             ],
             [
              1,
              "#f0f921"
             ]
            ],
            "type": "surface"
           }
          ],
          "table": [
           {
            "cells": {
             "fill": {
              "color": "#EBF0F8"
             },
             "line": {
              "color": "white"
             }
            },
            "header": {
             "fill": {
              "color": "#C8D4E3"
             },
             "line": {
              "color": "white"
             }
            },
            "type": "table"
           }
          ]
         },
         "layout": {
          "annotationdefaults": {
           "arrowcolor": "#2a3f5f",
           "arrowhead": 0,
           "arrowwidth": 1
          },
          "autotypenumbers": "strict",
          "coloraxis": {
           "colorbar": {
            "outlinewidth": 0,
            "ticks": ""
           }
          },
          "colorscale": {
           "diverging": [
            [
             0,
             "#8e0152"
            ],
            [
             0.1,
             "#c51b7d"
            ],
            [
             0.2,
             "#de77ae"
            ],
            [
             0.3,
             "#f1b6da"
            ],
            [
             0.4,
             "#fde0ef"
            ],
            [
             0.5,
             "#f7f7f7"
            ],
            [
             0.6,
             "#e6f5d0"
            ],
            [
             0.7,
             "#b8e186"
            ],
            [
             0.8,
             "#7fbc41"
            ],
            [
             0.9,
             "#4d9221"
            ],
            [
             1,
             "#276419"
            ]
           ],
           "sequential": [
            [
             0,
             "#0d0887"
            ],
            [
             0.1111111111111111,
             "#46039f"
            ],
            [
             0.2222222222222222,
             "#7201a8"
            ],
            [
             0.3333333333333333,
             "#9c179e"
            ],
            [
             0.4444444444444444,
             "#bd3786"
            ],
            [
             0.5555555555555556,
             "#d8576b"
            ],
            [
             0.6666666666666666,
             "#ed7953"
            ],
            [
             0.7777777777777778,
             "#fb9f3a"
            ],
            [
             0.8888888888888888,
             "#fdca26"
            ],
            [
             1,
             "#f0f921"
            ]
           ],
           "sequentialminus": [
            [
             0,
             "#0d0887"
            ],
            [
             0.1111111111111111,
             "#46039f"
            ],
            [
             0.2222222222222222,
             "#7201a8"
            ],
            [
             0.3333333333333333,
             "#9c179e"
            ],
            [
             0.4444444444444444,
             "#bd3786"
            ],
            [
             0.5555555555555556,
             "#d8576b"
            ],
            [
             0.6666666666666666,
             "#ed7953"
            ],
            [
             0.7777777777777778,
             "#fb9f3a"
            ],
            [
             0.8888888888888888,
             "#fdca26"
            ],
            [
             1,
             "#f0f921"
            ]
           ]
          },
          "colorway": [
           "#636efa",
           "#EF553B",
           "#00cc96",
           "#ab63fa",
           "#FFA15A",
           "#19d3f3",
           "#FF6692",
           "#B6E880",
           "#FF97FF",
           "#FECB52"
          ],
          "font": {
           "color": "#2a3f5f"
          },
          "geo": {
           "bgcolor": "white",
           "lakecolor": "white",
           "landcolor": "#E5ECF6",
           "showlakes": true,
           "showland": true,
           "subunitcolor": "white"
          },
          "hoverlabel": {
           "align": "left"
          },
          "hovermode": "closest",
          "mapbox": {
           "style": "light"
          },
          "paper_bgcolor": "white",
          "plot_bgcolor": "#E5ECF6",
          "polar": {
           "angularaxis": {
            "gridcolor": "white",
            "linecolor": "white",
            "ticks": ""
           },
           "bgcolor": "#E5ECF6",
           "radialaxis": {
            "gridcolor": "white",
            "linecolor": "white",
            "ticks": ""
           }
          },
          "scene": {
           "xaxis": {
            "backgroundcolor": "#E5ECF6",
            "gridcolor": "white",
            "gridwidth": 2,
            "linecolor": "white",
            "showbackground": true,
            "ticks": "",
            "zerolinecolor": "white"
           },
           "yaxis": {
            "backgroundcolor": "#E5ECF6",
            "gridcolor": "white",
            "gridwidth": 2,
            "linecolor": "white",
            "showbackground": true,
            "ticks": "",
            "zerolinecolor": "white"
           },
           "zaxis": {
            "backgroundcolor": "#E5ECF6",
            "gridcolor": "white",
            "gridwidth": 2,
            "linecolor": "white",
            "showbackground": true,
            "ticks": "",
            "zerolinecolor": "white"
           }
          },
          "shapedefaults": {
           "line": {
            "color": "#2a3f5f"
           }
          },
          "ternary": {
           "aaxis": {
            "gridcolor": "white",
            "linecolor": "white",
            "ticks": ""
           },
           "baxis": {
            "gridcolor": "white",
            "linecolor": "white",
            "ticks": ""
           },
           "bgcolor": "#E5ECF6",
           "caxis": {
            "gridcolor": "white",
            "linecolor": "white",
            "ticks": ""
           }
          },
          "title": {
           "x": 0.05
          },
          "xaxis": {
           "automargin": true,
           "gridcolor": "white",
           "linecolor": "white",
           "ticks": "",
           "title": {
            "standoff": 15
           },
           "zerolinecolor": "white",
           "zerolinewidth": 2
          },
          "yaxis": {
           "automargin": true,
           "gridcolor": "white",
           "linecolor": "white",
           "ticks": "",
           "title": {
            "standoff": 15
           },
           "zerolinecolor": "white",
           "zerolinewidth": 2
          }
         }
        },
        "title": {
         "font": {
          "family": "Times New Roman"
         },
         "text": "F1 Visas by Country as a percentage of total F1 visas (Fiscal Year 2022)"
        },
        "xaxis": {
         "title": {
          "text": "Country"
         }
        },
        "yaxis": {
         "categoryorder": "array",
         "tickangle": 0,
         "ticklabelstep": 1,
         "title": {
          "text": "Percentage of visas issued"
         }
        }
       }
      }
     },
     "metadata": {},
     "output_type": "display_data"
    }
   ],
   "source": [
    "# let's plot a graph for the percentage of F1 visas issued by country\n",
    "fig = go.Figure(go.Bar(\n",
    "    x=final_data['Country'],\n",
    "    y=final_data['F1 Students as Percentage of Total F1 Visas'],\n",
    "    marker_color='blue')\n",
    ")\n",
    "\n",
    "fig.update_layout(\n",
    "    title='F1 Visas by Country as a percentage of total F1 visas (Fiscal Year 2022)',\n",
    "    xaxis=dict(title='Country'),\n",
    "    yaxis=dict(\n",
    "        categoryorder='array',\n",
    "        tickangle=0,\n",
    "        ticklabelstep=1,\n",
    "        title='Percentage of visas issued'),\n",
    "    titlefont={'family': 'Times New Roman'}\n",
    ")\n",
    "\n",
    "fig.show()"
   ]
  },
  {
   "cell_type": "code",
   "execution_count": 39,
   "metadata": {},
   "outputs": [
    {
     "name": "stdout",
     "output_type": "stream",
     "text": [
      "Notebook run time: 2024-04-11 19:59:20.954604\n"
     ]
    }
   ],
   "source": [
    "# Display the current time\n",
    "print(\"Notebook run time:\", datetime.now())"
   ]
  }
 ],
 "metadata": {
  "kernelspec": {
   "display_name": "Python 3 (ipykernel)",
   "language": "python",
   "name": "python3"
  },
  "language_info": {
   "codemirror_mode": {
    "name": "ipython",
    "version": 3
   },
   "file_extension": ".py",
   "mimetype": "text/x-python",
   "name": "python",
   "nbconvert_exporter": "python",
   "pygments_lexer": "ipython3",
   "version": "3.12.2"
  }
 },
 "nbformat": 4,
 "nbformat_minor": 4
}
