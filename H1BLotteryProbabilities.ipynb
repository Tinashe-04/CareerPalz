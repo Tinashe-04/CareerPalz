{
 "cells": [
  {
   "cell_type": "markdown",
   "metadata": {},
   "source": [
    "This Markdown file will contain calculations for probabilities."
   ]
  },
  {
   "cell_type": "markdown",
   "metadata": {},
   "source": [
    "The data table is shown as follows: \n",
    "\n",
    "![alt text](<files/FY2021-FY2024 Data Table.png>) [alt text](H1BLotteryProbabilities.ipynb)"
   ]
  },
  {
   "cell_type": "markdown",
   "metadata": {},
   "source": [
    "Let's calculate the probability of being selected in 2021. Let's define our events E and S as follows.\n",
    "\n",
    "S is the event that a registration is selected; E is the event that a registration is eligible.\n",
    "\n",
    "When a registration is made, it first has to be an eligible registration. That has its own probability which is calculated below.\n",
    "\n",
    "First, your registration has to be eligible, and the probability of having an eligible registration is $\\frac{269,424}{274,237} = 98.2\\%$. This probability is larger than 0, and this will be important for a later calculation.\n",
    "\n",
    "A registration cannot be selected without it being eligible. So the event that a registration is selected is dependent on a registration being eligible. Therefore, S depends on E, which implies that S and E are not independent.\n",
    "\n",
    "Therefore S itself is a conditional probability and can be broken down further."
   ]
  },
  {
   "cell_type": "code",
   "execution_count": 1,
   "metadata": {},
   "outputs": [
    {
     "data": {
      "text/plain": [
       "98.24494871224525"
      ]
     },
     "execution_count": 1,
     "metadata": {},
     "output_type": "execute_result"
    }
   ],
   "source": [
    "probability_eligible = (269424 / 274237) * 100\n",
    "probability_eligible"
   ]
  },
  {
   "cell_type": "markdown",
   "metadata": {},
   "source": [
    "And given that a registration was eligible, the probability of being selected is $\\frac{124,415}{269,424} = 46.2\\%$"
   ]
  },
  {
   "cell_type": "code",
   "execution_count": 2,
   "metadata": {},
   "outputs": [
    {
     "data": {
      "text/plain": [
       "46.17814300136588"
      ]
     },
     "execution_count": 2,
     "metadata": {},
     "output_type": "execute_result"
    }
   ],
   "source": [
    "probability_selected = (124415 / 269424) * 100\n",
    "probability_selected"
   ]
  },
  {
   "cell_type": "markdown",
   "metadata": {},
   "source": [
    "The second data table is shown as follows:\n",
    "![alt text](files/FY21RegistrationAndSelectionData.png)"
   ]
  },
  {
   "cell_type": "markdown",
   "metadata": {},
   "source": []
  },
  {
   "cell_type": "markdown",
   "metadata": {},
   "source": [
    "Therefore, we can model the probability of being selected from the random lottery by calculating the probability of being selected and having an eligible registration.\n",
    "\n",
    "This is subsequently calculated as: $P(S \\cap E) = P(E) \\cdot P(S | E)$.\n",
    "\n",
    "This calculation follows from the definition of conditional probability of events S and E as being dependent on the probability of S and E occurring, and on the probability of only E "
   ]
  },
  {
   "cell_type": "markdown",
   "metadata": {},
   "source": [
    "For any given registration, it can be eligible or ineligible. The selection goes back to the employer, which means that if, for example, a beneficiary had eligible registrations submitted by both Company A and Company B on their behalf, then it is very possible for both Company A and Company B to have received a selection on behalf of the same beneficiary. We do not know if this happened. So let us assume that this is true.\n",
    "\n",
    "Registration occurs once a year every year. For any given eligible registration, selection is one of 3 outcomes."
   ]
  },
  {
   "cell_type": "markdown",
   "metadata": {},
   "source": [
    "![alt text](files/FY21-FY23RegistrationData.png)"
   ]
  }
 ],
 "metadata": {
  "kernelspec": {
   "display_name": "xeus-python",
   "language": "python",
   "name": "python3"
  },
  "language_info": {
   "codemirror_mode": {
    "name": "ipython",
    "version": 3
   },
   "file_extension": ".py",
   "mimetype": "text/x-python",
   "name": "python",
   "nbconvert_exporter": "python",
   "pygments_lexer": "ipython3",
   "version": "3.12.2"
  }
 },
 "nbformat": 4,
 "nbformat_minor": 2
}
