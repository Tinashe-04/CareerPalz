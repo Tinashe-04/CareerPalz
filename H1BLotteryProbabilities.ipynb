{
 "cells": [
  {
   "cell_type": "markdown",
   "metadata": {},
   "source": [
    "# Calculating the probability of being selected for the H-1B lottery"
   ]
  },
  {
   "cell_type": "markdown",
   "metadata": {},
   "source": [
    "The data table is shown as follows: \n",
    "\n",
    "![alt text](<files/FY2021-FY2024 Data Table.png>) [alt text](H1BLotteryProbabilities.ipynb)"
   ]
  },
  {
   "cell_type": "markdown",
   "metadata": {},
   "source": [
    "Let's calculate the probability of being selected in 2021. Let's define our events E and S as follows.\n",
    "\n",
    "S is the event that a registration is selected; E is the event that a registration is eligible.\n",
    "\n",
    "When a registration is made, it first has to be an eligible registration. That has its own probability which is calculated below.\n",
    "\n",
    "First, your registration has to be eligible, and the probability of having an eligible registration is $\\frac{269,424}{274,237} = 98.2\\%$. This probability is larger than 0, and this will be important for a later calculation.\n",
    "\n",
    "A registration cannot be selected without it being eligible. So the event that a registration is selected is dependent on a registration being eligible. Therefore, S depends on E, which implies that S and E are not independent.\n",
    "\n",
    "Therefore S itself is a conditional probability and can be broken down further."
   ]
  },
  {
   "cell_type": "code",
   "execution_count": 1,
   "metadata": {},
   "outputs": [
    {
     "data": {
      "text/plain": [
       "98.24494871224525"
      ]
     },
     "execution_count": 1,
     "metadata": {},
     "output_type": "execute_result"
    }
   ],
   "source": [
    "probability_eligible = (269424 / 274237) * 100\n",
    "probability_eligible"
   ]
  },
  {
   "cell_type": "markdown",
   "metadata": {},
   "source": [
    "And given that a registration was eligible, the probability of being selected is $\\frac{124,415}{269,424} = 46.2\\%$"
   ]
  },
  {
   "cell_type": "code",
   "execution_count": 2,
   "metadata": {},
   "outputs": [
    {
     "data": {
      "text/plain": [
       "46.17814300136588"
      ]
     },
     "execution_count": 2,
     "metadata": {},
     "output_type": "execute_result"
    }
   ],
   "source": [
    "probability_selected = (124415 / 269424) * 100\n",
    "probability_selected"
   ]
  },
  {
   "cell_type": "markdown",
   "metadata": {},
   "source": [
    "The second data table is shown as follows:\n",
    "![alt text](files/FY21RegistrationAndSelectionData.png)"
   ]
  },
  {
   "cell_type": "markdown",
   "metadata": {},
   "source": []
  },
  {
   "cell_type": "markdown",
   "metadata": {},
   "source": []
  },
  {
   "cell_type": "markdown",
   "metadata": {},
   "source": [
    "For any given registration, it can be eligible or ineligible. The selection goes back to the employer, which means that if, for example, a beneficiary had eligible registrations submitted by both Company A and Company B on their behalf, then it is very possible for both Company A and Company B to have received a selection on behalf of the same beneficiary. We do not know if this happened. So let us assume that this is true.\n",
    "\n",
    "Registration occurs once a year every year. For any given eligible registration, selection is one of 3 outcomes."
   ]
  },
  {
   "cell_type": "markdown",
   "metadata": {},
   "source": [
    "![alt text](files/FY21-FY23RegistrationData.png)"
   ]
  },
  {
   "cell_type": "markdown",
   "metadata": {},
   "source": [
    "### Defining the problem"
   ]
  },
  {
   "cell_type": "markdown",
   "metadata": {},
   "source": [
    "U.S. companies use H-1B visas to hire specialty workers on a temporary basis. How do you get an H-1B visa? A company has to submit a petition on behalf of the requested specialty worker, and this petition needs to get approved by USCIS in order for an H-1B visa to be issued to a specialty worker for them to begin work at said U.S. company. How does my company submit a petition? The company needs 3 items to file a petition: a certified Labor Condition Application, a selected registration, and a filing fee. What we want to focus on today is the selected registration. Assuming everything else is provided or done correctly, this is the only portion of the petitioning process that is determined randomly.\n",
    "\n",
    "Every year, the H-1B registration window opens in March. Companies have about 14 days to submit a registration on behalf of a specialty worker. There are 7 different outcomes of a registration, but they can be categorized into 3: selection, waiting, and rejection. Selection is random. \n",
    "\n",
    "If you are one unique beneficiary, multiple employers can submit a registration with your information in it. Before FY 2025, the registration process allowed for a beneficiary's chances of selection being higher because of this phenomenon. If 10 employers listed Person A as a beneficiary and 1 employer listed Person B as a beneficiary, then Person A's chances of getting selected are 10 times more than Person B's chances. \n",
    "\n",
    "For FY 2025, USCIS adopted a process that centers the beneficiary, rather than the employer. This time, Person A and Person B have equal chances of being selected based on their unique details. "
   ]
  },
  {
   "cell_type": "markdown",
   "metadata": {},
   "source": [
    "From October 1, 2021 to September 30, 2022, we found out that 206,002 H-1B visas were issued by the Bureau of Consular Affairs. According to 8 U.S.C 1184(g) (or INA section 214(g)), the total number of aliens who may be issued visas or otherwise provided nonimmigrant status during any fiscal year under H-1B classification is 65,000."
   ]
  }
 ],
 "metadata": {
  "kernelspec": {
   "display_name": "xeus-python",
   "language": "python",
   "name": "python3"
  },
  "language_info": {
   "codemirror_mode": {
    "name": "ipython",
    "version": 3
   },
   "file_extension": ".py",
   "mimetype": "text/x-python",
   "name": "python",
   "nbconvert_exporter": "python",
   "pygments_lexer": "ipython3",
   "version": "3.12.2"
  }
 },
 "nbformat": 4,
 "nbformat_minor": 2
}
