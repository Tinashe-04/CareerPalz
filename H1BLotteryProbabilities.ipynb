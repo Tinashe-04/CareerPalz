{
 "cells": [
  {
   "cell_type": "markdown",
   "metadata": {},
   "source": [
    "This Markdown file will contain calculations for probabilities."
   ]
  },
  {
   "cell_type": "markdown",
   "metadata": {},
   "source": [
    "The data table is shown as follows: \n",
    "\n",
    "![alt text](<files/FY2021-FY2024 Data Table.png>) [alt text](H1BLotteryProbabilities.ipynb)"
   ]
  },
  {
   "cell_type": "markdown",
   "metadata": {},
   "source": [
    "Let's calculate the probability of being selected in 2021 upon registering. \n",
    "\n",
    "First, your registration has to be eligible, and the probability of having an eligible registration is $\\frac{269,424}{274,237} = 98.2\\%$"
   ]
  },
  {
   "cell_type": "code",
   "execution_count": 3,
   "metadata": {},
   "outputs": [
    {
     "data": {
      "text/plain": [
       "98.24494871224525"
      ]
     },
     "execution_count": 3,
     "metadata": {},
     "output_type": "execute_result"
    }
   ],
   "source": [
    "probability_eligible = (269424 / 274237) * 100\n",
    "probability_eligible"
   ]
  },
  {
   "cell_type": "markdown",
   "metadata": {},
   "source": [
    "And out of those eligible registrations, the probability of being selected is $\\frac{124,415}{269,424} = 46.2\\%$"
   ]
  },
  {
   "cell_type": "code",
   "execution_count": 4,
   "metadata": {},
   "outputs": [
    {
     "data": {
      "text/plain": [
       "46.17814300136588"
      ]
     },
     "execution_count": 4,
     "metadata": {},
     "output_type": "execute_result"
    }
   ],
   "source": [
    "probability_selected = (124415 / 269424) * 100\n",
    "probability_selected"
   ]
  }
 ],
 "metadata": {
  "kernelspec": {
   "display_name": "xeus-python",
   "language": "python",
   "name": "python3"
  },
  "language_info": {
   "codemirror_mode": {
    "name": "ipython",
    "version": 3
   },
   "file_extension": ".py",
   "mimetype": "text/x-python",
   "name": "python",
   "nbconvert_exporter": "python",
   "pygments_lexer": "ipython3",
   "version": "3.12.2"
  }
 },
 "nbformat": 4,
 "nbformat_minor": 2
}
