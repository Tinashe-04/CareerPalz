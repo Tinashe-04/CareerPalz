{
 "cells": [
  {
   "cell_type": "markdown",
   "metadata": {},
   "source": [
    "## Future Work"
   ]
  },
  {
   "cell_type": "markdown",
   "metadata": {},
   "source": [
    "This file contains code cells from the LCA_Disclosure_Data_2023_complete_year notebook that I did not want to lose."
   ]
  },
  {
   "cell_type": "code",
   "execution_count": null,
   "metadata": {},
   "outputs": [
    {
     "data": {
      "text/plain": [
       "0"
      ]
     },
     "metadata": {},
     "output_type": "display_data"
    }
   ],
   "source": [
    "# data_2.duplicated(keep='first').sum()\n",
    "\n",
    "# data_2['CASE_NUMBER'].duplicated(keep='first').sum()\n",
    "\n",
    "# data_2[data_2['CASE_NUMBER'].duplicated()]\n",
    "\n",
    "# data_2[data_2['CASE_NUMBER'] == 'I-200-23086-878281']\n",
    "\n",
    "# data_2[data_2['CASE_NUMBER'] == 'I-200-23085-878214']\n",
    "\n",
    "# # Find the number of points for which the CASE_NUMBER and CASE_STATUS are duplicated\n",
    "# data_2.duplicated(subset=['CASE_NUMBER', 'CASE_STATUS']).sum()\n",
    "\n",
    "# # The CASE_NUMBER column has duplicate values\n",
    "# # We counted 282 duplicate values for the subset given by the CASE_NUMBER and CASE_STATUS\n",
    "# # Let's find out how many duplicate values there are for all of the other 2 column combinations of CASE_NUMBER with the other columns in the dataset\n",
    "\n",
    "# sum_counter = 0\n",
    "\n",
    "# for i in data_2.columns:\n",
    "#     if i != 'CASE_NUMBER':\n",
    "#         if data_2.duplicated(subset=['CASE_NUMBER', i]).sum() != 3308:\n",
    "#             sum_counter += data_2.duplicated(subset=['CASE_NUMBER', i]).sum()\n",
    "#             print(f\"The number of duplicate values for the subset of CASE_NUMBER and {i} are {data_2.duplicated(subset=['CASE_NUMBER', i]).sum()}.\")\n",
    "\n",
    "\n",
    "# print(f\"The number of duplicate values for the subset of CASE_NUMBER and CASE_STATUS are {sum_counter}.\")\n"
   ]
  }
 ],
 "metadata": {
  "language_info": {
   "name": "python"
  }
 },
 "nbformat": 4,
 "nbformat_minor": 2
}
